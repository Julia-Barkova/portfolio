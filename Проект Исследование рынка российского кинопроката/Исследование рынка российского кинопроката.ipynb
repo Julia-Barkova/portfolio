{
 "cells": [
  {
   "cell_type": "markdown",
   "metadata": {
    "id": "sIfNaMOxgFyK"
   },
   "source": [
    "## Исследование рынка российского кинопроката\n",
    "\n"
   ]
  },
  {
   "cell_type": "markdown",
   "metadata": {},
   "source": [
    "Заказчик - Министерство культуры Российской Федерации\n",
    "\n",
    "Цель исследования: изучение рынка российского кинопроката, выявление тенденций, оценка интереса зрителя к фильмам,получившим гос. поддержку.\n",
    "\n",
    "План работы:\n",
    "- открыть файлы, объединить в один дата фрейм без потери информации\n",
    "- произвести предобработку данных (проверка типов данных, пропусков, дубликатов, аномалий, добавить новые столбцы, необходимые для анализа)\n",
    "- исследовательский анализ данных в общем\n",
    "- исследовательский анализ фильмов с гос. поддержкой"
   ]
  },
  {
   "cell_type": "markdown",
   "metadata": {
    "id": "3bSlkCsbgFyL"
   },
   "source": [
    "### Шаг 1. Загрузка файлов, объединение их в один дата фрейм\n",
    "\n"
   ]
  },
  {
   "cell_type": "code",
   "execution_count": 218,
   "metadata": {
    "id": "dw87FlzMgFyM"
   },
   "outputs": [],
   "source": [
    "import pandas as pd\n",
    "pd.set_option('display.float_format', '{:,.2f}'.format)"
   ]
  },
  {
   "cell_type": "code",
   "execution_count": 219,
   "metadata": {
    "scrolled": false
   },
   "outputs": [
    {
     "data": {
      "text/html": [
       "<div>\n",
       "<style scoped>\n",
       "    .dataframe tbody tr th:only-of-type {\n",
       "        vertical-align: middle;\n",
       "    }\n",
       "\n",
       "    .dataframe tbody tr th {\n",
       "        vertical-align: top;\n",
       "    }\n",
       "\n",
       "    .dataframe thead th {\n",
       "        text-align: right;\n",
       "    }\n",
       "</style>\n",
       "<table border=\"1\" class=\"dataframe\">\n",
       "  <thead>\n",
       "    <tr style=\"text-align: right;\">\n",
       "      <th></th>\n",
       "      <th>title</th>\n",
       "      <th>puNumber</th>\n",
       "      <th>show_start_date</th>\n",
       "      <th>type</th>\n",
       "      <th>film_studio</th>\n",
       "      <th>production_country</th>\n",
       "      <th>director</th>\n",
       "      <th>producer</th>\n",
       "      <th>age_restriction</th>\n",
       "      <th>refundable_support</th>\n",
       "      <th>nonrefundable_support</th>\n",
       "      <th>budget</th>\n",
       "      <th>financing_source</th>\n",
       "      <th>ratings</th>\n",
       "      <th>genres</th>\n",
       "    </tr>\n",
       "  </thead>\n",
       "  <tbody>\n",
       "    <tr>\n",
       "      <th>0</th>\n",
       "      <td>Открытый простор</td>\n",
       "      <td>221048915</td>\n",
       "      <td>2015-11-27T12:00:00.000Z</td>\n",
       "      <td>Художественный</td>\n",
       "      <td>Тачстоун Пикчерз, Кобальт Пикчерз, Бикон Пикче...</td>\n",
       "      <td>США</td>\n",
       "      <td>Кевин Костнер</td>\n",
       "      <td>Дэвид Валдес, Кевин Костнер, Джейк Эбертс</td>\n",
       "      <td>«18+» - запрещено для детей</td>\n",
       "      <td>NaN</td>\n",
       "      <td>NaN</td>\n",
       "      <td>NaN</td>\n",
       "      <td>NaN</td>\n",
       "      <td>7.2</td>\n",
       "      <td>боевик,драма,мелодрама</td>\n",
       "    </tr>\n",
       "    <tr>\n",
       "      <th>1</th>\n",
       "      <td>Особо важное задание</td>\n",
       "      <td>111013716</td>\n",
       "      <td>2016-09-13T12:00:00.000Z</td>\n",
       "      <td>Художественный</td>\n",
       "      <td>Киностудия \"Мосфильм\"</td>\n",
       "      <td>СССР</td>\n",
       "      <td>Е.Матвеев</td>\n",
       "      <td>NaN</td>\n",
       "      <td>«6+» - для детей старше 6 лет</td>\n",
       "      <td>NaN</td>\n",
       "      <td>NaN</td>\n",
       "      <td>NaN</td>\n",
       "      <td>NaN</td>\n",
       "      <td>6.6</td>\n",
       "      <td>драма,военный</td>\n",
       "    </tr>\n",
       "    <tr>\n",
       "      <th>2</th>\n",
       "      <td>Особо опасен</td>\n",
       "      <td>221038416</td>\n",
       "      <td>2016-10-10T12:00:00.000Z</td>\n",
       "      <td>Художественный</td>\n",
       "      <td>Юниверсал Пикчерз, Кикстарт Продакшнз, Марк Пл...</td>\n",
       "      <td>США</td>\n",
       "      <td>Тимур Бекмамбетов</td>\n",
       "      <td>Джим Лемли, Джейсон Нетер, Марк Е.Платт, Яйн Смит</td>\n",
       "      <td>«18+» - запрещено для детей</td>\n",
       "      <td>NaN</td>\n",
       "      <td>NaN</td>\n",
       "      <td>NaN</td>\n",
       "      <td>NaN</td>\n",
       "      <td>6.8</td>\n",
       "      <td>фантастика,боевик,триллер</td>\n",
       "    </tr>\n",
       "    <tr>\n",
       "      <th>3</th>\n",
       "      <td>Особо опасен</td>\n",
       "      <td>221026916</td>\n",
       "      <td>2016-06-10T12:00:00.000Z</td>\n",
       "      <td>Художественный</td>\n",
       "      <td>Юниверсал Пикчерз, Кикстарт Продакшнз, Марк Пл...</td>\n",
       "      <td>США</td>\n",
       "      <td>Тимур Бекмамбетов</td>\n",
       "      <td>Джим Лемли, Джейсон Нетер, Марк Е.Платт, Яйн Смит</td>\n",
       "      <td>«18+» - запрещено для детей</td>\n",
       "      <td>NaN</td>\n",
       "      <td>NaN</td>\n",
       "      <td>NaN</td>\n",
       "      <td>NaN</td>\n",
       "      <td>6.8</td>\n",
       "      <td>фантастика,боевик,триллер</td>\n",
       "    </tr>\n",
       "    <tr>\n",
       "      <th>4</th>\n",
       "      <td>Особо опасен</td>\n",
       "      <td>221030815</td>\n",
       "      <td>2015-07-29T12:00:00.000Z</td>\n",
       "      <td>Художественный</td>\n",
       "      <td>Юниверсал Пикчерз, Кикстарт Продакшнз, Марк Пл...</td>\n",
       "      <td>США</td>\n",
       "      <td>Тимур Бекмамбетов</td>\n",
       "      <td>Джим Лемли, Джейсон Нетер, Марк Е.Платт, Яйн Смит</td>\n",
       "      <td>«18+» - запрещено для детей</td>\n",
       "      <td>NaN</td>\n",
       "      <td>NaN</td>\n",
       "      <td>NaN</td>\n",
       "      <td>NaN</td>\n",
       "      <td>6.8</td>\n",
       "      <td>фантастика,боевик,триллер</td>\n",
       "    </tr>\n",
       "  </tbody>\n",
       "</table>\n",
       "</div>"
      ],
      "text/plain": [
       "                  title   puNumber           show_start_date            type  \\\n",
       "0      Открытый простор  221048915  2015-11-27T12:00:00.000Z  Художественный   \n",
       "1  Особо важное задание  111013716  2016-09-13T12:00:00.000Z  Художественный   \n",
       "2          Особо опасен  221038416  2016-10-10T12:00:00.000Z  Художественный   \n",
       "3          Особо опасен  221026916  2016-06-10T12:00:00.000Z  Художественный   \n",
       "4          Особо опасен  221030815  2015-07-29T12:00:00.000Z  Художественный   \n",
       "\n",
       "                                         film_studio production_country  \\\n",
       "0  Тачстоун Пикчерз, Кобальт Пикчерз, Бикон Пикче...                США   \n",
       "1                              Киностудия \"Мосфильм\"               СССР   \n",
       "2  Юниверсал Пикчерз, Кикстарт Продакшнз, Марк Пл...                США   \n",
       "3  Юниверсал Пикчерз, Кикстарт Продакшнз, Марк Пл...                США   \n",
       "4  Юниверсал Пикчерз, Кикстарт Продакшнз, Марк Пл...                США   \n",
       "\n",
       "            director                                           producer  \\\n",
       "0      Кевин Костнер          Дэвид Валдес, Кевин Костнер, Джейк Эбертс   \n",
       "1          Е.Матвеев                                                NaN   \n",
       "2  Тимур Бекмамбетов  Джим Лемли, Джейсон Нетер, Марк Е.Платт, Яйн Смит   \n",
       "3  Тимур Бекмамбетов  Джим Лемли, Джейсон Нетер, Марк Е.Платт, Яйн Смит   \n",
       "4  Тимур Бекмамбетов  Джим Лемли, Джейсон Нетер, Марк Е.Платт, Яйн Смит   \n",
       "\n",
       "                 age_restriction  refundable_support  nonrefundable_support  \\\n",
       "0    «18+» - запрещено для детей                 NaN                    NaN   \n",
       "1  «6+» - для детей старше 6 лет                 NaN                    NaN   \n",
       "2    «18+» - запрещено для детей                 NaN                    NaN   \n",
       "3    «18+» - запрещено для детей                 NaN                    NaN   \n",
       "4    «18+» - запрещено для детей                 NaN                    NaN   \n",
       "\n",
       "   budget financing_source ratings                     genres  \n",
       "0     NaN              NaN     7.2     боевик,драма,мелодрама  \n",
       "1     NaN              NaN     6.6              драма,военный  \n",
       "2     NaN              NaN     6.8  фантастика,боевик,триллер  \n",
       "3     NaN              NaN     6.8  фантастика,боевик,триллер  \n",
       "4     NaN              NaN     6.8  фантастика,боевик,триллер  "
      ]
     },
     "execution_count": 219,
     "metadata": {},
     "output_type": "execute_result"
    }
   ],
   "source": [
    "data_movies = pd.read_csv('/datasets/mkrf_movies.csv')\n",
    "data_movies.head()"
   ]
  },
  {
   "cell_type": "code",
   "execution_count": 220,
   "metadata": {
    "scrolled": true
   },
   "outputs": [
    {
     "data": {
      "text/html": [
       "<div>\n",
       "<style scoped>\n",
       "    .dataframe tbody tr th:only-of-type {\n",
       "        vertical-align: middle;\n",
       "    }\n",
       "\n",
       "    .dataframe tbody tr th {\n",
       "        vertical-align: top;\n",
       "    }\n",
       "\n",
       "    .dataframe thead th {\n",
       "        text-align: right;\n",
       "    }\n",
       "</style>\n",
       "<table border=\"1\" class=\"dataframe\">\n",
       "  <thead>\n",
       "    <tr style=\"text-align: right;\">\n",
       "      <th></th>\n",
       "      <th>puNumber</th>\n",
       "      <th>box_office</th>\n",
       "    </tr>\n",
       "  </thead>\n",
       "  <tbody>\n",
       "    <tr>\n",
       "      <th>0</th>\n",
       "      <td>111000113</td>\n",
       "      <td>2,450.00</td>\n",
       "    </tr>\n",
       "    <tr>\n",
       "      <th>1</th>\n",
       "      <td>111000115</td>\n",
       "      <td>61,040.00</td>\n",
       "    </tr>\n",
       "    <tr>\n",
       "      <th>2</th>\n",
       "      <td>111000116</td>\n",
       "      <td>153,030,013.40</td>\n",
       "    </tr>\n",
       "    <tr>\n",
       "      <th>3</th>\n",
       "      <td>111000117</td>\n",
       "      <td>12,260,956.00</td>\n",
       "    </tr>\n",
       "    <tr>\n",
       "      <th>4</th>\n",
       "      <td>111000118</td>\n",
       "      <td>163,684,057.79</td>\n",
       "    </tr>\n",
       "  </tbody>\n",
       "</table>\n",
       "</div>"
      ],
      "text/plain": [
       "    puNumber     box_office\n",
       "0  111000113       2,450.00\n",
       "1  111000115      61,040.00\n",
       "2  111000116 153,030,013.40\n",
       "3  111000117  12,260,956.00\n",
       "4  111000118 163,684,057.79"
      ]
     },
     "execution_count": 220,
     "metadata": {},
     "output_type": "execute_result"
    }
   ],
   "source": [
    "data_shows = pd.read_csv('/datasets/mkrf_shows.csv')\n",
    "data_shows.head()"
   ]
  },
  {
   "cell_type": "code",
   "execution_count": 221,
   "metadata": {},
   "outputs": [
    {
     "name": "stdout",
     "output_type": "stream",
     "text": [
      "<class 'pandas.core.frame.DataFrame'>\n",
      "RangeIndex: 7486 entries, 0 to 7485\n",
      "Data columns (total 15 columns):\n",
      " #   Column                 Non-Null Count  Dtype  \n",
      "---  ------                 --------------  -----  \n",
      " 0   title                  7486 non-null   object \n",
      " 1   puNumber               7486 non-null   object \n",
      " 2   show_start_date        7486 non-null   object \n",
      " 3   type                   7486 non-null   object \n",
      " 4   film_studio            7468 non-null   object \n",
      " 5   production_country     7484 non-null   object \n",
      " 6   director               7477 non-null   object \n",
      " 7   producer               6918 non-null   object \n",
      " 8   age_restriction        7486 non-null   object \n",
      " 9   refundable_support     332 non-null    float64\n",
      " 10  nonrefundable_support  332 non-null    float64\n",
      " 11  budget                 332 non-null    float64\n",
      " 12  financing_source       332 non-null    object \n",
      " 13  ratings                6519 non-null   object \n",
      " 14  genres                 6510 non-null   object \n",
      "dtypes: float64(3), object(12)\n",
      "memory usage: 877.4+ KB\n"
     ]
    }
   ],
   "source": [
    "data_movies.info()"
   ]
  },
  {
   "cell_type": "code",
   "execution_count": 222,
   "metadata": {},
   "outputs": [
    {
     "name": "stdout",
     "output_type": "stream",
     "text": [
      "<class 'pandas.core.frame.DataFrame'>\n",
      "RangeIndex: 3158 entries, 0 to 3157\n",
      "Data columns (total 2 columns):\n",
      " #   Column      Non-Null Count  Dtype  \n",
      "---  ------      --------------  -----  \n",
      " 0   puNumber    3158 non-null   int64  \n",
      " 1   box_office  3158 non-null   float64\n",
      "dtypes: float64(1), int64(1)\n",
      "memory usage: 49.5 KB\n"
     ]
    }
   ],
   "source": [
    "data_shows.info()"
   ]
  },
  {
   "cell_type": "code",
   "execution_count": 223,
   "metadata": {
    "scrolled": false
   },
   "outputs": [
    {
     "name": "stdout",
     "output_type": "stream",
     "text": [
      "<class 'pandas.core.frame.DataFrame'>\n",
      "RangeIndex: 7486 entries, 0 to 7485\n",
      "Data columns (total 15 columns):\n",
      " #   Column                 Non-Null Count  Dtype  \n",
      "---  ------                 --------------  -----  \n",
      " 0   title                  7486 non-null   object \n",
      " 1   puNumber               7485 non-null   float64\n",
      " 2   show_start_date        7486 non-null   object \n",
      " 3   type                   7486 non-null   object \n",
      " 4   film_studio            7468 non-null   object \n",
      " 5   production_country     7484 non-null   object \n",
      " 6   director               7477 non-null   object \n",
      " 7   producer               6918 non-null   object \n",
      " 8   age_restriction        7486 non-null   object \n",
      " 9   refundable_support     332 non-null    float64\n",
      " 10  nonrefundable_support  332 non-null    float64\n",
      " 11  budget                 332 non-null    float64\n",
      " 12  financing_source       332 non-null    object \n",
      " 13  ratings                6519 non-null   object \n",
      " 14  genres                 6510 non-null   object \n",
      "dtypes: float64(4), object(11)\n",
      "memory usage: 877.4+ KB\n"
     ]
    }
   ],
   "source": [
    "data_movies['puNumber'] = pd.to_numeric(data_movies['puNumber'], errors='coerce')\n",
    "data_movies.info()"
   ]
  },
  {
   "cell_type": "code",
   "execution_count": 224,
   "metadata": {},
   "outputs": [
    {
     "data": {
      "text/plain": [
       "1"
      ]
     },
     "execution_count": 224,
     "metadata": {},
     "output_type": "execute_result"
    }
   ],
   "source": [
    "data_movies['puNumber'].isna().sum()"
   ]
  },
  {
   "cell_type": "code",
   "execution_count": 225,
   "metadata": {},
   "outputs": [
    {
     "data": {
      "text/plain": [
       "0"
      ]
     },
     "execution_count": 225,
     "metadata": {},
     "output_type": "execute_result"
    }
   ],
   "source": [
    "data_movies = data_movies.loc[data_movies['puNumber'].notna()]\n",
    "data_movies['puNumber'].isna().sum()"
   ]
  },
  {
   "cell_type": "code",
   "execution_count": 226,
   "metadata": {
    "scrolled": false
   },
   "outputs": [
    {
     "name": "stdout",
     "output_type": "stream",
     "text": [
      "<class 'pandas.core.frame.DataFrame'>\n",
      "Int64Index: 7485 entries, 0 to 7485\n",
      "Data columns (total 15 columns):\n",
      " #   Column                 Non-Null Count  Dtype  \n",
      "---  ------                 --------------  -----  \n",
      " 0   title                  7485 non-null   object \n",
      " 1   puNumber               7485 non-null   int64  \n",
      " 2   show_start_date        7485 non-null   object \n",
      " 3   type                   7485 non-null   object \n",
      " 4   film_studio            7467 non-null   object \n",
      " 5   production_country     7483 non-null   object \n",
      " 6   director               7476 non-null   object \n",
      " 7   producer               6917 non-null   object \n",
      " 8   age_restriction        7485 non-null   object \n",
      " 9   refundable_support     332 non-null    float64\n",
      " 10  nonrefundable_support  332 non-null    float64\n",
      " 11  budget                 332 non-null    float64\n",
      " 12  financing_source       332 non-null    object \n",
      " 13  ratings                6519 non-null   object \n",
      " 14  genres                 6510 non-null   object \n",
      "dtypes: float64(3), int64(1), object(11)\n",
      "memory usage: 935.6+ KB\n"
     ]
    }
   ],
   "source": [
    "data_movies = data_movies.astype({'puNumber':'int'})\n",
    "data_movies.info()"
   ]
  },
  {
   "cell_type": "code",
   "execution_count": 227,
   "metadata": {},
   "outputs": [
    {
     "data": {
      "text/html": [
       "<div>\n",
       "<style scoped>\n",
       "    .dataframe tbody tr th:only-of-type {\n",
       "        vertical-align: middle;\n",
       "    }\n",
       "\n",
       "    .dataframe tbody tr th {\n",
       "        vertical-align: top;\n",
       "    }\n",
       "\n",
       "    .dataframe thead th {\n",
       "        text-align: right;\n",
       "    }\n",
       "</style>\n",
       "<table border=\"1\" class=\"dataframe\">\n",
       "  <thead>\n",
       "    <tr style=\"text-align: right;\">\n",
       "      <th></th>\n",
       "      <th>title</th>\n",
       "      <th>puNumber</th>\n",
       "      <th>show_start_date</th>\n",
       "      <th>type</th>\n",
       "      <th>film_studio</th>\n",
       "      <th>production_country</th>\n",
       "      <th>director</th>\n",
       "      <th>producer</th>\n",
       "      <th>age_restriction</th>\n",
       "      <th>refundable_support</th>\n",
       "      <th>nonrefundable_support</th>\n",
       "      <th>budget</th>\n",
       "      <th>financing_source</th>\n",
       "      <th>ratings</th>\n",
       "      <th>genres</th>\n",
       "      <th>box_office</th>\n",
       "    </tr>\n",
       "  </thead>\n",
       "  <tbody>\n",
       "    <tr>\n",
       "      <th>0</th>\n",
       "      <td>Открытый простор</td>\n",
       "      <td>221048915</td>\n",
       "      <td>2015-11-27T12:00:00.000Z</td>\n",
       "      <td>Художественный</td>\n",
       "      <td>Тачстоун Пикчерз, Кобальт Пикчерз, Бикон Пикче...</td>\n",
       "      <td>США</td>\n",
       "      <td>Кевин Костнер</td>\n",
       "      <td>Дэвид Валдес, Кевин Костнер, Джейк Эбертс</td>\n",
       "      <td>«18+» - запрещено для детей</td>\n",
       "      <td>NaN</td>\n",
       "      <td>NaN</td>\n",
       "      <td>NaN</td>\n",
       "      <td>NaN</td>\n",
       "      <td>7.2</td>\n",
       "      <td>боевик,драма,мелодрама</td>\n",
       "      <td>NaN</td>\n",
       "    </tr>\n",
       "    <tr>\n",
       "      <th>1</th>\n",
       "      <td>Особо важное задание</td>\n",
       "      <td>111013716</td>\n",
       "      <td>2016-09-13T12:00:00.000Z</td>\n",
       "      <td>Художественный</td>\n",
       "      <td>Киностудия \"Мосфильм\"</td>\n",
       "      <td>СССР</td>\n",
       "      <td>Е.Матвеев</td>\n",
       "      <td>NaN</td>\n",
       "      <td>«6+» - для детей старше 6 лет</td>\n",
       "      <td>NaN</td>\n",
       "      <td>NaN</td>\n",
       "      <td>NaN</td>\n",
       "      <td>NaN</td>\n",
       "      <td>6.6</td>\n",
       "      <td>драма,военный</td>\n",
       "      <td>NaN</td>\n",
       "    </tr>\n",
       "    <tr>\n",
       "      <th>2</th>\n",
       "      <td>Особо опасен</td>\n",
       "      <td>221038416</td>\n",
       "      <td>2016-10-10T12:00:00.000Z</td>\n",
       "      <td>Художественный</td>\n",
       "      <td>Юниверсал Пикчерз, Кикстарт Продакшнз, Марк Пл...</td>\n",
       "      <td>США</td>\n",
       "      <td>Тимур Бекмамбетов</td>\n",
       "      <td>Джим Лемли, Джейсон Нетер, Марк Е.Платт, Яйн Смит</td>\n",
       "      <td>«18+» - запрещено для детей</td>\n",
       "      <td>NaN</td>\n",
       "      <td>NaN</td>\n",
       "      <td>NaN</td>\n",
       "      <td>NaN</td>\n",
       "      <td>6.8</td>\n",
       "      <td>фантастика,боевик,триллер</td>\n",
       "      <td>NaN</td>\n",
       "    </tr>\n",
       "    <tr>\n",
       "      <th>3</th>\n",
       "      <td>Особо опасен</td>\n",
       "      <td>221026916</td>\n",
       "      <td>2016-06-10T12:00:00.000Z</td>\n",
       "      <td>Художественный</td>\n",
       "      <td>Юниверсал Пикчерз, Кикстарт Продакшнз, Марк Пл...</td>\n",
       "      <td>США</td>\n",
       "      <td>Тимур Бекмамбетов</td>\n",
       "      <td>Джим Лемли, Джейсон Нетер, Марк Е.Платт, Яйн Смит</td>\n",
       "      <td>«18+» - запрещено для детей</td>\n",
       "      <td>NaN</td>\n",
       "      <td>NaN</td>\n",
       "      <td>NaN</td>\n",
       "      <td>NaN</td>\n",
       "      <td>6.8</td>\n",
       "      <td>фантастика,боевик,триллер</td>\n",
       "      <td>NaN</td>\n",
       "    </tr>\n",
       "    <tr>\n",
       "      <th>4</th>\n",
       "      <td>Особо опасен</td>\n",
       "      <td>221030815</td>\n",
       "      <td>2015-07-29T12:00:00.000Z</td>\n",
       "      <td>Художественный</td>\n",
       "      <td>Юниверсал Пикчерз, Кикстарт Продакшнз, Марк Пл...</td>\n",
       "      <td>США</td>\n",
       "      <td>Тимур Бекмамбетов</td>\n",
       "      <td>Джим Лемли, Джейсон Нетер, Марк Е.Платт, Яйн Смит</td>\n",
       "      <td>«18+» - запрещено для детей</td>\n",
       "      <td>NaN</td>\n",
       "      <td>NaN</td>\n",
       "      <td>NaN</td>\n",
       "      <td>NaN</td>\n",
       "      <td>6.8</td>\n",
       "      <td>фантастика,боевик,триллер</td>\n",
       "      <td>NaN</td>\n",
       "    </tr>\n",
       "  </tbody>\n",
       "</table>\n",
       "</div>"
      ],
      "text/plain": [
       "                  title   puNumber           show_start_date            type  \\\n",
       "0      Открытый простор  221048915  2015-11-27T12:00:00.000Z  Художественный   \n",
       "1  Особо важное задание  111013716  2016-09-13T12:00:00.000Z  Художественный   \n",
       "2          Особо опасен  221038416  2016-10-10T12:00:00.000Z  Художественный   \n",
       "3          Особо опасен  221026916  2016-06-10T12:00:00.000Z  Художественный   \n",
       "4          Особо опасен  221030815  2015-07-29T12:00:00.000Z  Художественный   \n",
       "\n",
       "                                         film_studio production_country  \\\n",
       "0  Тачстоун Пикчерз, Кобальт Пикчерз, Бикон Пикче...                США   \n",
       "1                              Киностудия \"Мосфильм\"               СССР   \n",
       "2  Юниверсал Пикчерз, Кикстарт Продакшнз, Марк Пл...                США   \n",
       "3  Юниверсал Пикчерз, Кикстарт Продакшнз, Марк Пл...                США   \n",
       "4  Юниверсал Пикчерз, Кикстарт Продакшнз, Марк Пл...                США   \n",
       "\n",
       "            director                                           producer  \\\n",
       "0      Кевин Костнер          Дэвид Валдес, Кевин Костнер, Джейк Эбертс   \n",
       "1          Е.Матвеев                                                NaN   \n",
       "2  Тимур Бекмамбетов  Джим Лемли, Джейсон Нетер, Марк Е.Платт, Яйн Смит   \n",
       "3  Тимур Бекмамбетов  Джим Лемли, Джейсон Нетер, Марк Е.Платт, Яйн Смит   \n",
       "4  Тимур Бекмамбетов  Джим Лемли, Джейсон Нетер, Марк Е.Платт, Яйн Смит   \n",
       "\n",
       "                 age_restriction  refundable_support  nonrefundable_support  \\\n",
       "0    «18+» - запрещено для детей                 NaN                    NaN   \n",
       "1  «6+» - для детей старше 6 лет                 NaN                    NaN   \n",
       "2    «18+» - запрещено для детей                 NaN                    NaN   \n",
       "3    «18+» - запрещено для детей                 NaN                    NaN   \n",
       "4    «18+» - запрещено для детей                 NaN                    NaN   \n",
       "\n",
       "   budget financing_source ratings                     genres  box_office  \n",
       "0     NaN              NaN     7.2     боевик,драма,мелодрама         NaN  \n",
       "1     NaN              NaN     6.6              драма,военный         NaN  \n",
       "2     NaN              NaN     6.8  фантастика,боевик,триллер         NaN  \n",
       "3     NaN              NaN     6.8  фантастика,боевик,триллер         NaN  \n",
       "4     NaN              NaN     6.8  фантастика,боевик,триллер         NaN  "
      ]
     },
     "execution_count": 227,
     "metadata": {},
     "output_type": "execute_result"
    }
   ],
   "source": [
    "data = data_movies.merge(data_shows, on='puNumber', how='left')\n",
    "data.head()"
   ]
  },
  {
   "cell_type": "code",
   "execution_count": 228,
   "metadata": {},
   "outputs": [
    {
     "name": "stdout",
     "output_type": "stream",
     "text": [
      "<class 'pandas.core.frame.DataFrame'>\n",
      "Int64Index: 7485 entries, 0 to 7484\n",
      "Data columns (total 16 columns):\n",
      " #   Column                 Non-Null Count  Dtype  \n",
      "---  ------                 --------------  -----  \n",
      " 0   title                  7485 non-null   object \n",
      " 1   puNumber               7485 non-null   int64  \n",
      " 2   show_start_date        7485 non-null   object \n",
      " 3   type                   7485 non-null   object \n",
      " 4   film_studio            7467 non-null   object \n",
      " 5   production_country     7483 non-null   object \n",
      " 6   director               7476 non-null   object \n",
      " 7   producer               6917 non-null   object \n",
      " 8   age_restriction        7485 non-null   object \n",
      " 9   refundable_support     332 non-null    float64\n",
      " 10  nonrefundable_support  332 non-null    float64\n",
      " 11  budget                 332 non-null    float64\n",
      " 12  financing_source       332 non-null    object \n",
      " 13  ratings                6519 non-null   object \n",
      " 14  genres                 6510 non-null   object \n",
      " 15  box_office             3158 non-null   float64\n",
      "dtypes: float64(4), int64(1), object(11)\n",
      "memory usage: 994.1+ KB\n"
     ]
    }
   ],
   "source": [
    "data.info()"
   ]
  },
  {
   "cell_type": "markdown",
   "metadata": {},
   "source": [
    "\n",
    "\n",
    "В данном разделе проекта были загружены два датасета и объединены в один общий по признаку \"номер прокатного удостоверения\"."
   ]
  },
  {
   "cell_type": "markdown",
   "metadata": {
    "id": "KLDGpPG0gFyM"
   },
   "source": [
    "### Шаг 2. Предобработка данных"
   ]
  },
  {
   "cell_type": "markdown",
   "metadata": {
    "id": "ssWwKXsxgFyO"
   },
   "source": [
    "#### Шаг 2.1. Проверка типов данных\n",
    "\n"
   ]
  },
  {
   "cell_type": "code",
   "execution_count": 229,
   "metadata": {
    "id": "kVGSplJOgFyO"
   },
   "outputs": [
    {
     "data": {
      "text/plain": [
       "0   2015-11-27 12:00:00\n",
       "1   2016-09-13 12:00:00\n",
       "2   2016-10-10 12:00:00\n",
       "3   2016-06-10 12:00:00\n",
       "4   2015-07-29 12:00:00\n",
       "Name: show_start_date, dtype: datetime64[ns]"
      ]
     },
     "execution_count": 229,
     "metadata": {},
     "output_type": "execute_result"
    }
   ],
   "source": [
    "data['show_start_date'] = pd.to_datetime(data['show_start_date'], format='%Y-%m-%dT%H:%M:%S.%fZ') \n",
    "data['show_start_date'].head()"
   ]
  },
  {
   "cell_type": "code",
   "execution_count": 230,
   "metadata": {},
   "outputs": [
    {
     "name": "stdout",
     "output_type": "stream",
     "text": [
      "<class 'pandas.core.frame.DataFrame'>\n",
      "Int64Index: 7485 entries, 0 to 7484\n",
      "Data columns (total 16 columns):\n",
      " #   Column                 Non-Null Count  Dtype         \n",
      "---  ------                 --------------  -----         \n",
      " 0   title                  7485 non-null   object        \n",
      " 1   puNumber               7485 non-null   int64         \n",
      " 2   show_start_date        7485 non-null   datetime64[ns]\n",
      " 3   type                   7485 non-null   object        \n",
      " 4   film_studio            7467 non-null   object        \n",
      " 5   production_country     7483 non-null   object        \n",
      " 6   director               7476 non-null   object        \n",
      " 7   producer               6917 non-null   object        \n",
      " 8   age_restriction        7485 non-null   object        \n",
      " 9   refundable_support     332 non-null    float64       \n",
      " 10  nonrefundable_support  332 non-null    float64       \n",
      " 11  budget                 332 non-null    float64       \n",
      " 12  financing_source       332 non-null    object        \n",
      " 13  ratings                6490 non-null   float64       \n",
      " 14  genres                 6510 non-null   object        \n",
      " 15  box_office             3158 non-null   float64       \n",
      "dtypes: datetime64[ns](1), float64(5), int64(1), object(9)\n",
      "memory usage: 994.1+ KB\n"
     ]
    }
   ],
   "source": [
    "data['ratings'] = pd.to_numeric(data['ratings'], errors='coerce')\n",
    "data.info()"
   ]
  },
  {
   "cell_type": "markdown",
   "metadata": {
    "id": "i0MOLbF-gFyP"
   },
   "source": [
    "#### Шаг 2.2. Изучение пропусков в датафрейме\n",
    "\n"
   ]
  },
  {
   "cell_type": "code",
   "execution_count": 231,
   "metadata": {
    "id": "8MJD_lkngFyP"
   },
   "outputs": [
    {
     "data": {
      "text/plain": [
       "title                       0\n",
       "puNumber                    0\n",
       "show_start_date             0\n",
       "type                        0\n",
       "film_studio                18\n",
       "production_country          2\n",
       "director                    9\n",
       "producer                  568\n",
       "age_restriction             0\n",
       "refundable_support       7153\n",
       "nonrefundable_support    7153\n",
       "budget                   7153\n",
       "financing_source         7153\n",
       "ratings                   995\n",
       "genres                    975\n",
       "box_office               4327\n",
       "dtype: int64"
      ]
     },
     "execution_count": 231,
     "metadata": {},
     "output_type": "execute_result"
    }
   ],
   "source": [
    "data.isna().sum()"
   ]
  },
  {
   "cell_type": "code",
   "execution_count": 232,
   "metadata": {},
   "outputs": [
    {
     "data": {
      "text/plain": [
       "title                       0\n",
       "puNumber                    0\n",
       "show_start_date             0\n",
       "type                        0\n",
       "film_studio                18\n",
       "production_country          2\n",
       "director                    9\n",
       "producer                  568\n",
       "age_restriction             0\n",
       "refundable_support          0\n",
       "nonrefundable_support       0\n",
       "budget                      0\n",
       "financing_source            0\n",
       "ratings                   995\n",
       "genres                    975\n",
       "box_office               4327\n",
       "dtype: int64"
      ]
     },
     "execution_count": 232,
     "metadata": {},
     "output_type": "execute_result"
    }
   ],
   "source": [
    "data[['refundable_support', 'nonrefundable_support', 'budget', 'financing_source']] = data[['refundable_support', 'nonrefundable_support', 'budget', 'financing_source']].fillna(0)\n",
    "data.isna().sum()"
   ]
  },
  {
   "cell_type": "markdown",
   "metadata": {},
   "source": [
    "Заменила пропуски в столбцах, связанных с гос финансированием на нули, тк финансирования не было - его размер составил 0 рублей."
   ]
  },
  {
   "cell_type": "code",
   "execution_count": 233,
   "metadata": {},
   "outputs": [
    {
     "data": {
      "text/plain": [
       "title                       0\n",
       "puNumber                    0\n",
       "show_start_date             0\n",
       "type                        0\n",
       "film_studio                 0\n",
       "production_country          0\n",
       "director                    0\n",
       "producer                    0\n",
       "age_restriction             0\n",
       "refundable_support          0\n",
       "nonrefundable_support       0\n",
       "budget                      0\n",
       "financing_source            0\n",
       "ratings                   995\n",
       "genres                      0\n",
       "box_office               4327\n",
       "dtype: int64"
      ]
     },
     "execution_count": 233,
     "metadata": {},
     "output_type": "execute_result"
    }
   ],
   "source": [
    "data[['film_studio', 'production_country', 'director', 'producer', 'genres']] = data[['film_studio', 'production_country', 'director', 'producer', 'genres']].fillna('unknown')\n",
    "data.isna().sum()"
   ]
  },
  {
   "cell_type": "markdown",
   "metadata": {},
   "source": [
    "Пропуски в текстовых значениях заполнила 'unknown', числовые (рейтинги и сборы) оставила пустыми. "
   ]
  },
  {
   "cell_type": "markdown",
   "metadata": {
    "id": "4c6k1t9ygFyQ"
   },
   "source": [
    "#### Шаг 2.3. Изучение дубликатов в датафрейме\n"
   ]
  },
  {
   "cell_type": "code",
   "execution_count": 234,
   "metadata": {},
   "outputs": [
    {
     "data": {
      "text/html": [
       "<div>\n",
       "<style scoped>\n",
       "    .dataframe tbody tr th:only-of-type {\n",
       "        vertical-align: middle;\n",
       "    }\n",
       "\n",
       "    .dataframe tbody tr th {\n",
       "        vertical-align: top;\n",
       "    }\n",
       "\n",
       "    .dataframe thead th {\n",
       "        text-align: right;\n",
       "    }\n",
       "</style>\n",
       "<table border=\"1\" class=\"dataframe\">\n",
       "  <thead>\n",
       "    <tr style=\"text-align: right;\">\n",
       "      <th></th>\n",
       "      <th>title</th>\n",
       "      <th>puNumber</th>\n",
       "      <th>show_start_date</th>\n",
       "      <th>type</th>\n",
       "      <th>film_studio</th>\n",
       "      <th>production_country</th>\n",
       "      <th>director</th>\n",
       "      <th>producer</th>\n",
       "      <th>age_restriction</th>\n",
       "      <th>refundable_support</th>\n",
       "      <th>nonrefundable_support</th>\n",
       "      <th>budget</th>\n",
       "      <th>financing_source</th>\n",
       "      <th>ratings</th>\n",
       "      <th>genres</th>\n",
       "      <th>box_office</th>\n",
       "      <th>year</th>\n",
       "    </tr>\n",
       "  </thead>\n",
       "  <tbody>\n",
       "    <tr>\n",
       "      <th>0</th>\n",
       "      <td>Открытый простор</td>\n",
       "      <td>221048915</td>\n",
       "      <td>2015-11-27 12:00:00</td>\n",
       "      <td>Художественный</td>\n",
       "      <td>Тачстоун Пикчерз, Кобальт Пикчерз, Бикон Пикче...</td>\n",
       "      <td>США</td>\n",
       "      <td>Кевин Костнер</td>\n",
       "      <td>Дэвид Валдес, Кевин Костнер, Джейк Эбертс</td>\n",
       "      <td>«18+» - запрещено для детей</td>\n",
       "      <td>0.00</td>\n",
       "      <td>0.00</td>\n",
       "      <td>0.00</td>\n",
       "      <td>0</td>\n",
       "      <td>7.20</td>\n",
       "      <td>боевик,драма,мелодрама</td>\n",
       "      <td>NaN</td>\n",
       "      <td>2015</td>\n",
       "    </tr>\n",
       "    <tr>\n",
       "      <th>1</th>\n",
       "      <td>Особо важное задание</td>\n",
       "      <td>111013716</td>\n",
       "      <td>2016-09-13 12:00:00</td>\n",
       "      <td>Художественный</td>\n",
       "      <td>Киностудия \"Мосфильм\"</td>\n",
       "      <td>СССР</td>\n",
       "      <td>Е.Матвеев</td>\n",
       "      <td>unknown</td>\n",
       "      <td>«6+» - для детей старше 6 лет</td>\n",
       "      <td>0.00</td>\n",
       "      <td>0.00</td>\n",
       "      <td>0.00</td>\n",
       "      <td>0</td>\n",
       "      <td>6.60</td>\n",
       "      <td>драма,военный</td>\n",
       "      <td>NaN</td>\n",
       "      <td>2016</td>\n",
       "    </tr>\n",
       "    <tr>\n",
       "      <th>2</th>\n",
       "      <td>Особо опасен</td>\n",
       "      <td>221038416</td>\n",
       "      <td>2016-10-10 12:00:00</td>\n",
       "      <td>Художественный</td>\n",
       "      <td>Юниверсал Пикчерз, Кикстарт Продакшнз, Марк Пл...</td>\n",
       "      <td>США</td>\n",
       "      <td>Тимур Бекмамбетов</td>\n",
       "      <td>Джим Лемли, Джейсон Нетер, Марк Е.Платт, Яйн Смит</td>\n",
       "      <td>«18+» - запрещено для детей</td>\n",
       "      <td>0.00</td>\n",
       "      <td>0.00</td>\n",
       "      <td>0.00</td>\n",
       "      <td>0</td>\n",
       "      <td>6.80</td>\n",
       "      <td>фантастика,боевик,триллер</td>\n",
       "      <td>NaN</td>\n",
       "      <td>2016</td>\n",
       "    </tr>\n",
       "    <tr>\n",
       "      <th>3</th>\n",
       "      <td>Особо опасен</td>\n",
       "      <td>221026916</td>\n",
       "      <td>2016-06-10 12:00:00</td>\n",
       "      <td>Художественный</td>\n",
       "      <td>Юниверсал Пикчерз, Кикстарт Продакшнз, Марк Пл...</td>\n",
       "      <td>США</td>\n",
       "      <td>Тимур Бекмамбетов</td>\n",
       "      <td>Джим Лемли, Джейсон Нетер, Марк Е.Платт, Яйн Смит</td>\n",
       "      <td>«18+» - запрещено для детей</td>\n",
       "      <td>0.00</td>\n",
       "      <td>0.00</td>\n",
       "      <td>0.00</td>\n",
       "      <td>0</td>\n",
       "      <td>6.80</td>\n",
       "      <td>фантастика,боевик,триллер</td>\n",
       "      <td>NaN</td>\n",
       "      <td>2016</td>\n",
       "    </tr>\n",
       "    <tr>\n",
       "      <th>4</th>\n",
       "      <td>Особо опасен</td>\n",
       "      <td>221030815</td>\n",
       "      <td>2015-07-29 12:00:00</td>\n",
       "      <td>Художественный</td>\n",
       "      <td>Юниверсал Пикчерз, Кикстарт Продакшнз, Марк Пл...</td>\n",
       "      <td>США</td>\n",
       "      <td>Тимур Бекмамбетов</td>\n",
       "      <td>Джим Лемли, Джейсон Нетер, Марк Е.Платт, Яйн Смит</td>\n",
       "      <td>«18+» - запрещено для детей</td>\n",
       "      <td>0.00</td>\n",
       "      <td>0.00</td>\n",
       "      <td>0.00</td>\n",
       "      <td>0</td>\n",
       "      <td>6.80</td>\n",
       "      <td>фантастика,боевик,триллер</td>\n",
       "      <td>NaN</td>\n",
       "      <td>2015</td>\n",
       "    </tr>\n",
       "  </tbody>\n",
       "</table>\n",
       "</div>"
      ],
      "text/plain": [
       "                  title   puNumber     show_start_date            type  \\\n",
       "0      Открытый простор  221048915 2015-11-27 12:00:00  Художественный   \n",
       "1  Особо важное задание  111013716 2016-09-13 12:00:00  Художественный   \n",
       "2          Особо опасен  221038416 2016-10-10 12:00:00  Художественный   \n",
       "3          Особо опасен  221026916 2016-06-10 12:00:00  Художественный   \n",
       "4          Особо опасен  221030815 2015-07-29 12:00:00  Художественный   \n",
       "\n",
       "                                         film_studio production_country  \\\n",
       "0  Тачстоун Пикчерз, Кобальт Пикчерз, Бикон Пикче...                США   \n",
       "1                              Киностудия \"Мосфильм\"               СССР   \n",
       "2  Юниверсал Пикчерз, Кикстарт Продакшнз, Марк Пл...                США   \n",
       "3  Юниверсал Пикчерз, Кикстарт Продакшнз, Марк Пл...                США   \n",
       "4  Юниверсал Пикчерз, Кикстарт Продакшнз, Марк Пл...                США   \n",
       "\n",
       "            director                                           producer  \\\n",
       "0      Кевин Костнер          Дэвид Валдес, Кевин Костнер, Джейк Эбертс   \n",
       "1          Е.Матвеев                                            unknown   \n",
       "2  Тимур Бекмамбетов  Джим Лемли, Джейсон Нетер, Марк Е.Платт, Яйн Смит   \n",
       "3  Тимур Бекмамбетов  Джим Лемли, Джейсон Нетер, Марк Е.Платт, Яйн Смит   \n",
       "4  Тимур Бекмамбетов  Джим Лемли, Джейсон Нетер, Марк Е.Платт, Яйн Смит   \n",
       "\n",
       "                 age_restriction  refundable_support  nonrefundable_support  \\\n",
       "0    «18+» - запрещено для детей                0.00                   0.00   \n",
       "1  «6+» - для детей старше 6 лет                0.00                   0.00   \n",
       "2    «18+» - запрещено для детей                0.00                   0.00   \n",
       "3    «18+» - запрещено для детей                0.00                   0.00   \n",
       "4    «18+» - запрещено для детей                0.00                   0.00   \n",
       "\n",
       "   budget financing_source  ratings                     genres  box_office  \\\n",
       "0    0.00                0     7.20     боевик,драма,мелодрама         NaN   \n",
       "1    0.00                0     6.60              драма,военный         NaN   \n",
       "2    0.00                0     6.80  фантастика,боевик,триллер         NaN   \n",
       "3    0.00                0     6.80  фантастика,боевик,триллер         NaN   \n",
       "4    0.00                0     6.80  фантастика,боевик,триллер         NaN   \n",
       "\n",
       "   year  \n",
       "0  2015  \n",
       "1  2016  \n",
       "2  2016  \n",
       "3  2016  \n",
       "4  2015  "
      ]
     },
     "execution_count": 234,
     "metadata": {},
     "output_type": "execute_result"
    }
   ],
   "source": [
    "data['year'] = pd.DatetimeIndex(data['show_start_date']).year\n",
    "data.head()"
   ]
  },
  {
   "cell_type": "code",
   "execution_count": 235,
   "metadata": {
    "id": "aKck8RIdgFyQ"
   },
   "outputs": [
    {
     "data": {
      "text/plain": [
       "title                    388\n",
       "puNumber                 388\n",
       "show_start_date          388\n",
       "type                     388\n",
       "film_studio              388\n",
       "production_country       388\n",
       "director                 388\n",
       "producer                 388\n",
       "age_restriction          388\n",
       "refundable_support       388\n",
       "nonrefundable_support    388\n",
       "budget                   388\n",
       "financing_source         388\n",
       "ratings                  382\n",
       "genres                   388\n",
       "box_office                69\n",
       "year                     388\n",
       "dtype: int64"
      ]
     },
     "execution_count": 235,
     "metadata": {},
     "output_type": "execute_result"
    }
   ],
   "source": [
    "data.loc[data.duplicated(subset = ['title', 'year', 'director'])].count()"
   ]
  },
  {
   "cell_type": "code",
   "execution_count": 236,
   "metadata": {},
   "outputs": [
    {
     "name": "stdout",
     "output_type": "stream",
     "text": [
      "<class 'pandas.core.frame.DataFrame'>\n",
      "Int64Index: 7097 entries, 0 to 7484\n",
      "Data columns (total 17 columns):\n",
      " #   Column                 Non-Null Count  Dtype         \n",
      "---  ------                 --------------  -----         \n",
      " 0   title                  7097 non-null   object        \n",
      " 1   puNumber               7097 non-null   int64         \n",
      " 2   show_start_date        7097 non-null   datetime64[ns]\n",
      " 3   type                   7097 non-null   object        \n",
      " 4   film_studio            7097 non-null   object        \n",
      " 5   production_country     7097 non-null   object        \n",
      " 6   director               7097 non-null   object        \n",
      " 7   producer               7097 non-null   object        \n",
      " 8   age_restriction        7097 non-null   object        \n",
      " 9   refundable_support     7097 non-null   float64       \n",
      " 10  nonrefundable_support  7097 non-null   float64       \n",
      " 11  budget                 7097 non-null   float64       \n",
      " 12  financing_source       7097 non-null   object        \n",
      " 13  ratings                6108 non-null   float64       \n",
      " 14  genres                 7097 non-null   object        \n",
      " 15  box_office             3089 non-null   float64       \n",
      " 16  year                   7097 non-null   int64         \n",
      "dtypes: datetime64[ns](1), float64(5), int64(2), object(9)\n",
      "memory usage: 998.0+ KB\n"
     ]
    }
   ],
   "source": [
    "data = data.drop_duplicates(subset=['title', 'director', 'year'])\n",
    "data.info()"
   ]
  },
  {
   "cell_type": "markdown",
   "metadata": {},
   "source": [
    "Удалила строки, где совпадало название фильма, имя режисера и год выхода в прокат. Данные дубликаты могли возникнуть в следствие разных номеров прокатных удостоверений"
   ]
  },
  {
   "cell_type": "code",
   "execution_count": 237,
   "metadata": {
    "scrolled": true
   },
   "outputs": [
    {
     "data": {
      "text/plain": [
       "0"
      ]
     },
     "execution_count": 237,
     "metadata": {},
     "output_type": "execute_result"
    }
   ],
   "source": [
    "data.duplicated(subset=['puNumber']).sum()"
   ]
  },
  {
   "cell_type": "markdown",
   "metadata": {},
   "source": [
    "\n",
    "Дубликаты по прокатному удостоверению не найдено\n"
   ]
  },
  {
   "cell_type": "markdown",
   "metadata": {
    "id": "52fOPrEBgFyQ"
   },
   "source": [
    "#### Шаг 2.4. Изучение категориальных значений\n",
    "\n"
   ]
  },
  {
   "cell_type": "code",
   "execution_count": 238,
   "metadata": {
    "id": "PnXKIVdFgFyR"
   },
   "outputs": [
    {
     "data": {
      "text/plain": [
       "array(['Художественный', 'Анимационный', 'Прочие', 'Документальный',\n",
       "       'Научно-популярный', ' Художественный', ' Анимационный',\n",
       "       'Музыкально-развлекательный'], dtype=object)"
      ]
     },
     "execution_count": 238,
     "metadata": {},
     "output_type": "execute_result"
    }
   ],
   "source": [
    "data['type'].unique()"
   ]
  },
  {
   "cell_type": "code",
   "execution_count": 239,
   "metadata": {},
   "outputs": [],
   "source": [
    "data['type'] = data['type'].str.strip()"
   ]
  },
  {
   "cell_type": "code",
   "execution_count": 240,
   "metadata": {},
   "outputs": [
    {
     "data": {
      "text/plain": [
       "array(['Художественный', 'Анимационный', 'Прочие', 'Документальный',\n",
       "       'Научно-популярный', 'Музыкально-развлекательный'], dtype=object)"
      ]
     },
     "execution_count": 240,
     "metadata": {},
     "output_type": "execute_result"
    }
   ],
   "source": [
    "data['type'].unique()"
   ]
  },
  {
   "cell_type": "code",
   "execution_count": 241,
   "metadata": {},
   "outputs": [
    {
     "data": {
      "text/plain": [
       "array([0, 'Министерство культуры', 'Фонд кино',\n",
       "       'Министерство культуры, Фонд кино'], dtype=object)"
      ]
     },
     "execution_count": 241,
     "metadata": {},
     "output_type": "execute_result"
    }
   ],
   "source": [
    "data['financing_source'].unique()"
   ]
  },
  {
   "cell_type": "code",
   "execution_count": 242,
   "metadata": {},
   "outputs": [
    {
     "data": {
      "text/plain": [
       "array(['«18+» - запрещено для детей', '«6+» - для детей старше 6 лет',\n",
       "       '«12+» - для детей старше 12 лет',\n",
       "       '«16+» - для детей старше 16 лет',\n",
       "       '«0+» - для любой зрительской аудитории'], dtype=object)"
      ]
     },
     "execution_count": 242,
     "metadata": {},
     "output_type": "execute_result"
    }
   ],
   "source": [
    "data['age_restriction'].unique()"
   ]
  },
  {
   "cell_type": "code",
   "execution_count": 243,
   "metadata": {},
   "outputs": [
    {
     "data": {
      "text/plain": [
       "age_restriction\n",
       "«0+» - для любой зрительской аудитории     771\n",
       "«12+» - для детей старше 12 лет           1531\n",
       "«16+» - для детей старше 16 лет           2638\n",
       "«18+» - запрещено для детей               1537\n",
       "«6+» - для детей старше 6 лет              620\n",
       "Name: title, dtype: int64"
      ]
     },
     "execution_count": 243,
     "metadata": {},
     "output_type": "execute_result"
    }
   ],
   "source": [
    "data.groupby('age_restriction')['title'].count()"
   ]
  },
  {
   "cell_type": "code",
   "execution_count": 244,
   "metadata": {
    "scrolled": false
   },
   "outputs": [
    {
     "name": "stdout",
     "output_type": "stream",
     "text": [
      "<class 'pandas.core.frame.DataFrame'>\n",
      "Int64Index: 7097 entries, 0 to 7484\n",
      "Data columns (total 17 columns):\n",
      " #   Column                 Non-Null Count  Dtype         \n",
      "---  ------                 --------------  -----         \n",
      " 0   title                  7097 non-null   object        \n",
      " 1   puNumber               7097 non-null   int64         \n",
      " 2   show_start_date        7097 non-null   datetime64[ns]\n",
      " 3   type                   7097 non-null   object        \n",
      " 4   film_studio            7097 non-null   object        \n",
      " 5   production_country     7097 non-null   object        \n",
      " 6   director               7097 non-null   object        \n",
      " 7   producer               7097 non-null   object        \n",
      " 8   age_restriction        7097 non-null   object        \n",
      " 9   refundable_support     7097 non-null   float64       \n",
      " 10  nonrefundable_support  7097 non-null   float64       \n",
      " 11  budget                 7097 non-null   float64       \n",
      " 12  financing_source       7097 non-null   object        \n",
      " 13  ratings                6108 non-null   float64       \n",
      " 14  genres                 7097 non-null   object        \n",
      " 15  box_office             3089 non-null   float64       \n",
      " 16  year                   7097 non-null   int64         \n",
      "dtypes: datetime64[ns](1), float64(5), int64(2), object(9)\n",
      "memory usage: 998.0+ KB\n"
     ]
    }
   ],
   "source": [
    "data.info()"
   ]
  },
  {
   "cell_type": "markdown",
   "metadata": {
    "id": "XFSN5lrEgFyR"
   },
   "source": [
    "#### Шаг 2.5. Проверка количественных значений\n",
    "\n"
   ]
  },
  {
   "cell_type": "code",
   "execution_count": 245,
   "metadata": {
    "scrolled": false
   },
   "outputs": [
    {
     "data": {
      "text/html": [
       "<div>\n",
       "<style scoped>\n",
       "    .dataframe tbody tr th:only-of-type {\n",
       "        vertical-align: middle;\n",
       "    }\n",
       "\n",
       "    .dataframe tbody tr th {\n",
       "        vertical-align: top;\n",
       "    }\n",
       "\n",
       "    .dataframe thead th {\n",
       "        text-align: right;\n",
       "    }\n",
       "</style>\n",
       "<table border=\"1\" class=\"dataframe\">\n",
       "  <thead>\n",
       "    <tr style=\"text-align: right;\">\n",
       "      <th></th>\n",
       "      <th>title</th>\n",
       "      <th>puNumber</th>\n",
       "      <th>show_start_date</th>\n",
       "      <th>type</th>\n",
       "      <th>film_studio</th>\n",
       "      <th>production_country</th>\n",
       "      <th>director</th>\n",
       "      <th>producer</th>\n",
       "      <th>age_restriction</th>\n",
       "      <th>refundable_support</th>\n",
       "      <th>nonrefundable_support</th>\n",
       "      <th>budget</th>\n",
       "      <th>financing_source</th>\n",
       "      <th>ratings</th>\n",
       "      <th>genres</th>\n",
       "      <th>box_office</th>\n",
       "      <th>year</th>\n",
       "    </tr>\n",
       "  </thead>\n",
       "  <tbody>\n",
       "    <tr>\n",
       "      <th>2052</th>\n",
       "      <td>14+</td>\n",
       "      <td>111023614</td>\n",
       "      <td>2014-12-19 12:00:00</td>\n",
       "      <td>Художественный</td>\n",
       "      <td>ООО Киностудия  \"Сентябрь\"</td>\n",
       "      <td>Россия</td>\n",
       "      <td>А.Зайцев</td>\n",
       "      <td>О.Гранина, А.Зайцев</td>\n",
       "      <td>«16+» - для детей старше 16 лет</td>\n",
       "      <td>0.00</td>\n",
       "      <td>23,000,000.00</td>\n",
       "      <td>0.00</td>\n",
       "      <td>Министерство культуры, Фонд кино</td>\n",
       "      <td>6.60</td>\n",
       "      <td>мелодрама</td>\n",
       "      <td>10,234,016.10</td>\n",
       "      <td>2014</td>\n",
       "    </tr>\n",
       "    <tr>\n",
       "      <th>2057</th>\n",
       "      <td>Дуxless 2</td>\n",
       "      <td>111000415</td>\n",
       "      <td>2015-01-26 12:00:00</td>\n",
       "      <td>Художественный</td>\n",
       "      <td>ООО \"Киностудия \"Слово\", ООО \"Арт Пикчерс Студия\"</td>\n",
       "      <td>Россия</td>\n",
       "      <td>Р.Прыгунов</td>\n",
       "      <td>П.Ануров, Ф.Бондарчук, Д.Рудовский</td>\n",
       "      <td>«16+» - для детей старше 16 лет</td>\n",
       "      <td>0.00</td>\n",
       "      <td>75,000,000.00</td>\n",
       "      <td>0.00</td>\n",
       "      <td>Фонд кино</td>\n",
       "      <td>6.60</td>\n",
       "      <td>драма</td>\n",
       "      <td>446,163,511.00</td>\n",
       "      <td>2015</td>\n",
       "    </tr>\n",
       "    <tr>\n",
       "      <th>2471</th>\n",
       "      <td>Воин (2015)</td>\n",
       "      <td>111017315</td>\n",
       "      <td>2015-09-28 12:00:00</td>\n",
       "      <td>Художественный</td>\n",
       "      <td>ООО \"Форпост Продакшн\", ООО \"Арт Пикчерс Студия\"</td>\n",
       "      <td>Россия</td>\n",
       "      <td>А.Андрианов</td>\n",
       "      <td>ООО \"Арт Пикчерс Студия\"</td>\n",
       "      <td>«12+» - для детей старше 12 лет</td>\n",
       "      <td>10,000,000.00</td>\n",
       "      <td>70,000,000.00</td>\n",
       "      <td>0.00</td>\n",
       "      <td>Фонд кино</td>\n",
       "      <td>7.80</td>\n",
       "      <td>боевик,драма,криминал</td>\n",
       "      <td>196,572,438.40</td>\n",
       "      <td>2015</td>\n",
       "    </tr>\n",
       "    <tr>\n",
       "      <th>2531</th>\n",
       "      <td>Бармен.</td>\n",
       "      <td>111009615</td>\n",
       "      <td>2015-05-26 12:00:00</td>\n",
       "      <td>Художественный</td>\n",
       "      <td>АО \"ВайТ Медиа\", ООО \"Арт Пикчерс Студия\"</td>\n",
       "      <td>Россия</td>\n",
       "      <td>Д.Штурманова</td>\n",
       "      <td>Т.Вайнштейн</td>\n",
       "      <td>«16+» - для детей старше 16 лет</td>\n",
       "      <td>20,000,000.00</td>\n",
       "      <td>0.00</td>\n",
       "      <td>0.00</td>\n",
       "      <td>Фонд кино</td>\n",
       "      <td>6.20</td>\n",
       "      <td>комедия,фэнтези</td>\n",
       "      <td>67,418,974.80</td>\n",
       "      <td>2015</td>\n",
       "    </tr>\n",
       "    <tr>\n",
       "      <th>2614</th>\n",
       "      <td>Савва. Сердце воина</td>\n",
       "      <td>114001715</td>\n",
       "      <td>2015-07-21 12:00:00</td>\n",
       "      <td>Анимационный</td>\n",
       "      <td>ООО \"Глюкоза Продакшн\", ООО \"Арт Пикчерс Студия\"</td>\n",
       "      <td>Россия</td>\n",
       "      <td>М.Фадеев</td>\n",
       "      <td>А.Чистяков</td>\n",
       "      <td>«6+» - для детей старше 6 лет</td>\n",
       "      <td>60,000,000.00</td>\n",
       "      <td>100,000,000.00</td>\n",
       "      <td>0.00</td>\n",
       "      <td>Фонд кино</td>\n",
       "      <td>4.60</td>\n",
       "      <td>мультфильм,приключения,фэнтези</td>\n",
       "      <td>184,487,551.40</td>\n",
       "      <td>2015</td>\n",
       "    </tr>\n",
       "    <tr>\n",
       "      <th>2683</th>\n",
       "      <td>Тряпичный союз</td>\n",
       "      <td>111010215</td>\n",
       "      <td>2015-06-08 12:00:00</td>\n",
       "      <td>Художественный</td>\n",
       "      <td>ООО \"Кинокомпания \"КОКТЕБЕЛЬ\"</td>\n",
       "      <td>Россия</td>\n",
       "      <td>М.Местецкий</td>\n",
       "      <td>Р.Борисевич, А.Кушаев</td>\n",
       "      <td>«18+» - запрещено для детей</td>\n",
       "      <td>0.00</td>\n",
       "      <td>59,000,000.00</td>\n",
       "      <td>0.00</td>\n",
       "      <td>Фонд кино</td>\n",
       "      <td>6.30</td>\n",
       "      <td>комедия,драма</td>\n",
       "      <td>1,957,738.51</td>\n",
       "      <td>2015</td>\n",
       "    </tr>\n",
       "    <tr>\n",
       "      <th>2787</th>\n",
       "      <td>Срочно выйду замуж</td>\n",
       "      <td>111017115</td>\n",
       "      <td>2015-09-30 12:00:00</td>\n",
       "      <td>Художественный</td>\n",
       "      <td>АО \"ВайТ Медиа\", ООО \"Арт Пикчерс Студия\"</td>\n",
       "      <td>Россия</td>\n",
       "      <td>С Чекалов</td>\n",
       "      <td>Ф.Бондарчук, Т.Вайнштейн, Д.Рудовский</td>\n",
       "      <td>«16+» - для детей старше 16 лет</td>\n",
       "      <td>0.00</td>\n",
       "      <td>35,000,000.00</td>\n",
       "      <td>0.00</td>\n",
       "      <td>Фонд кино</td>\n",
       "      <td>5.10</td>\n",
       "      <td>комедия,мелодрама</td>\n",
       "      <td>72,937,783.20</td>\n",
       "      <td>2015</td>\n",
       "    </tr>\n",
       "    <tr>\n",
       "      <th>2873</th>\n",
       "      <td>Помню - не помню!</td>\n",
       "      <td>111004916</td>\n",
       "      <td>2016-03-01 12:00:00</td>\n",
       "      <td>Художественный</td>\n",
       "      <td>ООО \"КиноФирма\"</td>\n",
       "      <td>Россия</td>\n",
       "      <td>В.Ровенский</td>\n",
       "      <td>ООО \"КиноФирма\"</td>\n",
       "      <td>«12+» - для детей старше 12 лет</td>\n",
       "      <td>0.00</td>\n",
       "      <td>6,000,000.00</td>\n",
       "      <td>0.00</td>\n",
       "      <td>Министерство культуры</td>\n",
       "      <td>4.30</td>\n",
       "      <td>комедия</td>\n",
       "      <td>15,362,931.43</td>\n",
       "      <td>2016</td>\n",
       "    </tr>\n",
       "    <tr>\n",
       "      <th>3046</th>\n",
       "      <td>Любовь с ограничениями</td>\n",
       "      <td>111008216</td>\n",
       "      <td>2016-04-29 12:00:00</td>\n",
       "      <td>Художественный</td>\n",
       "      <td>АО \"ВайТ Медиа\", ООО \"Арт Пикчерс Студия\"</td>\n",
       "      <td>Россия</td>\n",
       "      <td>Д.Тюрин</td>\n",
       "      <td>Ф.Бондарчук, Т.Вайнштейн, Д.Рудовский</td>\n",
       "      <td>«16+» - для детей старше 16 лет</td>\n",
       "      <td>19,000,000.00</td>\n",
       "      <td>51,000,000.00</td>\n",
       "      <td>0.00</td>\n",
       "      <td>Фонд кино</td>\n",
       "      <td>6.30</td>\n",
       "      <td>комедия,мелодрама</td>\n",
       "      <td>70,299,052.00</td>\n",
       "      <td>2016</td>\n",
       "    </tr>\n",
       "    <tr>\n",
       "      <th>3564</th>\n",
       "      <td>Притяжение (2016)</td>\n",
       "      <td>111018116</td>\n",
       "      <td>2016-12-16 12:00:00</td>\n",
       "      <td>Художественный</td>\n",
       "      <td>ООО \"Водород 2011\",  ООО \"Арт Пикчерс Студия\"</td>\n",
       "      <td>Россия</td>\n",
       "      <td>Ф.Бондарчук</td>\n",
       "      <td>ООО \"Арт Пикчерс Студия\"</td>\n",
       "      <td>«12+» - для детей старше 12 лет</td>\n",
       "      <td>0.00</td>\n",
       "      <td>250,000,000.00</td>\n",
       "      <td>0.00</td>\n",
       "      <td>Фонд кино</td>\n",
       "      <td>5.60</td>\n",
       "      <td>фантастика</td>\n",
       "      <td>1,038,321,489.00</td>\n",
       "      <td>2016</td>\n",
       "    </tr>\n",
       "    <tr>\n",
       "      <th>3674</th>\n",
       "      <td>Чудо-юдо</td>\n",
       "      <td>114001817</td>\n",
       "      <td>2017-06-27 12:00:00</td>\n",
       "      <td>Анимационный</td>\n",
       "      <td>ООО \"КиноФирма\"</td>\n",
       "      <td>Россия</td>\n",
       "      <td>А.Лукичев</td>\n",
       "      <td>ООО \"КиноФирма\"</td>\n",
       "      <td>«6+» - для детей старше 6 лет</td>\n",
       "      <td>20,000,000.00</td>\n",
       "      <td>20,000,000.00</td>\n",
       "      <td>0.00</td>\n",
       "      <td>Фонд кино</td>\n",
       "      <td>5.20</td>\n",
       "      <td>мультфильм,фэнтези,семейный</td>\n",
       "      <td>55,108,014.76</td>\n",
       "      <td>2017</td>\n",
       "    </tr>\n",
       "    <tr>\n",
       "      <th>3738</th>\n",
       "      <td>Мифы</td>\n",
       "      <td>111004317</td>\n",
       "      <td>2017-06-07 12:00:00</td>\n",
       "      <td>Художественный</td>\n",
       "      <td>ООО \"ХАЙПФИЛМ\", ООО \"Арт Пикчерс Студия\"</td>\n",
       "      <td>Россия</td>\n",
       "      <td>А.Молочников</td>\n",
       "      <td>Ф.Бондарчук, Д.Рудовский, И.Стюарт, М.Османн, ...</td>\n",
       "      <td>«16+» - для детей старше 16 лет</td>\n",
       "      <td>25,000,000.00</td>\n",
       "      <td>20,000,000.00</td>\n",
       "      <td>0.00</td>\n",
       "      <td>Фонд кино</td>\n",
       "      <td>4.80</td>\n",
       "      <td>комедия</td>\n",
       "      <td>50,451,949.00</td>\n",
       "      <td>2017</td>\n",
       "    </tr>\n",
       "    <tr>\n",
       "      <th>5672</th>\n",
       "      <td>Селфи</td>\n",
       "      <td>111012117</td>\n",
       "      <td>2018-02-01 12:00:00</td>\n",
       "      <td>Художественный</td>\n",
       "      <td>ООО \"Киностудия \"Слово\", ООО \"Арт Пикчерс Студия\"</td>\n",
       "      <td>Россия</td>\n",
       "      <td>Н.Хомерики</td>\n",
       "      <td>П.Ануров, Ф.Бондарчук, Д.Рудовский</td>\n",
       "      <td>«16+» - для детей старше 16 лет</td>\n",
       "      <td>20,000,000.00</td>\n",
       "      <td>40,000,000.00</td>\n",
       "      <td>0.00</td>\n",
       "      <td>Фонд кино</td>\n",
       "      <td>5.80</td>\n",
       "      <td>триллер,драма</td>\n",
       "      <td>225,196,400.03</td>\n",
       "      <td>2018</td>\n",
       "    </tr>\n",
       "    <tr>\n",
       "      <th>5805</th>\n",
       "      <td>Два хвоста</td>\n",
       "      <td>114001018</td>\n",
       "      <td>2018-05-31 12:00:00</td>\n",
       "      <td>Анимационный</td>\n",
       "      <td>ООО \"ЛИЦЕНЗИОННЫЕ БРЕНДЫ\"</td>\n",
       "      <td>Россия</td>\n",
       "      <td>В.Ровенский, Н.Лопато, В.Азеев</td>\n",
       "      <td>ООО \"ЛИЦЕНЗИОННЫЕ БРЕНДЫ\"</td>\n",
       "      <td>«6+» - для детей старше 6 лет</td>\n",
       "      <td>10,000,000.00</td>\n",
       "      <td>60,000,000.00</td>\n",
       "      <td>0.00</td>\n",
       "      <td>Фонд кино</td>\n",
       "      <td>5.00</td>\n",
       "      <td>мультфильм,детский</td>\n",
       "      <td>106,514,301.03</td>\n",
       "      <td>2018</td>\n",
       "    </tr>\n",
       "    <tr>\n",
       "      <th>6007</th>\n",
       "      <td>Принцесса и дракон</td>\n",
       "      <td>114003018</td>\n",
       "      <td>2018-08-23 12:00:00</td>\n",
       "      <td>Анимационный</td>\n",
       "      <td>ООО \"ЛИЦЕНЗИОННЫЕ БРЕНДЫ\"</td>\n",
       "      <td>Россия</td>\n",
       "      <td>М.Нефедова</td>\n",
       "      <td>ООО \"ЛИЦЕНЗИОННЫЕ БРЕНДЫ\"</td>\n",
       "      <td>«6+» - для детей старше 6 лет</td>\n",
       "      <td>40,000,000.00</td>\n",
       "      <td>40,000,000.00</td>\n",
       "      <td>0.00</td>\n",
       "      <td>Фонд кино</td>\n",
       "      <td>5.20</td>\n",
       "      <td>мультфильм,фэнтези,детский</td>\n",
       "      <td>83,366,328.66</td>\n",
       "      <td>2018</td>\n",
       "    </tr>\n",
       "    <tr>\n",
       "      <th>6322</th>\n",
       "      <td>Баба Яга</td>\n",
       "      <td>114006518</td>\n",
       "      <td>2018-11-08 12:00:00</td>\n",
       "      <td>Анимационный</td>\n",
       "      <td>ООО \"Арт Пикчерс Студия\"</td>\n",
       "      <td>Россия</td>\n",
       "      <td>В.Саков</td>\n",
       "      <td>ООО \"Арт Пикчерс Студия\", ООО \"КРИЭЙТИВ АНИМЭЙ...</td>\n",
       "      <td>«6+» - для детей старше 6 лет</td>\n",
       "      <td>0.00</td>\n",
       "      <td>138,969,465.00</td>\n",
       "      <td>0.00</td>\n",
       "      <td>Фонд кино</td>\n",
       "      <td>NaN</td>\n",
       "      <td>unknown</td>\n",
       "      <td>1,334,699.40</td>\n",
       "      <td>2018</td>\n",
       "    </tr>\n",
       "    <tr>\n",
       "      <th>6822</th>\n",
       "      <td>Большое путешествие</td>\n",
       "      <td>114002419</td>\n",
       "      <td>2019-04-20 12:00:00</td>\n",
       "      <td>Анимационный</td>\n",
       "      <td>ООО \"ЛИЦЕНЗИОННЫЕ БРЕНДЫ\"</td>\n",
       "      <td>Россия</td>\n",
       "      <td>Н.Лопато, В.Ровенский</td>\n",
       "      <td>ООО \"ЛИЦЕНЗИОННЫЕ БРЕНДЫ\"</td>\n",
       "      <td>«6+» - для детей старше 6 лет</td>\n",
       "      <td>60,000,000.00</td>\n",
       "      <td>120,000,000.00</td>\n",
       "      <td>0.00</td>\n",
       "      <td>Фонд кино</td>\n",
       "      <td>6.20</td>\n",
       "      <td>мультфильм,комедия,приключения</td>\n",
       "      <td>147,606,826.51</td>\n",
       "      <td>2019</td>\n",
       "    </tr>\n",
       "  </tbody>\n",
       "</table>\n",
       "</div>"
      ],
      "text/plain": [
       "                       title   puNumber     show_start_date            type  \\\n",
       "2052                     14+  111023614 2014-12-19 12:00:00  Художественный   \n",
       "2057               Дуxless 2  111000415 2015-01-26 12:00:00  Художественный   \n",
       "2471             Воин (2015)  111017315 2015-09-28 12:00:00  Художественный   \n",
       "2531                 Бармен.  111009615 2015-05-26 12:00:00  Художественный   \n",
       "2614     Савва. Сердце воина  114001715 2015-07-21 12:00:00    Анимационный   \n",
       "2683          Тряпичный союз  111010215 2015-06-08 12:00:00  Художественный   \n",
       "2787      Срочно выйду замуж  111017115 2015-09-30 12:00:00  Художественный   \n",
       "2873       Помню - не помню!  111004916 2016-03-01 12:00:00  Художественный   \n",
       "3046  Любовь с ограничениями  111008216 2016-04-29 12:00:00  Художественный   \n",
       "3564       Притяжение (2016)  111018116 2016-12-16 12:00:00  Художественный   \n",
       "3674                Чудо-юдо  114001817 2017-06-27 12:00:00    Анимационный   \n",
       "3738                    Мифы  111004317 2017-06-07 12:00:00  Художественный   \n",
       "5672                   Селфи  111012117 2018-02-01 12:00:00  Художественный   \n",
       "5805              Два хвоста  114001018 2018-05-31 12:00:00    Анимационный   \n",
       "6007      Принцесса и дракон  114003018 2018-08-23 12:00:00    Анимационный   \n",
       "6322                Баба Яга  114006518 2018-11-08 12:00:00    Анимационный   \n",
       "6822     Большое путешествие  114002419 2019-04-20 12:00:00    Анимационный   \n",
       "\n",
       "                                            film_studio production_country  \\\n",
       "2052                         ООО Киностудия  \"Сентябрь\"             Россия   \n",
       "2057  ООО \"Киностудия \"Слово\", ООО \"Арт Пикчерс Студия\"             Россия   \n",
       "2471   ООО \"Форпост Продакшн\", ООО \"Арт Пикчерс Студия\"             Россия   \n",
       "2531          АО \"ВайТ Медиа\", ООО \"Арт Пикчерс Студия\"             Россия   \n",
       "2614   ООО \"Глюкоза Продакшн\", ООО \"Арт Пикчерс Студия\"             Россия   \n",
       "2683                      ООО \"Кинокомпания \"КОКТЕБЕЛЬ\"             Россия   \n",
       "2787          АО \"ВайТ Медиа\", ООО \"Арт Пикчерс Студия\"             Россия   \n",
       "2873                                    ООО \"КиноФирма\"             Россия   \n",
       "3046          АО \"ВайТ Медиа\", ООО \"Арт Пикчерс Студия\"             Россия   \n",
       "3564      ООО \"Водород 2011\",  ООО \"Арт Пикчерс Студия\"             Россия   \n",
       "3674                                    ООО \"КиноФирма\"             Россия   \n",
       "3738           ООО \"ХАЙПФИЛМ\", ООО \"Арт Пикчерс Студия\"             Россия   \n",
       "5672  ООО \"Киностудия \"Слово\", ООО \"Арт Пикчерс Студия\"             Россия   \n",
       "5805                          ООО \"ЛИЦЕНЗИОННЫЕ БРЕНДЫ\"             Россия   \n",
       "6007                          ООО \"ЛИЦЕНЗИОННЫЕ БРЕНДЫ\"             Россия   \n",
       "6322                           ООО \"Арт Пикчерс Студия\"             Россия   \n",
       "6822                          ООО \"ЛИЦЕНЗИОННЫЕ БРЕНДЫ\"             Россия   \n",
       "\n",
       "                            director  \\\n",
       "2052                        А.Зайцев   \n",
       "2057                      Р.Прыгунов   \n",
       "2471                     А.Андрианов   \n",
       "2531                    Д.Штурманова   \n",
       "2614                        М.Фадеев   \n",
       "2683                     М.Местецкий   \n",
       "2787                       С Чекалов   \n",
       "2873                     В.Ровенский   \n",
       "3046                         Д.Тюрин   \n",
       "3564                     Ф.Бондарчук   \n",
       "3674                       А.Лукичев   \n",
       "3738                    А.Молочников   \n",
       "5672                      Н.Хомерики   \n",
       "5805  В.Ровенский, Н.Лопато, В.Азеев   \n",
       "6007                      М.Нефедова   \n",
       "6322                         В.Саков   \n",
       "6822           Н.Лопато, В.Ровенский   \n",
       "\n",
       "                                               producer  \\\n",
       "2052                                О.Гранина, А.Зайцев   \n",
       "2057                 П.Ануров, Ф.Бондарчук, Д.Рудовский   \n",
       "2471                           ООО \"Арт Пикчерс Студия\"   \n",
       "2531                                        Т.Вайнштейн   \n",
       "2614                                         А.Чистяков   \n",
       "2683                              Р.Борисевич, А.Кушаев   \n",
       "2787              Ф.Бондарчук, Т.Вайнштейн, Д.Рудовский   \n",
       "2873                                    ООО \"КиноФирма\"   \n",
       "3046              Ф.Бондарчук, Т.Вайнштейн, Д.Рудовский   \n",
       "3564                           ООО \"Арт Пикчерс Студия\"   \n",
       "3674                                    ООО \"КиноФирма\"   \n",
       "3738  Ф.Бондарчук, Д.Рудовский, И.Стюарт, М.Османн, ...   \n",
       "5672                 П.Ануров, Ф.Бондарчук, Д.Рудовский   \n",
       "5805                          ООО \"ЛИЦЕНЗИОННЫЕ БРЕНДЫ\"   \n",
       "6007                          ООО \"ЛИЦЕНЗИОННЫЕ БРЕНДЫ\"   \n",
       "6322  ООО \"Арт Пикчерс Студия\", ООО \"КРИЭЙТИВ АНИМЭЙ...   \n",
       "6822                          ООО \"ЛИЦЕНЗИОННЫЕ БРЕНДЫ\"   \n",
       "\n",
       "                      age_restriction  refundable_support  \\\n",
       "2052  «16+» - для детей старше 16 лет                0.00   \n",
       "2057  «16+» - для детей старше 16 лет                0.00   \n",
       "2471  «12+» - для детей старше 12 лет       10,000,000.00   \n",
       "2531  «16+» - для детей старше 16 лет       20,000,000.00   \n",
       "2614    «6+» - для детей старше 6 лет       60,000,000.00   \n",
       "2683      «18+» - запрещено для детей                0.00   \n",
       "2787  «16+» - для детей старше 16 лет                0.00   \n",
       "2873  «12+» - для детей старше 12 лет                0.00   \n",
       "3046  «16+» - для детей старше 16 лет       19,000,000.00   \n",
       "3564  «12+» - для детей старше 12 лет                0.00   \n",
       "3674    «6+» - для детей старше 6 лет       20,000,000.00   \n",
       "3738  «16+» - для детей старше 16 лет       25,000,000.00   \n",
       "5672  «16+» - для детей старше 16 лет       20,000,000.00   \n",
       "5805    «6+» - для детей старше 6 лет       10,000,000.00   \n",
       "6007    «6+» - для детей старше 6 лет       40,000,000.00   \n",
       "6322    «6+» - для детей старше 6 лет                0.00   \n",
       "6822    «6+» - для детей старше 6 лет       60,000,000.00   \n",
       "\n",
       "      nonrefundable_support  budget                  financing_source  \\\n",
       "2052          23,000,000.00    0.00  Министерство культуры, Фонд кино   \n",
       "2057          75,000,000.00    0.00                         Фонд кино   \n",
       "2471          70,000,000.00    0.00                         Фонд кино   \n",
       "2531                   0.00    0.00                         Фонд кино   \n",
       "2614         100,000,000.00    0.00                         Фонд кино   \n",
       "2683          59,000,000.00    0.00                         Фонд кино   \n",
       "2787          35,000,000.00    0.00                         Фонд кино   \n",
       "2873           6,000,000.00    0.00             Министерство культуры   \n",
       "3046          51,000,000.00    0.00                         Фонд кино   \n",
       "3564         250,000,000.00    0.00                         Фонд кино   \n",
       "3674          20,000,000.00    0.00                         Фонд кино   \n",
       "3738          20,000,000.00    0.00                         Фонд кино   \n",
       "5672          40,000,000.00    0.00                         Фонд кино   \n",
       "5805          60,000,000.00    0.00                         Фонд кино   \n",
       "6007          40,000,000.00    0.00                         Фонд кино   \n",
       "6322         138,969,465.00    0.00                         Фонд кино   \n",
       "6822         120,000,000.00    0.00                         Фонд кино   \n",
       "\n",
       "      ratings                          genres       box_office  year  \n",
       "2052     6.60                       мелодрама    10,234,016.10  2014  \n",
       "2057     6.60                           драма   446,163,511.00  2015  \n",
       "2471     7.80           боевик,драма,криминал   196,572,438.40  2015  \n",
       "2531     6.20                 комедия,фэнтези    67,418,974.80  2015  \n",
       "2614     4.60  мультфильм,приключения,фэнтези   184,487,551.40  2015  \n",
       "2683     6.30                   комедия,драма     1,957,738.51  2015  \n",
       "2787     5.10               комедия,мелодрама    72,937,783.20  2015  \n",
       "2873     4.30                         комедия    15,362,931.43  2016  \n",
       "3046     6.30               комедия,мелодрама    70,299,052.00  2016  \n",
       "3564     5.60                      фантастика 1,038,321,489.00  2016  \n",
       "3674     5.20     мультфильм,фэнтези,семейный    55,108,014.76  2017  \n",
       "3738     4.80                         комедия    50,451,949.00  2017  \n",
       "5672     5.80                   триллер,драма   225,196,400.03  2018  \n",
       "5805     5.00              мультфильм,детский   106,514,301.03  2018  \n",
       "6007     5.20      мультфильм,фэнтези,детский    83,366,328.66  2018  \n",
       "6322      NaN                         unknown     1,334,699.40  2018  \n",
       "6822     6.20  мультфильм,комедия,приключения   147,606,826.51  2019  "
      ]
     },
     "execution_count": 245,
     "metadata": {},
     "output_type": "execute_result"
    }
   ],
   "source": [
    "data.query('budget < (refundable_support + nonrefundable_support)')\n"
   ]
  },
  {
   "cell_type": "code",
   "execution_count": 246,
   "metadata": {},
   "outputs": [
    {
     "data": {
      "text/html": [
       "<div>\n",
       "<style scoped>\n",
       "    .dataframe tbody tr th:only-of-type {\n",
       "        vertical-align: middle;\n",
       "    }\n",
       "\n",
       "    .dataframe tbody tr th {\n",
       "        vertical-align: top;\n",
       "    }\n",
       "\n",
       "    .dataframe thead th {\n",
       "        text-align: right;\n",
       "    }\n",
       "</style>\n",
       "<table border=\"1\" class=\"dataframe\">\n",
       "  <thead>\n",
       "    <tr style=\"text-align: right;\">\n",
       "      <th></th>\n",
       "      <th>title</th>\n",
       "      <th>puNumber</th>\n",
       "      <th>show_start_date</th>\n",
       "      <th>type</th>\n",
       "      <th>film_studio</th>\n",
       "      <th>production_country</th>\n",
       "      <th>director</th>\n",
       "      <th>producer</th>\n",
       "      <th>age_restriction</th>\n",
       "      <th>refundable_support</th>\n",
       "      <th>nonrefundable_support</th>\n",
       "      <th>budget</th>\n",
       "      <th>financing_source</th>\n",
       "      <th>ratings</th>\n",
       "      <th>genres</th>\n",
       "      <th>box_office</th>\n",
       "      <th>year</th>\n",
       "    </tr>\n",
       "  </thead>\n",
       "  <tbody>\n",
       "  </tbody>\n",
       "</table>\n",
       "</div>"
      ],
      "text/plain": [
       "Empty DataFrame\n",
       "Columns: [title, puNumber, show_start_date, type, film_studio, production_country, director, producer, age_restriction, refundable_support, nonrefundable_support, budget, financing_source, ratings, genres, box_office, year]\n",
       "Index: []"
      ]
     },
     "execution_count": 246,
     "metadata": {},
     "output_type": "execute_result"
    }
   ],
   "source": [
    "data.loc[data['budget']< (data['refundable_support'] + data['nonrefundable_support']), 'budget'] = (data['refundable_support'] + data['nonrefundable_support'])\n",
    "data.query('budget < (refundable_support + nonrefundable_support) ')"
   ]
  },
  {
   "cell_type": "markdown",
   "metadata": {},
   "source": [
    "В данном датасете бюджет включает в себя средства гос поддержки, значит бюджет не может быть меньше суммы средств гос финансирования."
   ]
  },
  {
   "cell_type": "code",
   "execution_count": 247,
   "metadata": {},
   "outputs": [
    {
     "data": {
      "text/plain": [
       "count         7,097.00\n",
       "mean        555,023.25\n",
       "std       5,936,104.70\n",
       "min               0.00\n",
       "25%               0.00\n",
       "50%               0.00\n",
       "75%               0.00\n",
       "max     180,000,000.00\n",
       "Name: refundable_support, dtype: float64"
      ]
     },
     "execution_count": 247,
     "metadata": {},
     "output_type": "execute_result"
    }
   ],
   "source": [
    "data['refundable_support'].describe()"
   ]
  },
  {
   "cell_type": "code",
   "execution_count": 248,
   "metadata": {},
   "outputs": [
    {
     "data": {
      "text/plain": [
       "array([7.2, 6.6, 6.8, 7.7, 8.3, 8. , 7.8, 8.1, 7.1, 6. , 7.4, 5.8, 8.7,\n",
       "       6.3, 6.9, 5. , 4.3, 7.3, 7. , 6.4, nan, 8.2, 7.5, 6.7, 7.9, 5.9,\n",
       "       6.2, 5.6, 6.5, 2.4, 7.6, 6.1, 8.6, 8.5, 8.8, 5.5, 5.1, 5.7, 5.4,\n",
       "       4.4, 4.5, 5.3, 4.1, 8.4, 2.6, 3.8, 4.6, 4.8, 4. , 3. , 1.6, 4.2,\n",
       "       5.2, 4.7, 4.9, 3.9, 2.7, 3.3, 2.9, 3.7, 1.4, 3.1, 3.5, 3.2, 2.8,\n",
       "       1.5, 2.1, 2.5, 9.2, 3.4, 1.1, 3.6, 1. , 1.3, 1.9, 1.8, 1.2, 1.7,\n",
       "       9. , 8.9, 9.1])"
      ]
     },
     "execution_count": 248,
     "metadata": {},
     "output_type": "execute_result"
    }
   ],
   "source": [
    "data['ratings'].unique()"
   ]
  },
  {
   "cell_type": "code",
   "execution_count": 249,
   "metadata": {},
   "outputs": [
    {
     "data": {
      "text/plain": [
       "count   6,108.00\n",
       "mean        6.47\n",
       "std         1.11\n",
       "min         1.00\n",
       "25%         5.90\n",
       "50%         6.60\n",
       "75%         7.20\n",
       "max         9.20\n",
       "Name: ratings, dtype: float64"
      ]
     },
     "execution_count": 249,
     "metadata": {},
     "output_type": "execute_result"
    }
   ],
   "source": [
    "data['ratings'].describe()"
   ]
  },
  {
   "cell_type": "code",
   "execution_count": 250,
   "metadata": {},
   "outputs": [
    {
     "data": {
      "text/plain": [
       "count           3,089.00\n",
       "mean       75,181,676.09\n",
       "std       237,509,239.13\n",
       "min                 0.00\n",
       "25%            95,650.00\n",
       "50%         2,351,960.00\n",
       "75%        23,463,406.90\n",
       "max     3,073,568,690.79\n",
       "Name: box_office, dtype: float64"
      ]
     },
     "execution_count": 250,
     "metadata": {},
     "output_type": "execute_result"
    }
   ],
   "source": [
    "data['box_office'].describe()"
   ]
  },
  {
   "cell_type": "code",
   "execution_count": 251,
   "metadata": {
    "scrolled": false
   },
   "outputs": [
    {
     "data": {
      "image/png": "[encoded data removed]",
      "text/plain": [
       "<Figure size 1080x360 with 1 Axes>"
      ]
     },
     "metadata": {
      "needs_background": "light"
     },
     "output_type": "display_data"
    }
   ],
   "source": [
    "data['box_office'].hist(figsize=(15,5),  bins=400)\n",
    "plt.xlabel('Кассовые сборы, млн. руб.')\n",
    "plt.ylabel('Количество фильмов')\n",
    "plt.title('Распределение количества фильмов по кассовым сборам')\n",
    "plt.show();"
   ]
  },
  {
   "cell_type": "markdown",
   "metadata": {},
   "source": [
    "\n",
    "В сборах много нулевых, или близких к нулю значений, при этом есть выбивающиеся фильмы, собравшие 3 млрд. руб.    \n",
    "    \n"
   ]
  },
  {
   "cell_type": "code",
   "execution_count": 252,
   "metadata": {},
   "outputs": [
    {
     "data": {
      "image/png": "[encoded data removed]",
      "text/plain": [
       "<Figure size 1080x360 with 1 Axes>"
      ]
     },
     "metadata": {
      "needs_background": "light"
     },
     "output_type": "display_data"
    }
   ],
   "source": [
    "data['box_office'].hist(figsize=(15,5), range=(95650,23463406), bins=300)\n",
    "plt.xlabel('Кассовые сборы, млн. руб.')\n",
    "plt.ylabel('Количество фильмов')\n",
    "plt.title('Распределение количества фильмов по кассовым сборам с первого по третий квантили')\n",
    "plt.show();\n"
   ]
  },
  {
   "cell_type": "markdown",
   "metadata": {},
   "source": [
    "\n",
    "Гистограмма кассовых сборов с первого по третий квантили, большая часть значений находится до 2 млн. рублей.\n",
    "    \n"
   ]
  },
  {
   "cell_type": "markdown",
   "metadata": {
    "id": "Eu6oWp2CgFyS"
   },
   "source": [
    "#### Шаг 2.6. Создание новых столбцов\n",
    "\n",
    "\n",
    "\n"
   ]
  },
  {
   "cell_type": "code",
   "execution_count": 253,
   "metadata": {},
   "outputs": [
    {
     "data": {
      "text/html": [
       "<div>\n",
       "<style scoped>\n",
       "    .dataframe tbody tr th:only-of-type {\n",
       "        vertical-align: middle;\n",
       "    }\n",
       "\n",
       "    .dataframe tbody tr th {\n",
       "        vertical-align: top;\n",
       "    }\n",
       "\n",
       "    .dataframe thead th {\n",
       "        text-align: right;\n",
       "    }\n",
       "</style>\n",
       "<table border=\"1\" class=\"dataframe\">\n",
       "  <thead>\n",
       "    <tr style=\"text-align: right;\">\n",
       "      <th></th>\n",
       "      <th>title</th>\n",
       "      <th>pu_number</th>\n",
       "      <th>show_start_date</th>\n",
       "      <th>type</th>\n",
       "      <th>film_studio</th>\n",
       "      <th>production_country</th>\n",
       "      <th>director</th>\n",
       "      <th>producer</th>\n",
       "      <th>age_restriction</th>\n",
       "      <th>refundable_support</th>\n",
       "      <th>nonrefundable_support</th>\n",
       "      <th>budget</th>\n",
       "      <th>financing_source</th>\n",
       "      <th>ratings</th>\n",
       "      <th>genres</th>\n",
       "      <th>box_office</th>\n",
       "      <th>year</th>\n",
       "    </tr>\n",
       "  </thead>\n",
       "  <tbody>\n",
       "    <tr>\n",
       "      <th>0</th>\n",
       "      <td>Открытый простор</td>\n",
       "      <td>221048915</td>\n",
       "      <td>2015-11-27 12:00:00</td>\n",
       "      <td>Художественный</td>\n",
       "      <td>Тачстоун Пикчерз, Кобальт Пикчерз, Бикон Пикче...</td>\n",
       "      <td>США</td>\n",
       "      <td>Кевин Костнер</td>\n",
       "      <td>Дэвид Валдес, Кевин Костнер, Джейк Эбертс</td>\n",
       "      <td>«18+» - запрещено для детей</td>\n",
       "      <td>0.00</td>\n",
       "      <td>0.00</td>\n",
       "      <td>0.00</td>\n",
       "      <td>0</td>\n",
       "      <td>7.20</td>\n",
       "      <td>боевик,драма,мелодрама</td>\n",
       "      <td>NaN</td>\n",
       "      <td>2015</td>\n",
       "    </tr>\n",
       "    <tr>\n",
       "      <th>1</th>\n",
       "      <td>Особо важное задание</td>\n",
       "      <td>111013716</td>\n",
       "      <td>2016-09-13 12:00:00</td>\n",
       "      <td>Художественный</td>\n",
       "      <td>Киностудия \"Мосфильм\"</td>\n",
       "      <td>СССР</td>\n",
       "      <td>Е.Матвеев</td>\n",
       "      <td>unknown</td>\n",
       "      <td>«6+» - для детей старше 6 лет</td>\n",
       "      <td>0.00</td>\n",
       "      <td>0.00</td>\n",
       "      <td>0.00</td>\n",
       "      <td>0</td>\n",
       "      <td>6.60</td>\n",
       "      <td>драма,военный</td>\n",
       "      <td>NaN</td>\n",
       "      <td>2016</td>\n",
       "    </tr>\n",
       "    <tr>\n",
       "      <th>2</th>\n",
       "      <td>Особо опасен</td>\n",
       "      <td>221038416</td>\n",
       "      <td>2016-10-10 12:00:00</td>\n",
       "      <td>Художественный</td>\n",
       "      <td>Юниверсал Пикчерз, Кикстарт Продакшнз, Марк Пл...</td>\n",
       "      <td>США</td>\n",
       "      <td>Тимур Бекмамбетов</td>\n",
       "      <td>Джим Лемли, Джейсон Нетер, Марк Е.Платт, Яйн Смит</td>\n",
       "      <td>«18+» - запрещено для детей</td>\n",
       "      <td>0.00</td>\n",
       "      <td>0.00</td>\n",
       "      <td>0.00</td>\n",
       "      <td>0</td>\n",
       "      <td>6.80</td>\n",
       "      <td>фантастика,боевик,триллер</td>\n",
       "      <td>NaN</td>\n",
       "      <td>2016</td>\n",
       "    </tr>\n",
       "    <tr>\n",
       "      <th>4</th>\n",
       "      <td>Особо опасен</td>\n",
       "      <td>221030815</td>\n",
       "      <td>2015-07-29 12:00:00</td>\n",
       "      <td>Художественный</td>\n",
       "      <td>Юниверсал Пикчерз, Кикстарт Продакшнз, Марк Пл...</td>\n",
       "      <td>США</td>\n",
       "      <td>Тимур Бекмамбетов</td>\n",
       "      <td>Джим Лемли, Джейсон Нетер, Марк Е.Платт, Яйн Смит</td>\n",
       "      <td>«18+» - запрещено для детей</td>\n",
       "      <td>0.00</td>\n",
       "      <td>0.00</td>\n",
       "      <td>0.00</td>\n",
       "      <td>0</td>\n",
       "      <td>6.80</td>\n",
       "      <td>фантастика,боевик,триллер</td>\n",
       "      <td>NaN</td>\n",
       "      <td>2015</td>\n",
       "    </tr>\n",
       "    <tr>\n",
       "      <th>5</th>\n",
       "      <td>Остановился поезд</td>\n",
       "      <td>111013816</td>\n",
       "      <td>2016-09-13 12:00:00</td>\n",
       "      <td>Художественный</td>\n",
       "      <td>Киностудия \"Мосфильм\"</td>\n",
       "      <td>СССР</td>\n",
       "      <td>В.Абдрашитов</td>\n",
       "      <td>unknown</td>\n",
       "      <td>«6+» - для детей старше 6 лет</td>\n",
       "      <td>0.00</td>\n",
       "      <td>0.00</td>\n",
       "      <td>0.00</td>\n",
       "      <td>0</td>\n",
       "      <td>7.70</td>\n",
       "      <td>драма</td>\n",
       "      <td>NaN</td>\n",
       "      <td>2016</td>\n",
       "    </tr>\n",
       "  </tbody>\n",
       "</table>\n",
       "</div>"
      ],
      "text/plain": [
       "                  title  pu_number     show_start_date            type  \\\n",
       "0      Открытый простор  221048915 2015-11-27 12:00:00  Художественный   \n",
       "1  Особо важное задание  111013716 2016-09-13 12:00:00  Художественный   \n",
       "2          Особо опасен  221038416 2016-10-10 12:00:00  Художественный   \n",
       "4          Особо опасен  221030815 2015-07-29 12:00:00  Художественный   \n",
       "5     Остановился поезд  111013816 2016-09-13 12:00:00  Художественный   \n",
       "\n",
       "                                         film_studio production_country  \\\n",
       "0  Тачстоун Пикчерз, Кобальт Пикчерз, Бикон Пикче...                США   \n",
       "1                              Киностудия \"Мосфильм\"               СССР   \n",
       "2  Юниверсал Пикчерз, Кикстарт Продакшнз, Марк Пл...                США   \n",
       "4  Юниверсал Пикчерз, Кикстарт Продакшнз, Марк Пл...                США   \n",
       "5                              Киностудия \"Мосфильм\"               СССР   \n",
       "\n",
       "            director                                           producer  \\\n",
       "0      Кевин Костнер          Дэвид Валдес, Кевин Костнер, Джейк Эбертс   \n",
       "1          Е.Матвеев                                            unknown   \n",
       "2  Тимур Бекмамбетов  Джим Лемли, Джейсон Нетер, Марк Е.Платт, Яйн Смит   \n",
       "4  Тимур Бекмамбетов  Джим Лемли, Джейсон Нетер, Марк Е.Платт, Яйн Смит   \n",
       "5       В.Абдрашитов                                            unknown   \n",
       "\n",
       "                 age_restriction  refundable_support  nonrefundable_support  \\\n",
       "0    «18+» - запрещено для детей                0.00                   0.00   \n",
       "1  «6+» - для детей старше 6 лет                0.00                   0.00   \n",
       "2    «18+» - запрещено для детей                0.00                   0.00   \n",
       "4    «18+» - запрещено для детей                0.00                   0.00   \n",
       "5  «6+» - для детей старше 6 лет                0.00                   0.00   \n",
       "\n",
       "   budget financing_source  ratings                     genres  box_office  \\\n",
       "0    0.00                0     7.20     боевик,драма,мелодрама         NaN   \n",
       "1    0.00                0     6.60              драма,военный         NaN   \n",
       "2    0.00                0     6.80  фантастика,боевик,триллер         NaN   \n",
       "4    0.00                0     6.80  фантастика,боевик,триллер         NaN   \n",
       "5    0.00                0     7.70                      драма         NaN   \n",
       "\n",
       "   year  \n",
       "0  2015  \n",
       "1  2016  \n",
       "2  2016  \n",
       "4  2015  \n",
       "5  2016  "
      ]
     },
     "execution_count": 253,
     "metadata": {},
     "output_type": "execute_result"
    }
   ],
   "source": [
    "data.rename(columns = {'puNumber':'pu_number'}, inplace=True)\n",
    "data.head()"
   ]
  },
  {
   "cell_type": "code",
   "execution_count": 254,
   "metadata": {
    "id": "LSbRZKbMgFyU"
   },
   "outputs": [],
   "source": [
    "#функция возвращает первое значение среди режисеров\n",
    "def main_director(row):\n",
    "    director = row.split(',')\n",
    "    return director[0]\n",
    " \n",
    "data['main_director'] = data['director'].apply(main_director)"
   ]
  },
  {
   "cell_type": "code",
   "execution_count": 255,
   "metadata": {},
   "outputs": [],
   "source": [
    "#функция возвращает первое значение в жанре\n",
    "def main_genre(row):\n",
    "    genre = row.split(',')\n",
    "    return genre[0]\n",
    " \n",
    "data['main_genre'] = data['genres'].apply(main_genre)"
   ]
  },
  {
   "cell_type": "code",
   "execution_count": 256,
   "metadata": {},
   "outputs": [
    {
     "data": {
      "text/html": [
       "<div>\n",
       "<style scoped>\n",
       "    .dataframe tbody tr th:only-of-type {\n",
       "        vertical-align: middle;\n",
       "    }\n",
       "\n",
       "    .dataframe tbody tr th {\n",
       "        vertical-align: top;\n",
       "    }\n",
       "\n",
       "    .dataframe thead th {\n",
       "        text-align: right;\n",
       "    }\n",
       "</style>\n",
       "<table border=\"1\" class=\"dataframe\">\n",
       "  <thead>\n",
       "    <tr style=\"text-align: right;\">\n",
       "      <th></th>\n",
       "      <th>title</th>\n",
       "      <th>pu_number</th>\n",
       "      <th>show_start_date</th>\n",
       "      <th>type</th>\n",
       "      <th>film_studio</th>\n",
       "      <th>production_country</th>\n",
       "      <th>director</th>\n",
       "      <th>producer</th>\n",
       "      <th>age_restriction</th>\n",
       "      <th>refundable_support</th>\n",
       "      <th>nonrefundable_support</th>\n",
       "      <th>budget</th>\n",
       "      <th>financing_source</th>\n",
       "      <th>ratings</th>\n",
       "      <th>genres</th>\n",
       "      <th>box_office</th>\n",
       "      <th>year</th>\n",
       "      <th>main_director</th>\n",
       "      <th>main_genre</th>\n",
       "    </tr>\n",
       "  </thead>\n",
       "  <tbody>\n",
       "    <tr>\n",
       "      <th>0</th>\n",
       "      <td>Открытый простор</td>\n",
       "      <td>221048915</td>\n",
       "      <td>2015-11-27 12:00:00</td>\n",
       "      <td>Художественный</td>\n",
       "      <td>Тачстоун Пикчерз, Кобальт Пикчерз, Бикон Пикче...</td>\n",
       "      <td>США</td>\n",
       "      <td>Кевин Костнер</td>\n",
       "      <td>Дэвид Валдес, Кевин Костнер, Джейк Эбертс</td>\n",
       "      <td>«18+» - запрещено для детей</td>\n",
       "      <td>0.00</td>\n",
       "      <td>0.00</td>\n",
       "      <td>0.00</td>\n",
       "      <td>0</td>\n",
       "      <td>7.20</td>\n",
       "      <td>боевик,драма,мелодрама</td>\n",
       "      <td>NaN</td>\n",
       "      <td>2015</td>\n",
       "      <td>Кевин Костнер</td>\n",
       "      <td>боевик</td>\n",
       "    </tr>\n",
       "    <tr>\n",
       "      <th>1</th>\n",
       "      <td>Особо важное задание</td>\n",
       "      <td>111013716</td>\n",
       "      <td>2016-09-13 12:00:00</td>\n",
       "      <td>Художественный</td>\n",
       "      <td>Киностудия \"Мосфильм\"</td>\n",
       "      <td>СССР</td>\n",
       "      <td>Е.Матвеев</td>\n",
       "      <td>unknown</td>\n",
       "      <td>«6+» - для детей старше 6 лет</td>\n",
       "      <td>0.00</td>\n",
       "      <td>0.00</td>\n",
       "      <td>0.00</td>\n",
       "      <td>0</td>\n",
       "      <td>6.60</td>\n",
       "      <td>драма,военный</td>\n",
       "      <td>NaN</td>\n",
       "      <td>2016</td>\n",
       "      <td>Е.Матвеев</td>\n",
       "      <td>драма</td>\n",
       "    </tr>\n",
       "    <tr>\n",
       "      <th>2</th>\n",
       "      <td>Особо опасен</td>\n",
       "      <td>221038416</td>\n",
       "      <td>2016-10-10 12:00:00</td>\n",
       "      <td>Художественный</td>\n",
       "      <td>Юниверсал Пикчерз, Кикстарт Продакшнз, Марк Пл...</td>\n",
       "      <td>США</td>\n",
       "      <td>Тимур Бекмамбетов</td>\n",
       "      <td>Джим Лемли, Джейсон Нетер, Марк Е.Платт, Яйн Смит</td>\n",
       "      <td>«18+» - запрещено для детей</td>\n",
       "      <td>0.00</td>\n",
       "      <td>0.00</td>\n",
       "      <td>0.00</td>\n",
       "      <td>0</td>\n",
       "      <td>6.80</td>\n",
       "      <td>фантастика,боевик,триллер</td>\n",
       "      <td>NaN</td>\n",
       "      <td>2016</td>\n",
       "      <td>Тимур Бекмамбетов</td>\n",
       "      <td>фантастика</td>\n",
       "    </tr>\n",
       "    <tr>\n",
       "      <th>4</th>\n",
       "      <td>Особо опасен</td>\n",
       "      <td>221030815</td>\n",
       "      <td>2015-07-29 12:00:00</td>\n",
       "      <td>Художественный</td>\n",
       "      <td>Юниверсал Пикчерз, Кикстарт Продакшнз, Марк Пл...</td>\n",
       "      <td>США</td>\n",
       "      <td>Тимур Бекмамбетов</td>\n",
       "      <td>Джим Лемли, Джейсон Нетер, Марк Е.Платт, Яйн Смит</td>\n",
       "      <td>«18+» - запрещено для детей</td>\n",
       "      <td>0.00</td>\n",
       "      <td>0.00</td>\n",
       "      <td>0.00</td>\n",
       "      <td>0</td>\n",
       "      <td>6.80</td>\n",
       "      <td>фантастика,боевик,триллер</td>\n",
       "      <td>NaN</td>\n",
       "      <td>2015</td>\n",
       "      <td>Тимур Бекмамбетов</td>\n",
       "      <td>фантастика</td>\n",
       "    </tr>\n",
       "    <tr>\n",
       "      <th>5</th>\n",
       "      <td>Остановился поезд</td>\n",
       "      <td>111013816</td>\n",
       "      <td>2016-09-13 12:00:00</td>\n",
       "      <td>Художественный</td>\n",
       "      <td>Киностудия \"Мосфильм\"</td>\n",
       "      <td>СССР</td>\n",
       "      <td>В.Абдрашитов</td>\n",
       "      <td>unknown</td>\n",
       "      <td>«6+» - для детей старше 6 лет</td>\n",
       "      <td>0.00</td>\n",
       "      <td>0.00</td>\n",
       "      <td>0.00</td>\n",
       "      <td>0</td>\n",
       "      <td>7.70</td>\n",
       "      <td>драма</td>\n",
       "      <td>NaN</td>\n",
       "      <td>2016</td>\n",
       "      <td>В.Абдрашитов</td>\n",
       "      <td>драма</td>\n",
       "    </tr>\n",
       "  </tbody>\n",
       "</table>\n",
       "</div>"
      ],
      "text/plain": [
       "                  title  pu_number     show_start_date            type  \\\n",
       "0      Открытый простор  221048915 2015-11-27 12:00:00  Художественный   \n",
       "1  Особо важное задание  111013716 2016-09-13 12:00:00  Художественный   \n",
       "2          Особо опасен  221038416 2016-10-10 12:00:00  Художественный   \n",
       "4          Особо опасен  221030815 2015-07-29 12:00:00  Художественный   \n",
       "5     Остановился поезд  111013816 2016-09-13 12:00:00  Художественный   \n",
       "\n",
       "                                         film_studio production_country  \\\n",
       "0  Тачстоун Пикчерз, Кобальт Пикчерз, Бикон Пикче...                США   \n",
       "1                              Киностудия \"Мосфильм\"               СССР   \n",
       "2  Юниверсал Пикчерз, Кикстарт Продакшнз, Марк Пл...                США   \n",
       "4  Юниверсал Пикчерз, Кикстарт Продакшнз, Марк Пл...                США   \n",
       "5                              Киностудия \"Мосфильм\"               СССР   \n",
       "\n",
       "            director                                           producer  \\\n",
       "0      Кевин Костнер          Дэвид Валдес, Кевин Костнер, Джейк Эбертс   \n",
       "1          Е.Матвеев                                            unknown   \n",
       "2  Тимур Бекмамбетов  Джим Лемли, Джейсон Нетер, Марк Е.Платт, Яйн Смит   \n",
       "4  Тимур Бекмамбетов  Джим Лемли, Джейсон Нетер, Марк Е.Платт, Яйн Смит   \n",
       "5       В.Абдрашитов                                            unknown   \n",
       "\n",
       "                 age_restriction  refundable_support  nonrefundable_support  \\\n",
       "0    «18+» - запрещено для детей                0.00                   0.00   \n",
       "1  «6+» - для детей старше 6 лет                0.00                   0.00   \n",
       "2    «18+» - запрещено для детей                0.00                   0.00   \n",
       "4    «18+» - запрещено для детей                0.00                   0.00   \n",
       "5  «6+» - для детей старше 6 лет                0.00                   0.00   \n",
       "\n",
       "   budget financing_source  ratings                     genres  box_office  \\\n",
       "0    0.00                0     7.20     боевик,драма,мелодрама         NaN   \n",
       "1    0.00                0     6.60              драма,военный         NaN   \n",
       "2    0.00                0     6.80  фантастика,боевик,триллер         NaN   \n",
       "4    0.00                0     6.80  фантастика,боевик,триллер         NaN   \n",
       "5    0.00                0     7.70                      драма         NaN   \n",
       "\n",
       "   year      main_director  main_genre  \n",
       "0  2015      Кевин Костнер      боевик  \n",
       "1  2016          Е.Матвеев       драма  \n",
       "2  2016  Тимур Бекмамбетов  фантастика  \n",
       "4  2015  Тимур Бекмамбетов  фантастика  \n",
       "5  2016       В.Абдрашитов       драма  "
      ]
     },
     "execution_count": 256,
     "metadata": {},
     "output_type": "execute_result"
    }
   ],
   "source": [
    "data.head()"
   ]
  },
  {
   "cell_type": "code",
   "execution_count": 257,
   "metadata": {
    "id": "LV6qFuZLgFyV"
   },
   "outputs": [
    {
     "data": {
      "text/html": [
       "<div>\n",
       "<style scoped>\n",
       "    .dataframe tbody tr th:only-of-type {\n",
       "        vertical-align: middle;\n",
       "    }\n",
       "\n",
       "    .dataframe tbody tr th {\n",
       "        vertical-align: top;\n",
       "    }\n",
       "\n",
       "    .dataframe thead th {\n",
       "        text-align: right;\n",
       "    }\n",
       "</style>\n",
       "<table border=\"1\" class=\"dataframe\">\n",
       "  <thead>\n",
       "    <tr style=\"text-align: right;\">\n",
       "      <th></th>\n",
       "      <th>title</th>\n",
       "      <th>pu_number</th>\n",
       "      <th>show_start_date</th>\n",
       "      <th>type</th>\n",
       "      <th>film_studio</th>\n",
       "      <th>production_country</th>\n",
       "      <th>director</th>\n",
       "      <th>producer</th>\n",
       "      <th>age_restriction</th>\n",
       "      <th>refundable_support</th>\n",
       "      <th>nonrefundable_support</th>\n",
       "      <th>budget</th>\n",
       "      <th>financing_source</th>\n",
       "      <th>ratings</th>\n",
       "      <th>genres</th>\n",
       "      <th>box_office</th>\n",
       "      <th>year</th>\n",
       "      <th>main_director</th>\n",
       "      <th>main_genre</th>\n",
       "      <th>proportion</th>\n",
       "    </tr>\n",
       "  </thead>\n",
       "  <tbody>\n",
       "    <tr>\n",
       "      <th>1281</th>\n",
       "      <td>Пока еще жива</td>\n",
       "      <td>111005313</td>\n",
       "      <td>2013-10-11 12:00:00</td>\n",
       "      <td>Художественный</td>\n",
       "      <td>АНО содействия развитию кинематографии \"Ангел-...</td>\n",
       "      <td>Россия</td>\n",
       "      <td>А.Атанесян</td>\n",
       "      <td>А.Атанесян, М.Бабаханов, Р.Бутко</td>\n",
       "      <td>«16+» - для детей старше 16 лет</td>\n",
       "      <td>0.00</td>\n",
       "      <td>26,500,000.00</td>\n",
       "      <td>79,411,900.00</td>\n",
       "      <td>Министерство культуры</td>\n",
       "      <td>8.10</td>\n",
       "      <td>драма,мелодрама</td>\n",
       "      <td>365,353.60</td>\n",
       "      <td>2013</td>\n",
       "      <td>А.Атанесян</td>\n",
       "      <td>драма</td>\n",
       "      <td>0.33</td>\n",
       "    </tr>\n",
       "    <tr>\n",
       "      <th>1448</th>\n",
       "      <td>Бесславные придурки</td>\n",
       "      <td>111003314</td>\n",
       "      <td>2014-03-28 12:00:00</td>\n",
       "      <td>Художественный</td>\n",
       "      <td>ООО \"Компания \"АТК-Студио\"</td>\n",
       "      <td>Россия</td>\n",
       "      <td>А.Якимчук</td>\n",
       "      <td>А.Тютрюмов</td>\n",
       "      <td>«12+» - для детей старше 12 лет</td>\n",
       "      <td>0.00</td>\n",
       "      <td>26,000,000.00</td>\n",
       "      <td>37,142,857.00</td>\n",
       "      <td>Министерство культуры</td>\n",
       "      <td>NaN</td>\n",
       "      <td>unknown</td>\n",
       "      <td>28,140.00</td>\n",
       "      <td>2014</td>\n",
       "      <td>А.Якимчук</td>\n",
       "      <td>unknown</td>\n",
       "      <td>0.70</td>\n",
       "    </tr>\n",
       "    <tr>\n",
       "      <th>1498</th>\n",
       "      <td>Невидимки</td>\n",
       "      <td>111004213</td>\n",
       "      <td>2013-09-10 12:00:00</td>\n",
       "      <td>Художественный</td>\n",
       "      <td>ООО \"Компания \"РЕАЛ-ДАКОТА\"</td>\n",
       "      <td>Россия</td>\n",
       "      <td>Р.Давлетьяров, С.Комаров</td>\n",
       "      <td>Р.Давлетьяров, А.Котелевский, А.Олейников</td>\n",
       "      <td>«12+» - для детей старше 12 лет</td>\n",
       "      <td>0.00</td>\n",
       "      <td>107,847,945.00</td>\n",
       "      <td>176,023,490.00</td>\n",
       "      <td>Фонд кино</td>\n",
       "      <td>5.30</td>\n",
       "      <td>комедия,фантастика</td>\n",
       "      <td>19,957,031.50</td>\n",
       "      <td>2013</td>\n",
       "      <td>Р.Давлетьяров</td>\n",
       "      <td>комедия</td>\n",
       "      <td>0.61</td>\n",
       "    </tr>\n",
       "    <tr>\n",
       "      <th>1524</th>\n",
       "      <td>БЕРЦЫ</td>\n",
       "      <td>111004314</td>\n",
       "      <td>2014-05-05 12:00:00</td>\n",
       "      <td>Художественный</td>\n",
       "      <td>ООО \"Студия \"Пассажир\"</td>\n",
       "      <td>Россия</td>\n",
       "      <td>Е.Миндадзе (псевдоним Катя Шагалова)</td>\n",
       "      <td>Л.Антонова</td>\n",
       "      <td>«16+» - для детей старше 16 лет</td>\n",
       "      <td>0.00</td>\n",
       "      <td>28,000,000.00</td>\n",
       "      <td>40,574,140.00</td>\n",
       "      <td>Министерство культуры</td>\n",
       "      <td>4.20</td>\n",
       "      <td>драма</td>\n",
       "      <td>55,917.50</td>\n",
       "      <td>2014</td>\n",
       "      <td>Е.Миндадзе (псевдоним Катя Шагалова)</td>\n",
       "      <td>драма</td>\n",
       "      <td>0.69</td>\n",
       "    </tr>\n",
       "    <tr>\n",
       "      <th>1792</th>\n",
       "      <td>Братья Ч</td>\n",
       "      <td>111004414</td>\n",
       "      <td>2014-04-23 12:00:00</td>\n",
       "      <td>Художественный</td>\n",
       "      <td>ООО \"Студия \"Пассажир\"</td>\n",
       "      <td>Россия</td>\n",
       "      <td>М.Угаров</td>\n",
       "      <td>А.Миндадзе, Л.Антонова</td>\n",
       "      <td>«16+» - для детей старше 16 лет</td>\n",
       "      <td>0.00</td>\n",
       "      <td>25,000,000.00</td>\n",
       "      <td>40,015,122.00</td>\n",
       "      <td>Министерство культуры</td>\n",
       "      <td>6.40</td>\n",
       "      <td>драма</td>\n",
       "      <td>232,100.00</td>\n",
       "      <td>2014</td>\n",
       "      <td>М.Угаров</td>\n",
       "      <td>драма</td>\n",
       "      <td>0.62</td>\n",
       "    </tr>\n",
       "  </tbody>\n",
       "</table>\n",
       "</div>"
      ],
      "text/plain": [
       "                    title  pu_number     show_start_date            type  \\\n",
       "1281        Пока еще жива  111005313 2013-10-11 12:00:00  Художественный   \n",
       "1448  Бесславные придурки  111003314 2014-03-28 12:00:00  Художественный   \n",
       "1498            Невидимки  111004213 2013-09-10 12:00:00  Художественный   \n",
       "1524                БЕРЦЫ  111004314 2014-05-05 12:00:00  Художественный   \n",
       "1792             Братья Ч  111004414 2014-04-23 12:00:00  Художественный   \n",
       "\n",
       "                                            film_studio production_country  \\\n",
       "1281  АНО содействия развитию кинематографии \"Ангел-...             Россия   \n",
       "1448                         ООО \"Компания \"АТК-Студио\"             Россия   \n",
       "1498                        ООО \"Компания \"РЕАЛ-ДАКОТА\"             Россия   \n",
       "1524                             ООО \"Студия \"Пассажир\"             Россия   \n",
       "1792                             ООО \"Студия \"Пассажир\"             Россия   \n",
       "\n",
       "                                  director  \\\n",
       "1281                            А.Атанесян   \n",
       "1448                             А.Якимчук   \n",
       "1498              Р.Давлетьяров, С.Комаров   \n",
       "1524  Е.Миндадзе (псевдоним Катя Шагалова)   \n",
       "1792                              М.Угаров   \n",
       "\n",
       "                                       producer  \\\n",
       "1281           А.Атанесян, М.Бабаханов, Р.Бутко   \n",
       "1448                                 А.Тютрюмов   \n",
       "1498  Р.Давлетьяров, А.Котелевский, А.Олейников   \n",
       "1524                                 Л.Антонова   \n",
       "1792                     А.Миндадзе, Л.Антонова   \n",
       "\n",
       "                      age_restriction  refundable_support  \\\n",
       "1281  «16+» - для детей старше 16 лет                0.00   \n",
       "1448  «12+» - для детей старше 12 лет                0.00   \n",
       "1498  «12+» - для детей старше 12 лет                0.00   \n",
       "1524  «16+» - для детей старше 16 лет                0.00   \n",
       "1792  «16+» - для детей старше 16 лет                0.00   \n",
       "\n",
       "      nonrefundable_support         budget       financing_source  ratings  \\\n",
       "1281          26,500,000.00  79,411,900.00  Министерство культуры     8.10   \n",
       "1448          26,000,000.00  37,142,857.00  Министерство культуры      NaN   \n",
       "1498         107,847,945.00 176,023,490.00              Фонд кино     5.30   \n",
       "1524          28,000,000.00  40,574,140.00  Министерство культуры     4.20   \n",
       "1792          25,000,000.00  40,015,122.00  Министерство культуры     6.40   \n",
       "\n",
       "                  genres    box_office  year  \\\n",
       "1281     драма,мелодрама    365,353.60  2013   \n",
       "1448             unknown     28,140.00  2014   \n",
       "1498  комедия,фантастика 19,957,031.50  2013   \n",
       "1524               драма     55,917.50  2014   \n",
       "1792               драма    232,100.00  2014   \n",
       "\n",
       "                             main_director main_genre  proportion  \n",
       "1281                            А.Атанесян      драма        0.33  \n",
       "1448                             А.Якимчук    unknown        0.70  \n",
       "1498                         Р.Давлетьяров    комедия        0.61  \n",
       "1524  Е.Миндадзе (псевдоним Катя Шагалова)      драма        0.69  \n",
       "1792                              М.Угаров      драма        0.62  "
      ]
     },
     "execution_count": 257,
     "metadata": {},
     "output_type": "execute_result"
    }
   ],
   "source": [
    "#расчет доли гос средств в общем бюджете фильма\n",
    "data['proportion'] = (data['nonrefundable_support'] + data['refundable_support'])/data['budget']\n",
    "data.query('budget!=0').head()"
   ]
  },
  {
   "cell_type": "markdown",
   "metadata": {},
   "source": [
    "\n",
    "\n",
    "Произведена предобработка данных: данные в датафрейме приведены к корректному типу, изучены и заполнены пропуски там, где это необходимо, проведена работа с дубликатами (под дубликатами в данном случаи понимались объекты, где совпадали название фильма, имя режисера и год выхода), изучены категориальные и количественные значения, добавлены новые столбцы.   \n"
   ]
  },
  {
   "cell_type": "markdown",
   "metadata": {
    "id": "6t4EukPLgFyV"
   },
   "source": [
    "### Шаг 3. Исследовательский анализ данных\n"
   ]
  },
  {
   "cell_type": "markdown",
   "metadata": {},
   "source": [
    "#### Анализ фильмов вышедших в прокат"
   ]
  },
  {
   "cell_type": "code",
   "execution_count": 258,
   "metadata": {
    "id": "ABeV47y7gFyW"
   },
   "outputs": [
    {
     "data": {
      "text/html": [
       "<div>\n",
       "<style scoped>\n",
       "    .dataframe tbody tr th:only-of-type {\n",
       "        vertical-align: middle;\n",
       "    }\n",
       "\n",
       "    .dataframe tbody tr th {\n",
       "        vertical-align: top;\n",
       "    }\n",
       "\n",
       "    .dataframe thead th {\n",
       "        text-align: right;\n",
       "    }\n",
       "</style>\n",
       "<table border=\"1\" class=\"dataframe\">\n",
       "  <thead>\n",
       "    <tr style=\"text-align: right;\">\n",
       "      <th></th>\n",
       "      <th>title</th>\n",
       "      <th>pu_number</th>\n",
       "      <th>show_start_date</th>\n",
       "      <th>type</th>\n",
       "      <th>film_studio</th>\n",
       "      <th>production_country</th>\n",
       "      <th>director</th>\n",
       "      <th>producer</th>\n",
       "      <th>age_restriction</th>\n",
       "      <th>refundable_support</th>\n",
       "      <th>...</th>\n",
       "      <th>budget</th>\n",
       "      <th>financing_source</th>\n",
       "      <th>ratings</th>\n",
       "      <th>genres</th>\n",
       "      <th>box_office</th>\n",
       "      <th>year</th>\n",
       "      <th>main_director</th>\n",
       "      <th>main_genre</th>\n",
       "      <th>proportion</th>\n",
       "      <th>rental</th>\n",
       "    </tr>\n",
       "  </thead>\n",
       "  <tbody>\n",
       "    <tr>\n",
       "      <th>0</th>\n",
       "      <td>Открытый простор</td>\n",
       "      <td>221048915</td>\n",
       "      <td>2015-11-27 12:00:00</td>\n",
       "      <td>Художественный</td>\n",
       "      <td>Тачстоун Пикчерз, Кобальт Пикчерз, Бикон Пикче...</td>\n",
       "      <td>США</td>\n",
       "      <td>Кевин Костнер</td>\n",
       "      <td>Дэвид Валдес, Кевин Костнер, Джейк Эбертс</td>\n",
       "      <td>«18+» - запрещено для детей</td>\n",
       "      <td>0.00</td>\n",
       "      <td>...</td>\n",
       "      <td>0.00</td>\n",
       "      <td>0</td>\n",
       "      <td>7.20</td>\n",
       "      <td>боевик,драма,мелодрама</td>\n",
       "      <td>0.00</td>\n",
       "      <td>2015</td>\n",
       "      <td>Кевин Костнер</td>\n",
       "      <td>боевик</td>\n",
       "      <td>NaN</td>\n",
       "      <td>False</td>\n",
       "    </tr>\n",
       "    <tr>\n",
       "      <th>1</th>\n",
       "      <td>Особо важное задание</td>\n",
       "      <td>111013716</td>\n",
       "      <td>2016-09-13 12:00:00</td>\n",
       "      <td>Художественный</td>\n",
       "      <td>Киностудия \"Мосфильм\"</td>\n",
       "      <td>СССР</td>\n",
       "      <td>Е.Матвеев</td>\n",
       "      <td>unknown</td>\n",
       "      <td>«6+» - для детей старше 6 лет</td>\n",
       "      <td>0.00</td>\n",
       "      <td>...</td>\n",
       "      <td>0.00</td>\n",
       "      <td>0</td>\n",
       "      <td>6.60</td>\n",
       "      <td>драма,военный</td>\n",
       "      <td>0.00</td>\n",
       "      <td>2016</td>\n",
       "      <td>Е.Матвеев</td>\n",
       "      <td>драма</td>\n",
       "      <td>NaN</td>\n",
       "      <td>False</td>\n",
       "    </tr>\n",
       "    <tr>\n",
       "      <th>2</th>\n",
       "      <td>Особо опасен</td>\n",
       "      <td>221038416</td>\n",
       "      <td>2016-10-10 12:00:00</td>\n",
       "      <td>Художественный</td>\n",
       "      <td>Юниверсал Пикчерз, Кикстарт Продакшнз, Марк Пл...</td>\n",
       "      <td>США</td>\n",
       "      <td>Тимур Бекмамбетов</td>\n",
       "      <td>Джим Лемли, Джейсон Нетер, Марк Е.Платт, Яйн Смит</td>\n",
       "      <td>«18+» - запрещено для детей</td>\n",
       "      <td>0.00</td>\n",
       "      <td>...</td>\n",
       "      <td>0.00</td>\n",
       "      <td>0</td>\n",
       "      <td>6.80</td>\n",
       "      <td>фантастика,боевик,триллер</td>\n",
       "      <td>0.00</td>\n",
       "      <td>2016</td>\n",
       "      <td>Тимур Бекмамбетов</td>\n",
       "      <td>фантастика</td>\n",
       "      <td>NaN</td>\n",
       "      <td>False</td>\n",
       "    </tr>\n",
       "    <tr>\n",
       "      <th>4</th>\n",
       "      <td>Особо опасен</td>\n",
       "      <td>221030815</td>\n",
       "      <td>2015-07-29 12:00:00</td>\n",
       "      <td>Художественный</td>\n",
       "      <td>Юниверсал Пикчерз, Кикстарт Продакшнз, Марк Пл...</td>\n",
       "      <td>США</td>\n",
       "      <td>Тимур Бекмамбетов</td>\n",
       "      <td>Джим Лемли, Джейсон Нетер, Марк Е.Платт, Яйн Смит</td>\n",
       "      <td>«18+» - запрещено для детей</td>\n",
       "      <td>0.00</td>\n",
       "      <td>...</td>\n",
       "      <td>0.00</td>\n",
       "      <td>0</td>\n",
       "      <td>6.80</td>\n",
       "      <td>фантастика,боевик,триллер</td>\n",
       "      <td>0.00</td>\n",
       "      <td>2015</td>\n",
       "      <td>Тимур Бекмамбетов</td>\n",
       "      <td>фантастика</td>\n",
       "      <td>NaN</td>\n",
       "      <td>False</td>\n",
       "    </tr>\n",
       "    <tr>\n",
       "      <th>5</th>\n",
       "      <td>Остановился поезд</td>\n",
       "      <td>111013816</td>\n",
       "      <td>2016-09-13 12:00:00</td>\n",
       "      <td>Художественный</td>\n",
       "      <td>Киностудия \"Мосфильм\"</td>\n",
       "      <td>СССР</td>\n",
       "      <td>В.Абдрашитов</td>\n",
       "      <td>unknown</td>\n",
       "      <td>«6+» - для детей старше 6 лет</td>\n",
       "      <td>0.00</td>\n",
       "      <td>...</td>\n",
       "      <td>0.00</td>\n",
       "      <td>0</td>\n",
       "      <td>7.70</td>\n",
       "      <td>драма</td>\n",
       "      <td>0.00</td>\n",
       "      <td>2016</td>\n",
       "      <td>В.Абдрашитов</td>\n",
       "      <td>драма</td>\n",
       "      <td>NaN</td>\n",
       "      <td>False</td>\n",
       "    </tr>\n",
       "    <tr>\n",
       "      <th>6</th>\n",
       "      <td>Любовь и голуби</td>\n",
       "      <td>111007013</td>\n",
       "      <td>2013-10-18 12:00:00</td>\n",
       "      <td>Художественный</td>\n",
       "      <td>Киностудия \"Мосфильм\"</td>\n",
       "      <td>СССР</td>\n",
       "      <td>В.Меньшов</td>\n",
       "      <td>unknown</td>\n",
       "      <td>«12+» - для детей старше 12 лет</td>\n",
       "      <td>0.00</td>\n",
       "      <td>...</td>\n",
       "      <td>0.00</td>\n",
       "      <td>0</td>\n",
       "      <td>8.30</td>\n",
       "      <td>мелодрама,комедия</td>\n",
       "      <td>2,700.00</td>\n",
       "      <td>2013</td>\n",
       "      <td>В.Меньшов</td>\n",
       "      <td>мелодрама</td>\n",
       "      <td>NaN</td>\n",
       "      <td>True</td>\n",
       "    </tr>\n",
       "    <tr>\n",
       "      <th>7</th>\n",
       "      <td>Любовь и сигареты</td>\n",
       "      <td>221074614</td>\n",
       "      <td>2014-12-29 12:00:00</td>\n",
       "      <td>Художественный</td>\n",
       "      <td>Юнайтед Артистс, Грин Стрит Филмз, Айкон Интер...</td>\n",
       "      <td>США</td>\n",
       "      <td>Джон Туртурро</td>\n",
       "      <td>Джон Пенотти, Джон Туртурро</td>\n",
       "      <td>«18+» - запрещено для детей</td>\n",
       "      <td>0.00</td>\n",
       "      <td>...</td>\n",
       "      <td>0.00</td>\n",
       "      <td>0</td>\n",
       "      <td>6.60</td>\n",
       "      <td>мюзикл,мелодрама,комедия</td>\n",
       "      <td>0.00</td>\n",
       "      <td>2014</td>\n",
       "      <td>Джон Туртурро</td>\n",
       "      <td>мюзикл</td>\n",
       "      <td>NaN</td>\n",
       "      <td>False</td>\n",
       "    </tr>\n",
       "    <tr>\n",
       "      <th>8</th>\n",
       "      <td>Отпетые мошенники.</td>\n",
       "      <td>121011416</td>\n",
       "      <td>2016-05-05 12:00:00</td>\n",
       "      <td>Художественный</td>\n",
       "      <td>Пульсар Продюксьон, ТФ1 Фильм</td>\n",
       "      <td>Франция</td>\n",
       "      <td>Эрик Беснард</td>\n",
       "      <td>Патрис Леду</td>\n",
       "      <td>«18+» - запрещено для детей</td>\n",
       "      <td>0.00</td>\n",
       "      <td>...</td>\n",
       "      <td>0.00</td>\n",
       "      <td>0</td>\n",
       "      <td>8.00</td>\n",
       "      <td>комедия,криминал</td>\n",
       "      <td>0.00</td>\n",
       "      <td>2016</td>\n",
       "      <td>Эрик Беснард</td>\n",
       "      <td>комедия</td>\n",
       "      <td>NaN</td>\n",
       "      <td>False</td>\n",
       "    </tr>\n",
       "    <tr>\n",
       "      <th>9</th>\n",
       "      <td>Отпуск за свой счет</td>\n",
       "      <td>111019114</td>\n",
       "      <td>2014-12-01 12:00:00</td>\n",
       "      <td>Художественный</td>\n",
       "      <td>Киностудия \"Мосфильм\", Телевидение ВНР</td>\n",
       "      <td>СССР, Венгрия</td>\n",
       "      <td>В.Титов</td>\n",
       "      <td>unknown</td>\n",
       "      <td>«12+» - для детей старше 12 лет</td>\n",
       "      <td>0.00</td>\n",
       "      <td>...</td>\n",
       "      <td>0.00</td>\n",
       "      <td>0</td>\n",
       "      <td>7.80</td>\n",
       "      <td>мелодрама,комедия</td>\n",
       "      <td>0.00</td>\n",
       "      <td>2014</td>\n",
       "      <td>В.Титов</td>\n",
       "      <td>мелодрама</td>\n",
       "      <td>NaN</td>\n",
       "      <td>False</td>\n",
       "    </tr>\n",
       "    <tr>\n",
       "      <th>10</th>\n",
       "      <td>Превосходство Борна /По одноименной новелле Ро...</td>\n",
       "      <td>221031416</td>\n",
       "      <td>2016-06-29 12:00:00</td>\n",
       "      <td>Художественный</td>\n",
       "      <td>Кеннеди/Маршал Компани, Юниверсал Пикчерз, Гип...</td>\n",
       "      <td>США</td>\n",
       "      <td>Пол Грингросс</td>\n",
       "      <td>Патрик Кроули, Фрэнк Маршалл, Пол Сэндберг</td>\n",
       "      <td>«16+» - для детей старше 16 лет</td>\n",
       "      <td>0.00</td>\n",
       "      <td>...</td>\n",
       "      <td>0.00</td>\n",
       "      <td>0</td>\n",
       "      <td>7.70</td>\n",
       "      <td>боевик,триллер,детектив</td>\n",
       "      <td>0.00</td>\n",
       "      <td>2016</td>\n",
       "      <td>Пол Грингросс</td>\n",
       "      <td>боевик</td>\n",
       "      <td>NaN</td>\n",
       "      <td>False</td>\n",
       "    </tr>\n",
       "  </tbody>\n",
       "</table>\n",
       "<p>10 rows × 21 columns</p>\n",
       "</div>"
      ],
      "text/plain": [
       "                                                title  pu_number  \\\n",
       "0                                    Открытый простор  221048915   \n",
       "1                                Особо важное задание  111013716   \n",
       "2                                        Особо опасен  221038416   \n",
       "4                                        Особо опасен  221030815   \n",
       "5                                   Остановился поезд  111013816   \n",
       "6                                     Любовь и голуби  111007013   \n",
       "7                                   Любовь и сигареты  221074614   \n",
       "8                                  Отпетые мошенники.  121011416   \n",
       "9                                 Отпуск за свой счет  111019114   \n",
       "10  Превосходство Борна /По одноименной новелле Ро...  221031416   \n",
       "\n",
       "       show_start_date            type  \\\n",
       "0  2015-11-27 12:00:00  Художественный   \n",
       "1  2016-09-13 12:00:00  Художественный   \n",
       "2  2016-10-10 12:00:00  Художественный   \n",
       "4  2015-07-29 12:00:00  Художественный   \n",
       "5  2016-09-13 12:00:00  Художественный   \n",
       "6  2013-10-18 12:00:00  Художественный   \n",
       "7  2014-12-29 12:00:00  Художественный   \n",
       "8  2016-05-05 12:00:00  Художественный   \n",
       "9  2014-12-01 12:00:00  Художественный   \n",
       "10 2016-06-29 12:00:00  Художественный   \n",
       "\n",
       "                                          film_studio production_country  \\\n",
       "0   Тачстоун Пикчерз, Кобальт Пикчерз, Бикон Пикче...                США   \n",
       "1                               Киностудия \"Мосфильм\"               СССР   \n",
       "2   Юниверсал Пикчерз, Кикстарт Продакшнз, Марк Пл...                США   \n",
       "4   Юниверсал Пикчерз, Кикстарт Продакшнз, Марк Пл...                США   \n",
       "5                               Киностудия \"Мосфильм\"               СССР   \n",
       "6                               Киностудия \"Мосфильм\"               СССР   \n",
       "7   Юнайтед Артистс, Грин Стрит Филмз, Айкон Интер...                США   \n",
       "8                      Пульсар Продюксьон, ТФ1 Фильм             Франция   \n",
       "9              Киностудия \"Мосфильм\", Телевидение ВНР      СССР, Венгрия   \n",
       "10  Кеннеди/Маршал Компани, Юниверсал Пикчерз, Гип...                США   \n",
       "\n",
       "             director                                           producer  \\\n",
       "0       Кевин Костнер          Дэвид Валдес, Кевин Костнер, Джейк Эбертс   \n",
       "1           Е.Матвеев                                            unknown   \n",
       "2   Тимур Бекмамбетов  Джим Лемли, Джейсон Нетер, Марк Е.Платт, Яйн Смит   \n",
       "4   Тимур Бекмамбетов  Джим Лемли, Джейсон Нетер, Марк Е.Платт, Яйн Смит   \n",
       "5        В.Абдрашитов                                            unknown   \n",
       "6           В.Меньшов                                            unknown   \n",
       "7       Джон Туртурро                        Джон Пенотти, Джон Туртурро   \n",
       "8        Эрик Беснард                                        Патрис Леду   \n",
       "9             В.Титов                                            unknown   \n",
       "10      Пол Грингросс         Патрик Кроули, Фрэнк Маршалл, Пол Сэндберг   \n",
       "\n",
       "                    age_restriction  refundable_support  ...  budget  \\\n",
       "0       «18+» - запрещено для детей                0.00  ...    0.00   \n",
       "1     «6+» - для детей старше 6 лет                0.00  ...    0.00   \n",
       "2       «18+» - запрещено для детей                0.00  ...    0.00   \n",
       "4       «18+» - запрещено для детей                0.00  ...    0.00   \n",
       "5     «6+» - для детей старше 6 лет                0.00  ...    0.00   \n",
       "6   «12+» - для детей старше 12 лет                0.00  ...    0.00   \n",
       "7       «18+» - запрещено для детей                0.00  ...    0.00   \n",
       "8       «18+» - запрещено для детей                0.00  ...    0.00   \n",
       "9   «12+» - для детей старше 12 лет                0.00  ...    0.00   \n",
       "10  «16+» - для детей старше 16 лет                0.00  ...    0.00   \n",
       "\n",
       "    financing_source ratings                     genres box_office  year  \\\n",
       "0                  0    7.20     боевик,драма,мелодрама       0.00  2015   \n",
       "1                  0    6.60              драма,военный       0.00  2016   \n",
       "2                  0    6.80  фантастика,боевик,триллер       0.00  2016   \n",
       "4                  0    6.80  фантастика,боевик,триллер       0.00  2015   \n",
       "5                  0    7.70                      драма       0.00  2016   \n",
       "6                  0    8.30          мелодрама,комедия   2,700.00  2013   \n",
       "7                  0    6.60   мюзикл,мелодрама,комедия       0.00  2014   \n",
       "8                  0    8.00           комедия,криминал       0.00  2016   \n",
       "9                  0    7.80          мелодрама,комедия       0.00  2014   \n",
       "10                 0    7.70    боевик,триллер,детектив       0.00  2016   \n",
       "\n",
       "        main_director  main_genre proportion  rental  \n",
       "0       Кевин Костнер      боевик        NaN   False  \n",
       "1           Е.Матвеев       драма        NaN   False  \n",
       "2   Тимур Бекмамбетов  фантастика        NaN   False  \n",
       "4   Тимур Бекмамбетов  фантастика        NaN   False  \n",
       "5        В.Абдрашитов       драма        NaN   False  \n",
       "6           В.Меньшов   мелодрама        NaN    True  \n",
       "7       Джон Туртурро      мюзикл        NaN   False  \n",
       "8        Эрик Беснард     комедия        NaN   False  \n",
       "9             В.Титов   мелодрама        NaN   False  \n",
       "10      Пол Грингросс      боевик        NaN   False  \n",
       "\n",
       "[10 rows x 21 columns]"
      ]
     },
     "execution_count": 258,
     "metadata": {},
     "output_type": "execute_result"
    }
   ],
   "source": [
    "data['box_office'] = data['box_office'].fillna(0)\n",
    "data['rental'] = data['box_office']!=0 \n",
    "data.head(10)\n"
   ]
  },
  {
   "cell_type": "code",
   "execution_count": 260,
   "metadata": {},
   "outputs": [
    {
     "data": {
      "text/html": [
       "<div>\n",
       "<style scoped>\n",
       "    .dataframe tbody tr th:only-of-type {\n",
       "        vertical-align: middle;\n",
       "    }\n",
       "\n",
       "    .dataframe tbody tr th {\n",
       "        vertical-align: top;\n",
       "    }\n",
       "\n",
       "    .dataframe thead tr th {\n",
       "        text-align: left;\n",
       "    }\n",
       "\n",
       "    .dataframe thead tr:last-of-type th {\n",
       "        text-align: right;\n",
       "    }\n",
       "</style>\n",
       "<table border=\"1\" class=\"dataframe\">\n",
       "  <thead>\n",
       "    <tr>\n",
       "      <th></th>\n",
       "      <th>sum</th>\n",
       "      <th>count</th>\n",
       "    </tr>\n",
       "    <tr>\n",
       "      <th></th>\n",
       "      <th>rental</th>\n",
       "      <th>rental</th>\n",
       "    </tr>\n",
       "    <tr>\n",
       "      <th>year</th>\n",
       "      <th></th>\n",
       "      <th></th>\n",
       "    </tr>\n",
       "  </thead>\n",
       "  <tbody>\n",
       "    <tr>\n",
       "      <th>2010</th>\n",
       "      <td>89</td>\n",
       "      <td>818</td>\n",
       "    </tr>\n",
       "    <tr>\n",
       "      <th>2011</th>\n",
       "      <td>105</td>\n",
       "      <td>558</td>\n",
       "    </tr>\n",
       "    <tr>\n",
       "      <th>2012</th>\n",
       "      <td>120</td>\n",
       "      <td>556</td>\n",
       "    </tr>\n",
       "    <tr>\n",
       "      <th>2013</th>\n",
       "      <td>177</td>\n",
       "      <td>615</td>\n",
       "    </tr>\n",
       "    <tr>\n",
       "      <th>2014</th>\n",
       "      <td>265</td>\n",
       "      <td>765</td>\n",
       "    </tr>\n",
       "    <tr>\n",
       "      <th>2015</th>\n",
       "      <td>448</td>\n",
       "      <td>688</td>\n",
       "    </tr>\n",
       "    <tr>\n",
       "      <th>2016</th>\n",
       "      <td>501</td>\n",
       "      <td>782</td>\n",
       "    </tr>\n",
       "    <tr>\n",
       "      <th>2017</th>\n",
       "      <td>357</td>\n",
       "      <td>505</td>\n",
       "    </tr>\n",
       "    <tr>\n",
       "      <th>2018</th>\n",
       "      <td>474</td>\n",
       "      <td>884</td>\n",
       "    </tr>\n",
       "    <tr>\n",
       "      <th>2019</th>\n",
       "      <td>529</td>\n",
       "      <td>926</td>\n",
       "    </tr>\n",
       "  </tbody>\n",
       "</table>\n",
       "</div>"
      ],
      "text/plain": [
       "        sum  count\n",
       "     rental rental\n",
       "year              \n",
       "2010     89    818\n",
       "2011    105    558\n",
       "2012    120    556\n",
       "2013    177    615\n",
       "2014    265    765\n",
       "2015    448    688\n",
       "2016    501    782\n",
       "2017    357    505\n",
       "2018    474    884\n",
       "2019    529    926"
      ]
     },
     "execution_count": 260,
     "metadata": {},
     "output_type": "execute_result"
    }
   ],
   "source": [
    "in_rental = data.pivot_table(index='year', values='rental', aggfunc=['sum', 'count'])\n",
    "in_rental"
   ]
  },
  {
   "cell_type": "markdown",
   "metadata": {},
   "source": [
    "Общее количество фильмов сопоставимо, а количество фильмов выходивших в прокат за исследуемый период значительно возросло."
   ]
  },
  {
   "cell_type": "code",
   "execution_count": 261,
   "metadata": {},
   "outputs": [],
   "source": [
    "in_rental.columns = ['rental', 'general']"
   ]
  },
  {
   "cell_type": "code",
   "execution_count": 262,
   "metadata": {
    "scrolled": true
   },
   "outputs": [
    {
     "data": {
      "text/html": [
       "<div>\n",
       "<style scoped>\n",
       "    .dataframe tbody tr th:only-of-type {\n",
       "        vertical-align: middle;\n",
       "    }\n",
       "\n",
       "    .dataframe tbody tr th {\n",
       "        vertical-align: top;\n",
       "    }\n",
       "\n",
       "    .dataframe thead th {\n",
       "        text-align: right;\n",
       "    }\n",
       "</style>\n",
       "<table border=\"1\" class=\"dataframe\">\n",
       "  <thead>\n",
       "    <tr style=\"text-align: right;\">\n",
       "      <th></th>\n",
       "      <th>rental</th>\n",
       "      <th>general</th>\n",
       "      <th>proportion</th>\n",
       "    </tr>\n",
       "    <tr>\n",
       "      <th>year</th>\n",
       "      <th></th>\n",
       "      <th></th>\n",
       "      <th></th>\n",
       "    </tr>\n",
       "  </thead>\n",
       "  <tbody>\n",
       "    <tr>\n",
       "      <th>2010</th>\n",
       "      <td>89</td>\n",
       "      <td>818</td>\n",
       "      <td>0.11</td>\n",
       "    </tr>\n",
       "    <tr>\n",
       "      <th>2011</th>\n",
       "      <td>105</td>\n",
       "      <td>558</td>\n",
       "      <td>0.19</td>\n",
       "    </tr>\n",
       "    <tr>\n",
       "      <th>2012</th>\n",
       "      <td>120</td>\n",
       "      <td>556</td>\n",
       "      <td>0.22</td>\n",
       "    </tr>\n",
       "    <tr>\n",
       "      <th>2013</th>\n",
       "      <td>177</td>\n",
       "      <td>615</td>\n",
       "      <td>0.29</td>\n",
       "    </tr>\n",
       "    <tr>\n",
       "      <th>2014</th>\n",
       "      <td>265</td>\n",
       "      <td>765</td>\n",
       "      <td>0.35</td>\n",
       "    </tr>\n",
       "    <tr>\n",
       "      <th>2015</th>\n",
       "      <td>448</td>\n",
       "      <td>688</td>\n",
       "      <td>0.65</td>\n",
       "    </tr>\n",
       "    <tr>\n",
       "      <th>2016</th>\n",
       "      <td>501</td>\n",
       "      <td>782</td>\n",
       "      <td>0.64</td>\n",
       "    </tr>\n",
       "    <tr>\n",
       "      <th>2017</th>\n",
       "      <td>357</td>\n",
       "      <td>505</td>\n",
       "      <td>0.71</td>\n",
       "    </tr>\n",
       "    <tr>\n",
       "      <th>2018</th>\n",
       "      <td>474</td>\n",
       "      <td>884</td>\n",
       "      <td>0.54</td>\n",
       "    </tr>\n",
       "    <tr>\n",
       "      <th>2019</th>\n",
       "      <td>529</td>\n",
       "      <td>926</td>\n",
       "      <td>0.57</td>\n",
       "    </tr>\n",
       "  </tbody>\n",
       "</table>\n",
       "</div>"
      ],
      "text/plain": [
       "      rental  general  proportion\n",
       "year                             \n",
       "2010      89      818        0.11\n",
       "2011     105      558        0.19\n",
       "2012     120      556        0.22\n",
       "2013     177      615        0.29\n",
       "2014     265      765        0.35\n",
       "2015     448      688        0.65\n",
       "2016     501      782        0.64\n",
       "2017     357      505        0.71\n",
       "2018     474      884        0.54\n",
       "2019     529      926        0.57"
      ]
     },
     "execution_count": 262,
     "metadata": {},
     "output_type": "execute_result"
    }
   ],
   "source": [
    "in_rental['proportion'] = in_rental['rental']/in_rental['general']\n",
    "in_rental"
   ]
  },
  {
   "cell_type": "code",
   "execution_count": 264,
   "metadata": {
    "scrolled": true
   },
   "outputs": [
    {
     "data": {
      "image/png": "[encoded data removed]",
      "text/plain": [
       "<Figure size 1080x360 with 2 Axes>"
      ]
     },
     "metadata": {
      "needs_background": "light"
     },
     "output_type": "display_data"
    }
   ],
   "source": [
    "in_rental.reset_index(inplace = True)\n",
    "\n",
    "ax = in_rental[['general', 'rental']]\\\n",
    "  .plot(kind = 'bar', figsize = (15,5))\n",
    "labels = list(in_rental['year'].unique())\n",
    "\n",
    "in_rental['proportion'].plot(secondary_y=True, color = 'red', linestyle = 'dashed')\n",
    "\n",
    "ax.set_xticklabels(labels)\n",
    "plt.xticks(rotation = 0)\n",
    "plt.legend()\n",
    "plt.title('Динамика изменения доли фильмов вышедших в прокат с 2010 по 2019 гг.')\n",
    "plt.show()"
   ]
  },
  {
   "cell_type": "markdown",
   "metadata": {},
   "source": [
    "Самая высокая доля фильмов вышедших в прокат 0,70 - за 2017 год. Но при этом в 2017 году также самое низкое значение вышедших фильмов всего. \n",
    "\n",
    "Самое высокое значение всего вышедших фильмов - показатель 2019года, из них 57% вышли в прокат."
   ]
  },
  {
   "cell_type": "markdown",
   "metadata": {
    "id": "BEOdcIrIgFyW"
   },
   "source": [
    "#### Анализ динамики проката по годам"
   ]
  },
  {
   "cell_type": "code",
   "execution_count": 265,
   "metadata": {
    "id": "tfEhofYvgFyX"
   },
   "outputs": [
    {
     "data": {
      "text/html": [
       "<div>\n",
       "<style scoped>\n",
       "    .dataframe tbody tr th:only-of-type {\n",
       "        vertical-align: middle;\n",
       "    }\n",
       "\n",
       "    .dataframe tbody tr th {\n",
       "        vertical-align: top;\n",
       "    }\n",
       "\n",
       "    .dataframe thead th {\n",
       "        text-align: right;\n",
       "    }\n",
       "</style>\n",
       "<table border=\"1\" class=\"dataframe\">\n",
       "  <thead>\n",
       "    <tr style=\"text-align: right;\">\n",
       "      <th></th>\n",
       "      <th>box_office</th>\n",
       "    </tr>\n",
       "    <tr>\n",
       "      <th>year</th>\n",
       "      <th></th>\n",
       "    </tr>\n",
       "  </thead>\n",
       "  <tbody>\n",
       "    <tr>\n",
       "      <th>2010</th>\n",
       "      <td>2,396,230.00</td>\n",
       "    </tr>\n",
       "    <tr>\n",
       "      <th>2011</th>\n",
       "      <td>14,091,440.00</td>\n",
       "    </tr>\n",
       "    <tr>\n",
       "      <th>2012</th>\n",
       "      <td>6,950,248.00</td>\n",
       "    </tr>\n",
       "    <tr>\n",
       "      <th>2013</th>\n",
       "      <td>29,798,766.20</td>\n",
       "    </tr>\n",
       "    <tr>\n",
       "      <th>2014</th>\n",
       "      <td>7,443,693,956.20</td>\n",
       "    </tr>\n",
       "    <tr>\n",
       "      <th>2015</th>\n",
       "      <td>36,034,896,104.90</td>\n",
       "    </tr>\n",
       "    <tr>\n",
       "      <th>2016</th>\n",
       "      <td>43,731,489,989.34</td>\n",
       "    </tr>\n",
       "    <tr>\n",
       "      <th>2017</th>\n",
       "      <td>48,563,707,217.51</td>\n",
       "    </tr>\n",
       "    <tr>\n",
       "      <th>2018</th>\n",
       "      <td>47,985,723,095.29</td>\n",
       "    </tr>\n",
       "    <tr>\n",
       "      <th>2019</th>\n",
       "      <td>48,423,450,395.59</td>\n",
       "    </tr>\n",
       "  </tbody>\n",
       "</table>\n",
       "</div>"
      ],
      "text/plain": [
       "            box_office\n",
       "year                  \n",
       "2010      2,396,230.00\n",
       "2011     14,091,440.00\n",
       "2012      6,950,248.00\n",
       "2013     29,798,766.20\n",
       "2014  7,443,693,956.20\n",
       "2015 36,034,896,104.90\n",
       "2016 43,731,489,989.34\n",
       "2017 48,563,707,217.51\n",
       "2018 47,985,723,095.29\n",
       "2019 48,423,450,395.59"
      ]
     },
     "execution_count": 265,
     "metadata": {},
     "output_type": "execute_result"
    }
   ],
   "source": [
    "data.pivot_table(index='year', values='box_office', aggfunc='sum')"
   ]
  },
  {
   "cell_type": "code",
   "execution_count": 266,
   "metadata": {},
   "outputs": [
    {
     "data": {
      "image/png": "[encoded data removed]",
      "text/plain": [
       "<Figure size 432x288 with 1 Axes>"
      ]
     },
     "metadata": {
      "needs_background": "light"
     },
     "output_type": "display_data"
    }
   ],
   "source": [
    "plt.bar(data.pivot_table(index='year', values='box_office', aggfunc='sum')\n",
    "        .index, data.pivot_table(index='year', values='box_office', aggfunc='sum')['box_office']);\n",
    "\n",
    "plt.xlabel('Год')\n",
    "plt.ylabel('Кассовые сборы')\n",
    "plt.title('Динамика кассовых сборов по годам')\n",
    "plt.show()"
   ]
  },
  {
   "cell_type": "markdown",
   "metadata": {},
   "source": [
    "С 2012 по 2019 гг наблюдается тенденция к росту кассовых сборов. Максимальная сумма сборов была в 2019 году и составила 48 млрд. руб., а самые низкие сборы из представленных данных были в 2010 году - 2,3 млн. руб. "
   ]
  },
  {
   "cell_type": "markdown",
   "metadata": {
    "id": "G-7qS-N-gFyY"
   },
   "source": [
    "#### Анализ кассовых сборов"
   ]
  },
  {
   "cell_type": "code",
   "execution_count": 267,
   "metadata": {
    "id": "jmp-rgg9gFyY"
   },
   "outputs": [
    {
     "data": {
      "text/html": [
       "<div>\n",
       "<style scoped>\n",
       "    .dataframe tbody tr th:only-of-type {\n",
       "        vertical-align: middle;\n",
       "    }\n",
       "\n",
       "    .dataframe tbody tr th {\n",
       "        vertical-align: top;\n",
       "    }\n",
       "\n",
       "    .dataframe thead tr th {\n",
       "        text-align: left;\n",
       "    }\n",
       "\n",
       "    .dataframe thead tr:last-of-type th {\n",
       "        text-align: right;\n",
       "    }\n",
       "</style>\n",
       "<table border=\"1\" class=\"dataframe\">\n",
       "  <thead>\n",
       "    <tr>\n",
       "      <th></th>\n",
       "      <th>mean</th>\n",
       "      <th>median</th>\n",
       "    </tr>\n",
       "    <tr>\n",
       "      <th></th>\n",
       "      <th>box_office</th>\n",
       "      <th>box_office</th>\n",
       "    </tr>\n",
       "    <tr>\n",
       "      <th>year</th>\n",
       "      <th></th>\n",
       "      <th></th>\n",
       "    </tr>\n",
       "  </thead>\n",
       "  <tbody>\n",
       "    <tr>\n",
       "      <th>2010</th>\n",
       "      <td>2,929.38</td>\n",
       "      <td>0.00</td>\n",
       "    </tr>\n",
       "    <tr>\n",
       "      <th>2011</th>\n",
       "      <td>25,253.48</td>\n",
       "      <td>0.00</td>\n",
       "    </tr>\n",
       "    <tr>\n",
       "      <th>2012</th>\n",
       "      <td>12,500.45</td>\n",
       "      <td>0.00</td>\n",
       "    </tr>\n",
       "    <tr>\n",
       "      <th>2013</th>\n",
       "      <td>48,453.28</td>\n",
       "      <td>0.00</td>\n",
       "    </tr>\n",
       "    <tr>\n",
       "      <th>2014</th>\n",
       "      <td>9,730,318.90</td>\n",
       "      <td>0.00</td>\n",
       "    </tr>\n",
       "    <tr>\n",
       "      <th>2015</th>\n",
       "      <td>52,376,302.48</td>\n",
       "      <td>655,170.75</td>\n",
       "    </tr>\n",
       "    <tr>\n",
       "      <th>2016</th>\n",
       "      <td>55,922,621.47</td>\n",
       "      <td>457,455.00</td>\n",
       "    </tr>\n",
       "    <tr>\n",
       "      <th>2017</th>\n",
       "      <td>96,165,756.87</td>\n",
       "      <td>2,522,174.00</td>\n",
       "    </tr>\n",
       "    <tr>\n",
       "      <th>2018</th>\n",
       "      <td>54,282,492.19</td>\n",
       "      <td>315,590.75</td>\n",
       "    </tr>\n",
       "    <tr>\n",
       "      <th>2019</th>\n",
       "      <td>52,293,142.98</td>\n",
       "      <td>611,348.50</td>\n",
       "    </tr>\n",
       "  </tbody>\n",
       "</table>\n",
       "</div>"
      ],
      "text/plain": [
       "              mean       median\n",
       "        box_office   box_office\n",
       "year                           \n",
       "2010      2,929.38         0.00\n",
       "2011     25,253.48         0.00\n",
       "2012     12,500.45         0.00\n",
       "2013     48,453.28         0.00\n",
       "2014  9,730,318.90         0.00\n",
       "2015 52,376,302.48   655,170.75\n",
       "2016 55,922,621.47   457,455.00\n",
       "2017 96,165,756.87 2,522,174.00\n",
       "2018 54,282,492.19   315,590.75\n",
       "2019 52,293,142.98   611,348.50"
      ]
     },
     "execution_count": 267,
     "metadata": {},
     "output_type": "execute_result"
    }
   ],
   "source": [
    "data.pivot_table(index='year', values='box_office', aggfunc=['mean', 'median'])"
   ]
  },
  {
   "cell_type": "markdown",
   "metadata": {},
   "source": [
    "Медианные значения значительно ниже средних, это связано с тем, что до 2015 года меньше 40% фильмов выходили в прокат, соответственно, медианное значение для 2010-2014гг - 0, также в последующих годах медиана сильно ниже средней, это связано с неоднородность сборов,какие то фильмы не собирают сумм даже чтобы покрыть собственные издержки, какие то окупаются в сотни раз, как раз из-за последних средняя имеет высокие значения. "
   ]
  },
  {
   "cell_type": "markdown",
   "metadata": {
    "id": "Ok89WFwJgFyZ"
   },
   "source": [
    "#### Анализ зависимости возрастных ограничений фильмов и кассовых сборов"
   ]
  },
  {
   "cell_type": "code",
   "execution_count": 268,
   "metadata": {
    "id": "jsSbEqfjgFya"
   },
   "outputs": [
    {
     "data": {
      "text/html": [
       "<div>\n",
       "<style scoped>\n",
       "    .dataframe tbody tr th:only-of-type {\n",
       "        vertical-align: middle;\n",
       "    }\n",
       "\n",
       "    .dataframe tbody tr th {\n",
       "        vertical-align: top;\n",
       "    }\n",
       "\n",
       "    .dataframe thead th {\n",
       "        text-align: right;\n",
       "    }\n",
       "</style>\n",
       "<table border=\"1\" class=\"dataframe\">\n",
       "  <thead>\n",
       "    <tr style=\"text-align: right;\">\n",
       "      <th></th>\n",
       "      <th></th>\n",
       "      <th>box_office</th>\n",
       "    </tr>\n",
       "    <tr>\n",
       "      <th>year</th>\n",
       "      <th>age_restriction</th>\n",
       "      <th></th>\n",
       "    </tr>\n",
       "  </thead>\n",
       "  <tbody>\n",
       "    <tr>\n",
       "      <th rowspan=\"5\" valign=\"top\">2015</th>\n",
       "      <th>«0+» - для любой зрительской аудитории</th>\n",
       "      <td>364,902,082.47</td>\n",
       "    </tr>\n",
       "    <tr>\n",
       "      <th>«12+» - для детей старше 12 лет</th>\n",
       "      <td>13,616,082,008.91</td>\n",
       "    </tr>\n",
       "    <tr>\n",
       "      <th>«16+» - для детей старше 16 лет</th>\n",
       "      <td>8,734,392,209.17</td>\n",
       "    </tr>\n",
       "    <tr>\n",
       "      <th>«18+» - запрещено для детей</th>\n",
       "      <td>4,635,938,263.34</td>\n",
       "    </tr>\n",
       "    <tr>\n",
       "      <th>«6+» - для детей старше 6 лет</th>\n",
       "      <td>8,683,581,541.01</td>\n",
       "    </tr>\n",
       "    <tr>\n",
       "      <th rowspan=\"5\" valign=\"top\">2016</th>\n",
       "      <th>«0+» - для любой зрительской аудитории</th>\n",
       "      <td>150,228,848.67</td>\n",
       "    </tr>\n",
       "    <tr>\n",
       "      <th>«12+» - для детей старше 12 лет</th>\n",
       "      <td>12,178,337,053.01</td>\n",
       "    </tr>\n",
       "    <tr>\n",
       "      <th>«16+» - для детей старше 16 лет</th>\n",
       "      <td>14,359,349,614.80</td>\n",
       "    </tr>\n",
       "    <tr>\n",
       "      <th>«18+» - запрещено для детей</th>\n",
       "      <td>4,990,430,064.62</td>\n",
       "    </tr>\n",
       "    <tr>\n",
       "      <th>«6+» - для детей старше 6 лет</th>\n",
       "      <td>12,053,144,408.24</td>\n",
       "    </tr>\n",
       "    <tr>\n",
       "      <th rowspan=\"5\" valign=\"top\">2017</th>\n",
       "      <th>«0+» - для любой зрительской аудитории</th>\n",
       "      <td>229,598,930.00</td>\n",
       "    </tr>\n",
       "    <tr>\n",
       "      <th>«12+» - для детей старше 12 лет</th>\n",
       "      <td>7,851,427,660.67</td>\n",
       "    </tr>\n",
       "    <tr>\n",
       "      <th>«16+» - для детей старше 16 лет</th>\n",
       "      <td>18,745,042,900.06</td>\n",
       "    </tr>\n",
       "    <tr>\n",
       "      <th>«18+» - запрещено для детей</th>\n",
       "      <td>9,651,495,581.02</td>\n",
       "    </tr>\n",
       "    <tr>\n",
       "      <th>«6+» - для детей старше 6 лет</th>\n",
       "      <td>12,086,142,145.76</td>\n",
       "    </tr>\n",
       "    <tr>\n",
       "      <th rowspan=\"5\" valign=\"top\">2018</th>\n",
       "      <th>«0+» - для любой зрительской аудитории</th>\n",
       "      <td>32,449,002.11</td>\n",
       "    </tr>\n",
       "    <tr>\n",
       "      <th>«12+» - для детей старше 12 лет</th>\n",
       "      <td>14,267,291,660.69</td>\n",
       "    </tr>\n",
       "    <tr>\n",
       "      <th>«16+» - для детей старше 16 лет</th>\n",
       "      <td>14,820,922,307.93</td>\n",
       "    </tr>\n",
       "    <tr>\n",
       "      <th>«18+» - запрещено для детей</th>\n",
       "      <td>8,760,085,501.15</td>\n",
       "    </tr>\n",
       "    <tr>\n",
       "      <th>«6+» - для детей старше 6 лет</th>\n",
       "      <td>10,104,974,623.41</td>\n",
       "    </tr>\n",
       "    <tr>\n",
       "      <th rowspan=\"5\" valign=\"top\">2019</th>\n",
       "      <th>«0+» - для любой зрительской аудитории</th>\n",
       "      <td>17,746,066.82</td>\n",
       "    </tr>\n",
       "    <tr>\n",
       "      <th>«12+» - для детей старше 12 лет</th>\n",
       "      <td>12,680,198,773.67</td>\n",
       "    </tr>\n",
       "    <tr>\n",
       "      <th>«16+» - для детей старше 16 лет</th>\n",
       "      <td>12,751,160,600.60</td>\n",
       "    </tr>\n",
       "    <tr>\n",
       "      <th>«18+» - запрещено для детей</th>\n",
       "      <td>10,121,796,303.64</td>\n",
       "    </tr>\n",
       "    <tr>\n",
       "      <th>«6+» - для детей старше 6 лет</th>\n",
       "      <td>12,852,548,650.86</td>\n",
       "    </tr>\n",
       "  </tbody>\n",
       "</table>\n",
       "</div>"
      ],
      "text/plain": [
       "                                                   box_office\n",
       "year age_restriction                                         \n",
       "2015 «0+» - для любой зрительской аудитории    364,902,082.47\n",
       "     «12+» - для детей старше 12 лет        13,616,082,008.91\n",
       "     «16+» - для детей старше 16 лет         8,734,392,209.17\n",
       "     «18+» - запрещено для детей             4,635,938,263.34\n",
       "     «6+» - для детей старше 6 лет           8,683,581,541.01\n",
       "2016 «0+» - для любой зрительской аудитории    150,228,848.67\n",
       "     «12+» - для детей старше 12 лет        12,178,337,053.01\n",
       "     «16+» - для детей старше 16 лет        14,359,349,614.80\n",
       "     «18+» - запрещено для детей             4,990,430,064.62\n",
       "     «6+» - для детей старше 6 лет          12,053,144,408.24\n",
       "2017 «0+» - для любой зрительской аудитории    229,598,930.00\n",
       "     «12+» - для детей старше 12 лет         7,851,427,660.67\n",
       "     «16+» - для детей старше 16 лет        18,745,042,900.06\n",
       "     «18+» - запрещено для детей             9,651,495,581.02\n",
       "     «6+» - для детей старше 6 лет          12,086,142,145.76\n",
       "2018 «0+» - для любой зрительской аудитории     32,449,002.11\n",
       "     «12+» - для детей старше 12 лет        14,267,291,660.69\n",
       "     «16+» - для детей старше 16 лет        14,820,922,307.93\n",
       "     «18+» - запрещено для детей             8,760,085,501.15\n",
       "     «6+» - для детей старше 6 лет          10,104,974,623.41\n",
       "2019 «0+» - для любой зрительской аудитории     17,746,066.82\n",
       "     «12+» - для детей старше 12 лет        12,680,198,773.67\n",
       "     «16+» - для детей старше 16 лет        12,751,160,600.60\n",
       "     «18+» - запрещено для детей            10,121,796,303.64\n",
       "     «6+» - для детей старше 6 лет          12,852,548,650.86"
      ]
     },
     "execution_count": 268,
     "metadata": {},
     "output_type": "execute_result"
    }
   ],
   "source": [
    "aa = data.query('year>2014').pivot_table(index=['year', 'age_restriction'], values='box_office', aggfunc='sum')\n",
    "aa"
   ]
  },
  {
   "cell_type": "code",
   "execution_count": 269,
   "metadata": {},
   "outputs": [],
   "source": [
    "import seaborn as sns\n",
    "\n",
    "aa=aa.reset_index()\n"
   ]
  },
  {
   "cell_type": "code",
   "execution_count": 271,
   "metadata": {},
   "outputs": [
    {
     "data": {
      "image/png": "[encoded data removed]",
      "text/plain": [
       "<Figure size 864x360 with 1 Axes>"
      ]
     },
     "metadata": {
      "needs_background": "light"
     },
     "output_type": "display_data"
    }
   ],
   "source": [
    "plt.figure(figsize = (12, 5))\n",
    "sns.barplot(x=\"year\",y=\"box_office\",hue='age_restriction',data=aa)\n",
    "plt.legend(bbox_to_anchor=(1.02, 1), loc='upper left', borderaxespad=0) # размещение легенды\n",
    "\n",
    "plt.title('Распределение кассовых сборов фильмов по годам и по возрастным категориям')\n",
    "\n",
    "plt.show()"
   ]
  },
  {
   "cell_type": "markdown",
   "metadata": {},
   "source": [
    "Есть некоторая зависимость кассовых сборов и возрастной категории фильма. \n",
    "\n",
    "В 2015 году самые высокие сборы получили фильмы с категорией 12+, самые низкие 0+. \n",
    "\n",
    "В 2016 самые высокие - 16+, низкие - 0+. \n",
    "\n",
    "в 2017 самые высокие - 16+, низкие - 0+.\n",
    "\n",
    "В 2018 самые высокие сборы - 16+, низкие - 0+.\n",
    "\n",
    "В 2019 самые высокие - 6+, низкие -0+.\n",
    "\n",
    "То есть самые низкие сборы всегда у кино 0+, а самые высокие чаще у 16+, но бывают исключения, также стоит отметить, что 3 эти категории (6+, 12+ и 16+) имеют зачастую сопоставимые сборы и их размеры различаются не значительно. В принципе это объяснимо, тк фильмы каждой категории подходят под большие группы людей. Например, 6+ подходит для детей и родителей, но при этом от 0+ эти фильмы выгодно отличаются тем, что могут быть интересны детям возраста начальной школы, если ребенок младше, то не факт, что 1,5 часа фильма он сможет спокойно высидеть и не мешать другим людям в зале, т е люди с детьми младше 6 лет предпочтительнее выберут для своего ребенка другое развлечение, не кино. 12+ это подрост, большая категория с внушительным количеством свободного времени. 16+ - все остальные, тк большинство фильмов стараются влезть в эту категорию, чтобы не срезать себе аудиторию, соответственно, большинство фильмов для взрослой аудитории имеет такое органичение. "
   ]
  },
  {
   "cell_type": "markdown",
   "metadata": {
    "id": "l_Kg6Ku4gFya"
   },
   "source": [
    "### Шаг 4. Исследование фильмы, которые получили государственную поддержку\n",
    "\n"
   ]
  },
  {
   "cell_type": "code",
   "execution_count": 272,
   "metadata": {},
   "outputs": [
    {
     "name": "stdout",
     "output_type": "stream",
     "text": [
      "<class 'pandas.core.frame.DataFrame'>\n",
      "Int64Index: 7097 entries, 0 to 7484\n",
      "Data columns (total 21 columns):\n",
      " #   Column                 Non-Null Count  Dtype         \n",
      "---  ------                 --------------  -----         \n",
      " 0   title                  7097 non-null   object        \n",
      " 1   pu_number              7097 non-null   int64         \n",
      " 2   show_start_date        7097 non-null   datetime64[ns]\n",
      " 3   type                   7097 non-null   object        \n",
      " 4   film_studio            7097 non-null   object        \n",
      " 5   production_country     7097 non-null   object        \n",
      " 6   director               7097 non-null   object        \n",
      " 7   producer               7097 non-null   object        \n",
      " 8   age_restriction        7097 non-null   object        \n",
      " 9   refundable_support     7097 non-null   float64       \n",
      " 10  nonrefundable_support  7097 non-null   float64       \n",
      " 11  budget                 7097 non-null   float64       \n",
      " 12  financing_source       7097 non-null   object        \n",
      " 13  ratings                6108 non-null   float64       \n",
      " 14  genres                 7097 non-null   object        \n",
      " 15  box_office             7097 non-null   float64       \n",
      " 16  year                   7097 non-null   int64         \n",
      " 17  main_director          7097 non-null   object        \n",
      " 18  main_genre             7097 non-null   object        \n",
      " 19  proportion             331 non-null    float64       \n",
      " 20  rental                 7097 non-null   bool          \n",
      "dtypes: bool(1), datetime64[ns](1), float64(6), int64(2), object(11)\n",
      "memory usage: 1.4+ MB\n"
     ]
    }
   ],
   "source": [
    "data.info()"
   ]
  },
  {
   "cell_type": "code",
   "execution_count": 273,
   "metadata": {
    "id": "W9QKpjUdgFyb"
   },
   "outputs": [
    {
     "data": {
      "text/plain": [
       "6.002875399361023"
      ]
     },
     "execution_count": 273,
     "metadata": {},
     "output_type": "execute_result"
    }
   ],
   "source": [
    "data.query('refundable_support!=0 or nonrefundable_support!=0')['ratings'].mean()"
   ]
  },
  {
   "cell_type": "markdown",
   "metadata": {},
   "source": [
    "Средний рейтинг фильма с господдержков (с 2013 по 2019гг) 6."
   ]
  },
  {
   "cell_type": "code",
   "execution_count": 274,
   "metadata": {},
   "outputs": [
    {
     "data": {
      "text/plain": [
       "6.451885856079405"
      ]
     },
     "execution_count": 274,
     "metadata": {},
     "output_type": "execute_result"
    }
   ],
   "source": [
    "data.query('refundable_support==0 and nonrefundable_support==0 and year>2012' )['ratings'].mean()"
   ]
  },
  {
   "cell_type": "markdown",
   "metadata": {},
   "source": [
    "А средний рейтинг фильмов без поддержки 6,5."
   ]
  },
  {
   "cell_type": "code",
   "execution_count": 275,
   "metadata": {},
   "outputs": [
    {
     "data": {
      "text/html": [
       "<div>\n",
       "<style scoped>\n",
       "    .dataframe tbody tr th:only-of-type {\n",
       "        vertical-align: middle;\n",
       "    }\n",
       "\n",
       "    .dataframe tbody tr th {\n",
       "        vertical-align: top;\n",
       "    }\n",
       "\n",
       "    .dataframe thead th {\n",
       "        text-align: right;\n",
       "    }\n",
       "</style>\n",
       "<table border=\"1\" class=\"dataframe\">\n",
       "  <thead>\n",
       "    <tr style=\"text-align: right;\">\n",
       "      <th></th>\n",
       "      <th>ratings_with_support</th>\n",
       "    </tr>\n",
       "    <tr>\n",
       "      <th>year</th>\n",
       "      <th></th>\n",
       "    </tr>\n",
       "  </thead>\n",
       "  <tbody>\n",
       "    <tr>\n",
       "      <th>2013</th>\n",
       "      <td>6.70</td>\n",
       "    </tr>\n",
       "    <tr>\n",
       "      <th>2014</th>\n",
       "      <td>6.01</td>\n",
       "    </tr>\n",
       "    <tr>\n",
       "      <th>2015</th>\n",
       "      <td>6.06</td>\n",
       "    </tr>\n",
       "    <tr>\n",
       "      <th>2016</th>\n",
       "      <td>5.68</td>\n",
       "    </tr>\n",
       "    <tr>\n",
       "      <th>2017</th>\n",
       "      <td>6.00</td>\n",
       "    </tr>\n",
       "    <tr>\n",
       "      <th>2018</th>\n",
       "      <td>6.00</td>\n",
       "    </tr>\n",
       "    <tr>\n",
       "      <th>2019</th>\n",
       "      <td>6.19</td>\n",
       "    </tr>\n",
       "  </tbody>\n",
       "</table>\n",
       "</div>"
      ],
      "text/plain": [
       "      ratings_with_support\n",
       "year                      \n",
       "2013                  6.70\n",
       "2014                  6.01\n",
       "2015                  6.06\n",
       "2016                  5.68\n",
       "2017                  6.00\n",
       "2018                  6.00\n",
       "2019                  6.19"
      ]
     },
     "execution_count": 275,
     "metadata": {},
     "output_type": "execute_result"
    }
   ],
   "source": [
    "rtg = data.query('refundable_support!=0 or nonrefundable_support!=0').pivot_table(index='year', values='ratings')\n",
    "rtg.columns=['ratings_with_support']\n",
    "rtg"
   ]
  },
  {
   "cell_type": "code",
   "execution_count": 276,
   "metadata": {},
   "outputs": [
    {
     "data": {
      "text/html": [
       "<div>\n",
       "<style scoped>\n",
       "    .dataframe tbody tr th:only-of-type {\n",
       "        vertical-align: middle;\n",
       "    }\n",
       "\n",
       "    .dataframe tbody tr th {\n",
       "        vertical-align: top;\n",
       "    }\n",
       "\n",
       "    .dataframe thead th {\n",
       "        text-align: right;\n",
       "    }\n",
       "</style>\n",
       "<table border=\"1\" class=\"dataframe\">\n",
       "  <thead>\n",
       "    <tr style=\"text-align: right;\">\n",
       "      <th></th>\n",
       "      <th>ratings_without_support</th>\n",
       "    </tr>\n",
       "    <tr>\n",
       "      <th>year</th>\n",
       "      <th></th>\n",
       "    </tr>\n",
       "  </thead>\n",
       "  <tbody>\n",
       "    <tr>\n",
       "      <th>2010</th>\n",
       "      <td>6.70</td>\n",
       "    </tr>\n",
       "    <tr>\n",
       "      <th>2011</th>\n",
       "      <td>6.50</td>\n",
       "    </tr>\n",
       "    <tr>\n",
       "      <th>2012</th>\n",
       "      <td>6.53</td>\n",
       "    </tr>\n",
       "    <tr>\n",
       "      <th>2013</th>\n",
       "      <td>6.51</td>\n",
       "    </tr>\n",
       "    <tr>\n",
       "      <th>2014</th>\n",
       "      <td>6.55</td>\n",
       "    </tr>\n",
       "    <tr>\n",
       "      <th>2015</th>\n",
       "      <td>6.36</td>\n",
       "    </tr>\n",
       "    <tr>\n",
       "      <th>2016</th>\n",
       "      <td>6.39</td>\n",
       "    </tr>\n",
       "    <tr>\n",
       "      <th>2017</th>\n",
       "      <td>6.35</td>\n",
       "    </tr>\n",
       "    <tr>\n",
       "      <th>2018</th>\n",
       "      <td>6.42</td>\n",
       "    </tr>\n",
       "    <tr>\n",
       "      <th>2019</th>\n",
       "      <td>6.52</td>\n",
       "    </tr>\n",
       "  </tbody>\n",
       "</table>\n",
       "</div>"
      ],
      "text/plain": [
       "      ratings_without_support\n",
       "year                         \n",
       "2010                     6.70\n",
       "2011                     6.50\n",
       "2012                     6.53\n",
       "2013                     6.51\n",
       "2014                     6.55\n",
       "2015                     6.36\n",
       "2016                     6.39\n",
       "2017                     6.35\n",
       "2018                     6.42\n",
       "2019                     6.52"
      ]
     },
     "execution_count": 276,
     "metadata": {},
     "output_type": "execute_result"
    }
   ],
   "source": [
    "rrtg = data.query('refundable_support==0 and nonrefundable_support==0').pivot_table(index='year', values='ratings')\n",
    "rrtg.columns = ['ratings_without_support']\n",
    "rrtg"
   ]
  },
  {
   "cell_type": "code",
   "execution_count": 277,
   "metadata": {},
   "outputs": [
    {
     "data": {
      "text/html": [
       "<div>\n",
       "<style scoped>\n",
       "    .dataframe tbody tr th:only-of-type {\n",
       "        vertical-align: middle;\n",
       "    }\n",
       "\n",
       "    .dataframe tbody tr th {\n",
       "        vertical-align: top;\n",
       "    }\n",
       "\n",
       "    .dataframe thead th {\n",
       "        text-align: right;\n",
       "    }\n",
       "</style>\n",
       "<table border=\"1\" class=\"dataframe\">\n",
       "  <thead>\n",
       "    <tr style=\"text-align: right;\">\n",
       "      <th></th>\n",
       "      <th>ratings_without_support</th>\n",
       "      <th>ratings_with_support</th>\n",
       "    </tr>\n",
       "    <tr>\n",
       "      <th>year</th>\n",
       "      <th></th>\n",
       "      <th></th>\n",
       "    </tr>\n",
       "  </thead>\n",
       "  <tbody>\n",
       "    <tr>\n",
       "      <th>2010</th>\n",
       "      <td>6.70</td>\n",
       "      <td>NaN</td>\n",
       "    </tr>\n",
       "    <tr>\n",
       "      <th>2011</th>\n",
       "      <td>6.50</td>\n",
       "      <td>NaN</td>\n",
       "    </tr>\n",
       "    <tr>\n",
       "      <th>2012</th>\n",
       "      <td>6.53</td>\n",
       "      <td>NaN</td>\n",
       "    </tr>\n",
       "    <tr>\n",
       "      <th>2013</th>\n",
       "      <td>6.51</td>\n",
       "      <td>6.70</td>\n",
       "    </tr>\n",
       "    <tr>\n",
       "      <th>2014</th>\n",
       "      <td>6.55</td>\n",
       "      <td>6.01</td>\n",
       "    </tr>\n",
       "    <tr>\n",
       "      <th>2015</th>\n",
       "      <td>6.36</td>\n",
       "      <td>6.06</td>\n",
       "    </tr>\n",
       "    <tr>\n",
       "      <th>2016</th>\n",
       "      <td>6.39</td>\n",
       "      <td>5.68</td>\n",
       "    </tr>\n",
       "    <tr>\n",
       "      <th>2017</th>\n",
       "      <td>6.35</td>\n",
       "      <td>6.00</td>\n",
       "    </tr>\n",
       "    <tr>\n",
       "      <th>2018</th>\n",
       "      <td>6.42</td>\n",
       "      <td>6.00</td>\n",
       "    </tr>\n",
       "    <tr>\n",
       "      <th>2019</th>\n",
       "      <td>6.52</td>\n",
       "      <td>6.19</td>\n",
       "    </tr>\n",
       "  </tbody>\n",
       "</table>\n",
       "</div>"
      ],
      "text/plain": [
       "      ratings_without_support  ratings_with_support\n",
       "year                                               \n",
       "2010                     6.70                   NaN\n",
       "2011                     6.50                   NaN\n",
       "2012                     6.53                   NaN\n",
       "2013                     6.51                  6.70\n",
       "2014                     6.55                  6.01\n",
       "2015                     6.36                  6.06\n",
       "2016                     6.39                  5.68\n",
       "2017                     6.35                  6.00\n",
       "2018                     6.42                  6.00\n",
       "2019                     6.52                  6.19"
      ]
     },
     "execution_count": 277,
     "metadata": {},
     "output_type": "execute_result"
    }
   ],
   "source": [
    "rrtg.join(rtg)"
   ]
  },
  {
   "cell_type": "markdown",
   "metadata": {},
   "source": [
    "В среднем по годам рейтинг фильмов с гос поддержкой ниже, чем средний рейтинг без гос. поддерки, только в 2013 году (первый год, по которому у нас есть данные о гос поддержке) ситуация была обратной."
   ]
  },
  {
   "cell_type": "code",
   "execution_count": 278,
   "metadata": {},
   "outputs": [],
   "source": [
    "russ_support = data.query('(refundable_support!=0 or nonrefundable_support!=0) and production_country==\"Россия\"')"
   ]
  },
  {
   "cell_type": "code",
   "execution_count": 279,
   "metadata": {},
   "outputs": [
    {
     "data": {
      "text/html": [
       "<div>\n",
       "<style scoped>\n",
       "    .dataframe tbody tr th:only-of-type {\n",
       "        vertical-align: middle;\n",
       "    }\n",
       "\n",
       "    .dataframe tbody tr th {\n",
       "        vertical-align: top;\n",
       "    }\n",
       "\n",
       "    .dataframe thead th {\n",
       "        text-align: right;\n",
       "    }\n",
       "</style>\n",
       "<table border=\"1\" class=\"dataframe\">\n",
       "  <thead>\n",
       "    <tr style=\"text-align: right;\">\n",
       "      <th></th>\n",
       "      <th>title</th>\n",
       "      <th>pu_number</th>\n",
       "      <th>show_start_date</th>\n",
       "      <th>type</th>\n",
       "      <th>film_studio</th>\n",
       "      <th>production_country</th>\n",
       "      <th>director</th>\n",
       "      <th>producer</th>\n",
       "      <th>age_restriction</th>\n",
       "      <th>refundable_support</th>\n",
       "      <th>...</th>\n",
       "      <th>budget</th>\n",
       "      <th>financing_source</th>\n",
       "      <th>ratings</th>\n",
       "      <th>genres</th>\n",
       "      <th>box_office</th>\n",
       "      <th>year</th>\n",
       "      <th>main_director</th>\n",
       "      <th>main_genre</th>\n",
       "      <th>proportion</th>\n",
       "      <th>rental</th>\n",
       "    </tr>\n",
       "  </thead>\n",
       "  <tbody>\n",
       "    <tr>\n",
       "      <th>1281</th>\n",
       "      <td>Пока еще жива</td>\n",
       "      <td>111005313</td>\n",
       "      <td>2013-10-11 12:00:00</td>\n",
       "      <td>Художественный</td>\n",
       "      <td>АНО содействия развитию кинематографии \"Ангел-...</td>\n",
       "      <td>Россия</td>\n",
       "      <td>А.Атанесян</td>\n",
       "      <td>А.Атанесян, М.Бабаханов, Р.Бутко</td>\n",
       "      <td>«16+» - для детей старше 16 лет</td>\n",
       "      <td>0.00</td>\n",
       "      <td>...</td>\n",
       "      <td>79,411,900.00</td>\n",
       "      <td>Министерство культуры</td>\n",
       "      <td>8.10</td>\n",
       "      <td>драма,мелодрама</td>\n",
       "      <td>365,353.60</td>\n",
       "      <td>2013</td>\n",
       "      <td>А.Атанесян</td>\n",
       "      <td>драма</td>\n",
       "      <td>0.33</td>\n",
       "      <td>True</td>\n",
       "    </tr>\n",
       "    <tr>\n",
       "      <th>1448</th>\n",
       "      <td>Бесславные придурки</td>\n",
       "      <td>111003314</td>\n",
       "      <td>2014-03-28 12:00:00</td>\n",
       "      <td>Художественный</td>\n",
       "      <td>ООО \"Компания \"АТК-Студио\"</td>\n",
       "      <td>Россия</td>\n",
       "      <td>А.Якимчук</td>\n",
       "      <td>А.Тютрюмов</td>\n",
       "      <td>«12+» - для детей старше 12 лет</td>\n",
       "      <td>0.00</td>\n",
       "      <td>...</td>\n",
       "      <td>37,142,857.00</td>\n",
       "      <td>Министерство культуры</td>\n",
       "      <td>NaN</td>\n",
       "      <td>unknown</td>\n",
       "      <td>28,140.00</td>\n",
       "      <td>2014</td>\n",
       "      <td>А.Якимчук</td>\n",
       "      <td>unknown</td>\n",
       "      <td>0.70</td>\n",
       "      <td>True</td>\n",
       "    </tr>\n",
       "    <tr>\n",
       "      <th>1498</th>\n",
       "      <td>Невидимки</td>\n",
       "      <td>111004213</td>\n",
       "      <td>2013-09-10 12:00:00</td>\n",
       "      <td>Художественный</td>\n",
       "      <td>ООО \"Компания \"РЕАЛ-ДАКОТА\"</td>\n",
       "      <td>Россия</td>\n",
       "      <td>Р.Давлетьяров, С.Комаров</td>\n",
       "      <td>Р.Давлетьяров, А.Котелевский, А.Олейников</td>\n",
       "      <td>«12+» - для детей старше 12 лет</td>\n",
       "      <td>0.00</td>\n",
       "      <td>...</td>\n",
       "      <td>176,023,490.00</td>\n",
       "      <td>Фонд кино</td>\n",
       "      <td>5.30</td>\n",
       "      <td>комедия,фантастика</td>\n",
       "      <td>19,957,031.50</td>\n",
       "      <td>2013</td>\n",
       "      <td>Р.Давлетьяров</td>\n",
       "      <td>комедия</td>\n",
       "      <td>0.61</td>\n",
       "      <td>True</td>\n",
       "    </tr>\n",
       "    <tr>\n",
       "      <th>1524</th>\n",
       "      <td>БЕРЦЫ</td>\n",
       "      <td>111004314</td>\n",
       "      <td>2014-05-05 12:00:00</td>\n",
       "      <td>Художественный</td>\n",
       "      <td>ООО \"Студия \"Пассажир\"</td>\n",
       "      <td>Россия</td>\n",
       "      <td>Е.Миндадзе (псевдоним Катя Шагалова)</td>\n",
       "      <td>Л.Антонова</td>\n",
       "      <td>«16+» - для детей старше 16 лет</td>\n",
       "      <td>0.00</td>\n",
       "      <td>...</td>\n",
       "      <td>40,574,140.00</td>\n",
       "      <td>Министерство культуры</td>\n",
       "      <td>4.20</td>\n",
       "      <td>драма</td>\n",
       "      <td>55,917.50</td>\n",
       "      <td>2014</td>\n",
       "      <td>Е.Миндадзе (псевдоним Катя Шагалова)</td>\n",
       "      <td>драма</td>\n",
       "      <td>0.69</td>\n",
       "      <td>True</td>\n",
       "    </tr>\n",
       "    <tr>\n",
       "      <th>1792</th>\n",
       "      <td>Братья Ч</td>\n",
       "      <td>111004414</td>\n",
       "      <td>2014-04-23 12:00:00</td>\n",
       "      <td>Художественный</td>\n",
       "      <td>ООО \"Студия \"Пассажир\"</td>\n",
       "      <td>Россия</td>\n",
       "      <td>М.Угаров</td>\n",
       "      <td>А.Миндадзе, Л.Антонова</td>\n",
       "      <td>«16+» - для детей старше 16 лет</td>\n",
       "      <td>0.00</td>\n",
       "      <td>...</td>\n",
       "      <td>40,015,122.00</td>\n",
       "      <td>Министерство культуры</td>\n",
       "      <td>6.40</td>\n",
       "      <td>драма</td>\n",
       "      <td>232,100.00</td>\n",
       "      <td>2014</td>\n",
       "      <td>М.Угаров</td>\n",
       "      <td>драма</td>\n",
       "      <td>0.62</td>\n",
       "      <td>True</td>\n",
       "    </tr>\n",
       "    <tr>\n",
       "      <th>...</th>\n",
       "      <td>...</td>\n",
       "      <td>...</td>\n",
       "      <td>...</td>\n",
       "      <td>...</td>\n",
       "      <td>...</td>\n",
       "      <td>...</td>\n",
       "      <td>...</td>\n",
       "      <td>...</td>\n",
       "      <td>...</td>\n",
       "      <td>...</td>\n",
       "      <td>...</td>\n",
       "      <td>...</td>\n",
       "      <td>...</td>\n",
       "      <td>...</td>\n",
       "      <td>...</td>\n",
       "      <td>...</td>\n",
       "      <td>...</td>\n",
       "      <td>...</td>\n",
       "      <td>...</td>\n",
       "      <td>...</td>\n",
       "      <td>...</td>\n",
       "    </tr>\n",
       "    <tr>\n",
       "      <th>7463</th>\n",
       "      <td>Союз спасения</td>\n",
       "      <td>111022019</td>\n",
       "      <td>2019-12-26 12:00:00</td>\n",
       "      <td>Художественный</td>\n",
       "      <td>ЗАО \"Дирекция кино\"</td>\n",
       "      <td>Россия</td>\n",
       "      <td>А.Кравчук</td>\n",
       "      <td>А.Максимов, К.Эрнст</td>\n",
       "      <td>«12+» - для детей старше 12 лет</td>\n",
       "      <td>100,000,000.00</td>\n",
       "      <td>...</td>\n",
       "      <td>980,000,000.00</td>\n",
       "      <td>Фонд кино</td>\n",
       "      <td>6.00</td>\n",
       "      <td>история,биография,драма</td>\n",
       "      <td>717,703,185.53</td>\n",
       "      <td>2019</td>\n",
       "      <td>А.Кравчук</td>\n",
       "      <td>история</td>\n",
       "      <td>0.51</td>\n",
       "      <td>True</td>\n",
       "    </tr>\n",
       "    <tr>\n",
       "      <th>7465</th>\n",
       "      <td>Иван Царевич и Серый Волк 4</td>\n",
       "      <td>114005019</td>\n",
       "      <td>2019-12-20 12:00:00</td>\n",
       "      <td>Анимационный</td>\n",
       "      <td>ООО \"Студия анимационного кино \"Мельница\"</td>\n",
       "      <td>Россия</td>\n",
       "      <td>Д.Шмидт, К.Феоктистов</td>\n",
       "      <td>С.Сельянов, А.Боярский</td>\n",
       "      <td>«6+» - для детей старше 6 лет</td>\n",
       "      <td>100,000,000.00</td>\n",
       "      <td>...</td>\n",
       "      <td>190,000,000.00</td>\n",
       "      <td>Фонд кино</td>\n",
       "      <td>6.70</td>\n",
       "      <td>мультфильм,приключения,семейный</td>\n",
       "      <td>501,069,235.00</td>\n",
       "      <td>2019</td>\n",
       "      <td>Д.Шмидт</td>\n",
       "      <td>мультфильм</td>\n",
       "      <td>0.53</td>\n",
       "      <td>True</td>\n",
       "    </tr>\n",
       "    <tr>\n",
       "      <th>7473</th>\n",
       "      <td>Вторжение</td>\n",
       "      <td>111022519</td>\n",
       "      <td>2019-12-23 12:00:00</td>\n",
       "      <td>Художественный</td>\n",
       "      <td>ООО \"Арт Пикчерс Студия\", ООО \"Водород 2011\"</td>\n",
       "      <td>Россия</td>\n",
       "      <td>Ф.Бондарчук</td>\n",
       "      <td>Ф.Бондарчук, М.Врубель, А.Андрющенко, Д.Рудовский</td>\n",
       "      <td>«12+» - для детей старше 12 лет</td>\n",
       "      <td>100,000,000.00</td>\n",
       "      <td>...</td>\n",
       "      <td>944,000,000.00</td>\n",
       "      <td>Фонд кино</td>\n",
       "      <td>5.70</td>\n",
       "      <td>фантастика,боевик</td>\n",
       "      <td>0.00</td>\n",
       "      <td>2019</td>\n",
       "      <td>Ф.Бондарчук</td>\n",
       "      <td>фантастика</td>\n",
       "      <td>0.53</td>\n",
       "      <td>False</td>\n",
       "    </tr>\n",
       "    <tr>\n",
       "      <th>7475</th>\n",
       "      <td>Я свободен</td>\n",
       "      <td>111023019</td>\n",
       "      <td>2019-12-26 12:00:00</td>\n",
       "      <td>Художественный</td>\n",
       "      <td>АО \"ТПО \"Киностудия им. М.Горького\"</td>\n",
       "      <td>Россия</td>\n",
       "      <td>И.Северов</td>\n",
       "      <td>С.Зернов</td>\n",
       "      <td>«12+» - для детей старше 12 лет</td>\n",
       "      <td>0.00</td>\n",
       "      <td>...</td>\n",
       "      <td>46,154,000.00</td>\n",
       "      <td>Министерство культуры</td>\n",
       "      <td>5.90</td>\n",
       "      <td>драма</td>\n",
       "      <td>0.00</td>\n",
       "      <td>2019</td>\n",
       "      <td>И.Северов</td>\n",
       "      <td>драма</td>\n",
       "      <td>0.65</td>\n",
       "      <td>False</td>\n",
       "    </tr>\n",
       "    <tr>\n",
       "      <th>7477</th>\n",
       "      <td>(Не)идеальный мужчина</td>\n",
       "      <td>111023119</td>\n",
       "      <td>2019-12-24 12:00:00</td>\n",
       "      <td>Художественный</td>\n",
       "      <td>ООО \"Нон-Стоп Продакшн\"</td>\n",
       "      <td>Россия</td>\n",
       "      <td>М.Бальчюнас (псевдоним М.Вайсберг)</td>\n",
       "      <td>С.Мелькумов, А.Роднянский, М.Вайсберг, Р.Минас...</td>\n",
       "      <td>«12+» - для детей старше 12 лет</td>\n",
       "      <td>40,000,000.00</td>\n",
       "      <td>...</td>\n",
       "      <td>150,147,502.00</td>\n",
       "      <td>Фонд кино</td>\n",
       "      <td>4.50</td>\n",
       "      <td>комедия,фантастика,мелодрама</td>\n",
       "      <td>0.00</td>\n",
       "      <td>2019</td>\n",
       "      <td>М.Бальчюнас (псевдоним М.Вайсберг)</td>\n",
       "      <td>комедия</td>\n",
       "      <td>0.67</td>\n",
       "      <td>False</td>\n",
       "    </tr>\n",
       "  </tbody>\n",
       "</table>\n",
       "<p>315 rows × 21 columns</p>\n",
       "</div>"
      ],
      "text/plain": [
       "                            title  pu_number     show_start_date  \\\n",
       "1281                Пока еще жива  111005313 2013-10-11 12:00:00   \n",
       "1448          Бесславные придурки  111003314 2014-03-28 12:00:00   \n",
       "1498                    Невидимки  111004213 2013-09-10 12:00:00   \n",
       "1524                        БЕРЦЫ  111004314 2014-05-05 12:00:00   \n",
       "1792                     Братья Ч  111004414 2014-04-23 12:00:00   \n",
       "...                           ...        ...                 ...   \n",
       "7463                Союз спасения  111022019 2019-12-26 12:00:00   \n",
       "7465  Иван Царевич и Серый Волк 4  114005019 2019-12-20 12:00:00   \n",
       "7473                    Вторжение  111022519 2019-12-23 12:00:00   \n",
       "7475                   Я свободен  111023019 2019-12-26 12:00:00   \n",
       "7477        (Не)идеальный мужчина  111023119 2019-12-24 12:00:00   \n",
       "\n",
       "                type                                        film_studio  \\\n",
       "1281  Художественный  АНО содействия развитию кинематографии \"Ангел-...   \n",
       "1448  Художественный                         ООО \"Компания \"АТК-Студио\"   \n",
       "1498  Художественный                        ООО \"Компания \"РЕАЛ-ДАКОТА\"   \n",
       "1524  Художественный                             ООО \"Студия \"Пассажир\"   \n",
       "1792  Художественный                             ООО \"Студия \"Пассажир\"   \n",
       "...              ...                                                ...   \n",
       "7463  Художественный                                ЗАО \"Дирекция кино\"   \n",
       "7465    Анимационный          ООО \"Студия анимационного кино \"Мельница\"   \n",
       "7473  Художественный       ООО \"Арт Пикчерс Студия\", ООО \"Водород 2011\"   \n",
       "7475  Художественный                АО \"ТПО \"Киностудия им. М.Горького\"   \n",
       "7477  Художественный                           ООО \"Нон-Стоп Продакшн\"    \n",
       "\n",
       "     production_country                              director  \\\n",
       "1281             Россия                            А.Атанесян   \n",
       "1448             Россия                             А.Якимчук   \n",
       "1498             Россия              Р.Давлетьяров, С.Комаров   \n",
       "1524             Россия  Е.Миндадзе (псевдоним Катя Шагалова)   \n",
       "1792             Россия                              М.Угаров   \n",
       "...                 ...                                   ...   \n",
       "7463             Россия                             А.Кравчук   \n",
       "7465             Россия                 Д.Шмидт, К.Феоктистов   \n",
       "7473             Россия                           Ф.Бондарчук   \n",
       "7475             Россия                             И.Северов   \n",
       "7477             Россия    М.Бальчюнас (псевдоним М.Вайсберг)   \n",
       "\n",
       "                                               producer  \\\n",
       "1281                   А.Атанесян, М.Бабаханов, Р.Бутко   \n",
       "1448                                         А.Тютрюмов   \n",
       "1498          Р.Давлетьяров, А.Котелевский, А.Олейников   \n",
       "1524                                         Л.Антонова   \n",
       "1792                             А.Миндадзе, Л.Антонова   \n",
       "...                                                 ...   \n",
       "7463                                А.Максимов, К.Эрнст   \n",
       "7465                             С.Сельянов, А.Боярский   \n",
       "7473  Ф.Бондарчук, М.Врубель, А.Андрющенко, Д.Рудовский   \n",
       "7475                                           С.Зернов   \n",
       "7477  С.Мелькумов, А.Роднянский, М.Вайсберг, Р.Минас...   \n",
       "\n",
       "                      age_restriction  refundable_support  ...         budget  \\\n",
       "1281  «16+» - для детей старше 16 лет                0.00  ...  79,411,900.00   \n",
       "1448  «12+» - для детей старше 12 лет                0.00  ...  37,142,857.00   \n",
       "1498  «12+» - для детей старше 12 лет                0.00  ... 176,023,490.00   \n",
       "1524  «16+» - для детей старше 16 лет                0.00  ...  40,574,140.00   \n",
       "1792  «16+» - для детей старше 16 лет                0.00  ...  40,015,122.00   \n",
       "...                               ...                 ...  ...            ...   \n",
       "7463  «12+» - для детей старше 12 лет      100,000,000.00  ... 980,000,000.00   \n",
       "7465    «6+» - для детей старше 6 лет      100,000,000.00  ... 190,000,000.00   \n",
       "7473  «12+» - для детей старше 12 лет      100,000,000.00  ... 944,000,000.00   \n",
       "7475  «12+» - для детей старше 12 лет                0.00  ...  46,154,000.00   \n",
       "7477  «12+» - для детей старше 12 лет       40,000,000.00  ... 150,147,502.00   \n",
       "\n",
       "           financing_source ratings                           genres  \\\n",
       "1281  Министерство культуры    8.10                  драма,мелодрама   \n",
       "1448  Министерство культуры     NaN                          unknown   \n",
       "1498              Фонд кино    5.30               комедия,фантастика   \n",
       "1524  Министерство культуры    4.20                            драма   \n",
       "1792  Министерство культуры    6.40                            драма   \n",
       "...                     ...     ...                              ...   \n",
       "7463              Фонд кино    6.00          история,биография,драма   \n",
       "7465              Фонд кино    6.70  мультфильм,приключения,семейный   \n",
       "7473              Фонд кино    5.70                фантастика,боевик   \n",
       "7475  Министерство культуры    5.90                            драма   \n",
       "7477              Фонд кино    4.50     комедия,фантастика,мелодрама   \n",
       "\n",
       "         box_office  year                         main_director  main_genre  \\\n",
       "1281     365,353.60  2013                            А.Атанесян       драма   \n",
       "1448      28,140.00  2014                             А.Якимчук     unknown   \n",
       "1498  19,957,031.50  2013                         Р.Давлетьяров     комедия   \n",
       "1524      55,917.50  2014  Е.Миндадзе (псевдоним Катя Шагалова)       драма   \n",
       "1792     232,100.00  2014                              М.Угаров       драма   \n",
       "...             ...   ...                                   ...         ...   \n",
       "7463 717,703,185.53  2019                             А.Кравчук     история   \n",
       "7465 501,069,235.00  2019                               Д.Шмидт  мультфильм   \n",
       "7473           0.00  2019                           Ф.Бондарчук  фантастика   \n",
       "7475           0.00  2019                             И.Северов       драма   \n",
       "7477           0.00  2019    М.Бальчюнас (псевдоним М.Вайсберг)     комедия   \n",
       "\n",
       "     proportion  rental  \n",
       "1281       0.33    True  \n",
       "1448       0.70    True  \n",
       "1498       0.61    True  \n",
       "1524       0.69    True  \n",
       "1792       0.62    True  \n",
       "...         ...     ...  \n",
       "7463       0.51    True  \n",
       "7465       0.53    True  \n",
       "7473       0.53   False  \n",
       "7475       0.65   False  \n",
       "7477       0.67   False  \n",
       "\n",
       "[315 rows x 21 columns]"
      ]
     },
     "execution_count": 279,
     "metadata": {},
     "output_type": "execute_result"
    }
   ],
   "source": [
    "russ_support"
   ]
  },
  {
   "cell_type": "code",
   "execution_count": 280,
   "metadata": {},
   "outputs": [],
   "source": [
    "russ_no_support = data.query('refundable_support==0 and nonrefundable_support==0 and production_country==\"Россия\"')"
   ]
  },
  {
   "cell_type": "code",
   "execution_count": 281,
   "metadata": {},
   "outputs": [
    {
     "data": {
      "text/html": [
       "<div>\n",
       "<style scoped>\n",
       "    .dataframe tbody tr th:only-of-type {\n",
       "        vertical-align: middle;\n",
       "    }\n",
       "\n",
       "    .dataframe tbody tr th {\n",
       "        vertical-align: top;\n",
       "    }\n",
       "\n",
       "    .dataframe thead th {\n",
       "        text-align: right;\n",
       "    }\n",
       "</style>\n",
       "<table border=\"1\" class=\"dataframe\">\n",
       "  <thead>\n",
       "    <tr style=\"text-align: right;\">\n",
       "      <th></th>\n",
       "      <th>title</th>\n",
       "      <th>pu_number</th>\n",
       "      <th>show_start_date</th>\n",
       "      <th>type</th>\n",
       "      <th>film_studio</th>\n",
       "      <th>production_country</th>\n",
       "      <th>director</th>\n",
       "      <th>producer</th>\n",
       "      <th>age_restriction</th>\n",
       "      <th>refundable_support</th>\n",
       "      <th>...</th>\n",
       "      <th>budget</th>\n",
       "      <th>financing_source</th>\n",
       "      <th>ratings</th>\n",
       "      <th>genres</th>\n",
       "      <th>box_office</th>\n",
       "      <th>year</th>\n",
       "      <th>main_director</th>\n",
       "      <th>main_genre</th>\n",
       "      <th>proportion</th>\n",
       "      <th>rental</th>\n",
       "    </tr>\n",
       "  </thead>\n",
       "  <tbody>\n",
       "    <tr>\n",
       "      <th>336</th>\n",
       "      <td>Каникулы строгого режима</td>\n",
       "      <td>111008514</td>\n",
       "      <td>2014-08-07 12:00:00</td>\n",
       "      <td>Художественный</td>\n",
       "      <td>ООО \"Кинобазза\" по  заказу ЗАО \"Дирекция Кино\"</td>\n",
       "      <td>Россия</td>\n",
       "      <td>И.Зайцев</td>\n",
       "      <td>А.Максимов, Н.Попов, Д.Файзиев</td>\n",
       "      <td>«12+» - для детей старше 12 лет</td>\n",
       "      <td>0.00</td>\n",
       "      <td>...</td>\n",
       "      <td>0.00</td>\n",
       "      <td>0</td>\n",
       "      <td>7.10</td>\n",
       "      <td>драма,комедия,приключения</td>\n",
       "      <td>360.00</td>\n",
       "      <td>2014</td>\n",
       "      <td>И.Зайцев</td>\n",
       "      <td>драма</td>\n",
       "      <td>NaN</td>\n",
       "      <td>True</td>\n",
       "    </tr>\n",
       "    <tr>\n",
       "      <th>462</th>\n",
       "      <td>Август. Восьмого</td>\n",
       "      <td>111000612</td>\n",
       "      <td>2012-02-07 12:00:00</td>\n",
       "      <td>Художественный</td>\n",
       "      <td>ЗАО \"ПК \"ГЛАВКИНО\"</td>\n",
       "      <td>Россия</td>\n",
       "      <td>Д.Файзиев</td>\n",
       "      <td>Д.Файзиев, Ф.Бондарчук, И.Бачурин</td>\n",
       "      <td>«12+» - для детей старше 12 лет</td>\n",
       "      <td>0.00</td>\n",
       "      <td>...</td>\n",
       "      <td>0.00</td>\n",
       "      <td>0</td>\n",
       "      <td>6.10</td>\n",
       "      <td>драма,военный</td>\n",
       "      <td>6,775.00</td>\n",
       "      <td>2012</td>\n",
       "      <td>Д.Файзиев</td>\n",
       "      <td>драма</td>\n",
       "      <td>NaN</td>\n",
       "      <td>True</td>\n",
       "    </tr>\n",
       "    <tr>\n",
       "      <th>463</th>\n",
       "      <td>Тот еще...!</td>\n",
       "      <td>111001612</td>\n",
       "      <td>2012-02-20 12:00:00</td>\n",
       "      <td>Художественный</td>\n",
       "      <td>ООО \"Энджой мувиз\"</td>\n",
       "      <td>Россия</td>\n",
       "      <td>С.Андреасян</td>\n",
       "      <td>Г.Малков</td>\n",
       "      <td>«12+» - для детей старше 12 лет</td>\n",
       "      <td>0.00</td>\n",
       "      <td>...</td>\n",
       "      <td>0.00</td>\n",
       "      <td>0</td>\n",
       "      <td>2.60</td>\n",
       "      <td>фэнтези,комедия,семейный</td>\n",
       "      <td>12,779.00</td>\n",
       "      <td>2012</td>\n",
       "      <td>С.Андреасян</td>\n",
       "      <td>фэнтези</td>\n",
       "      <td>NaN</td>\n",
       "      <td>True</td>\n",
       "    </tr>\n",
       "    <tr>\n",
       "      <th>464</th>\n",
       "      <td>КОКОКО</td>\n",
       "      <td>111003112</td>\n",
       "      <td>2012-06-05 12:00:00</td>\n",
       "      <td>Художественный</td>\n",
       "      <td>ООО Кинокомпания \"Глобус-фильм\"</td>\n",
       "      <td>Россия</td>\n",
       "      <td>А.Смирнова</td>\n",
       "      <td>С.Сельянов</td>\n",
       "      <td>«18+» - запрещено для детей</td>\n",
       "      <td>0.00</td>\n",
       "      <td>...</td>\n",
       "      <td>0.00</td>\n",
       "      <td>0</td>\n",
       "      <td>6.90</td>\n",
       "      <td>драма,комедия</td>\n",
       "      <td>200.00</td>\n",
       "      <td>2012</td>\n",
       "      <td>А.Смирнова</td>\n",
       "      <td>драма</td>\n",
       "      <td>NaN</td>\n",
       "      <td>True</td>\n",
       "    </tr>\n",
       "    <tr>\n",
       "      <th>469</th>\n",
       "      <td>Разговор</td>\n",
       "      <td>111000712</td>\n",
       "      <td>2012-02-07 12:00:00</td>\n",
       "      <td>Художественный</td>\n",
       "      <td>ООО \"Кинокомпания \"КВФильм-Продакшн\", ООО \"Ком...</td>\n",
       "      <td>Россия</td>\n",
       "      <td>В.Иванов, С.Комаров</td>\n",
       "      <td>В.Карев</td>\n",
       "      <td>«16+» - для детей старше 16 лет</td>\n",
       "      <td>0.00</td>\n",
       "      <td>...</td>\n",
       "      <td>0.00</td>\n",
       "      <td>0</td>\n",
       "      <td>7.60</td>\n",
       "      <td>триллер,драма,детектив</td>\n",
       "      <td>0.00</td>\n",
       "      <td>2012</td>\n",
       "      <td>В.Иванов</td>\n",
       "      <td>триллер</td>\n",
       "      <td>NaN</td>\n",
       "      <td>False</td>\n",
       "    </tr>\n",
       "    <tr>\n",
       "      <th>...</th>\n",
       "      <td>...</td>\n",
       "      <td>...</td>\n",
       "      <td>...</td>\n",
       "      <td>...</td>\n",
       "      <td>...</td>\n",
       "      <td>...</td>\n",
       "      <td>...</td>\n",
       "      <td>...</td>\n",
       "      <td>...</td>\n",
       "      <td>...</td>\n",
       "      <td>...</td>\n",
       "      <td>...</td>\n",
       "      <td>...</td>\n",
       "      <td>...</td>\n",
       "      <td>...</td>\n",
       "      <td>...</td>\n",
       "      <td>...</td>\n",
       "      <td>...</td>\n",
       "      <td>...</td>\n",
       "      <td>...</td>\n",
       "      <td>...</td>\n",
       "    </tr>\n",
       "    <tr>\n",
       "      <th>7464</th>\n",
       "      <td>Fair play (Честная игра)</td>\n",
       "      <td>211055919</td>\n",
       "      <td>2019-12-17 12:00:00</td>\n",
       "      <td>Художественный</td>\n",
       "      <td>ИП Сигал Екатерина Тенгизовна</td>\n",
       "      <td>Россия</td>\n",
       "      <td>Д.Кудрявцев</td>\n",
       "      <td>Е.Сигал</td>\n",
       "      <td>«16+» - для детей старше 16 лет</td>\n",
       "      <td>0.00</td>\n",
       "      <td>...</td>\n",
       "      <td>0.00</td>\n",
       "      <td>0</td>\n",
       "      <td>6.30</td>\n",
       "      <td>боевик,триллер,драма</td>\n",
       "      <td>0.00</td>\n",
       "      <td>2019</td>\n",
       "      <td>Д.Кудрявцев</td>\n",
       "      <td>боевик</td>\n",
       "      <td>NaN</td>\n",
       "      <td>False</td>\n",
       "    </tr>\n",
       "    <tr>\n",
       "      <th>7466</th>\n",
       "      <td>Жёлтый клевер</td>\n",
       "      <td>111022219</td>\n",
       "      <td>2019-12-27 12:00:00</td>\n",
       "      <td>Художественный</td>\n",
       "      <td>Соломатина Людмила Леонидовна</td>\n",
       "      <td>Россия</td>\n",
       "      <td>Л.Соломатина (Томилова)</td>\n",
       "      <td>Л.Соломатина (Томилова)</td>\n",
       "      <td>«12+» - для детей старше 12 лет</td>\n",
       "      <td>0.00</td>\n",
       "      <td>...</td>\n",
       "      <td>0.00</td>\n",
       "      <td>0</td>\n",
       "      <td>NaN</td>\n",
       "      <td>unknown</td>\n",
       "      <td>0.00</td>\n",
       "      <td>2019</td>\n",
       "      <td>Л.Соломатина (Томилова)</td>\n",
       "      <td>unknown</td>\n",
       "      <td>NaN</td>\n",
       "      <td>False</td>\n",
       "    </tr>\n",
       "    <tr>\n",
       "      <th>7469</th>\n",
       "      <td>Дикие и свободные</td>\n",
       "      <td>112004819</td>\n",
       "      <td>2019-12-23 12:00:00</td>\n",
       "      <td>Документальный</td>\n",
       "      <td>АНО \"ТВ-Новости\"</td>\n",
       "      <td>Россия</td>\n",
       "      <td>Н.Карачкова</td>\n",
       "      <td>В.Сенина</td>\n",
       "      <td>«6+» - для детей старше 6 лет</td>\n",
       "      <td>0.00</td>\n",
       "      <td>...</td>\n",
       "      <td>0.00</td>\n",
       "      <td>0</td>\n",
       "      <td>NaN</td>\n",
       "      <td>unknown</td>\n",
       "      <td>0.00</td>\n",
       "      <td>2019</td>\n",
       "      <td>Н.Карачкова</td>\n",
       "      <td>unknown</td>\n",
       "      <td>NaN</td>\n",
       "      <td>False</td>\n",
       "    </tr>\n",
       "    <tr>\n",
       "      <th>7474</th>\n",
       "      <td>Папа</td>\n",
       "      <td>111022919</td>\n",
       "      <td>2019-12-24 12:00:00</td>\n",
       "      <td>Художественный</td>\n",
       "      <td>ООО \"Киношкола имени Сергея Федоровича Бондарч...</td>\n",
       "      <td>Россия</td>\n",
       "      <td>К.Чувикова</td>\n",
       "      <td>ООО \"Киношкола имени Сергея Федоровича Бондарч...</td>\n",
       "      <td>«18+» - запрещено для детей</td>\n",
       "      <td>0.00</td>\n",
       "      <td>...</td>\n",
       "      <td>0.00</td>\n",
       "      <td>0</td>\n",
       "      <td>8.20</td>\n",
       "      <td>драма</td>\n",
       "      <td>0.00</td>\n",
       "      <td>2019</td>\n",
       "      <td>К.Чувикова</td>\n",
       "      <td>драма</td>\n",
       "      <td>NaN</td>\n",
       "      <td>False</td>\n",
       "    </tr>\n",
       "    <tr>\n",
       "      <th>7478</th>\n",
       "      <td>Эколав</td>\n",
       "      <td>111023219</td>\n",
       "      <td>2019-12-26 12:00:00</td>\n",
       "      <td>Художественный</td>\n",
       "      <td>ВГИК</td>\n",
       "      <td>Россия</td>\n",
       "      <td>Д.Григорьев</td>\n",
       "      <td>ВГИК</td>\n",
       "      <td>«18+» - запрещено для детей</td>\n",
       "      <td>0.00</td>\n",
       "      <td>...</td>\n",
       "      <td>0.00</td>\n",
       "      <td>0</td>\n",
       "      <td>NaN</td>\n",
       "      <td>unknown</td>\n",
       "      <td>0.00</td>\n",
       "      <td>2019</td>\n",
       "      <td>Д.Григорьев</td>\n",
       "      <td>unknown</td>\n",
       "      <td>NaN</td>\n",
       "      <td>False</td>\n",
       "    </tr>\n",
       "  </tbody>\n",
       "</table>\n",
       "<p>1491 rows × 21 columns</p>\n",
       "</div>"
      ],
      "text/plain": [
       "                         title  pu_number     show_start_date            type  \\\n",
       "336   Каникулы строгого режима  111008514 2014-08-07 12:00:00  Художественный   \n",
       "462           Август. Восьмого  111000612 2012-02-07 12:00:00  Художественный   \n",
       "463                Тот еще...!  111001612 2012-02-20 12:00:00  Художественный   \n",
       "464                     КОКОКО  111003112 2012-06-05 12:00:00  Художественный   \n",
       "469                   Разговор  111000712 2012-02-07 12:00:00  Художественный   \n",
       "...                        ...        ...                 ...             ...   \n",
       "7464  Fair play (Честная игра)  211055919 2019-12-17 12:00:00  Художественный   \n",
       "7466             Жёлтый клевер  111022219 2019-12-27 12:00:00  Художественный   \n",
       "7469         Дикие и свободные  112004819 2019-12-23 12:00:00  Документальный   \n",
       "7474                      Папа  111022919 2019-12-24 12:00:00  Художественный   \n",
       "7478                    Эколав  111023219 2019-12-26 12:00:00  Художественный   \n",
       "\n",
       "                                            film_studio production_country  \\\n",
       "336      ООО \"Кинобазза\" по  заказу ЗАО \"Дирекция Кино\"             Россия   \n",
       "462                                  ЗАО \"ПК \"ГЛАВКИНО\"             Россия   \n",
       "463                                  ООО \"Энджой мувиз\"             Россия   \n",
       "464                     ООО Кинокомпания \"Глобус-фильм\"             Россия   \n",
       "469   ООО \"Кинокомпания \"КВФильм-Продакшн\", ООО \"Ком...             Россия   \n",
       "...                                                 ...                ...   \n",
       "7464                      ИП Сигал Екатерина Тенгизовна             Россия   \n",
       "7466                      Соломатина Людмила Леонидовна             Россия   \n",
       "7469                                   АНО \"ТВ-Новости\"             Россия   \n",
       "7474  ООО \"Киношкола имени Сергея Федоровича Бондарч...             Россия   \n",
       "7478                                               ВГИК             Россия   \n",
       "\n",
       "                     director  \\\n",
       "336                  И.Зайцев   \n",
       "462                 Д.Файзиев   \n",
       "463               С.Андреасян   \n",
       "464                А.Смирнова   \n",
       "469       В.Иванов, С.Комаров   \n",
       "...                       ...   \n",
       "7464              Д.Кудрявцев   \n",
       "7466  Л.Соломатина (Томилова)   \n",
       "7469              Н.Карачкова   \n",
       "7474               К.Чувикова   \n",
       "7478              Д.Григорьев   \n",
       "\n",
       "                                               producer  \\\n",
       "336                      А.Максимов, Н.Попов, Д.Файзиев   \n",
       "462                   Д.Файзиев, Ф.Бондарчук, И.Бачурин   \n",
       "463                                            Г.Малков   \n",
       "464                                          С.Сельянов   \n",
       "469                                             В.Карев   \n",
       "...                                                 ...   \n",
       "7464                                            Е.Сигал   \n",
       "7466                            Л.Соломатина (Томилова)   \n",
       "7469                                           В.Сенина   \n",
       "7474  ООО \"Киношкола имени Сергея Федоровича Бондарч...   \n",
       "7478                                               ВГИК   \n",
       "\n",
       "                      age_restriction  refundable_support  ...  budget  \\\n",
       "336   «12+» - для детей старше 12 лет                0.00  ...    0.00   \n",
       "462   «12+» - для детей старше 12 лет                0.00  ...    0.00   \n",
       "463   «12+» - для детей старше 12 лет                0.00  ...    0.00   \n",
       "464       «18+» - запрещено для детей                0.00  ...    0.00   \n",
       "469   «16+» - для детей старше 16 лет                0.00  ...    0.00   \n",
       "...                               ...                 ...  ...     ...   \n",
       "7464  «16+» - для детей старше 16 лет                0.00  ...    0.00   \n",
       "7466  «12+» - для детей старше 12 лет                0.00  ...    0.00   \n",
       "7469    «6+» - для детей старше 6 лет                0.00  ...    0.00   \n",
       "7474      «18+» - запрещено для детей                0.00  ...    0.00   \n",
       "7478      «18+» - запрещено для детей                0.00  ...    0.00   \n",
       "\n",
       "      financing_source ratings                     genres box_office  year  \\\n",
       "336                  0    7.10  драма,комедия,приключения     360.00  2014   \n",
       "462                  0    6.10              драма,военный   6,775.00  2012   \n",
       "463                  0    2.60   фэнтези,комедия,семейный  12,779.00  2012   \n",
       "464                  0    6.90              драма,комедия     200.00  2012   \n",
       "469                  0    7.60     триллер,драма,детектив       0.00  2012   \n",
       "...                ...     ...                        ...        ...   ...   \n",
       "7464                 0    6.30       боевик,триллер,драма       0.00  2019   \n",
       "7466                 0     NaN                    unknown       0.00  2019   \n",
       "7469                 0     NaN                    unknown       0.00  2019   \n",
       "7474                 0    8.20                      драма       0.00  2019   \n",
       "7478                 0     NaN                    unknown       0.00  2019   \n",
       "\n",
       "                main_director main_genre proportion  rental  \n",
       "336                  И.Зайцев      драма        NaN    True  \n",
       "462                 Д.Файзиев      драма        NaN    True  \n",
       "463               С.Андреасян    фэнтези        NaN    True  \n",
       "464                А.Смирнова      драма        NaN    True  \n",
       "469                  В.Иванов    триллер        NaN   False  \n",
       "...                       ...        ...        ...     ...  \n",
       "7464              Д.Кудрявцев     боевик        NaN   False  \n",
       "7466  Л.Соломатина (Томилова)    unknown        NaN   False  \n",
       "7469              Н.Карачкова    unknown        NaN   False  \n",
       "7474               К.Чувикова      драма        NaN   False  \n",
       "7478              Д.Григорьев    unknown        NaN   False  \n",
       "\n",
       "[1491 rows x 21 columns]"
      ]
     },
     "execution_count": 281,
     "metadata": {},
     "output_type": "execute_result"
    }
   ],
   "source": [
    "russ_no_support"
   ]
  },
  {
   "cell_type": "code",
   "execution_count": 282,
   "metadata": {},
   "outputs": [
    {
     "data": {
      "text/html": [
       "<div>\n",
       "<style scoped>\n",
       "    .dataframe tbody tr th:only-of-type {\n",
       "        vertical-align: middle;\n",
       "    }\n",
       "\n",
       "    .dataframe tbody tr th {\n",
       "        vertical-align: top;\n",
       "    }\n",
       "\n",
       "    .dataframe thead th {\n",
       "        text-align: right;\n",
       "    }\n",
       "</style>\n",
       "<table border=\"1\" class=\"dataframe\">\n",
       "  <thead>\n",
       "    <tr style=\"text-align: right;\">\n",
       "      <th></th>\n",
       "      <th>ratings_without_support</th>\n",
       "      <th>ratings_with_support</th>\n",
       "    </tr>\n",
       "    <tr>\n",
       "      <th>year</th>\n",
       "      <th></th>\n",
       "      <th></th>\n",
       "    </tr>\n",
       "  </thead>\n",
       "  <tbody>\n",
       "    <tr>\n",
       "      <th>2010</th>\n",
       "      <td>6.01</td>\n",
       "      <td>NaN</td>\n",
       "    </tr>\n",
       "    <tr>\n",
       "      <th>2011</th>\n",
       "      <td>5.96</td>\n",
       "      <td>NaN</td>\n",
       "    </tr>\n",
       "    <tr>\n",
       "      <th>2012</th>\n",
       "      <td>6.11</td>\n",
       "      <td>NaN</td>\n",
       "    </tr>\n",
       "    <tr>\n",
       "      <th>2013</th>\n",
       "      <td>5.77</td>\n",
       "      <td>6.70</td>\n",
       "    </tr>\n",
       "    <tr>\n",
       "      <th>2014</th>\n",
       "      <td>6.07</td>\n",
       "      <td>5.96</td>\n",
       "    </tr>\n",
       "    <tr>\n",
       "      <th>2015</th>\n",
       "      <td>5.68</td>\n",
       "      <td>6.07</td>\n",
       "    </tr>\n",
       "    <tr>\n",
       "      <th>2016</th>\n",
       "      <td>6.00</td>\n",
       "      <td>5.66</td>\n",
       "    </tr>\n",
       "    <tr>\n",
       "      <th>2017</th>\n",
       "      <td>5.90</td>\n",
       "      <td>6.00</td>\n",
       "    </tr>\n",
       "    <tr>\n",
       "      <th>2018</th>\n",
       "      <td>6.48</td>\n",
       "      <td>5.98</td>\n",
       "    </tr>\n",
       "    <tr>\n",
       "      <th>2019</th>\n",
       "      <td>6.48</td>\n",
       "      <td>6.19</td>\n",
       "    </tr>\n",
       "  </tbody>\n",
       "</table>\n",
       "</div>"
      ],
      "text/plain": [
       "      ratings_without_support  ratings_with_support\n",
       "year                                               \n",
       "2010                     6.01                   NaN\n",
       "2011                     5.96                   NaN\n",
       "2012                     6.11                   NaN\n",
       "2013                     5.77                  6.70\n",
       "2014                     6.07                  5.96\n",
       "2015                     5.68                  6.07\n",
       "2016                     6.00                  5.66\n",
       "2017                     5.90                  6.00\n",
       "2018                     6.48                  5.98\n",
       "2019                     6.48                  6.19"
      ]
     },
     "execution_count": 282,
     "metadata": {},
     "output_type": "execute_result"
    }
   ],
   "source": [
    "rattt = russ_no_support.pivot_table(index='year', values='ratings')\n",
    "rattt.columns = ['ratings_without_support']\n",
    "ds = russ_support.pivot_table(index='year', values='ratings')\n",
    "ds.columns = ['ratings_with_support']\n",
    "rattt.join(ds)"
   ]
  },
  {
   "cell_type": "markdown",
   "metadata": {},
   "source": [
    "\n",
    "Если проводить анализ рейтинга только российских фильмов с гос поддержкой и без, то картина следующая: в 2013 году (первый год, о котором у нас есть информация о фильмах с гос поддержкой) рейтинг фильмов, финансируемых государтвом, был значительно выше (на 0,93 балла), чем фильмов без поддержки. В последующие годы такой большой разницы рейтингов не наблюдалось, были годы, где выше средний рейтинг фильмов с гос поддержкой, было и наоборот. За 2018 и 2019гг рейтинг фильмов без гос поддержки был выше, чем фильмов с гос поддержкой на 0,5 и 0,29 соответственно.\n",
    "    \n"
   ]
  },
  {
   "cell_type": "code",
   "execution_count": 283,
   "metadata": {},
   "outputs": [
    {
     "data": {
      "text/html": [
       "<div>\n",
       "<style scoped>\n",
       "    .dataframe tbody tr th:only-of-type {\n",
       "        vertical-align: middle;\n",
       "    }\n",
       "\n",
       "    .dataframe tbody tr th {\n",
       "        vertical-align: top;\n",
       "    }\n",
       "\n",
       "    .dataframe thead tr th {\n",
       "        text-align: left;\n",
       "    }\n",
       "\n",
       "    .dataframe thead tr:last-of-type th {\n",
       "        text-align: right;\n",
       "    }\n",
       "</style>\n",
       "<table border=\"1\" class=\"dataframe\">\n",
       "  <thead>\n",
       "    <tr>\n",
       "      <th></th>\n",
       "      <th>count</th>\n",
       "      <th>mean</th>\n",
       "    </tr>\n",
       "    <tr>\n",
       "      <th></th>\n",
       "      <th>ratings</th>\n",
       "      <th>ratings</th>\n",
       "    </tr>\n",
       "    <tr>\n",
       "      <th>main_genre</th>\n",
       "      <th></th>\n",
       "      <th></th>\n",
       "    </tr>\n",
       "  </thead>\n",
       "  <tbody>\n",
       "    <tr>\n",
       "      <th>unknown</th>\n",
       "      <td>0</td>\n",
       "      <td>NaN</td>\n",
       "    </tr>\n",
       "    <tr>\n",
       "      <th>биография</th>\n",
       "      <td>3</td>\n",
       "      <td>6.90</td>\n",
       "    </tr>\n",
       "    <tr>\n",
       "      <th>боевик</th>\n",
       "      <td>6</td>\n",
       "      <td>6.58</td>\n",
       "    </tr>\n",
       "    <tr>\n",
       "      <th>военный</th>\n",
       "      <td>9</td>\n",
       "      <td>6.47</td>\n",
       "    </tr>\n",
       "    <tr>\n",
       "      <th>детектив</th>\n",
       "      <td>5</td>\n",
       "      <td>6.76</td>\n",
       "    </tr>\n",
       "    <tr>\n",
       "      <th>детский</th>\n",
       "      <td>4</td>\n",
       "      <td>7.12</td>\n",
       "    </tr>\n",
       "    <tr>\n",
       "      <th>драма</th>\n",
       "      <td>92</td>\n",
       "      <td>6.39</td>\n",
       "    </tr>\n",
       "    <tr>\n",
       "      <th>история</th>\n",
       "      <td>4</td>\n",
       "      <td>5.35</td>\n",
       "    </tr>\n",
       "    <tr>\n",
       "      <th>комедия</th>\n",
       "      <td>74</td>\n",
       "      <td>5.51</td>\n",
       "    </tr>\n",
       "    <tr>\n",
       "      <th>криминал</th>\n",
       "      <td>3</td>\n",
       "      <td>7.50</td>\n",
       "    </tr>\n",
       "    <tr>\n",
       "      <th>мелодрама</th>\n",
       "      <td>15</td>\n",
       "      <td>5.95</td>\n",
       "    </tr>\n",
       "    <tr>\n",
       "      <th>мультфильм</th>\n",
       "      <td>31</td>\n",
       "      <td>5.80</td>\n",
       "    </tr>\n",
       "    <tr>\n",
       "      <th>мюзикл</th>\n",
       "      <td>4</td>\n",
       "      <td>6.55</td>\n",
       "    </tr>\n",
       "    <tr>\n",
       "      <th>приключения</th>\n",
       "      <td>7</td>\n",
       "      <td>5.87</td>\n",
       "    </tr>\n",
       "    <tr>\n",
       "      <th>реальное ТВ</th>\n",
       "      <td>1</td>\n",
       "      <td>5.60</td>\n",
       "    </tr>\n",
       "    <tr>\n",
       "      <th>семейный</th>\n",
       "      <td>7</td>\n",
       "      <td>5.41</td>\n",
       "    </tr>\n",
       "    <tr>\n",
       "      <th>спорт</th>\n",
       "      <td>3</td>\n",
       "      <td>6.93</td>\n",
       "    </tr>\n",
       "    <tr>\n",
       "      <th>триллер</th>\n",
       "      <td>15</td>\n",
       "      <td>5.71</td>\n",
       "    </tr>\n",
       "    <tr>\n",
       "      <th>ужасы</th>\n",
       "      <td>10</td>\n",
       "      <td>5.20</td>\n",
       "    </tr>\n",
       "    <tr>\n",
       "      <th>фантастика</th>\n",
       "      <td>10</td>\n",
       "      <td>5.82</td>\n",
       "    </tr>\n",
       "    <tr>\n",
       "      <th>фэнтези</th>\n",
       "      <td>10</td>\n",
       "      <td>6.17</td>\n",
       "    </tr>\n",
       "  </tbody>\n",
       "</table>\n",
       "</div>"
      ],
      "text/plain": [
       "              count    mean\n",
       "            ratings ratings\n",
       "main_genre                 \n",
       "unknown           0     NaN\n",
       "биография         3    6.90\n",
       "боевик            6    6.58\n",
       "военный           9    6.47\n",
       "детектив          5    6.76\n",
       "детский           4    7.12\n",
       "драма            92    6.39\n",
       "история           4    5.35\n",
       "комедия          74    5.51\n",
       "криминал          3    7.50\n",
       "мелодрама        15    5.95\n",
       "мультфильм       31    5.80\n",
       "мюзикл            4    6.55\n",
       "приключения       7    5.87\n",
       "реальное ТВ       1    5.60\n",
       "семейный          7    5.41\n",
       "спорт             3    6.93\n",
       "триллер          15    5.71\n",
       "ужасы            10    5.20\n",
       "фантастика       10    5.82\n",
       "фэнтези          10    6.17"
      ]
     },
     "execution_count": 283,
     "metadata": {},
     "output_type": "execute_result"
    }
   ],
   "source": [
    "data.query('refundable_support!=0 or nonrefundable_support!=0')\n",
    ".pivot_table(index='main_genre', values='ratings', aggfunc=['count', 'mean'])"
   ]
  },
  {
   "cell_type": "markdown",
   "metadata": {},
   "source": [
    "В основном фильмы с гос.поддержкой - драмы и комедии. При этом данные комедии имеют самый низкий средний рейтинг по жанрам в фильмах с гос поддержкой."
   ]
  },
  {
   "cell_type": "code",
   "execution_count": 284,
   "metadata": {
    "scrolled": true
   },
   "outputs": [
    {
     "data": {
      "text/html": [
       "<div>\n",
       "<style scoped>\n",
       "    .dataframe tbody tr th:only-of-type {\n",
       "        vertical-align: middle;\n",
       "    }\n",
       "\n",
       "    .dataframe tbody tr th {\n",
       "        vertical-align: top;\n",
       "    }\n",
       "\n",
       "    .dataframe thead tr th {\n",
       "        text-align: left;\n",
       "    }\n",
       "\n",
       "    .dataframe thead tr:last-of-type th {\n",
       "        text-align: right;\n",
       "    }\n",
       "</style>\n",
       "<table border=\"1\" class=\"dataframe\">\n",
       "  <thead>\n",
       "    <tr>\n",
       "      <th></th>\n",
       "      <th colspan=\"2\" halign=\"left\">mean</th>\n",
       "      <th colspan=\"2\" halign=\"left\">count</th>\n",
       "    </tr>\n",
       "    <tr>\n",
       "      <th></th>\n",
       "      <th>box_office</th>\n",
       "      <th>ratings</th>\n",
       "      <th>box_office</th>\n",
       "      <th>ratings</th>\n",
       "    </tr>\n",
       "    <tr>\n",
       "      <th>year</th>\n",
       "      <th></th>\n",
       "      <th></th>\n",
       "      <th></th>\n",
       "      <th></th>\n",
       "    </tr>\n",
       "  </thead>\n",
       "  <tbody>\n",
       "    <tr>\n",
       "      <th>2013</th>\n",
       "      <td>19,957,031.50</td>\n",
       "      <td>5.30</td>\n",
       "      <td>1</td>\n",
       "      <td>1</td>\n",
       "    </tr>\n",
       "    <tr>\n",
       "      <th>2014</th>\n",
       "      <td>173,316,542.56</td>\n",
       "      <td>5.40</td>\n",
       "      <td>5</td>\n",
       "      <td>5</td>\n",
       "    </tr>\n",
       "    <tr>\n",
       "      <th>2015</th>\n",
       "      <td>77,010,209.70</td>\n",
       "      <td>5.72</td>\n",
       "      <td>38</td>\n",
       "      <td>37</td>\n",
       "    </tr>\n",
       "    <tr>\n",
       "      <th>2016</th>\n",
       "      <td>124,679,654.50</td>\n",
       "      <td>5.46</td>\n",
       "      <td>34</td>\n",
       "      <td>33</td>\n",
       "    </tr>\n",
       "    <tr>\n",
       "      <th>2017</th>\n",
       "      <td>240,067,002.37</td>\n",
       "      <td>5.89</td>\n",
       "      <td>29</td>\n",
       "      <td>29</td>\n",
       "    </tr>\n",
       "    <tr>\n",
       "      <th>2018</th>\n",
       "      <td>328,921,564.31</td>\n",
       "      <td>5.67</td>\n",
       "      <td>23</td>\n",
       "      <td>22</td>\n",
       "    </tr>\n",
       "    <tr>\n",
       "      <th>2019</th>\n",
       "      <td>245,210,224.01</td>\n",
       "      <td>6.00</td>\n",
       "      <td>27</td>\n",
       "      <td>27</td>\n",
       "    </tr>\n",
       "  </tbody>\n",
       "</table>\n",
       "</div>"
      ],
      "text/plain": [
       "               mean              count        \n",
       "         box_office ratings box_office ratings\n",
       "year                                          \n",
       "2013  19,957,031.50    5.30          1       1\n",
       "2014 173,316,542.56    5.40          5       5\n",
       "2015  77,010,209.70    5.72         38      37\n",
       "2016 124,679,654.50    5.46         34      33\n",
       "2017 240,067,002.37    5.89         29      29\n",
       "2018 328,921,564.31    5.67         23      22\n",
       "2019 245,210,224.01    6.00         27      27"
      ]
     },
     "execution_count": 284,
     "metadata": {},
     "output_type": "execute_result"
    }
   ],
   "source": [
    "data.query('refundable_support!=0 or nonrefundable_support!=0 and main_genre==\"комедия\"')\n",
    ".pivot_table(index='year', values=['ratings', 'box_office'], aggfunc=['mean', 'count'])"
   ]
  },
  {
   "cell_type": "code",
   "execution_count": 285,
   "metadata": {},
   "outputs": [
    {
     "data": {
      "text/html": [
       "<div>\n",
       "<style scoped>\n",
       "    .dataframe tbody tr th:only-of-type {\n",
       "        vertical-align: middle;\n",
       "    }\n",
       "\n",
       "    .dataframe tbody tr th {\n",
       "        vertical-align: top;\n",
       "    }\n",
       "\n",
       "    .dataframe thead tr th {\n",
       "        text-align: left;\n",
       "    }\n",
       "\n",
       "    .dataframe thead tr:last-of-type th {\n",
       "        text-align: right;\n",
       "    }\n",
       "</style>\n",
       "<table border=\"1\" class=\"dataframe\">\n",
       "  <thead>\n",
       "    <tr>\n",
       "      <th></th>\n",
       "      <th>sum</th>\n",
       "      <th>count</th>\n",
       "    </tr>\n",
       "    <tr>\n",
       "      <th></th>\n",
       "      <th>box_office</th>\n",
       "      <th>box_office</th>\n",
       "    </tr>\n",
       "    <tr>\n",
       "      <th>year</th>\n",
       "      <th></th>\n",
       "      <th></th>\n",
       "    </tr>\n",
       "  </thead>\n",
       "  <tbody>\n",
       "    <tr>\n",
       "      <th>2013</th>\n",
       "      <td>19,957,031.50</td>\n",
       "      <td>1</td>\n",
       "    </tr>\n",
       "    <tr>\n",
       "      <th>2014</th>\n",
       "      <td>866,582,712.80</td>\n",
       "      <td>5</td>\n",
       "    </tr>\n",
       "    <tr>\n",
       "      <th>2015</th>\n",
       "      <td>2,926,387,968.44</td>\n",
       "      <td>38</td>\n",
       "    </tr>\n",
       "    <tr>\n",
       "      <th>2016</th>\n",
       "      <td>4,239,108,252.90</td>\n",
       "      <td>34</td>\n",
       "    </tr>\n",
       "    <tr>\n",
       "      <th>2017</th>\n",
       "      <td>6,961,943,068.76</td>\n",
       "      <td>29</td>\n",
       "    </tr>\n",
       "    <tr>\n",
       "      <th>2018</th>\n",
       "      <td>7,565,195,979.04</td>\n",
       "      <td>23</td>\n",
       "    </tr>\n",
       "    <tr>\n",
       "      <th>2019</th>\n",
       "      <td>6,620,676,048.30</td>\n",
       "      <td>27</td>\n",
       "    </tr>\n",
       "  </tbody>\n",
       "</table>\n",
       "</div>"
      ],
      "text/plain": [
       "                  sum      count\n",
       "           box_office box_office\n",
       "year                            \n",
       "2013    19,957,031.50          1\n",
       "2014   866,582,712.80          5\n",
       "2015 2,926,387,968.44         38\n",
       "2016 4,239,108,252.90         34\n",
       "2017 6,961,943,068.76         29\n",
       "2018 7,565,195,979.04         23\n",
       "2019 6,620,676,048.30         27"
      ]
     },
     "execution_count": 285,
     "metadata": {},
     "output_type": "execute_result"
    }
   ],
   "source": [
    "data.query('refundable_support!=0 or nonrefundable_support!=0 and main_genre==\"комедия\"')\n",
    ".pivot_table(index='year', values= 'box_office', aggfunc=['sum', 'count'])"
   ]
  },
  {
   "cell_type": "markdown",
   "metadata": {},
   "source": [
    "С 2015 года около 30 фильмов жанра комедия имеют гос поддержку, суммарные кассовые сборы по годам имею тенденцию к росту."
   ]
  },
  {
   "cell_type": "code",
   "execution_count": 286,
   "metadata": {
    "scrolled": true
   },
   "outputs": [
    {
     "data": {
      "text/html": [
       "<div>\n",
       "<style scoped>\n",
       "    .dataframe tbody tr th:only-of-type {\n",
       "        vertical-align: middle;\n",
       "    }\n",
       "\n",
       "    .dataframe tbody tr th {\n",
       "        vertical-align: top;\n",
       "    }\n",
       "\n",
       "    .dataframe thead th {\n",
       "        text-align: right;\n",
       "    }\n",
       "</style>\n",
       "<table border=\"1\" class=\"dataframe\">\n",
       "  <thead>\n",
       "    <tr style=\"text-align: right;\">\n",
       "      <th></th>\n",
       "      <th>ratings</th>\n",
       "    </tr>\n",
       "    <tr>\n",
       "      <th>main_director</th>\n",
       "      <th></th>\n",
       "    </tr>\n",
       "  </thead>\n",
       "  <tbody>\n",
       "    <tr>\n",
       "      <th>Д.Дьяченко</th>\n",
       "      <td>4</td>\n",
       "    </tr>\n",
       "    <tr>\n",
       "      <th>Р.Давлетьяров</th>\n",
       "      <td>3</td>\n",
       "    </tr>\n",
       "    <tr>\n",
       "      <th>А.Цицилин</th>\n",
       "      <td>3</td>\n",
       "    </tr>\n",
       "    <tr>\n",
       "      <th>С.Подгаевский</th>\n",
       "      <td>2</td>\n",
       "    </tr>\n",
       "    <tr>\n",
       "      <th>А.Меликян</th>\n",
       "      <td>2</td>\n",
       "    </tr>\n",
       "    <tr>\n",
       "      <th>А.Матисон</th>\n",
       "      <td>2</td>\n",
       "    </tr>\n",
       "    <tr>\n",
       "      <th>Д.Киселев</th>\n",
       "      <td>2</td>\n",
       "    </tr>\n",
       "    <tr>\n",
       "      <th>С.Андреасян</th>\n",
       "      <td>2</td>\n",
       "    </tr>\n",
       "    <tr>\n",
       "      <th>А.Пармас</th>\n",
       "      <td>2</td>\n",
       "    </tr>\n",
       "    <tr>\n",
       "      <th>П.Руминов</th>\n",
       "      <td>2</td>\n",
       "    </tr>\n",
       "  </tbody>\n",
       "</table>\n",
       "</div>"
      ],
      "text/plain": [
       "               ratings\n",
       "main_director         \n",
       "Д.Дьяченко           4\n",
       "Р.Давлетьяров        3\n",
       "А.Цицилин            3\n",
       "С.Подгаевский        2\n",
       "А.Меликян            2\n",
       "А.Матисон            2\n",
       "Д.Киселев            2\n",
       "С.Андреасян          2\n",
       "А.Пармас             2\n",
       "П.Руминов            2"
      ]
     },
     "execution_count": 286,
     "metadata": {},
     "output_type": "execute_result"
    }
   ],
   "source": [
    "data.query('refundable_support!=0 or nonrefundable_support!=0 and main_genre==\"комедия\"')\n",
    ".pivot_table(index='main_director', values='ratings', aggfunc='count').sort_values(by='ratings', ascending=False)\n",
    ".head(10)"
   ]
  },
  {
   "cell_type": "code",
   "execution_count": 287,
   "metadata": {
    "scrolled": true
   },
   "outputs": [
    {
     "data": {
      "text/html": [
       "<div>\n",
       "<style scoped>\n",
       "    .dataframe tbody tr th:only-of-type {\n",
       "        vertical-align: middle;\n",
       "    }\n",
       "\n",
       "    .dataframe tbody tr th {\n",
       "        vertical-align: top;\n",
       "    }\n",
       "\n",
       "    .dataframe thead th {\n",
       "        text-align: right;\n",
       "    }\n",
       "</style>\n",
       "<table border=\"1\" class=\"dataframe\">\n",
       "  <thead>\n",
       "    <tr style=\"text-align: right;\">\n",
       "      <th></th>\n",
       "      <th>ratings</th>\n",
       "    </tr>\n",
       "    <tr>\n",
       "      <th>main_director</th>\n",
       "      <th></th>\n",
       "    </tr>\n",
       "  </thead>\n",
       "  <tbody>\n",
       "    <tr>\n",
       "      <th>Р.Давлетьяров</th>\n",
       "      <td>5</td>\n",
       "    </tr>\n",
       "    <tr>\n",
       "      <th>Д.Дьяченко</th>\n",
       "      <td>4</td>\n",
       "    </tr>\n",
       "    <tr>\n",
       "      <th>С.Андреасян</th>\n",
       "      <td>4</td>\n",
       "    </tr>\n",
       "    <tr>\n",
       "      <th>Д.Шмидт</th>\n",
       "      <td>3</td>\n",
       "    </tr>\n",
       "    <tr>\n",
       "      <th>С.Мокрицкий</th>\n",
       "      <td>3</td>\n",
       "    </tr>\n",
       "    <tr>\n",
       "      <th>А.Цицилин</th>\n",
       "      <td>3</td>\n",
       "    </tr>\n",
       "    <tr>\n",
       "      <th>Н.Хомерики</th>\n",
       "      <td>3</td>\n",
       "    </tr>\n",
       "    <tr>\n",
       "      <th>К.Шипенко</th>\n",
       "      <td>3</td>\n",
       "    </tr>\n",
       "    <tr>\n",
       "      <th>А.Котт</th>\n",
       "      <td>3</td>\n",
       "    </tr>\n",
       "    <tr>\n",
       "      <th>А.Аксененко</th>\n",
       "      <td>3</td>\n",
       "    </tr>\n",
       "  </tbody>\n",
       "</table>\n",
       "</div>"
      ],
      "text/plain": [
       "               ratings\n",
       "main_director         \n",
       "Р.Давлетьяров        5\n",
       "Д.Дьяченко           4\n",
       "С.Андреасян          4\n",
       "Д.Шмидт              3\n",
       "С.Мокрицкий          3\n",
       "А.Цицилин            3\n",
       "Н.Хомерики           3\n",
       "К.Шипенко            3\n",
       "А.Котт               3\n",
       "А.Аксененко          3"
      ]
     },
     "execution_count": 287,
     "metadata": {},
     "output_type": "execute_result"
    }
   ],
   "source": [
    "data.query('refundable_support!=0 or nonrefundable_support!=0 ')\n",
    ".pivot_table(index='main_director', values='ratings', aggfunc='count').sort_values(by='ratings', ascending=False)\n",
    ".head(10)"
   ]
  },
  {
   "cell_type": "markdown",
   "metadata": {},
   "source": [
    "Р.Давлетьяров - режисер 5 фильмов, которого получили гос поддержку за исследуемый период. Д.Дьяченко и С.Андреасян - режисеры, по 4 фильма которых получили гос поддержку. "
   ]
  },
  {
   "cell_type": "code",
   "execution_count": 288,
   "metadata": {},
   "outputs": [
    {
     "data": {
      "text/html": [
       "<div>\n",
       "<style scoped>\n",
       "    .dataframe tbody tr th:only-of-type {\n",
       "        vertical-align: middle;\n",
       "    }\n",
       "\n",
       "    .dataframe tbody tr th {\n",
       "        vertical-align: top;\n",
       "    }\n",
       "\n",
       "    .dataframe thead tr th {\n",
       "        text-align: left;\n",
       "    }\n",
       "\n",
       "    .dataframe thead tr:last-of-type th {\n",
       "        text-align: right;\n",
       "    }\n",
       "</style>\n",
       "<table border=\"1\" class=\"dataframe\">\n",
       "  <thead>\n",
       "    <tr>\n",
       "      <th></th>\n",
       "      <th></th>\n",
       "      <th>sum</th>\n",
       "      <th>count</th>\n",
       "    </tr>\n",
       "    <tr>\n",
       "      <th></th>\n",
       "      <th></th>\n",
       "      <th>box_office</th>\n",
       "      <th>box_office</th>\n",
       "    </tr>\n",
       "    <tr>\n",
       "      <th>year</th>\n",
       "      <th>age_restriction</th>\n",
       "      <th></th>\n",
       "      <th></th>\n",
       "    </tr>\n",
       "  </thead>\n",
       "  <tbody>\n",
       "    <tr>\n",
       "      <th rowspan=\"2\" valign=\"top\">2013</th>\n",
       "      <th>«12+» - для детей старше 12 лет</th>\n",
       "      <td>19,957,031.50</td>\n",
       "      <td>1</td>\n",
       "    </tr>\n",
       "    <tr>\n",
       "      <th>«16+» - для детей старше 16 лет</th>\n",
       "      <td>365,353.60</td>\n",
       "      <td>1</td>\n",
       "    </tr>\n",
       "    <tr>\n",
       "      <th rowspan=\"5\" valign=\"top\">2014</th>\n",
       "      <th>«0+» - для любой зрительской аудитории</th>\n",
       "      <td>345,734,656.50</td>\n",
       "      <td>2</td>\n",
       "    </tr>\n",
       "    <tr>\n",
       "      <th>«12+» - для детей старше 12 лет</th>\n",
       "      <td>447,916,649.10</td>\n",
       "      <td>5</td>\n",
       "    </tr>\n",
       "    <tr>\n",
       "      <th>«16+» - для детей старше 16 лет</th>\n",
       "      <td>12,901,436.10</td>\n",
       "      <td>6</td>\n",
       "    </tr>\n",
       "    <tr>\n",
       "      <th>«18+» - запрещено для детей</th>\n",
       "      <td>89,643,791.10</td>\n",
       "      <td>2</td>\n",
       "    </tr>\n",
       "    <tr>\n",
       "      <th>«6+» - для детей старше 6 лет</th>\n",
       "      <td>121,225,633.80</td>\n",
       "      <td>1</td>\n",
       "    </tr>\n",
       "    <tr>\n",
       "      <th rowspan=\"5\" valign=\"top\">2015</th>\n",
       "      <th>«0+» - для любой зрительской аудитории</th>\n",
       "      <td>61,040.00</td>\n",
       "      <td>1</td>\n",
       "    </tr>\n",
       "    <tr>\n",
       "      <th>«12+» - для детей старше 12 лет</th>\n",
       "      <td>2,201,135,951.49</td>\n",
       "      <td>24</td>\n",
       "    </tr>\n",
       "    <tr>\n",
       "      <th>«16+» - для детей старше 16 лет</th>\n",
       "      <td>1,544,961,755.05</td>\n",
       "      <td>39</td>\n",
       "    </tr>\n",
       "    <tr>\n",
       "      <th>«18+» - запрещено для детей</th>\n",
       "      <td>55,065,093.63</td>\n",
       "      <td>5</td>\n",
       "    </tr>\n",
       "    <tr>\n",
       "      <th>«6+» - для детей старше 6 лет</th>\n",
       "      <td>1,984,061,577.97</td>\n",
       "      <td>17</td>\n",
       "    </tr>\n",
       "    <tr>\n",
       "      <th rowspan=\"5\" valign=\"top\">2016</th>\n",
       "      <th>«0+» - для любой зрительской аудитории</th>\n",
       "      <td>658,870.00</td>\n",
       "      <td>2</td>\n",
       "    </tr>\n",
       "    <tr>\n",
       "      <th>«12+» - для детей старше 12 лет</th>\n",
       "      <td>2,817,273,268.90</td>\n",
       "      <td>24</td>\n",
       "    </tr>\n",
       "    <tr>\n",
       "      <th>«16+» - для детей старше 16 лет</th>\n",
       "      <td>1,257,426,526.72</td>\n",
       "      <td>21</td>\n",
       "    </tr>\n",
       "    <tr>\n",
       "      <th>«18+» - запрещено для детей</th>\n",
       "      <td>1,099,917.50</td>\n",
       "      <td>3</td>\n",
       "    </tr>\n",
       "    <tr>\n",
       "      <th>«6+» - для детей старше 6 лет</th>\n",
       "      <td>2,005,249,255.98</td>\n",
       "      <td>11</td>\n",
       "    </tr>\n",
       "    <tr>\n",
       "      <th rowspan=\"5\" valign=\"top\">2017</th>\n",
       "      <th>«0+» - для любой зрительской аудитории</th>\n",
       "      <td>206,478,186.00</td>\n",
       "      <td>2</td>\n",
       "    </tr>\n",
       "    <tr>\n",
       "      <th>«12+» - для детей старше 12 лет</th>\n",
       "      <td>4,027,989,670.20</td>\n",
       "      <td>15</td>\n",
       "    </tr>\n",
       "    <tr>\n",
       "      <th>«16+» - для детей старше 16 лет</th>\n",
       "      <td>1,045,648,979.00</td>\n",
       "      <td>11</td>\n",
       "    </tr>\n",
       "    <tr>\n",
       "      <th>«18+» - запрещено для детей</th>\n",
       "      <td>120,109,783.00</td>\n",
       "      <td>4</td>\n",
       "    </tr>\n",
       "    <tr>\n",
       "      <th>«6+» - для детей старше 6 лет</th>\n",
       "      <td>5,464,848,682.76</td>\n",
       "      <td>9</td>\n",
       "    </tr>\n",
       "    <tr>\n",
       "      <th rowspan=\"4\" valign=\"top\">2018</th>\n",
       "      <th>«12+» - для детей старше 12 лет</th>\n",
       "      <td>5,883,937,243.78</td>\n",
       "      <td>18</td>\n",
       "    </tr>\n",
       "    <tr>\n",
       "      <th>«16+» - для детей старше 16 лет</th>\n",
       "      <td>2,193,975,129.29</td>\n",
       "      <td>19</td>\n",
       "    </tr>\n",
       "    <tr>\n",
       "      <th>«18+» - запрещено для детей</th>\n",
       "      <td>94,650,107.43</td>\n",
       "      <td>9</td>\n",
       "    </tr>\n",
       "    <tr>\n",
       "      <th>«6+» - для детей старше 6 лет</th>\n",
       "      <td>1,761,506,529.75</td>\n",
       "      <td>10</td>\n",
       "    </tr>\n",
       "    <tr>\n",
       "      <th rowspan=\"5\" valign=\"top\">2019</th>\n",
       "      <th>«0+» - для любой зрительской аудитории</th>\n",
       "      <td>0.00</td>\n",
       "      <td>1</td>\n",
       "    </tr>\n",
       "    <tr>\n",
       "      <th>«12+» - для детей старше 12 лет</th>\n",
       "      <td>4,559,753,940.97</td>\n",
       "      <td>19</td>\n",
       "    </tr>\n",
       "    <tr>\n",
       "      <th>«16+» - для детей старше 16 лет</th>\n",
       "      <td>1,600,925,073.17</td>\n",
       "      <td>27</td>\n",
       "    </tr>\n",
       "    <tr>\n",
       "      <th>«18+» - запрещено для детей</th>\n",
       "      <td>199,590,037.49</td>\n",
       "      <td>5</td>\n",
       "    </tr>\n",
       "    <tr>\n",
       "      <th>«6+» - для детей старше 6 лет</th>\n",
       "      <td>2,047,100,019.00</td>\n",
       "      <td>17</td>\n",
       "    </tr>\n",
       "  </tbody>\n",
       "</table>\n",
       "</div>"
      ],
      "text/plain": [
       "                                                         sum      count\n",
       "                                                  box_office box_office\n",
       "year age_restriction                                                   \n",
       "2013 «12+» - для детей старше 12 лет           19,957,031.50          1\n",
       "     «16+» - для детей старше 16 лет              365,353.60          1\n",
       "2014 «0+» - для любой зрительской аудитории   345,734,656.50          2\n",
       "     «12+» - для детей старше 12 лет          447,916,649.10          5\n",
       "     «16+» - для детей старше 16 лет           12,901,436.10          6\n",
       "     «18+» - запрещено для детей               89,643,791.10          2\n",
       "     «6+» - для детей старше 6 лет            121,225,633.80          1\n",
       "2015 «0+» - для любой зрительской аудитории        61,040.00          1\n",
       "     «12+» - для детей старше 12 лет        2,201,135,951.49         24\n",
       "     «16+» - для детей старше 16 лет        1,544,961,755.05         39\n",
       "     «18+» - запрещено для детей               55,065,093.63          5\n",
       "     «6+» - для детей старше 6 лет          1,984,061,577.97         17\n",
       "2016 «0+» - для любой зрительской аудитории       658,870.00          2\n",
       "     «12+» - для детей старше 12 лет        2,817,273,268.90         24\n",
       "     «16+» - для детей старше 16 лет        1,257,426,526.72         21\n",
       "     «18+» - запрещено для детей                1,099,917.50          3\n",
       "     «6+» - для детей старше 6 лет          2,005,249,255.98         11\n",
       "2017 «0+» - для любой зрительской аудитории   206,478,186.00          2\n",
       "     «12+» - для детей старше 12 лет        4,027,989,670.20         15\n",
       "     «16+» - для детей старше 16 лет        1,045,648,979.00         11\n",
       "     «18+» - запрещено для детей              120,109,783.00          4\n",
       "     «6+» - для детей старше 6 лет          5,464,848,682.76          9\n",
       "2018 «12+» - для детей старше 12 лет        5,883,937,243.78         18\n",
       "     «16+» - для детей старше 16 лет        2,193,975,129.29         19\n",
       "     «18+» - запрещено для детей               94,650,107.43          9\n",
       "     «6+» - для детей старше 6 лет          1,761,506,529.75         10\n",
       "2019 «0+» - для любой зрительской аудитории             0.00          1\n",
       "     «12+» - для детей старше 12 лет        4,559,753,940.97         19\n",
       "     «16+» - для детей старше 16 лет        1,600,925,073.17         27\n",
       "     «18+» - запрещено для детей              199,590,037.49          5\n",
       "     «6+» - для детей старше 6 лет          2,047,100,019.00         17"
      ]
     },
     "execution_count": 288,
     "metadata": {},
     "output_type": "execute_result"
    }
   ],
   "source": [
    "data.query('refundable_support!=0 or nonrefundable_support!=0 ')\n",
    ".pivot_table(index=['year', 'age_restriction'], values='box_office', aggfunc=['sum',  'count'])"
   ]
  },
  {
   "cell_type": "markdown",
   "metadata": {},
   "source": [
    "В основном гос поддержку получают фильмы возрастной категорией 16+ и 12+."
   ]
  },
  {
   "cell_type": "code",
   "execution_count": 289,
   "metadata": {},
   "outputs": [],
   "source": [
    "data_support = data.query('refundable_support!=0 or nonrefundable_support!=0 ')"
   ]
  },
  {
   "cell_type": "code",
   "execution_count": 290,
   "metadata": {},
   "outputs": [
    {
     "name": "stderr",
     "output_type": "stream",
     "text": [
      "/tmp/ipykernel_78/4138867383.py:1: SettingWithCopyWarning: \n",
      "A value is trying to be set on a copy of a slice from a DataFrame.\n",
      "Try using .loc[row_indexer,col_indexer] = value instead\n",
      "\n",
      "See the caveats in the documentation: https://pandas.pydata.org/pandas-docs/stable/user_guide/indexing.html#returning-a-view-versus-a-copy\n",
      "  data_support['payback'] = data_support['box_office'] - data_support['budget']\n"
     ]
    },
    {
     "data": {
      "text/html": [
       "<div>\n",
       "<style scoped>\n",
       "    .dataframe tbody tr th:only-of-type {\n",
       "        vertical-align: middle;\n",
       "    }\n",
       "\n",
       "    .dataframe tbody tr th {\n",
       "        vertical-align: top;\n",
       "    }\n",
       "\n",
       "    .dataframe thead th {\n",
       "        text-align: right;\n",
       "    }\n",
       "</style>\n",
       "<table border=\"1\" class=\"dataframe\">\n",
       "  <thead>\n",
       "    <tr style=\"text-align: right;\">\n",
       "      <th></th>\n",
       "      <th>box_office</th>\n",
       "      <th>budget</th>\n",
       "      <th>payback</th>\n",
       "    </tr>\n",
       "  </thead>\n",
       "  <tbody>\n",
       "    <tr>\n",
       "      <th>1281</th>\n",
       "      <td>365,353.60</td>\n",
       "      <td>79,411,900.00</td>\n",
       "      <td>-79,046,546.40</td>\n",
       "    </tr>\n",
       "    <tr>\n",
       "      <th>1448</th>\n",
       "      <td>28,140.00</td>\n",
       "      <td>37,142,857.00</td>\n",
       "      <td>-37,114,717.00</td>\n",
       "    </tr>\n",
       "    <tr>\n",
       "      <th>1498</th>\n",
       "      <td>19,957,031.50</td>\n",
       "      <td>176,023,490.00</td>\n",
       "      <td>-156,066,458.50</td>\n",
       "    </tr>\n",
       "    <tr>\n",
       "      <th>1524</th>\n",
       "      <td>55,917.50</td>\n",
       "      <td>40,574,140.00</td>\n",
       "      <td>-40,518,222.50</td>\n",
       "    </tr>\n",
       "    <tr>\n",
       "      <th>1792</th>\n",
       "      <td>232,100.00</td>\n",
       "      <td>40,015,122.00</td>\n",
       "      <td>-39,783,022.00</td>\n",
       "    </tr>\n",
       "    <tr>\n",
       "      <th>1853</th>\n",
       "      <td>15,078,858.60</td>\n",
       "      <td>51,850,000.00</td>\n",
       "      <td>-36,771,141.40</td>\n",
       "    </tr>\n",
       "    <tr>\n",
       "      <th>1869</th>\n",
       "      <td>249,166,767.70</td>\n",
       "      <td>220,588,394.00</td>\n",
       "      <td>28,578,373.70</td>\n",
       "    </tr>\n",
       "    <tr>\n",
       "      <th>1870</th>\n",
       "      <td>4,731,239.50</td>\n",
       "      <td>86,210,067.00</td>\n",
       "      <td>-81,478,827.50</td>\n",
       "    </tr>\n",
       "    <tr>\n",
       "      <th>1902</th>\n",
       "      <td>352,804,320.40</td>\n",
       "      <td>139,551,503.00</td>\n",
       "      <td>213,252,817.40</td>\n",
       "    </tr>\n",
       "    <tr>\n",
       "      <th>1911</th>\n",
       "      <td>51,907.50</td>\n",
       "      <td>48,571,430.00</td>\n",
       "      <td>-48,519,522.50</td>\n",
       "    </tr>\n",
       "  </tbody>\n",
       "</table>\n",
       "</div>"
      ],
      "text/plain": [
       "         box_office         budget         payback\n",
       "1281     365,353.60  79,411,900.00  -79,046,546.40\n",
       "1448      28,140.00  37,142,857.00  -37,114,717.00\n",
       "1498  19,957,031.50 176,023,490.00 -156,066,458.50\n",
       "1524      55,917.50  40,574,140.00  -40,518,222.50\n",
       "1792     232,100.00  40,015,122.00  -39,783,022.00\n",
       "1853  15,078,858.60  51,850,000.00  -36,771,141.40\n",
       "1869 249,166,767.70 220,588,394.00   28,578,373.70\n",
       "1870   4,731,239.50  86,210,067.00  -81,478,827.50\n",
       "1902 352,804,320.40 139,551,503.00  213,252,817.40\n",
       "1911      51,907.50  48,571,430.00  -48,519,522.50"
      ]
     },
     "execution_count": 290,
     "metadata": {},
     "output_type": "execute_result"
    }
   ],
   "source": [
    "data_support['payback'] = data_support['box_office'] - data_support['budget']\n",
    "data_support[['box_office', 'budget', 'payback']].head(10)"
   ]
  },
  {
   "cell_type": "code",
   "execution_count": 291,
   "metadata": {},
   "outputs": [
    {
     "data": {
      "text/plain": [
       "count              331.00\n",
       "mean        -4,450,103.36\n",
       "std        314,157,958.21\n",
       "min     -1,971,477,243.41\n",
       "25%        -70,055,884.50\n",
       "50%        -41,998,984.00\n",
       "75%         -6,811,807.19\n",
       "max      2,913,568,690.79\n",
       "Name: payback, dtype: float64"
      ]
     },
     "execution_count": 291,
     "metadata": {},
     "output_type": "execute_result"
    }
   ],
   "source": [
    "data_support['payback'].describe()"
   ]
  },
  {
   "cell_type": "code",
   "execution_count": 292,
   "metadata": {
    "scrolled": true
   },
   "outputs": [
    {
     "data": {
      "image/png": "[encoded data removed]",
      "text/plain": [
       "<Figure size 1080x360 with 1 Axes>"
      ]
     },
     "metadata": {
      "needs_background": "light"
     },
     "output_type": "display_data"
    }
   ],
   "source": [
    "data_support['payback'].hist(figsize=(15,5), bins=400)\n",
    "plt.xlabel('Разница между кассовыми сборами и бюджетом фильма, млн. руб.')\n",
    "plt.ylabel('Количество фильмов')\n",
    "plt.title('Распределение количества по разнице между кассовыми сборами и бюджетом фильма')\n",
    "plt.show();"
   ]
  },
  {
   "cell_type": "markdown",
   "metadata": {},
   "source": [
    "В основном кассовые сборы фильмов с гос поддержкой не превышают размер своего бюджета, уходят в минус, есть исключительные случаи, где \"убыток\" составляет чуть меньше 2 млрд рублей, или, обратная ситуация, где \"прибыль\" почти 3 млрд. руб., но такие фильмы редкость,   большая часть фильмов ушла в минус примерно на 500 млн."
   ]
  },
  {
   "cell_type": "code",
   "execution_count": 78,
   "metadata": {},
   "outputs": [
    {
     "data": {
      "text/plain": [
       "count   331.00\n",
       "mean      0.54\n",
       "std       0.20\n",
       "min       0.04\n",
       "25%       0.38\n",
       "50%       0.61\n",
       "75%       0.66\n",
       "max       1.00\n",
       "Name: proportion, dtype: float64"
      ]
     },
     "execution_count": 78,
     "metadata": {},
     "output_type": "execute_result"
    }
   ],
   "source": [
    "data_support['proportion'].describe()"
   ]
  },
  {
   "cell_type": "code",
   "execution_count": 293,
   "metadata": {},
   "outputs": [
    {
     "data": {
      "image/png": "[encoded data removed]",
      "text/plain": [
       "<Figure size 1080x360 with 1 Axes>"
      ]
     },
     "metadata": {
      "needs_background": "light"
     },
     "output_type": "display_data"
    }
   ],
   "source": [
    "data_support['proportion'].hist(figsize=(15,5), bins = 200, range=(0.001,0.9))\n",
    "plt.xlabel('Доля гос средств в бюджете фильма')\n",
    "plt.ylabel('Количество фильмов')\n",
    "plt.title('Распределение количества фильмов по количеству гос средств в общем бюджете фильма')\n",
    "plt.show();"
   ]
  },
  {
   "cell_type": "markdown",
   "metadata": {},
   "source": [
    "Единица - синтетическое значение, не стала его включать в гистограмму, тк не уверена в его достоверности.\n",
    "\n",
    "Большая часть фильмов имеет от 60% до 70% средств гос поддержки в бюджете фильма."
   ]
  },
  {
   "cell_type": "markdown",
   "metadata": {},
   "source": [
    "\n",
    "\n",
    "В данном шаге были исследованы фильмы получившие гос поддержку, проведен сравнительный анализ со всеми стальными фильмами в принципе и сравнительный анализ с российскими фильмами, не получившими гос поддержку.\n",
    "    \n",
    "Если сравнивать российские фильмы с гос поддержкой со всеми остальными, то средний рейтинг по годам у фильмов с гос поддержкой ниже, чем у других фильмов (исключение 2013 год).\n",
    "\n",
    "Если сравнивать только российские фильмы с гос поддержкой и без – здесь ситуация не такая однозначная. В 2013 году средний рейтинг фильмов с гос поддержкой почти на балл выше, чем у фильмов без нее. Также присутствуют годы, где был выше средний рейтинг у фильмов без гос поддержки и наоборот. За 2018 и 2019гг выше рейтинг у фильмов без поддержки.\n",
    "\n",
    "Основные жанры фильмов с поддержкой – драмы и комедии.\n",
    "\n",
    "С 2015 года в среднем около 30 фильмов ежегодно в жанре комедия получают гос поддержку.\n",
    "\n",
    "В основном гос поддержку получают фильмы возрастной категории 16+ и 12+.\n",
    "\n",
    "Чаще всего фильмы с гос поддержкой не окупаются.\n",
    "\n"
   ]
  },
  {
   "cell_type": "markdown",
   "metadata": {
    "id": "V2gYwMcPgFyd"
   },
   "source": [
    "### Шаг 5. Общий вывод"
   ]
  },
  {
   "cell_type": "markdown",
   "metadata": {
    "id": "AYRg3dzXgFye"
   },
   "source": [
    "В работе были изученные данные в период с 2010 по 2019гг. \n",
    "\n",
    "Количество всего выходивших фильмов за этот период то снижалось, то увеличивалось, в диапазоне 500-900, но количество фильмов, выходивших в прокат, имело тенденцию к росту. Самая высокая доля фильмов, вышедших в прокат, 0,70 – за 2017 год, но при этом в 2017 году самое низкое общее количество вышедших фильмов. После 2017 года доля фильмов, вышедших в прокат, снизилась до 0,54. Самая низкая доля была в 2010 году – 0,11.\n",
    "\n",
    "С 2012 по 2019 гг наблюдается тенденция к росту кассовых сборов. Максимальная сумма сборов была в 2019 году и составила 48 млрд. руб., а самые низкие сборы из представленных данных были в 2010 году - 2,3 млн. руб.\n",
    "\n",
    "В проекте были рассчитаны средние и медианные значения кассовых сборов по годам. Медианны значительно ниже средних, это связано с тем, что до 2015 года меньше 40% фильмов выходили в прокат, соответственно, медианное значение для 2010-2014гг - 0, также в последующих годах медиана сильно ниже средней, это связано с неоднородность сборов, какие-то фильмы не собирают сумм даже чтобы покрыть собственные издержки, какие-то окупаются в сотни раз.\n",
    "\n",
    "В работе было проведено исследование зависимости возрастного ограничения и кассовых сборов за период 2015-2019гг. В 2015 году самые высокие сборы получили фильмы с категорией 12+, самые низкие 0+. В 2016 самые высокие - 16+, низкие - 0+. В 2017 самые высокие - 16+, низкие - 0+. В 2018 самые высокие сборы - 16+, низкие - 0+. В 2019 самые высокие - 6+, низкие -0+. То есть самые низкие сборы всегда у кино 0+, а самые высокие чаще у 16+, но бывают исключения, также стоит отметить, что 3 эти категории (6+, 12+ и 16+) имеют зачастую сопоставимые сборы и их размеры различаются не значительно. \n",
    "\n",
    "Также было проведено исследование только фильмов с гос. поддержкой. Средний рейтинг таких фильмов в период 2013-2019гг – 6,0. Когда в то же время средний рейтинг фильмов без гос. поддержки за аналогичный период составил 6,5. Если рассматривать рейтинги этих двух категорий фильмов по годам, то в среднем рейтинг фильмов с гос. поддержкой ниже, чем средний рейтинг без гос. поддержки, только в 2013 году (первый год, по которому у нас есть данные о гос. поддержке) ситуация была обратной.\n",
    "\n",
    "Если проводить анализ рейтинга только российских фильмов с гос поддержкой и без, то картина следующая: в 2013 году (первый год, о котором у нас есть информация о фильмах с гос поддержкой) рейтинг фильмов, финансируемых государтвом, был значительно выше (на 0,93 балла), чем фильмов без поддержки. В последующие годы такой большой разницы рейтингов не наблюдалось, были годы, где выше средний рейтинг фильмов с гос поддержкой, было и наоборот. За 2018 и 2019гг рейтинг фильмов без гос поддержки был выше, чем фильмов с гос поддержкой на 0,5 и 0,29 соответственно.\n",
    "\n",
    "В основном фильмы с гос. поддержкой - драмы и комедии. При этом данные комедии имеют самый низкий средний рейтинг по жанрам в фильмах с гос. поддержкой. С 2015 года около 30 фильмов жанра комедия имеют гос поддержку, суммарные кассовые сборы по годам имею тенденцию к росту.\n",
    "\n",
    "Р.Давлетьяров - режисер 5 фильмов, которого получили гос поддержку за исследуемый период. Д.Дьяченко и С.Андреасян - режисеры, по 4 фильма которых получили гос поддержку.\n",
    "\n",
    "В основном гос. поддержку получают фильмы возрастной категорией 16+ и 12+.\n",
    "\n",
    "В основном гос. Поддержка составляет 60%-70% от общего бюджета фильма.\n",
    "\n",
    "В основном кассовые сборы фильмов с гос. поддержкой не превышают размер своего бюджета, уходят в минус, есть исключительные случаи, где \"убыток\" составляет чуть меньше 2 млрд рублей, или, обратная ситуация, где \"прибыль\" почти 3 млрд. руб., но такие фильмы редкость, большая часть фильмов ушла в минус примерно на 500 млн.\n",
    "\n",
    "Таким образом, если мы измеряем интерес зрителя к фильмам с гос. поддержкой в сборах - в основном интерес низкий, так как фильмы не окупаются, если в рейтинге, то интерес к фильмам с гос. поддержкой неоднозначный и за 2 последних исследованных года был ниже, относительно российских фильмов без поддержки."
   ]
  }
 ],
 "metadata": {
  "ExecuteTimeLog": [
   {
    "duration": 537,
    "start_time": "2021-07-07T10:12:08.634Z"
   },
   {
    "duration": 206,
    "start_time": "2021-07-07T10:12:30.191Z"
   },
   {
    "duration": 227,
    "start_time": "2021-07-07T10:12:33.078Z"
   },
   {
    "duration": 153,
    "start_time": "2021-07-07T10:13:42.146Z"
   },
   {
    "duration": 233,
    "start_time": "2021-07-07T10:30:09.252Z"
   },
   {
    "duration": 19,
    "start_time": "2021-07-07T10:30:15.577Z"
   },
   {
    "duration": 18,
    "start_time": "2021-07-07T10:30:57.348Z"
   },
   {
    "duration": 19,
    "start_time": "2021-07-07T10:31:17.452Z"
   },
   {
    "duration": 21,
    "start_time": "2021-07-07T10:31:32.227Z"
   },
   {
    "duration": 27,
    "start_time": "2021-07-07T10:32:06.588Z"
   },
   {
    "duration": 23,
    "start_time": "2021-07-07T10:32:43.645Z"
   },
   {
    "duration": 24,
    "start_time": "2021-07-07T10:33:06.948Z"
   },
   {
    "duration": 7,
    "start_time": "2021-07-07T10:33:28.558Z"
   },
   {
    "duration": 23,
    "start_time": "2021-07-07T10:33:43.761Z"
   },
   {
    "duration": 28,
    "start_time": "2021-07-07T10:34:13.466Z"
   },
   {
    "duration": 23,
    "start_time": "2021-07-07T10:35:56.187Z"
   },
   {
    "duration": 6,
    "start_time": "2021-07-07T10:36:48.182Z"
   },
   {
    "duration": 14,
    "start_time": "2021-07-07T10:37:49.641Z"
   },
   {
    "duration": 6,
    "start_time": "2021-07-07T10:38:06.694Z"
   },
   {
    "duration": 6,
    "start_time": "2021-07-07T10:38:13.493Z"
   },
   {
    "duration": 19,
    "start_time": "2021-07-07T10:38:44.056Z"
   },
   {
    "duration": 186,
    "start_time": "2021-07-07T10:48:35.618Z"
   },
   {
    "duration": 24,
    "start_time": "2021-07-07T10:48:51.498Z"
   },
   {
    "duration": 20,
    "start_time": "2021-07-07T10:48:59.415Z"
   },
   {
    "duration": 20,
    "start_time": "2021-07-07T10:53:02.195Z"
   },
   {
    "duration": 188,
    "start_time": "2021-07-07T10:54:40.486Z"
   },
   {
    "duration": 115,
    "start_time": "2021-07-07T10:54:52.552Z"
   },
   {
    "duration": 214,
    "start_time": "2021-07-07T10:54:56.354Z"
   },
   {
    "duration": 47,
    "start_time": "2021-07-07T10:54:58.282Z"
   },
   {
    "duration": 217,
    "start_time": "2021-07-07T10:59:16.075Z"
   },
   {
    "duration": 51,
    "start_time": "2021-07-07T10:59:16.243Z"
   },
   {
    "duration": 578,
    "start_time": "2021-07-07T10:59:18.774Z"
   },
   {
    "duration": 161,
    "start_time": "2021-07-07T10:59:21.238Z"
   },
   {
    "duration": 59,
    "start_time": "2021-07-07T10:59:21.453Z"
   },
   {
    "duration": 3,
    "start_time": "2021-07-07T11:02:10.786Z"
   },
   {
    "duration": 13,
    "start_time": "2021-07-07T11:07:07.722Z"
   },
   {
    "duration": 26,
    "start_time": "2021-07-07T11:07:17.958Z"
   },
   {
    "duration": 22,
    "start_time": "2021-07-07T11:08:17.939Z"
   },
   {
    "duration": 212,
    "start_time": "2021-07-07T11:08:19.665Z"
   },
   {
    "duration": 21,
    "start_time": "2021-07-07T11:08:29.945Z"
   },
   {
    "duration": 31,
    "start_time": "2021-07-07T11:08:38.899Z"
   },
   {
    "duration": 23,
    "start_time": "2021-07-07T11:08:54.527Z"
   },
   {
    "duration": 8,
    "start_time": "2021-07-07T11:18:55.974Z"
   },
   {
    "duration": 7,
    "start_time": "2021-07-07T11:19:03.639Z"
   },
   {
    "duration": 7,
    "start_time": "2021-07-07T11:19:06.444Z"
   },
   {
    "duration": 578,
    "start_time": "2021-07-07T12:09:59.576Z"
   },
   {
    "duration": 195,
    "start_time": "2021-07-07T12:10:00.156Z"
   },
   {
    "duration": 115,
    "start_time": "2021-07-07T12:10:00.353Z"
   },
   {
    "duration": 3,
    "start_time": "2021-07-07T12:10:00.470Z"
   },
   {
    "duration": 32,
    "start_time": "2021-07-07T12:10:00.474Z"
   },
   {
    "duration": 23,
    "start_time": "2021-07-07T12:10:00.508Z"
   },
   {
    "duration": 19,
    "start_time": "2021-07-07T12:10:00.533Z"
   },
   {
    "duration": 44,
    "start_time": "2021-07-07T12:10:00.553Z"
   },
   {
    "duration": 7,
    "start_time": "2021-07-07T12:10:00.600Z"
   },
   {
    "duration": 7,
    "start_time": "2021-07-07T12:19:45.761Z"
   },
   {
    "duration": 21,
    "start_time": "2021-07-07T12:21:35.482Z"
   },
   {
    "duration": 21,
    "start_time": "2021-07-07T12:29:23.569Z"
   },
   {
    "duration": 525,
    "start_time": "2021-07-07T12:29:44.542Z"
   },
   {
    "duration": 214,
    "start_time": "2021-07-07T12:29:45.069Z"
   },
   {
    "duration": 92,
    "start_time": "2021-07-07T12:29:45.285Z"
   },
   {
    "duration": 3,
    "start_time": "2021-07-07T12:29:45.379Z"
   },
   {
    "duration": 28,
    "start_time": "2021-07-07T12:29:45.384Z"
   },
   {
    "duration": 23,
    "start_time": "2021-07-07T12:29:45.413Z"
   },
   {
    "duration": 21,
    "start_time": "2021-07-07T12:29:45.437Z"
   },
   {
    "duration": 41,
    "start_time": "2021-07-07T12:29:45.460Z"
   },
   {
    "duration": 7,
    "start_time": "2021-07-07T12:29:45.502Z"
   },
   {
    "duration": 20,
    "start_time": "2021-07-07T12:29:45.511Z"
   },
   {
    "duration": 12,
    "start_time": "2021-07-07T12:34:02.800Z"
   },
   {
    "duration": 7,
    "start_time": "2021-07-07T12:35:10.479Z"
   },
   {
    "duration": 8,
    "start_time": "2021-07-07T12:35:22.440Z"
   },
   {
    "duration": 6,
    "start_time": "2021-07-07T12:35:35.649Z"
   },
   {
    "duration": 6,
    "start_time": "2021-07-07T12:35:43.107Z"
   },
   {
    "duration": 22,
    "start_time": "2021-07-07T12:38:03.029Z"
   },
   {
    "duration": 10,
    "start_time": "2021-07-07T12:38:06.592Z"
   },
   {
    "duration": 563,
    "start_time": "2021-07-07T12:38:46.493Z"
   },
   {
    "duration": 265,
    "start_time": "2021-07-07T12:38:47.058Z"
   },
   {
    "duration": 94,
    "start_time": "2021-07-07T12:38:47.325Z"
   },
   {
    "duration": 3,
    "start_time": "2021-07-07T12:38:47.422Z"
   },
   {
    "duration": 30,
    "start_time": "2021-07-07T12:38:47.427Z"
   },
   {
    "duration": 16,
    "start_time": "2021-07-07T12:38:53.305Z"
   },
   {
    "duration": 10,
    "start_time": "2021-07-07T12:38:53.499Z"
   },
   {
    "duration": 8,
    "start_time": "2021-07-07T12:39:48.161Z"
   },
   {
    "duration": 27,
    "start_time": "2021-07-07T12:41:17.629Z"
   },
   {
    "duration": 17,
    "start_time": "2021-07-07T12:41:17.867Z"
   },
   {
    "duration": 21,
    "start_time": "2021-07-07T12:41:19.310Z"
   },
   {
    "duration": 7,
    "start_time": "2021-07-07T12:41:19.544Z"
   },
   {
    "duration": 20,
    "start_time": "2021-07-07T12:41:20.504Z"
   },
   {
    "duration": 554,
    "start_time": "2021-07-07T12:56:23.696Z"
   },
   {
    "duration": 200,
    "start_time": "2021-07-07T12:56:25.234Z"
   },
   {
    "duration": 119,
    "start_time": "2021-07-07T12:56:25.480Z"
   },
   {
    "duration": 4,
    "start_time": "2021-07-07T12:56:25.762Z"
   },
   {
    "duration": 26,
    "start_time": "2021-07-07T12:56:27.172Z"
   },
   {
    "duration": 12,
    "start_time": "2021-07-07T12:56:29.051Z"
   },
   {
    "duration": 10,
    "start_time": "2021-07-07T12:56:29.291Z"
   },
   {
    "duration": 8,
    "start_time": "2021-07-07T12:56:29.623Z"
   },
   {
    "duration": 28,
    "start_time": "2021-07-07T12:56:32.137Z"
   },
   {
    "duration": 19,
    "start_time": "2021-07-07T12:56:39.785Z"
   },
   {
    "duration": 20,
    "start_time": "2021-07-07T12:56:44.297Z"
   },
   {
    "duration": 7,
    "start_time": "2021-07-07T12:56:45.392Z"
   },
   {
    "duration": 23,
    "start_time": "2021-07-07T12:56:46.615Z"
   },
   {
    "duration": 4,
    "start_time": "2021-07-07T12:57:06.625Z"
   },
   {
    "duration": 32,
    "start_time": "2021-07-07T12:57:36.690Z"
   },
   {
    "duration": 18,
    "start_time": "2021-07-07T12:58:00.149Z"
   },
   {
    "duration": 15,
    "start_time": "2021-07-07T12:59:16.793Z"
   },
   {
    "duration": 7,
    "start_time": "2021-07-07T13:19:22.624Z"
   },
   {
    "duration": 6,
    "start_time": "2021-07-07T14:17:33.527Z"
   },
   {
    "duration": 9,
    "start_time": "2021-07-07T14:17:48.409Z"
   },
   {
    "duration": 8,
    "start_time": "2021-07-07T14:20:13.060Z"
   },
   {
    "duration": 8,
    "start_time": "2021-07-07T14:20:37.957Z"
   },
   {
    "duration": 8,
    "start_time": "2021-07-07T14:20:47.470Z"
   },
   {
    "duration": 9,
    "start_time": "2021-07-07T14:20:54.503Z"
   },
   {
    "duration": 10,
    "start_time": "2021-07-07T14:28:57.763Z"
   },
   {
    "duration": 3,
    "start_time": "2021-07-07T14:30:23.377Z"
   },
   {
    "duration": 3,
    "start_time": "2021-07-07T14:30:36.489Z"
   },
   {
    "duration": 103,
    "start_time": "2021-07-07T14:30:52.351Z"
   },
   {
    "duration": 8,
    "start_time": "2021-07-07T14:30:54.763Z"
   },
   {
    "duration": 8,
    "start_time": "2021-07-07T14:31:29.301Z"
   },
   {
    "duration": 13,
    "start_time": "2021-07-07T14:31:44.516Z"
   },
   {
    "duration": 7,
    "start_time": "2021-07-07T14:33:10.972Z"
   },
   {
    "duration": 11,
    "start_time": "2021-07-07T14:33:27.780Z"
   },
   {
    "duration": 8,
    "start_time": "2021-07-07T14:34:44.588Z"
   },
   {
    "duration": 57,
    "start_time": "2021-07-07T14:35:59.042Z"
   },
   {
    "duration": 3,
    "start_time": "2021-07-07T14:36:28.168Z"
   },
   {
    "duration": 5,
    "start_time": "2021-07-07T14:36:46.254Z"
   },
   {
    "duration": 4,
    "start_time": "2021-07-07T14:36:52.714Z"
   },
   {
    "duration": 3,
    "start_time": "2021-07-07T14:36:56.612Z"
   },
   {
    "duration": 4,
    "start_time": "2021-07-07T14:36:57.049Z"
   },
   {
    "duration": 3,
    "start_time": "2021-07-07T14:39:21.214Z"
   },
   {
    "duration": 7,
    "start_time": "2021-07-07T14:39:52.406Z"
   },
   {
    "duration": 11,
    "start_time": "2021-07-07T14:39:58.576Z"
   },
   {
    "duration": 9,
    "start_time": "2021-07-07T14:40:26.301Z"
   },
   {
    "duration": 10,
    "start_time": "2021-07-07T14:40:31.704Z"
   },
   {
    "duration": 11,
    "start_time": "2021-07-07T14:40:36.249Z"
   },
   {
    "duration": 10,
    "start_time": "2021-07-07T14:40:39.783Z"
   },
   {
    "duration": 9,
    "start_time": "2021-07-07T14:40:48.558Z"
   },
   {
    "duration": 10,
    "start_time": "2021-07-07T14:40:57.143Z"
   },
   {
    "duration": 9,
    "start_time": "2021-07-07T14:41:06.074Z"
   },
   {
    "duration": 4324,
    "start_time": "2021-07-07T14:41:22.004Z"
   },
   {
    "duration": 11,
    "start_time": "2021-07-07T14:41:33.392Z"
   },
   {
    "duration": 9,
    "start_time": "2021-07-07T14:41:39.288Z"
   },
   {
    "duration": 569,
    "start_time": "2021-07-07T14:42:14.387Z"
   },
   {
    "duration": 197,
    "start_time": "2021-07-07T14:42:14.959Z"
   },
   {
    "duration": 84,
    "start_time": "2021-07-07T14:42:16.052Z"
   },
   {
    "duration": 4,
    "start_time": "2021-07-07T14:42:16.900Z"
   },
   {
    "duration": 27,
    "start_time": "2021-07-07T14:42:19.898Z"
   },
   {
    "duration": 12,
    "start_time": "2021-07-07T14:42:21.577Z"
   },
   {
    "duration": 9,
    "start_time": "2021-07-07T14:42:21.813Z"
   },
   {
    "duration": 9,
    "start_time": "2021-07-07T14:42:22.569Z"
   },
   {
    "duration": 29,
    "start_time": "2021-07-07T14:42:25.837Z"
   },
   {
    "duration": 20,
    "start_time": "2021-07-07T14:42:27.003Z"
   },
   {
    "duration": 21,
    "start_time": "2021-07-07T14:42:28.767Z"
   },
   {
    "duration": 7,
    "start_time": "2021-07-07T14:42:29.838Z"
   },
   {
    "duration": 4,
    "start_time": "2021-07-07T14:43:25.493Z"
   },
   {
    "duration": 7,
    "start_time": "2021-07-07T14:43:26.573Z"
   },
   {
    "duration": 10,
    "start_time": "2021-07-07T14:43:31.639Z"
   },
   {
    "duration": 9,
    "start_time": "2021-07-07T14:43:32.046Z"
   },
   {
    "duration": 10,
    "start_time": "2021-07-07T14:43:33.301Z"
   },
   {
    "duration": 12,
    "start_time": "2021-07-07T14:43:33.658Z"
   },
   {
    "duration": 8,
    "start_time": "2021-07-07T14:43:34.552Z"
   },
   {
    "duration": 9,
    "start_time": "2021-07-07T14:43:35.058Z"
   },
   {
    "duration": 12,
    "start_time": "2021-07-07T14:43:35.914Z"
   },
   {
    "duration": 17,
    "start_time": "2021-07-07T14:45:34.368Z"
   },
   {
    "duration": 512,
    "start_time": "2021-07-07T14:51:58.236Z"
   },
   {
    "duration": 223,
    "start_time": "2021-07-07T14:51:58.750Z"
   },
   {
    "duration": 93,
    "start_time": "2021-07-07T14:51:58.977Z"
   },
   {
    "duration": 4,
    "start_time": "2021-07-07T14:51:59.071Z"
   },
   {
    "duration": 37,
    "start_time": "2021-07-07T14:51:59.077Z"
   },
   {
    "duration": 18,
    "start_time": "2021-07-07T14:51:59.116Z"
   },
   {
    "duration": 10,
    "start_time": "2021-07-07T14:51:59.137Z"
   },
   {
    "duration": 8,
    "start_time": "2021-07-07T14:51:59.149Z"
   },
   {
    "duration": 54,
    "start_time": "2021-07-07T14:51:59.158Z"
   },
   {
    "duration": 18,
    "start_time": "2021-07-07T14:51:59.213Z"
   },
   {
    "duration": 22,
    "start_time": "2021-07-07T14:51:59.232Z"
   },
   {
    "duration": 36,
    "start_time": "2021-07-07T14:51:59.255Z"
   },
   {
    "duration": 7,
    "start_time": "2021-07-07T14:51:59.293Z"
   },
   {
    "duration": 10,
    "start_time": "2021-07-07T14:51:59.302Z"
   },
   {
    "duration": 9,
    "start_time": "2021-07-07T14:51:59.313Z"
   },
   {
    "duration": 11,
    "start_time": "2021-07-07T14:51:59.324Z"
   },
   {
    "duration": 8,
    "start_time": "2021-07-07T14:51:59.337Z"
   },
   {
    "duration": 46,
    "start_time": "2021-07-07T14:51:59.347Z"
   },
   {
    "duration": 22,
    "start_time": "2021-07-07T14:51:59.395Z"
   },
   {
    "duration": 24,
    "start_time": "2021-07-07T14:57:32.911Z"
   },
   {
    "duration": 7,
    "start_time": "2021-07-07T14:58:22.070Z"
   },
   {
    "duration": 4,
    "start_time": "2021-07-07T14:59:11.239Z"
   },
   {
    "duration": 25,
    "start_time": "2021-07-07T15:07:22.208Z"
   },
   {
    "duration": 16,
    "start_time": "2021-07-07T15:08:25.560Z"
   },
   {
    "duration": 15,
    "start_time": "2021-07-07T15:08:40.647Z"
   },
   {
    "duration": 14,
    "start_time": "2021-07-07T15:08:46.669Z"
   },
   {
    "duration": 533,
    "start_time": "2021-07-07T15:18:07.440Z"
   },
   {
    "duration": 173,
    "start_time": "2021-07-07T15:18:07.974Z"
   },
   {
    "duration": 84,
    "start_time": "2021-07-07T15:18:08.149Z"
   },
   {
    "duration": 3,
    "start_time": "2021-07-07T15:18:08.235Z"
   },
   {
    "duration": 30,
    "start_time": "2021-07-07T15:18:08.240Z"
   },
   {
    "duration": 22,
    "start_time": "2021-07-07T15:18:08.272Z"
   },
   {
    "duration": 11,
    "start_time": "2021-07-07T15:18:08.295Z"
   },
   {
    "duration": 11,
    "start_time": "2021-07-07T15:18:08.309Z"
   },
   {
    "duration": 40,
    "start_time": "2021-07-07T15:18:08.322Z"
   },
   {
    "duration": 42,
    "start_time": "2021-07-07T15:18:08.364Z"
   },
   {
    "duration": 22,
    "start_time": "2021-07-07T15:18:08.408Z"
   },
   {
    "duration": 5,
    "start_time": "2021-07-07T15:18:08.432Z"
   },
   {
    "duration": 13,
    "start_time": "2021-07-07T15:18:08.439Z"
   },
   {
    "duration": 9,
    "start_time": "2021-07-07T15:18:08.454Z"
   },
   {
    "duration": 32,
    "start_time": "2021-07-07T15:18:08.465Z"
   },
   {
    "duration": 10,
    "start_time": "2021-07-07T15:18:08.501Z"
   },
   {
    "duration": 7,
    "start_time": "2021-07-07T15:18:08.513Z"
   },
   {
    "duration": 11,
    "start_time": "2021-07-07T15:18:08.521Z"
   },
   {
    "duration": 17,
    "start_time": "2021-07-07T15:18:08.534Z"
   },
   {
    "duration": 44,
    "start_time": "2021-07-07T15:18:08.553Z"
   },
   {
    "duration": 22,
    "start_time": "2021-07-07T15:18:08.599Z"
   },
   {
    "duration": 61,
    "start_time": "2021-07-07T15:18:08.622Z"
   },
   {
    "duration": 7,
    "start_time": "2021-07-07T15:18:39.457Z"
   },
   {
    "duration": 5,
    "start_time": "2021-07-07T16:05:17.020Z"
   },
   {
    "duration": 5,
    "start_time": "2021-07-07T16:51:28.794Z"
   },
   {
    "duration": 546,
    "start_time": "2021-07-07T16:52:26.306Z"
   },
   {
    "duration": 203,
    "start_time": "2021-07-07T16:52:27.523Z"
   },
   {
    "duration": 85,
    "start_time": "2021-07-07T16:52:27.736Z"
   },
   {
    "duration": 4,
    "start_time": "2021-07-07T16:52:27.899Z"
   },
   {
    "duration": 25,
    "start_time": "2021-07-07T16:52:28.674Z"
   },
   {
    "duration": 8,
    "start_time": "2021-07-07T16:52:32.956Z"
   },
   {
    "duration": 18,
    "start_time": "2021-07-07T16:52:35.616Z"
   },
   {
    "duration": 6,
    "start_time": "2021-07-07T16:52:36.913Z"
   },
   {
    "duration": 11,
    "start_time": "2021-07-07T16:52:40.258Z"
   },
   {
    "duration": 10,
    "start_time": "2021-07-07T16:52:46.251Z"
   },
   {
    "duration": 8,
    "start_time": "2021-07-07T16:52:47.182Z"
   },
   {
    "duration": 27,
    "start_time": "2021-07-07T16:53:20.391Z"
   },
   {
    "duration": 20,
    "start_time": "2021-07-07T16:53:22.022Z"
   },
   {
    "duration": 23,
    "start_time": "2021-07-07T16:53:23.690Z"
   },
   {
    "duration": 8,
    "start_time": "2021-07-07T16:53:24.261Z"
   },
   {
    "duration": 4,
    "start_time": "2021-07-07T16:53:38.733Z"
   },
   {
    "duration": 7,
    "start_time": "2021-07-07T16:53:40.445Z"
   },
   {
    "duration": 11,
    "start_time": "2021-07-07T16:53:41.348Z"
   },
   {
    "duration": 13,
    "start_time": "2021-07-07T16:53:45.250Z"
   },
   {
    "duration": 12,
    "start_time": "2021-07-07T16:53:45.467Z"
   },
   {
    "duration": 4,
    "start_time": "2021-07-07T16:55:32.704Z"
   },
   {
    "duration": 12,
    "start_time": "2021-07-07T16:55:49.012Z"
   },
   {
    "duration": 18,
    "start_time": "2021-07-07T16:55:49.547Z"
   },
   {
    "duration": 611,
    "start_time": "2021-07-07T16:58:35.156Z"
   },
   {
    "duration": 200,
    "start_time": "2021-07-07T16:58:35.770Z"
   },
   {
    "duration": 86,
    "start_time": "2021-07-07T16:58:35.972Z"
   },
   {
    "duration": 3,
    "start_time": "2021-07-07T16:58:36.060Z"
   },
   {
    "duration": 27,
    "start_time": "2021-07-07T16:58:36.065Z"
   },
   {
    "duration": 8,
    "start_time": "2021-07-07T16:58:36.094Z"
   },
   {
    "duration": 17,
    "start_time": "2021-07-07T16:58:36.103Z"
   },
   {
    "duration": 5,
    "start_time": "2021-07-07T16:58:36.123Z"
   },
   {
    "duration": 11,
    "start_time": "2021-07-07T16:58:36.130Z"
   },
   {
    "duration": 7,
    "start_time": "2021-07-07T16:58:36.143Z"
   },
   {
    "duration": 37,
    "start_time": "2021-07-07T16:58:36.152Z"
   },
   {
    "duration": 27,
    "start_time": "2021-07-07T16:58:36.191Z"
   },
   {
    "duration": 19,
    "start_time": "2021-07-07T16:58:36.219Z"
   },
   {
    "duration": 49,
    "start_time": "2021-07-07T16:58:36.240Z"
   },
   {
    "duration": 6,
    "start_time": "2021-07-07T16:58:36.291Z"
   },
   {
    "duration": 3,
    "start_time": "2021-07-07T16:58:36.299Z"
   },
   {
    "duration": 13,
    "start_time": "2021-07-07T16:58:36.304Z"
   },
   {
    "duration": 10,
    "start_time": "2021-07-07T16:58:36.319Z"
   },
   {
    "duration": 10,
    "start_time": "2021-07-07T16:58:36.331Z"
   },
   {
    "duration": 44,
    "start_time": "2021-07-07T16:58:36.343Z"
   },
   {
    "duration": 4,
    "start_time": "2021-07-07T16:58:36.388Z"
   },
   {
    "duration": 13,
    "start_time": "2021-07-07T16:58:36.394Z"
   },
   {
    "duration": 16,
    "start_time": "2021-07-07T16:58:36.410Z"
   },
   {
    "duration": 8,
    "start_time": "2021-07-07T17:02:31.629Z"
   },
   {
    "duration": 8,
    "start_time": "2021-07-07T17:02:34.308Z"
   },
   {
    "duration": 6,
    "start_time": "2021-07-07T17:05:13.483Z"
   },
   {
    "duration": 17,
    "start_time": "2021-07-07T17:05:20.606Z"
   },
   {
    "duration": 7,
    "start_time": "2021-07-07T17:05:34.638Z"
   },
   {
    "duration": 3,
    "start_time": "2021-07-07T17:06:31.883Z"
   },
   {
    "duration": 570,
    "start_time": "2021-07-07T17:06:37.165Z"
   },
   {
    "duration": 174,
    "start_time": "2021-07-07T17:06:37.737Z"
   },
   {
    "duration": 47,
    "start_time": "2021-07-07T17:06:37.913Z"
   },
   {
    "duration": 3,
    "start_time": "2021-07-07T17:06:37.962Z"
   },
   {
    "duration": 27,
    "start_time": "2021-07-07T17:06:37.967Z"
   },
   {
    "duration": 7,
    "start_time": "2021-07-07T17:06:37.996Z"
   },
   {
    "duration": 16,
    "start_time": "2021-07-07T17:06:38.005Z"
   },
   {
    "duration": 6,
    "start_time": "2021-07-07T17:06:38.024Z"
   },
   {
    "duration": 12,
    "start_time": "2021-07-07T17:06:38.031Z"
   },
   {
    "duration": 41,
    "start_time": "2021-07-07T17:06:38.045Z"
   },
   {
    "duration": 8,
    "start_time": "2021-07-07T17:06:38.088Z"
   },
   {
    "duration": 26,
    "start_time": "2021-07-07T17:06:38.098Z"
   },
   {
    "duration": 17,
    "start_time": "2021-07-07T17:06:38.126Z"
   },
   {
    "duration": 43,
    "start_time": "2021-07-07T17:06:38.144Z"
   },
   {
    "duration": 6,
    "start_time": "2021-07-07T17:06:38.188Z"
   },
   {
    "duration": 5,
    "start_time": "2021-07-07T17:06:38.195Z"
   },
   {
    "duration": 9,
    "start_time": "2021-07-07T17:06:38.201Z"
   },
   {
    "duration": 12,
    "start_time": "2021-07-07T17:06:38.212Z"
   },
   {
    "duration": 11,
    "start_time": "2021-07-07T17:06:38.226Z"
   },
   {
    "duration": 47,
    "start_time": "2021-07-07T17:06:38.239Z"
   },
   {
    "duration": 4,
    "start_time": "2021-07-07T17:06:38.288Z"
   },
   {
    "duration": 13,
    "start_time": "2021-07-07T17:06:38.293Z"
   },
   {
    "duration": 5,
    "start_time": "2021-07-07T17:06:38.309Z"
   },
   {
    "duration": 18,
    "start_time": "2021-07-07T17:06:38.325Z"
   },
   {
    "duration": 20,
    "start_time": "2021-07-07T17:07:02.805Z"
   },
   {
    "duration": 19,
    "start_time": "2021-07-07T17:07:08.527Z"
   },
   {
    "duration": 19,
    "start_time": "2021-07-07T17:07:12.758Z"
   },
   {
    "duration": 22,
    "start_time": "2021-07-07T17:07:17.497Z"
   },
   {
    "duration": 19,
    "start_time": "2021-07-07T17:07:19.645Z"
   },
   {
    "duration": 10,
    "start_time": "2021-07-07T17:07:34.239Z"
   },
   {
    "duration": 17,
    "start_time": "2021-07-07T17:07:54.144Z"
   },
   {
    "duration": 14,
    "start_time": "2021-07-07T17:08:14.357Z"
   },
   {
    "duration": 616,
    "start_time": "2021-07-07T17:08:45.254Z"
   },
   {
    "duration": 178,
    "start_time": "2021-07-07T17:08:45.872Z"
   },
   {
    "duration": 60,
    "start_time": "2021-07-07T17:08:46.054Z"
   },
   {
    "duration": 3,
    "start_time": "2021-07-07T17:08:46.116Z"
   },
   {
    "duration": 26,
    "start_time": "2021-07-07T17:08:46.121Z"
   },
   {
    "duration": 7,
    "start_time": "2021-07-07T17:08:46.149Z"
   },
   {
    "duration": 17,
    "start_time": "2021-07-07T17:08:46.158Z"
   },
   {
    "duration": 14,
    "start_time": "2021-07-07T17:08:46.176Z"
   },
   {
    "duration": 17,
    "start_time": "2021-07-07T17:08:46.193Z"
   },
   {
    "duration": 9,
    "start_time": "2021-07-07T17:08:46.211Z"
   },
   {
    "duration": 21,
    "start_time": "2021-07-07T17:08:46.221Z"
   },
   {
    "duration": 49,
    "start_time": "2021-07-07T17:08:46.244Z"
   },
   {
    "duration": 24,
    "start_time": "2021-07-07T17:08:46.295Z"
   },
   {
    "duration": 22,
    "start_time": "2021-07-07T17:08:46.321Z"
   },
   {
    "duration": 6,
    "start_time": "2021-07-07T17:08:46.345Z"
   },
   {
    "duration": 5,
    "start_time": "2021-07-07T17:08:46.353Z"
   },
   {
    "duration": 13,
    "start_time": "2021-07-07T17:08:46.386Z"
   },
   {
    "duration": 12,
    "start_time": "2021-07-07T17:08:46.402Z"
   },
   {
    "duration": 10,
    "start_time": "2021-07-07T17:08:46.415Z"
   },
   {
    "duration": 7,
    "start_time": "2021-07-07T17:08:46.427Z"
   },
   {
    "duration": 8,
    "start_time": "2021-07-07T17:08:46.435Z"
   },
   {
    "duration": 68,
    "start_time": "2021-07-07T17:08:46.446Z"
   },
   {
    "duration": 13,
    "start_time": "2021-07-07T17:08:46.516Z"
   },
   {
    "duration": 78,
    "start_time": "2021-07-07T17:08:46.530Z"
   },
   {
    "duration": 40,
    "start_time": "2021-07-07T17:09:08.185Z"
   },
   {
    "duration": 16,
    "start_time": "2021-07-07T17:09:19.324Z"
   },
   {
    "duration": 21,
    "start_time": "2021-07-07T17:09:23.290Z"
   },
   {
    "duration": 13,
    "start_time": "2021-07-07T17:09:54.812Z"
   },
   {
    "duration": 13,
    "start_time": "2021-07-07T17:10:02.039Z"
   },
   {
    "duration": 10,
    "start_time": "2021-07-07T17:10:29.632Z"
   },
   {
    "duration": 13,
    "start_time": "2021-07-07T17:10:52.372Z"
   },
   {
    "duration": 13,
    "start_time": "2021-07-07T17:11:17.270Z"
   },
   {
    "duration": 13,
    "start_time": "2021-07-07T17:14:59.284Z"
   },
   {
    "duration": 547,
    "start_time": "2021-07-07T17:18:52.403Z"
   },
   {
    "duration": 163,
    "start_time": "2021-07-07T17:18:52.952Z"
   },
   {
    "duration": 44,
    "start_time": "2021-07-07T17:18:53.117Z"
   },
   {
    "duration": 3,
    "start_time": "2021-07-07T17:18:53.162Z"
   },
   {
    "duration": 26,
    "start_time": "2021-07-07T17:18:53.167Z"
   },
   {
    "duration": 6,
    "start_time": "2021-07-07T17:18:53.195Z"
   },
   {
    "duration": 15,
    "start_time": "2021-07-07T17:18:53.203Z"
   },
   {
    "duration": 5,
    "start_time": "2021-07-07T17:18:53.220Z"
   },
   {
    "duration": 11,
    "start_time": "2021-07-07T17:18:53.228Z"
   },
   {
    "duration": 9,
    "start_time": "2021-07-07T17:18:53.241Z"
   },
   {
    "duration": 41,
    "start_time": "2021-07-07T17:18:53.252Z"
   },
   {
    "duration": 33,
    "start_time": "2021-07-07T17:18:53.295Z"
   },
   {
    "duration": 19,
    "start_time": "2021-07-07T17:18:53.330Z"
   },
   {
    "duration": 49,
    "start_time": "2021-07-07T17:18:53.350Z"
   },
   {
    "duration": 5,
    "start_time": "2021-07-07T17:18:53.401Z"
   },
   {
    "duration": 5,
    "start_time": "2021-07-07T17:18:53.408Z"
   },
   {
    "duration": 11,
    "start_time": "2021-07-07T17:18:53.414Z"
   },
   {
    "duration": 9,
    "start_time": "2021-07-07T17:18:53.427Z"
   },
   {
    "duration": 10,
    "start_time": "2021-07-07T17:18:53.437Z"
   },
   {
    "duration": 39,
    "start_time": "2021-07-07T17:18:53.448Z"
   },
   {
    "duration": 26,
    "start_time": "2021-07-07T17:18:55.799Z"
   },
   {
    "duration": 598,
    "start_time": "2021-07-07T17:20:17.862Z"
   },
   {
    "duration": 161,
    "start_time": "2021-07-07T17:20:18.462Z"
   },
   {
    "duration": 45,
    "start_time": "2021-07-07T17:20:18.626Z"
   },
   {
    "duration": 4,
    "start_time": "2021-07-07T17:20:18.673Z"
   },
   {
    "duration": 38,
    "start_time": "2021-07-07T17:20:26.877Z"
   },
   {
    "duration": 7,
    "start_time": "2021-07-07T17:20:37.405Z"
   },
   {
    "duration": 19,
    "start_time": "2021-07-07T17:20:51.534Z"
   },
   {
    "duration": 5,
    "start_time": "2021-07-07T17:20:57.228Z"
   },
   {
    "duration": 7,
    "start_time": "2021-07-07T17:21:08.235Z"
   },
   {
    "duration": 19,
    "start_time": "2021-07-07T17:21:42.158Z"
   },
   {
    "duration": 14,
    "start_time": "2021-07-07T17:21:50.225Z"
   },
   {
    "duration": 22,
    "start_time": "2021-07-07T17:22:54.104Z"
   },
   {
    "duration": 5,
    "start_time": "2021-07-07T17:22:56.371Z"
   },
   {
    "duration": 14,
    "start_time": "2021-07-07T17:22:58.316Z"
   },
   {
    "duration": 5,
    "start_time": "2021-07-07T17:22:58.493Z"
   },
   {
    "duration": 35,
    "start_time": "2021-07-07T17:22:59.666Z"
   },
   {
    "duration": 6,
    "start_time": "2021-07-07T17:23:02.410Z"
   },
   {
    "duration": 611,
    "start_time": "2021-07-07T17:24:59.664Z"
   },
   {
    "duration": 178,
    "start_time": "2021-07-07T17:25:01.945Z"
   },
   {
    "duration": 47,
    "start_time": "2021-07-07T17:25:02.125Z"
   },
   {
    "duration": 2,
    "start_time": "2021-07-07T17:25:07.903Z"
   },
   {
    "duration": 254,
    "start_time": "2021-07-07T17:25:08.232Z"
   },
   {
    "duration": 182,
    "start_time": "2021-07-07T17:25:08.671Z"
   },
   {
    "duration": 6,
    "start_time": "2021-07-07T17:25:13.104Z"
   },
   {
    "duration": 36,
    "start_time": "2021-07-07T17:25:13.662Z"
   },
   {
    "duration": 7,
    "start_time": "2021-07-07T17:25:14.528Z"
   },
   {
    "duration": 24,
    "start_time": "2021-07-07T17:25:27.982Z"
   },
   {
    "duration": 3,
    "start_time": "2021-07-07T17:25:48.982Z"
   },
   {
    "duration": 165,
    "start_time": "2021-07-07T17:25:48.987Z"
   },
   {
    "duration": 50,
    "start_time": "2021-07-07T17:25:49.154Z"
   },
   {
    "duration": 4,
    "start_time": "2021-07-07T17:25:49.206Z"
   },
   {
    "duration": 26,
    "start_time": "2021-07-07T17:25:49.212Z"
   },
   {
    "duration": 7,
    "start_time": "2021-07-07T17:25:49.240Z"
   },
   {
    "duration": 16,
    "start_time": "2021-07-07T17:25:49.249Z"
   },
   {
    "duration": 22,
    "start_time": "2021-07-07T17:25:49.266Z"
   },
   {
    "duration": 16,
    "start_time": "2021-07-07T17:25:49.291Z"
   },
   {
    "duration": 9,
    "start_time": "2021-07-07T17:25:49.309Z"
   },
   {
    "duration": 7,
    "start_time": "2021-07-07T17:25:49.319Z"
   },
   {
    "duration": 28,
    "start_time": "2021-07-07T17:25:49.328Z"
   },
   {
    "duration": 44,
    "start_time": "2021-07-07T17:25:49.357Z"
   },
   {
    "duration": 22,
    "start_time": "2021-07-07T17:25:49.403Z"
   },
   {
    "duration": 7,
    "start_time": "2021-07-07T17:25:49.427Z"
   },
   {
    "duration": 3,
    "start_time": "2021-07-07T17:25:49.436Z"
   },
   {
    "duration": 44,
    "start_time": "2021-07-07T17:25:49.441Z"
   },
   {
    "duration": 12,
    "start_time": "2021-07-07T17:25:49.488Z"
   },
   {
    "duration": 13,
    "start_time": "2021-07-07T17:25:49.502Z"
   },
   {
    "duration": 10,
    "start_time": "2021-07-07T17:25:49.516Z"
   },
   {
    "duration": 62,
    "start_time": "2021-07-07T17:25:49.527Z"
   },
   {
    "duration": 26,
    "start_time": "2021-07-07T17:26:51.809Z"
   },
   {
    "duration": 26,
    "start_time": "2021-07-07T17:26:55.759Z"
   },
   {
    "duration": 26,
    "start_time": "2021-07-07T17:27:04.501Z"
   },
   {
    "duration": 25,
    "start_time": "2021-07-07T17:28:24.859Z"
   },
   {
    "duration": 21,
    "start_time": "2021-07-07T17:28:55.250Z"
   },
   {
    "duration": 21,
    "start_time": "2021-07-07T17:28:58.885Z"
   },
   {
    "duration": 7,
    "start_time": "2021-07-07T17:45:40.972Z"
   },
   {
    "duration": 13,
    "start_time": "2021-07-07T17:45:42.529Z"
   },
   {
    "duration": 27,
    "start_time": "2021-07-07T17:45:51.026Z"
   },
   {
    "duration": 518,
    "start_time": "2021-07-07T17:46:15.532Z"
   },
   {
    "duration": 235,
    "start_time": "2021-07-07T17:46:16.053Z"
   },
   {
    "duration": 80,
    "start_time": "2021-07-07T17:46:16.292Z"
   },
   {
    "duration": 5,
    "start_time": "2021-07-07T17:46:16.373Z"
   },
   {
    "duration": 26,
    "start_time": "2021-07-07T17:46:16.380Z"
   },
   {
    "duration": 7,
    "start_time": "2021-07-07T17:46:16.408Z"
   },
   {
    "duration": 16,
    "start_time": "2021-07-07T17:46:16.418Z"
   },
   {
    "duration": 5,
    "start_time": "2021-07-07T17:46:16.436Z"
   },
   {
    "duration": 13,
    "start_time": "2021-07-07T17:46:16.442Z"
   },
   {
    "duration": 35,
    "start_time": "2021-07-07T17:46:16.456Z"
   },
   {
    "duration": 8,
    "start_time": "2021-07-07T17:46:16.493Z"
   },
   {
    "duration": 28,
    "start_time": "2021-07-07T17:46:16.502Z"
   },
   {
    "duration": 17,
    "start_time": "2021-07-07T17:46:16.532Z"
   },
   {
    "duration": 44,
    "start_time": "2021-07-07T17:46:16.551Z"
   },
   {
    "duration": 6,
    "start_time": "2021-07-07T17:46:16.597Z"
   },
   {
    "duration": 4,
    "start_time": "2021-07-07T17:46:16.605Z"
   },
   {
    "duration": 9,
    "start_time": "2021-07-07T17:46:16.610Z"
   },
   {
    "duration": 9,
    "start_time": "2021-07-07T17:46:16.621Z"
   },
   {
    "duration": 10,
    "start_time": "2021-07-07T17:46:16.632Z"
   },
   {
    "duration": 43,
    "start_time": "2021-07-07T17:46:16.644Z"
   },
   {
    "duration": 26,
    "start_time": "2021-07-07T17:46:16.689Z"
   },
   {
    "duration": 19,
    "start_time": "2021-07-07T17:46:16.718Z"
   },
   {
    "duration": 8,
    "start_time": "2021-07-07T17:46:16.738Z"
   },
   {
    "duration": 43,
    "start_time": "2021-07-07T17:46:16.747Z"
   },
   {
    "duration": 19,
    "start_time": "2021-07-07T17:46:16.791Z"
   },
   {
    "duration": 9,
    "start_time": "2021-07-07T17:46:16.812Z"
   },
   {
    "duration": 60,
    "start_time": "2021-07-07T17:46:16.822Z"
   },
   {
    "duration": -8,
    "start_time": "2021-07-07T17:46:16.892Z"
   },
   {
    "duration": 12,
    "start_time": "2021-07-07T17:48:47.707Z"
   },
   {
    "duration": 553,
    "start_time": "2021-07-07T18:10:09.350Z"
   },
   {
    "duration": 230,
    "start_time": "2021-07-07T18:10:09.905Z"
   },
   {
    "duration": 97,
    "start_time": "2021-07-07T18:10:10.137Z"
   },
   {
    "duration": 5,
    "start_time": "2021-07-07T18:10:10.236Z"
   },
   {
    "duration": 29,
    "start_time": "2021-07-07T18:10:10.242Z"
   },
   {
    "duration": 7,
    "start_time": "2021-07-07T18:10:10.272Z"
   },
   {
    "duration": 15,
    "start_time": "2021-07-07T18:10:10.281Z"
   },
   {
    "duration": 4,
    "start_time": "2021-07-07T18:10:10.299Z"
   },
   {
    "duration": 14,
    "start_time": "2021-07-07T18:10:10.305Z"
   },
   {
    "duration": 8,
    "start_time": "2021-07-07T18:10:10.321Z"
   },
   {
    "duration": 8,
    "start_time": "2021-07-07T18:10:10.331Z"
   },
   {
    "duration": 56,
    "start_time": "2021-07-07T18:10:10.341Z"
   },
   {
    "duration": 19,
    "start_time": "2021-07-07T18:10:10.399Z"
   },
   {
    "duration": 23,
    "start_time": "2021-07-07T18:10:10.419Z"
   },
   {
    "duration": 6,
    "start_time": "2021-07-07T18:10:10.444Z"
   },
   {
    "duration": 9,
    "start_time": "2021-07-07T18:10:10.451Z"
   },
   {
    "duration": 30,
    "start_time": "2021-07-07T18:10:10.462Z"
   },
   {
    "duration": 9,
    "start_time": "2021-07-07T18:10:10.494Z"
   },
   {
    "duration": 14,
    "start_time": "2021-07-07T18:10:10.505Z"
   },
   {
    "duration": 7,
    "start_time": "2021-07-07T18:10:10.521Z"
   },
   {
    "duration": 26,
    "start_time": "2021-07-07T18:10:10.530Z"
   },
   {
    "duration": 44,
    "start_time": "2021-07-07T18:10:10.558Z"
   },
   {
    "duration": 7,
    "start_time": "2021-07-07T18:10:10.605Z"
   },
   {
    "duration": 11,
    "start_time": "2021-07-07T18:10:10.614Z"
   },
   {
    "duration": 19,
    "start_time": "2021-07-07T18:10:10.626Z"
   },
   {
    "duration": 44,
    "start_time": "2021-07-07T18:10:10.646Z"
   },
   {
    "duration": 516,
    "start_time": "2021-07-07T18:14:00.826Z"
   },
   {
    "duration": 230,
    "start_time": "2021-07-07T18:14:01.344Z"
   },
   {
    "duration": 105,
    "start_time": "2021-07-07T18:14:01.576Z"
   },
   {
    "duration": 5,
    "start_time": "2021-07-07T18:14:01.683Z"
   },
   {
    "duration": 46,
    "start_time": "2021-07-07T18:14:01.690Z"
   },
   {
    "duration": 7,
    "start_time": "2021-07-07T18:14:01.738Z"
   },
   {
    "duration": 20,
    "start_time": "2021-07-07T18:14:01.747Z"
   },
   {
    "duration": 16,
    "start_time": "2021-07-07T18:14:01.769Z"
   },
   {
    "duration": 14,
    "start_time": "2021-07-07T18:14:01.787Z"
   },
   {
    "duration": 15,
    "start_time": "2021-07-07T18:14:01.803Z"
   },
   {
    "duration": 12,
    "start_time": "2021-07-07T18:14:01.820Z"
   },
   {
    "duration": 35,
    "start_time": "2021-07-07T18:14:01.833Z"
   },
   {
    "duration": 31,
    "start_time": "2021-07-07T18:14:01.869Z"
   },
   {
    "duration": 37,
    "start_time": "2021-07-07T18:14:01.902Z"
   },
   {
    "duration": 8,
    "start_time": "2021-07-07T18:14:01.942Z"
   },
   {
    "duration": 16,
    "start_time": "2021-07-07T18:14:01.952Z"
   },
   {
    "duration": 13,
    "start_time": "2021-07-07T18:14:01.970Z"
   },
   {
    "duration": 32,
    "start_time": "2021-07-07T18:14:01.985Z"
   },
   {
    "duration": 11,
    "start_time": "2021-07-07T18:14:02.019Z"
   },
   {
    "duration": 22,
    "start_time": "2021-07-07T18:14:02.031Z"
   },
   {
    "duration": 27,
    "start_time": "2021-07-07T18:14:02.055Z"
   },
   {
    "duration": 18,
    "start_time": "2021-07-07T18:14:02.084Z"
   },
   {
    "duration": 18,
    "start_time": "2021-07-07T18:14:02.106Z"
   },
   {
    "duration": 11,
    "start_time": "2021-07-07T18:14:02.126Z"
   },
   {
    "duration": 21,
    "start_time": "2021-07-07T18:14:02.138Z"
   },
   {
    "duration": 32,
    "start_time": "2021-07-07T18:14:02.161Z"
   },
   {
    "duration": 28,
    "start_time": "2021-07-07T18:14:44.295Z"
   },
   {
    "duration": 6,
    "start_time": "2021-07-07T18:15:05.834Z"
   },
   {
    "duration": 511,
    "start_time": "2021-07-07T18:15:41.541Z"
   },
   {
    "duration": 183,
    "start_time": "2021-07-07T18:15:42.054Z"
   },
   {
    "duration": 50,
    "start_time": "2021-07-07T18:15:42.239Z"
   },
   {
    "duration": 5,
    "start_time": "2021-07-07T18:15:42.291Z"
   },
   {
    "duration": 48,
    "start_time": "2021-07-07T18:15:42.297Z"
   },
   {
    "duration": 8,
    "start_time": "2021-07-07T18:15:42.346Z"
   },
   {
    "duration": 17,
    "start_time": "2021-07-07T18:15:42.356Z"
   },
   {
    "duration": 15,
    "start_time": "2021-07-07T18:15:42.375Z"
   },
   {
    "duration": 12,
    "start_time": "2021-07-07T18:15:42.392Z"
   },
   {
    "duration": 7,
    "start_time": "2021-07-07T18:15:42.406Z"
   },
   {
    "duration": 7,
    "start_time": "2021-07-07T18:15:42.415Z"
   },
   {
    "duration": 29,
    "start_time": "2021-07-07T18:15:42.423Z"
   },
   {
    "duration": 43,
    "start_time": "2021-07-07T18:15:42.453Z"
   },
   {
    "duration": 18,
    "start_time": "2021-07-07T18:15:42.497Z"
   },
   {
    "duration": 6,
    "start_time": "2021-07-07T18:15:42.516Z"
   },
   {
    "duration": 3,
    "start_time": "2021-07-07T18:15:42.523Z"
   },
   {
    "duration": 18,
    "start_time": "2021-07-07T18:15:42.528Z"
   },
   {
    "duration": 10,
    "start_time": "2021-07-07T18:15:42.547Z"
   },
   {
    "duration": 36,
    "start_time": "2021-07-07T18:15:42.559Z"
   },
   {
    "duration": 8,
    "start_time": "2021-07-07T18:15:42.597Z"
   },
   {
    "duration": 28,
    "start_time": "2021-07-07T18:15:42.606Z"
   },
   {
    "duration": 52,
    "start_time": "2021-07-07T18:15:42.635Z"
   },
   {
    "duration": 7,
    "start_time": "2021-07-07T18:15:42.690Z"
   },
   {
    "duration": 10,
    "start_time": "2021-07-07T18:15:42.699Z"
   },
   {
    "duration": 19,
    "start_time": "2021-07-07T18:15:42.711Z"
   },
   {
    "duration": 9,
    "start_time": "2021-07-07T18:15:42.732Z"
   },
   {
    "duration": 5,
    "start_time": "2021-07-07T18:15:42.743Z"
   },
   {
    "duration": 1450,
    "start_time": "2021-07-07T18:15:51.984Z"
   },
   {
    "duration": 161,
    "start_time": "2021-07-07T18:15:53.435Z"
   },
   {
    "duration": 124,
    "start_time": "2021-07-07T18:15:53.598Z"
   },
   {
    "duration": 5,
    "start_time": "2021-07-07T18:15:53.724Z"
   },
   {
    "duration": 34,
    "start_time": "2021-07-07T18:15:53.730Z"
   },
   {
    "duration": 7,
    "start_time": "2021-07-07T18:15:53.765Z"
   },
   {
    "duration": 15,
    "start_time": "2021-07-07T18:15:53.773Z"
   },
   {
    "duration": 5,
    "start_time": "2021-07-07T18:15:53.791Z"
   },
   {
    "duration": 19,
    "start_time": "2021-07-07T18:15:53.798Z"
   },
   {
    "duration": 9,
    "start_time": "2021-07-07T18:15:53.818Z"
   },
   {
    "duration": 19,
    "start_time": "2021-07-07T18:15:53.828Z"
   },
   {
    "duration": 27,
    "start_time": "2021-07-07T18:15:53.848Z"
   },
   {
    "duration": 16,
    "start_time": "2021-07-07T18:15:53.884Z"
   },
   {
    "duration": 29,
    "start_time": "2021-07-07T18:15:53.901Z"
   },
   {
    "duration": 5,
    "start_time": "2021-07-07T18:15:53.932Z"
   },
   {
    "duration": 15,
    "start_time": "2021-07-07T18:15:53.939Z"
   },
   {
    "duration": 13,
    "start_time": "2021-07-07T18:15:53.956Z"
   },
   {
    "duration": 20,
    "start_time": "2021-07-07T18:15:53.971Z"
   },
   {
    "duration": 14,
    "start_time": "2021-07-07T18:15:53.992Z"
   },
   {
    "duration": 9,
    "start_time": "2021-07-07T18:15:54.009Z"
   },
   {
    "duration": 28,
    "start_time": "2021-07-07T18:15:54.020Z"
   },
   {
    "duration": 50,
    "start_time": "2021-07-07T18:15:54.051Z"
   },
   {
    "duration": 8,
    "start_time": "2021-07-07T18:15:54.105Z"
   },
   {
    "duration": 11,
    "start_time": "2021-07-07T18:15:54.115Z"
   },
   {
    "duration": 20,
    "start_time": "2021-07-07T18:15:54.128Z"
   },
   {
    "duration": 13,
    "start_time": "2021-07-07T18:15:54.184Z"
   },
   {
    "duration": 7,
    "start_time": "2021-07-07T18:15:54.199Z"
   },
   {
    "duration": 7,
    "start_time": "2021-07-07T18:17:08.042Z"
   },
   {
    "duration": 8,
    "start_time": "2021-07-07T18:17:21.008Z"
   },
   {
    "duration": 7,
    "start_time": "2021-07-07T18:17:29.003Z"
   },
   {
    "duration": 8,
    "start_time": "2021-07-07T18:17:32.492Z"
   },
   {
    "duration": 9,
    "start_time": "2021-07-07T18:17:41.758Z"
   },
   {
    "duration": 255,
    "start_time": "2021-07-07T18:20:20.897Z"
   },
   {
    "duration": 173,
    "start_time": "2021-07-07T18:20:26.636Z"
   },
   {
    "duration": 7,
    "start_time": "2021-07-07T18:21:47.164Z"
   },
   {
    "duration": 254,
    "start_time": "2021-07-07T18:23:08.703Z"
   },
   {
    "duration": 21,
    "start_time": "2021-07-07T18:23:22.506Z"
   },
   {
    "duration": 315,
    "start_time": "2021-07-07T18:25:54.801Z"
   },
   {
    "duration": 34,
    "start_time": "2021-07-07T18:26:51.817Z"
   },
   {
    "duration": 327,
    "start_time": "2021-07-07T18:26:56.147Z"
   },
   {
    "duration": 342,
    "start_time": "2021-07-07T18:27:15.887Z"
   },
   {
    "duration": 302,
    "start_time": "2021-07-07T18:28:18.569Z"
   },
   {
    "duration": 226,
    "start_time": "2021-07-07T18:29:20.879Z"
   },
   {
    "duration": 207,
    "start_time": "2021-07-07T18:29:58.114Z"
   },
   {
    "duration": 140,
    "start_time": "2021-07-07T18:32:04.372Z"
   },
   {
    "duration": 158,
    "start_time": "2021-07-07T18:32:32.508Z"
   },
   {
    "duration": 145,
    "start_time": "2021-07-07T18:32:41.365Z"
   },
   {
    "duration": 132,
    "start_time": "2021-07-07T18:32:45.199Z"
   },
   {
    "duration": 11,
    "start_time": "2021-07-07T18:35:24.679Z"
   },
   {
    "duration": 268,
    "start_time": "2021-07-07T18:36:16.145Z"
   },
   {
    "duration": 227,
    "start_time": "2021-07-07T18:37:04.918Z"
   },
   {
    "duration": 3,
    "start_time": "2021-07-07T18:37:33.012Z"
   },
   {
    "duration": 671,
    "start_time": "2021-07-07T18:37:38.295Z"
   },
   {
    "duration": 54,
    "start_time": "2021-07-07T18:37:53.406Z"
   },
   {
    "duration": 631,
    "start_time": "2021-07-07T18:37:56.463Z"
   },
   {
    "duration": 19,
    "start_time": "2021-07-07T18:39:40.535Z"
   },
   {
    "duration": 20,
    "start_time": "2021-07-07T18:40:12.236Z"
   },
   {
    "duration": 633,
    "start_time": "2021-07-07T18:42:00.398Z"
   },
   {
    "duration": 218,
    "start_time": "2021-07-07T18:42:01.033Z"
   },
   {
    "duration": 49,
    "start_time": "2021-07-07T18:42:01.253Z"
   },
   {
    "duration": 5,
    "start_time": "2021-07-07T18:42:01.303Z"
   },
   {
    "duration": 27,
    "start_time": "2021-07-07T18:42:01.310Z"
   },
   {
    "duration": 8,
    "start_time": "2021-07-07T18:42:01.339Z"
   },
   {
    "duration": 20,
    "start_time": "2021-07-07T18:42:01.348Z"
   },
   {
    "duration": 6,
    "start_time": "2021-07-07T18:42:01.386Z"
   },
   {
    "duration": 16,
    "start_time": "2021-07-07T18:42:01.394Z"
   },
   {
    "duration": 9,
    "start_time": "2021-07-07T18:42:01.411Z"
   },
   {
    "duration": 11,
    "start_time": "2021-07-07T18:42:01.421Z"
   },
   {
    "duration": 31,
    "start_time": "2021-07-07T18:42:01.434Z"
   },
   {
    "duration": 18,
    "start_time": "2021-07-07T18:42:01.485Z"
   },
   {
    "duration": 23,
    "start_time": "2021-07-07T18:42:01.505Z"
   },
   {
    "duration": 6,
    "start_time": "2021-07-07T18:42:01.530Z"
   },
   {
    "duration": 10,
    "start_time": "2021-07-07T18:42:01.538Z"
   },
   {
    "duration": 13,
    "start_time": "2021-07-07T18:42:01.550Z"
   },
   {
    "duration": 24,
    "start_time": "2021-07-07T18:42:01.564Z"
   },
   {
    "duration": 20,
    "start_time": "2021-07-07T18:42:01.590Z"
   },
   {
    "duration": 8,
    "start_time": "2021-07-07T18:42:01.611Z"
   },
   {
    "duration": 31,
    "start_time": "2021-07-07T18:42:01.620Z"
   },
   {
    "duration": 39,
    "start_time": "2021-07-07T18:42:01.653Z"
   },
   {
    "duration": 8,
    "start_time": "2021-07-07T18:42:01.696Z"
   },
   {
    "duration": 13,
    "start_time": "2021-07-07T18:42:01.705Z"
   },
   {
    "duration": 20,
    "start_time": "2021-07-07T18:42:01.720Z"
   },
   {
    "duration": 12,
    "start_time": "2021-07-07T18:42:01.741Z"
   },
   {
    "duration": 35,
    "start_time": "2021-07-07T18:42:01.755Z"
   },
   {
    "duration": 14,
    "start_time": "2021-07-07T18:42:01.792Z"
   },
   {
    "duration": 188,
    "start_time": "2021-07-07T18:42:01.808Z"
   },
   {
    "duration": 19,
    "start_time": "2021-07-07T18:42:01.998Z"
   },
   {
    "duration": 175,
    "start_time": "2021-07-07T18:42:02.019Z"
   },
   {
    "duration": 134,
    "start_time": "2021-07-07T18:42:02.196Z"
   },
   {
    "duration": 10,
    "start_time": "2021-07-07T18:42:02.331Z"
   },
   {
    "duration": 19,
    "start_time": "2021-07-07T18:42:02.343Z"
   },
   {
    "duration": 628,
    "start_time": "2021-07-07T18:46:30.701Z"
   },
   {
    "duration": 183,
    "start_time": "2021-07-07T18:46:31.331Z"
   },
   {
    "duration": 48,
    "start_time": "2021-07-07T18:46:31.516Z"
   },
   {
    "duration": 5,
    "start_time": "2021-07-07T18:46:31.566Z"
   },
   {
    "duration": 28,
    "start_time": "2021-07-07T18:46:31.572Z"
   },
   {
    "duration": 8,
    "start_time": "2021-07-07T18:46:31.602Z"
   },
   {
    "duration": 19,
    "start_time": "2021-07-07T18:46:31.611Z"
   },
   {
    "duration": 6,
    "start_time": "2021-07-07T18:46:31.633Z"
   },
   {
    "duration": 17,
    "start_time": "2021-07-07T18:46:31.642Z"
   },
   {
    "duration": 10,
    "start_time": "2021-07-07T18:46:31.684Z"
   },
   {
    "duration": 9,
    "start_time": "2021-07-07T18:46:31.695Z"
   },
   {
    "duration": 28,
    "start_time": "2021-07-07T18:46:31.705Z"
   },
   {
    "duration": 18,
    "start_time": "2021-07-07T18:46:31.735Z"
   },
   {
    "duration": 48,
    "start_time": "2021-07-07T18:46:31.755Z"
   },
   {
    "duration": 6,
    "start_time": "2021-07-07T18:46:31.804Z"
   },
   {
    "duration": 4,
    "start_time": "2021-07-07T18:46:31.812Z"
   },
   {
    "duration": 9,
    "start_time": "2021-07-07T18:46:31.817Z"
   },
   {
    "duration": 10,
    "start_time": "2021-07-07T18:46:31.827Z"
   },
   {
    "duration": 12,
    "start_time": "2021-07-07T18:46:31.838Z"
   },
   {
    "duration": 39,
    "start_time": "2021-07-07T18:46:31.851Z"
   },
   {
    "duration": 24,
    "start_time": "2021-07-07T18:46:31.892Z"
   },
   {
    "duration": 15,
    "start_time": "2021-07-07T18:46:31.918Z"
   },
   {
    "duration": 7,
    "start_time": "2021-07-07T18:46:31.936Z"
   },
   {
    "duration": 8,
    "start_time": "2021-07-07T18:46:31.944Z"
   },
   {
    "duration": 19,
    "start_time": "2021-07-07T18:46:31.984Z"
   },
   {
    "duration": 10,
    "start_time": "2021-07-07T18:46:32.004Z"
   },
   {
    "duration": 5,
    "start_time": "2021-07-07T18:46:32.016Z"
   },
   {
    "duration": 9,
    "start_time": "2021-07-07T18:46:32.023Z"
   },
   {
    "duration": 199,
    "start_time": "2021-07-07T18:46:32.033Z"
   },
   {
    "duration": 19,
    "start_time": "2021-07-07T18:46:32.234Z"
   },
   {
    "duration": 159,
    "start_time": "2021-07-07T18:46:32.255Z"
   },
   {
    "duration": 134,
    "start_time": "2021-07-07T18:46:32.416Z"
   },
   {
    "duration": 10,
    "start_time": "2021-07-07T18:46:32.552Z"
   },
   {
    "duration": 34,
    "start_time": "2021-07-07T18:46:32.563Z"
   },
   {
    "duration": 1039,
    "start_time": "2021-07-08T08:41:09.419Z"
   },
   {
    "duration": 333,
    "start_time": "2021-07-08T08:41:10.459Z"
   },
   {
    "duration": 173,
    "start_time": "2021-07-08T08:41:10.794Z"
   },
   {
    "duration": 5,
    "start_time": "2021-07-08T08:41:10.968Z"
   },
   {
    "duration": 25,
    "start_time": "2021-07-08T08:41:10.975Z"
   },
   {
    "duration": 9,
    "start_time": "2021-07-08T08:41:11.002Z"
   },
   {
    "duration": 18,
    "start_time": "2021-07-08T08:41:11.013Z"
   },
   {
    "duration": 6,
    "start_time": "2021-07-08T08:41:11.033Z"
   },
   {
    "duration": 44,
    "start_time": "2021-07-08T08:41:11.042Z"
   },
   {
    "duration": 10,
    "start_time": "2021-07-08T08:41:11.088Z"
   },
   {
    "duration": 9,
    "start_time": "2021-07-08T08:41:11.100Z"
   },
   {
    "duration": 27,
    "start_time": "2021-07-08T08:41:11.111Z"
   },
   {
    "duration": 46,
    "start_time": "2021-07-08T08:41:11.140Z"
   },
   {
    "duration": 17,
    "start_time": "2021-07-08T08:41:11.187Z"
   },
   {
    "duration": 6,
    "start_time": "2021-07-08T08:41:11.206Z"
   },
   {
    "duration": 5,
    "start_time": "2021-07-08T08:41:11.213Z"
   },
   {
    "duration": 10,
    "start_time": "2021-07-08T08:41:11.219Z"
   },
   {
    "duration": 9,
    "start_time": "2021-07-08T08:41:11.230Z"
   },
   {
    "duration": 45,
    "start_time": "2021-07-08T08:41:11.241Z"
   },
   {
    "duration": 7,
    "start_time": "2021-07-08T08:41:11.287Z"
   },
   {
    "duration": 24,
    "start_time": "2021-07-08T08:41:11.296Z"
   },
   {
    "duration": 16,
    "start_time": "2021-07-08T08:41:11.322Z"
   },
   {
    "duration": 7,
    "start_time": "2021-07-08T08:41:11.341Z"
   },
   {
    "duration": 41,
    "start_time": "2021-07-08T08:41:11.349Z"
   },
   {
    "duration": 17,
    "start_time": "2021-07-08T08:41:11.391Z"
   },
   {
    "duration": 9,
    "start_time": "2021-07-08T08:41:11.410Z"
   },
   {
    "duration": 5,
    "start_time": "2021-07-08T08:41:11.421Z"
   },
   {
    "duration": 6,
    "start_time": "2021-07-08T08:41:11.428Z"
   },
   {
    "duration": 198,
    "start_time": "2021-07-08T08:41:11.435Z"
   },
   {
    "duration": 18,
    "start_time": "2021-07-08T08:41:11.635Z"
   },
   {
    "duration": 155,
    "start_time": "2021-07-08T08:41:11.655Z"
   },
   {
    "duration": 138,
    "start_time": "2021-07-08T08:41:11.811Z"
   },
   {
    "duration": 10,
    "start_time": "2021-07-08T08:41:11.950Z"
   },
   {
    "duration": 29,
    "start_time": "2021-07-08T08:41:11.961Z"
   },
   {
    "duration": 171,
    "start_time": "2021-07-08T08:47:44.522Z"
   },
   {
    "duration": 124,
    "start_time": "2021-07-08T08:47:46.872Z"
   },
   {
    "duration": 191,
    "start_time": "2021-07-08T08:47:58.148Z"
   },
   {
    "duration": 191,
    "start_time": "2021-07-08T08:48:07.412Z"
   },
   {
    "duration": 261,
    "start_time": "2021-07-08T08:48:10.385Z"
   },
   {
    "duration": 255,
    "start_time": "2021-07-08T08:48:14.494Z"
   },
   {
    "duration": 219,
    "start_time": "2021-07-08T08:48:22.752Z"
   },
   {
    "duration": 173,
    "start_time": "2021-07-08T08:49:06.395Z"
   },
   {
    "duration": 180,
    "start_time": "2021-07-08T08:49:21.011Z"
   },
   {
    "duration": 6,
    "start_time": "2021-07-08T08:50:31.697Z"
   },
   {
    "duration": 10,
    "start_time": "2021-07-08T08:50:47.394Z"
   },
   {
    "duration": 11,
    "start_time": "2021-07-08T08:53:49.332Z"
   },
   {
    "duration": 171,
    "start_time": "2021-07-08T08:54:28.408Z"
   },
   {
    "duration": 636,
    "start_time": "2021-07-08T09:02:48.385Z"
   },
   {
    "duration": 227,
    "start_time": "2021-07-08T09:02:49.023Z"
   },
   {
    "duration": 104,
    "start_time": "2021-07-08T09:02:49.252Z"
   },
   {
    "duration": 5,
    "start_time": "2021-07-08T09:02:49.358Z"
   },
   {
    "duration": 27,
    "start_time": "2021-07-08T09:02:49.365Z"
   },
   {
    "duration": 8,
    "start_time": "2021-07-08T09:02:49.394Z"
   },
   {
    "duration": 18,
    "start_time": "2021-07-08T09:02:49.404Z"
   },
   {
    "duration": 6,
    "start_time": "2021-07-08T09:02:49.424Z"
   },
   {
    "duration": 11,
    "start_time": "2021-07-08T09:02:49.433Z"
   },
   {
    "duration": 13,
    "start_time": "2021-07-08T09:02:49.485Z"
   },
   {
    "duration": 9,
    "start_time": "2021-07-08T09:02:49.500Z"
   },
   {
    "duration": 38,
    "start_time": "2021-07-08T09:02:49.511Z"
   },
   {
    "duration": 42,
    "start_time": "2021-07-08T09:02:49.551Z"
   },
   {
    "duration": 21,
    "start_time": "2021-07-08T09:02:49.594Z"
   },
   {
    "duration": 6,
    "start_time": "2021-07-08T09:02:49.616Z"
   },
   {
    "duration": 3,
    "start_time": "2021-07-08T09:02:49.623Z"
   },
   {
    "duration": 9,
    "start_time": "2021-07-08T09:02:49.628Z"
   },
   {
    "duration": 52,
    "start_time": "2021-07-08T09:02:49.638Z"
   },
   {
    "duration": 11,
    "start_time": "2021-07-08T09:02:49.692Z"
   },
   {
    "duration": 8,
    "start_time": "2021-07-08T09:02:49.704Z"
   },
   {
    "duration": 27,
    "start_time": "2021-07-08T09:02:49.713Z"
   },
   {
    "duration": 59,
    "start_time": "2021-07-08T09:02:49.741Z"
   },
   {
    "duration": 8,
    "start_time": "2021-07-08T09:02:49.803Z"
   },
   {
    "duration": 14,
    "start_time": "2021-07-08T09:02:49.813Z"
   },
   {
    "duration": 20,
    "start_time": "2021-07-08T09:02:49.829Z"
   },
   {
    "duration": 44,
    "start_time": "2021-07-08T09:02:49.851Z"
   },
   {
    "duration": 14,
    "start_time": "2021-07-08T09:02:49.896Z"
   },
   {
    "duration": 221,
    "start_time": "2021-07-08T09:02:49.912Z"
   },
   {
    "duration": 6,
    "start_time": "2021-07-08T09:02:50.134Z"
   },
   {
    "duration": 206,
    "start_time": "2021-07-08T09:02:50.142Z"
   },
   {
    "duration": 19,
    "start_time": "2021-07-08T09:02:50.350Z"
   },
   {
    "duration": 21,
    "start_time": "2021-07-08T09:02:50.370Z"
   },
   {
    "duration": 20,
    "start_time": "2021-07-08T09:02:50.393Z"
   },
   {
    "duration": 5,
    "start_time": "2021-07-08T09:02:50.414Z"
   },
   {
    "duration": 5,
    "start_time": "2021-07-08T09:03:34.173Z"
   },
   {
    "duration": 6,
    "start_time": "2021-07-08T09:04:49.062Z"
   },
   {
    "duration": 9,
    "start_time": "2021-07-08T09:04:50.118Z"
   },
   {
    "duration": 14,
    "start_time": "2021-07-08T09:04:58.512Z"
   },
   {
    "duration": 9,
    "start_time": "2021-07-08T09:05:10.988Z"
   },
   {
    "duration": 11,
    "start_time": "2021-07-08T09:05:11.743Z"
   },
   {
    "duration": 7,
    "start_time": "2021-07-08T09:05:25.677Z"
   },
   {
    "duration": 13,
    "start_time": "2021-07-08T09:05:47.189Z"
   },
   {
    "duration": 13,
    "start_time": "2021-07-08T09:05:54.755Z"
   },
   {
    "duration": 4,
    "start_time": "2021-07-08T09:06:29.189Z"
   },
   {
    "duration": 244,
    "start_time": "2021-07-08T09:06:29.195Z"
   },
   {
    "duration": 91,
    "start_time": "2021-07-08T09:06:29.441Z"
   },
   {
    "duration": 4,
    "start_time": "2021-07-08T09:06:29.534Z"
   },
   {
    "duration": 28,
    "start_time": "2021-07-08T09:06:29.540Z"
   },
   {
    "duration": 6,
    "start_time": "2021-07-08T09:06:29.570Z"
   },
   {
    "duration": 18,
    "start_time": "2021-07-08T09:06:29.578Z"
   },
   {
    "duration": 5,
    "start_time": "2021-07-08T09:06:29.597Z"
   },
   {
    "duration": 13,
    "start_time": "2021-07-08T09:06:29.605Z"
   },
   {
    "duration": 8,
    "start_time": "2021-07-08T09:06:29.620Z"
   },
   {
    "duration": 7,
    "start_time": "2021-07-08T09:06:29.630Z"
   },
   {
    "duration": 63,
    "start_time": "2021-07-08T09:06:29.639Z"
   },
   {
    "duration": 17,
    "start_time": "2021-07-08T09:06:29.704Z"
   },
   {
    "duration": 20,
    "start_time": "2021-07-08T09:06:29.723Z"
   },
   {
    "duration": 6,
    "start_time": "2021-07-08T09:06:29.745Z"
   },
   {
    "duration": 3,
    "start_time": "2021-07-08T09:06:29.752Z"
   },
   {
    "duration": 7,
    "start_time": "2021-07-08T09:06:29.785Z"
   },
   {
    "duration": 11,
    "start_time": "2021-07-08T09:06:29.794Z"
   },
   {
    "duration": 15,
    "start_time": "2021-07-08T09:06:29.807Z"
   },
   {
    "duration": 8,
    "start_time": "2021-07-08T09:06:29.823Z"
   },
   {
    "duration": 70,
    "start_time": "2021-07-08T09:06:29.832Z"
   },
   {
    "duration": 17,
    "start_time": "2021-07-08T09:06:29.903Z"
   },
   {
    "duration": 9,
    "start_time": "2021-07-08T09:06:29.921Z"
   },
   {
    "duration": 9,
    "start_time": "2021-07-08T09:06:29.932Z"
   },
   {
    "duration": 57,
    "start_time": "2021-07-08T09:06:29.942Z"
   },
   {
    "duration": 11,
    "start_time": "2021-07-08T09:06:30.001Z"
   },
   {
    "duration": 19,
    "start_time": "2021-07-08T09:06:30.016Z"
   },
   {
    "duration": 217,
    "start_time": "2021-07-08T09:06:30.037Z"
   },
   {
    "duration": 6,
    "start_time": "2021-07-08T09:06:30.255Z"
   },
   {
    "duration": 205,
    "start_time": "2021-07-08T09:06:30.263Z"
   },
   {
    "duration": 27,
    "start_time": "2021-07-08T09:06:30.470Z"
   },
   {
    "duration": 11,
    "start_time": "2021-07-08T09:06:30.500Z"
   },
   {
    "duration": 31,
    "start_time": "2021-07-08T09:06:30.513Z"
   },
   {
    "duration": 18,
    "start_time": "2021-07-08T09:06:30.546Z"
   },
   {
    "duration": 11,
    "start_time": "2021-07-08T09:06:30.566Z"
   },
   {
    "duration": 19,
    "start_time": "2021-07-08T09:06:30.579Z"
   },
   {
    "duration": 20,
    "start_time": "2021-07-08T09:06:49.466Z"
   },
   {
    "duration": 9,
    "start_time": "2021-07-08T09:06:51.994Z"
   },
   {
    "duration": 20,
    "start_time": "2021-07-08T09:06:52.273Z"
   },
   {
    "duration": 246,
    "start_time": "2021-07-08T09:10:21.272Z"
   },
   {
    "duration": 84,
    "start_time": "2021-07-08T09:10:21.436Z"
   },
   {
    "duration": 7,
    "start_time": "2021-07-08T09:10:37.608Z"
   },
   {
    "duration": 189,
    "start_time": "2021-07-08T09:10:38.573Z"
   },
   {
    "duration": 185,
    "start_time": "2021-07-08T09:10:53.181Z"
   },
   {
    "duration": 11,
    "start_time": "2021-07-08T09:10:59.549Z"
   },
   {
    "duration": 42,
    "start_time": "2021-07-08T09:10:59.709Z"
   },
   {
    "duration": 12,
    "start_time": "2021-07-08T09:11:02.857Z"
   },
   {
    "duration": 28,
    "start_time": "2021-07-08T09:11:10.062Z"
   },
   {
    "duration": 249,
    "start_time": "2021-07-08T09:11:37.388Z"
   },
   {
    "duration": 232,
    "start_time": "2021-07-08T09:11:49.485Z"
   },
   {
    "duration": 453,
    "start_time": "2021-07-08T09:12:01.546Z"
   },
   {
    "duration": 440,
    "start_time": "2021-07-08T09:12:12.347Z"
   },
   {
    "duration": 213,
    "start_time": "2021-07-08T09:13:32.196Z"
   },
   {
    "duration": 172,
    "start_time": "2021-07-08T09:14:07.400Z"
   },
   {
    "duration": 185,
    "start_time": "2021-07-08T09:14:14.905Z"
   },
   {
    "duration": 209,
    "start_time": "2021-07-08T09:14:40.109Z"
   },
   {
    "duration": 201,
    "start_time": "2021-07-08T09:14:54.506Z"
   },
   {
    "duration": 622,
    "start_time": "2021-07-08T09:18:14.497Z"
   },
   {
    "duration": 220,
    "start_time": "2021-07-08T09:18:15.121Z"
   },
   {
    "duration": 79,
    "start_time": "2021-07-08T09:18:15.343Z"
   },
   {
    "duration": 4,
    "start_time": "2021-07-08T09:18:15.425Z"
   },
   {
    "duration": 24,
    "start_time": "2021-07-08T09:18:15.431Z"
   },
   {
    "duration": 8,
    "start_time": "2021-07-08T09:18:15.457Z"
   },
   {
    "duration": 16,
    "start_time": "2021-07-08T09:18:15.466Z"
   },
   {
    "duration": 5,
    "start_time": "2021-07-08T09:18:15.484Z"
   },
   {
    "duration": 10,
    "start_time": "2021-07-08T09:18:15.493Z"
   },
   {
    "duration": 8,
    "start_time": "2021-07-08T09:18:15.504Z"
   },
   {
    "duration": 7,
    "start_time": "2021-07-08T09:18:15.513Z"
   },
   {
    "duration": 26,
    "start_time": "2021-07-08T09:18:15.522Z"
   },
   {
    "duration": 49,
    "start_time": "2021-07-08T09:18:15.550Z"
   },
   {
    "duration": 21,
    "start_time": "2021-07-08T09:18:15.601Z"
   },
   {
    "duration": 8,
    "start_time": "2021-07-08T09:18:15.624Z"
   },
   {
    "duration": 3,
    "start_time": "2021-07-08T09:18:15.634Z"
   },
   {
    "duration": 8,
    "start_time": "2021-07-08T09:18:15.639Z"
   },
   {
    "duration": 45,
    "start_time": "2021-07-08T09:18:15.649Z"
   },
   {
    "duration": 13,
    "start_time": "2021-07-08T09:18:15.696Z"
   },
   {
    "duration": 10,
    "start_time": "2021-07-08T09:18:15.711Z"
   },
   {
    "duration": 64,
    "start_time": "2021-07-08T09:18:15.722Z"
   },
   {
    "duration": 19,
    "start_time": "2021-07-08T09:18:15.788Z"
   },
   {
    "duration": 9,
    "start_time": "2021-07-08T09:18:15.809Z"
   },
   {
    "duration": 9,
    "start_time": "2021-07-08T09:18:15.820Z"
   },
   {
    "duration": 18,
    "start_time": "2021-07-08T09:18:15.831Z"
   },
   {
    "duration": 43,
    "start_time": "2021-07-08T09:18:15.851Z"
   },
   {
    "duration": 12,
    "start_time": "2021-07-08T09:18:15.897Z"
   },
   {
    "duration": 219,
    "start_time": "2021-07-08T09:18:15.911Z"
   },
   {
    "duration": 8,
    "start_time": "2021-07-08T09:18:16.132Z"
   },
   {
    "duration": 199,
    "start_time": "2021-07-08T09:18:16.141Z"
   },
   {
    "duration": 18,
    "start_time": "2021-07-08T09:18:16.341Z"
   },
   {
    "duration": 24,
    "start_time": "2021-07-08T09:18:16.361Z"
   },
   {
    "duration": 24,
    "start_time": "2021-07-08T09:18:16.387Z"
   },
   {
    "duration": 211,
    "start_time": "2021-07-08T09:18:16.413Z"
   },
   {
    "duration": 18,
    "start_time": "2021-07-08T09:18:16.626Z"
   },
   {
    "duration": 596,
    "start_time": "2021-07-08T10:06:33.623Z"
   },
   {
    "duration": 181,
    "start_time": "2021-07-08T10:06:34.221Z"
   },
   {
    "duration": 176,
    "start_time": "2021-07-08T10:06:34.635Z"
   },
   {
    "duration": 239,
    "start_time": "2021-07-08T10:06:55.572Z"
   },
   {
    "duration": 6,
    "start_time": "2021-07-08T10:06:57.687Z"
   },
   {
    "duration": 4,
    "start_time": "2021-07-08T10:07:03.956Z"
   },
   {
    "duration": 4,
    "start_time": "2021-07-08T10:07:10.376Z"
   },
   {
    "duration": 4,
    "start_time": "2021-07-08T10:17:19.889Z"
   },
   {
    "duration": 3,
    "start_time": "2021-07-08T10:19:19.407Z"
   },
   {
    "duration": 197,
    "start_time": "2021-07-08T10:19:19.412Z"
   },
   {
    "duration": 127,
    "start_time": "2021-07-08T10:19:19.611Z"
   },
   {
    "duration": 4,
    "start_time": "2021-07-08T10:19:19.740Z"
   },
   {
    "duration": 27,
    "start_time": "2021-07-08T10:19:19.746Z"
   },
   {
    "duration": 7,
    "start_time": "2021-07-08T10:19:19.775Z"
   },
   {
    "duration": 30,
    "start_time": "2021-07-08T10:19:19.784Z"
   },
   {
    "duration": 7,
    "start_time": "2021-07-08T10:19:19.817Z"
   },
   {
    "duration": 26,
    "start_time": "2021-07-08T10:19:19.826Z"
   },
   {
    "duration": 18,
    "start_time": "2021-07-08T10:19:19.854Z"
   },
   {
    "duration": 14,
    "start_time": "2021-07-08T10:19:19.874Z"
   },
   {
    "duration": 48,
    "start_time": "2021-07-08T10:19:19.890Z"
   },
   {
    "duration": 17,
    "start_time": "2021-07-08T10:19:19.940Z"
   },
   {
    "duration": 38,
    "start_time": "2021-07-08T10:19:19.959Z"
   },
   {
    "duration": 8,
    "start_time": "2021-07-08T10:19:19.999Z"
   },
   {
    "duration": 15,
    "start_time": "2021-07-08T10:19:20.009Z"
   },
   {
    "duration": 22,
    "start_time": "2021-07-08T10:19:20.026Z"
   },
   {
    "duration": 10,
    "start_time": "2021-07-08T10:19:20.050Z"
   },
   {
    "duration": 10,
    "start_time": "2021-07-08T10:19:20.062Z"
   },
   {
    "duration": 20,
    "start_time": "2021-07-08T10:19:20.073Z"
   },
   {
    "duration": 29,
    "start_time": "2021-07-08T10:19:20.095Z"
   },
   {
    "duration": 17,
    "start_time": "2021-07-08T10:19:20.126Z"
   },
   {
    "duration": 40,
    "start_time": "2021-07-08T10:19:20.146Z"
   },
   {
    "duration": 15,
    "start_time": "2021-07-08T10:19:20.189Z"
   },
   {
    "duration": 19,
    "start_time": "2021-07-08T10:19:20.206Z"
   },
   {
    "duration": 10,
    "start_time": "2021-07-08T10:19:20.226Z"
   },
   {
    "duration": 11,
    "start_time": "2021-07-08T10:19:20.238Z"
   },
   {
    "duration": 297,
    "start_time": "2021-07-08T10:19:20.250Z"
   },
   {
    "duration": 6,
    "start_time": "2021-07-08T10:19:20.549Z"
   },
   {
    "duration": 191,
    "start_time": "2021-07-08T10:19:20.557Z"
   },
   {
    "duration": 19,
    "start_time": "2021-07-08T10:19:20.750Z"
   },
   {
    "duration": 20,
    "start_time": "2021-07-08T10:19:20.771Z"
   },
   {
    "duration": 15,
    "start_time": "2021-07-08T10:19:20.793Z"
   },
   {
    "duration": 222,
    "start_time": "2021-07-08T10:19:20.809Z"
   },
   {
    "duration": 20,
    "start_time": "2021-07-08T10:19:21.033Z"
   },
   {
    "duration": 27,
    "start_time": "2021-07-08T10:45:04.055Z"
   },
   {
    "duration": 8,
    "start_time": "2021-07-08T10:45:08.478Z"
   },
   {
    "duration": 8,
    "start_time": "2021-07-08T10:45:31.982Z"
   },
   {
    "duration": 10,
    "start_time": "2021-07-08T10:46:01.221Z"
   },
   {
    "duration": 17,
    "start_time": "2021-07-08T10:46:40.011Z"
   },
   {
    "duration": 193,
    "start_time": "2021-07-08T10:48:19.471Z"
   },
   {
    "duration": 225,
    "start_time": "2021-07-08T10:49:26.480Z"
   },
   {
    "duration": 204,
    "start_time": "2021-07-08T10:49:59.992Z"
   },
   {
    "duration": 435,
    "start_time": "2021-07-08T10:50:06.779Z"
   },
   {
    "duration": 199,
    "start_time": "2021-07-08T10:50:14.891Z"
   },
   {
    "duration": 204,
    "start_time": "2021-07-08T10:50:18.501Z"
   },
   {
    "duration": 244,
    "start_time": "2021-07-08T10:50:23.359Z"
   },
   {
    "duration": 192,
    "start_time": "2021-07-08T10:50:29.135Z"
   },
   {
    "duration": 218,
    "start_time": "2021-07-08T10:50:33.092Z"
   },
   {
    "duration": 207,
    "start_time": "2021-07-08T10:52:45.381Z"
   },
   {
    "duration": 5,
    "start_time": "2021-07-08T10:53:34.641Z"
   },
   {
    "duration": 196,
    "start_time": "2021-07-08T10:53:41.478Z"
   },
   {
    "duration": 43,
    "start_time": "2021-07-08T10:53:50.335Z"
   },
   {
    "duration": 32,
    "start_time": "2021-07-08T10:53:55.294Z"
   },
   {
    "duration": 55,
    "start_time": "2021-07-08T10:54:09.675Z"
   },
   {
    "duration": 16,
    "start_time": "2021-07-08T10:54:12.260Z"
   },
   {
    "duration": 15,
    "start_time": "2021-07-08T10:54:49.150Z"
   },
   {
    "duration": 20,
    "start_time": "2021-07-08T10:56:07.596Z"
   },
   {
    "duration": 16,
    "start_time": "2021-07-08T10:58:26.276Z"
   },
   {
    "duration": 22,
    "start_time": "2021-07-08T10:59:00.486Z"
   },
   {
    "duration": 18,
    "start_time": "2021-07-08T11:02:09.653Z"
   },
   {
    "duration": 10,
    "start_time": "2021-07-08T11:03:44.331Z"
   },
   {
    "duration": 10,
    "start_time": "2021-07-08T11:03:54.055Z"
   },
   {
    "duration": 12,
    "start_time": "2021-07-08T11:04:41.967Z"
   },
   {
    "duration": 24,
    "start_time": "2021-07-08T11:07:30.732Z"
   },
   {
    "duration": 6,
    "start_time": "2021-07-08T11:07:37.364Z"
   },
   {
    "duration": 16,
    "start_time": "2021-07-08T11:08:01.819Z"
   },
   {
    "duration": 17,
    "start_time": "2021-07-08T11:09:47.488Z"
   },
   {
    "duration": 246,
    "start_time": "2021-07-08T11:10:00.830Z"
   },
   {
    "duration": 18,
    "start_time": "2021-07-08T11:13:55.195Z"
   },
   {
    "duration": 204,
    "start_time": "2021-07-08T11:14:04.951Z"
   },
   {
    "duration": 19,
    "start_time": "2021-07-08T11:15:10.613Z"
   },
   {
    "duration": 680,
    "start_time": "2021-07-08T11:16:25.793Z"
   },
   {
    "duration": 451,
    "start_time": "2021-07-08T11:16:40.313Z"
   },
   {
    "duration": 469,
    "start_time": "2021-07-08T11:17:21.286Z"
   },
   {
    "duration": 20,
    "start_time": "2021-07-08T11:19:12.554Z"
   },
   {
    "duration": 35,
    "start_time": "2021-07-08T11:20:05.484Z"
   },
   {
    "duration": 53,
    "start_time": "2021-07-08T11:21:40.050Z"
   },
   {
    "duration": 13,
    "start_time": "2021-07-08T11:22:26.059Z"
   },
   {
    "duration": 19,
    "start_time": "2021-07-08T11:22:47.419Z"
   },
   {
    "duration": 25,
    "start_time": "2021-07-08T11:23:19.958Z"
   },
   {
    "duration": 29,
    "start_time": "2021-07-08T11:23:25.415Z"
   },
   {
    "duration": 10,
    "start_time": "2021-07-08T11:24:45.138Z"
   },
   {
    "duration": 19,
    "start_time": "2021-07-08T11:24:54.498Z"
   },
   {
    "duration": 12,
    "start_time": "2021-07-08T11:25:32.225Z"
   },
   {
    "duration": 19,
    "start_time": "2021-07-08T11:25:37.092Z"
   },
   {
    "duration": 17,
    "start_time": "2021-07-08T11:25:58.116Z"
   },
   {
    "duration": 15,
    "start_time": "2021-07-08T11:26:02.258Z"
   },
   {
    "duration": 8,
    "start_time": "2021-07-08T11:26:59.682Z"
   },
   {
    "duration": 184,
    "start_time": "2021-07-08T11:27:21.894Z"
   },
   {
    "duration": 8,
    "start_time": "2021-07-08T11:27:23.824Z"
   },
   {
    "duration": 202,
    "start_time": "2021-07-08T11:27:23.962Z"
   },
   {
    "duration": 360,
    "start_time": "2021-07-08T11:28:33.215Z"
   },
   {
    "duration": 231,
    "start_time": "2021-07-08T11:32:05.542Z"
   },
   {
    "duration": 607,
    "start_time": "2021-07-08T11:36:27.854Z"
   },
   {
    "duration": 241,
    "start_time": "2021-07-08T11:36:28.463Z"
   },
   {
    "duration": 67,
    "start_time": "2021-07-08T11:36:28.709Z"
   },
   {
    "duration": 5,
    "start_time": "2021-07-08T11:36:28.778Z"
   },
   {
    "duration": 32,
    "start_time": "2021-07-08T11:36:28.784Z"
   },
   {
    "duration": 11,
    "start_time": "2021-07-08T11:36:28.819Z"
   },
   {
    "duration": 20,
    "start_time": "2021-07-08T11:36:28.834Z"
   },
   {
    "duration": 36,
    "start_time": "2021-07-08T11:36:28.857Z"
   },
   {
    "duration": 16,
    "start_time": "2021-07-08T11:36:28.895Z"
   },
   {
    "duration": 14,
    "start_time": "2021-07-08T11:36:28.913Z"
   },
   {
    "duration": 9,
    "start_time": "2021-07-08T11:36:28.930Z"
   },
   {
    "duration": 55,
    "start_time": "2021-07-08T11:36:28.941Z"
   },
   {
    "duration": 27,
    "start_time": "2021-07-08T11:36:28.999Z"
   },
   {
    "duration": 30,
    "start_time": "2021-07-08T11:36:29.028Z"
   },
   {
    "duration": 31,
    "start_time": "2021-07-08T11:36:29.060Z"
   },
   {
    "duration": 3,
    "start_time": "2021-07-08T11:36:29.093Z"
   },
   {
    "duration": 12,
    "start_time": "2021-07-08T11:36:29.099Z"
   },
   {
    "duration": 11,
    "start_time": "2021-07-08T11:36:29.112Z"
   },
   {
    "duration": 12,
    "start_time": "2021-07-08T11:36:29.125Z"
   },
   {
    "duration": 9,
    "start_time": "2021-07-08T11:36:29.139Z"
   },
   {
    "duration": 31,
    "start_time": "2021-07-08T11:36:29.191Z"
   },
   {
    "duration": 17,
    "start_time": "2021-07-08T11:36:29.226Z"
   },
   {
    "duration": 7,
    "start_time": "2021-07-08T11:36:29.245Z"
   },
   {
    "duration": 10,
    "start_time": "2021-07-08T11:36:29.254Z"
   },
   {
    "duration": 30,
    "start_time": "2021-07-08T11:36:29.292Z"
   },
   {
    "duration": 11,
    "start_time": "2021-07-08T11:36:29.324Z"
   },
   {
    "duration": 11,
    "start_time": "2021-07-08T11:36:29.337Z"
   },
   {
    "duration": 230,
    "start_time": "2021-07-08T11:36:29.349Z"
   },
   {
    "duration": 13,
    "start_time": "2021-07-08T11:36:29.588Z"
   },
   {
    "duration": 205,
    "start_time": "2021-07-08T11:36:29.603Z"
   },
   {
    "duration": 20,
    "start_time": "2021-07-08T11:36:29.810Z"
   },
   {
    "duration": 9,
    "start_time": "2021-07-08T11:36:29.832Z"
   },
   {
    "duration": 16,
    "start_time": "2021-07-08T11:36:29.843Z"
   },
   {
    "duration": 283,
    "start_time": "2021-07-08T11:36:29.861Z"
   },
   {
    "duration": 50,
    "start_time": "2021-07-08T11:36:30.146Z"
   },
   {
    "duration": 14,
    "start_time": "2021-07-08T11:36:30.198Z"
   },
   {
    "duration": 11,
    "start_time": "2021-07-08T11:36:30.214Z"
   },
   {
    "duration": 245,
    "start_time": "2021-07-08T11:36:30.227Z"
   },
   {
    "duration": 439,
    "start_time": "2021-07-08T11:36:30.474Z"
   },
   {
    "duration": 210,
    "start_time": "2021-07-08T11:36:30.915Z"
   },
   {
    "duration": 15,
    "start_time": "2021-07-08T11:36:31.127Z"
   },
   {
    "duration": 17,
    "start_time": "2021-07-08T11:38:20.451Z"
   },
   {
    "duration": 642,
    "start_time": "2021-07-08T11:46:17.881Z"
   },
   {
    "duration": 210,
    "start_time": "2021-07-08T11:46:18.525Z"
   },
   {
    "duration": 104,
    "start_time": "2021-07-08T11:46:18.741Z"
   },
   {
    "duration": 8,
    "start_time": "2021-07-08T11:46:18.847Z"
   },
   {
    "duration": 25,
    "start_time": "2021-07-08T11:46:18.857Z"
   },
   {
    "duration": 14,
    "start_time": "2021-07-08T11:46:18.884Z"
   },
   {
    "duration": 22,
    "start_time": "2021-07-08T11:46:18.900Z"
   },
   {
    "duration": 5,
    "start_time": "2021-07-08T11:46:18.924Z"
   },
   {
    "duration": 13,
    "start_time": "2021-07-08T11:46:18.931Z"
   },
   {
    "duration": 45,
    "start_time": "2021-07-08T11:46:18.946Z"
   },
   {
    "duration": 12,
    "start_time": "2021-07-08T11:46:18.993Z"
   },
   {
    "duration": 38,
    "start_time": "2021-07-08T11:46:19.006Z"
   },
   {
    "duration": 50,
    "start_time": "2021-07-08T11:46:19.046Z"
   },
   {
    "duration": 29,
    "start_time": "2021-07-08T11:46:19.099Z"
   },
   {
    "duration": 7,
    "start_time": "2021-07-08T11:46:19.130Z"
   },
   {
    "duration": 3,
    "start_time": "2021-07-08T11:46:19.139Z"
   },
   {
    "duration": 11,
    "start_time": "2021-07-08T11:46:19.144Z"
   },
   {
    "duration": 40,
    "start_time": "2021-07-08T11:46:19.157Z"
   },
   {
    "duration": 15,
    "start_time": "2021-07-08T11:46:19.199Z"
   },
   {
    "duration": 10,
    "start_time": "2021-07-08T11:46:19.217Z"
   },
   {
    "duration": 68,
    "start_time": "2021-07-08T11:46:19.230Z"
   },
   {
    "duration": 17,
    "start_time": "2021-07-08T11:46:19.301Z"
   },
   {
    "duration": 7,
    "start_time": "2021-07-08T11:46:19.321Z"
   },
   {
    "duration": 11,
    "start_time": "2021-07-08T11:46:19.330Z"
   },
   {
    "duration": 59,
    "start_time": "2021-07-08T11:46:19.343Z"
   },
   {
    "duration": 17,
    "start_time": "2021-07-08T11:46:19.405Z"
   },
   {
    "duration": 16,
    "start_time": "2021-07-08T11:46:19.424Z"
   },
   {
    "duration": 252,
    "start_time": "2021-07-08T11:46:19.443Z"
   },
   {
    "duration": 9,
    "start_time": "2021-07-08T11:46:19.697Z"
   },
   {
    "duration": 224,
    "start_time": "2021-07-08T11:46:19.708Z"
   },
   {
    "duration": 21,
    "start_time": "2021-07-08T11:46:19.934Z"
   },
   {
    "duration": 9,
    "start_time": "2021-07-08T11:46:19.956Z"
   },
   {
    "duration": 32,
    "start_time": "2021-07-08T11:46:19.967Z"
   },
   {
    "duration": 288,
    "start_time": "2021-07-08T11:46:20.004Z"
   },
   {
    "duration": 23,
    "start_time": "2021-07-08T11:46:20.300Z"
   },
   {
    "duration": 11,
    "start_time": "2021-07-08T11:46:20.325Z"
   },
   {
    "duration": 11,
    "start_time": "2021-07-08T11:46:20.339Z"
   },
   {
    "duration": 259,
    "start_time": "2021-07-08T11:46:20.352Z"
   },
   {
    "duration": 438,
    "start_time": "2021-07-08T11:46:20.613Z"
   },
   {
    "duration": 207,
    "start_time": "2021-07-08T11:46:21.054Z"
   },
   {
    "duration": 27,
    "start_time": "2021-07-08T11:46:21.262Z"
   },
   {
    "duration": 19,
    "start_time": "2021-07-08T11:46:21.291Z"
   },
   {
    "duration": 820,
    "start_time": "2021-07-08T11:49:01.655Z"
   },
   {
    "duration": 372,
    "start_time": "2021-07-08T11:49:02.478Z"
   },
   {
    "duration": 98,
    "start_time": "2021-07-08T11:49:02.853Z"
   },
   {
    "duration": 6,
    "start_time": "2021-07-08T11:49:02.953Z"
   },
   {
    "duration": 39,
    "start_time": "2021-07-08T11:49:02.960Z"
   },
   {
    "duration": 9,
    "start_time": "2021-07-08T11:49:03.003Z"
   },
   {
    "duration": 23,
    "start_time": "2021-07-08T11:49:03.014Z"
   },
   {
    "duration": 6,
    "start_time": "2021-07-08T11:49:03.041Z"
   },
   {
    "duration": 20,
    "start_time": "2021-07-08T11:49:03.049Z"
   },
   {
    "duration": 18,
    "start_time": "2021-07-08T11:49:03.084Z"
   },
   {
    "duration": 14,
    "start_time": "2021-07-08T11:49:03.104Z"
   },
   {
    "duration": 39,
    "start_time": "2021-07-08T11:49:03.119Z"
   },
   {
    "duration": 38,
    "start_time": "2021-07-08T11:49:03.160Z"
   },
   {
    "duration": 26,
    "start_time": "2021-07-08T11:49:03.200Z"
   },
   {
    "duration": 7,
    "start_time": "2021-07-08T11:49:03.227Z"
   },
   {
    "duration": 4,
    "start_time": "2021-07-08T11:49:03.236Z"
   },
   {
    "duration": 15,
    "start_time": "2021-07-08T11:49:03.243Z"
   },
   {
    "duration": 21,
    "start_time": "2021-07-08T11:49:03.285Z"
   },
   {
    "duration": 17,
    "start_time": "2021-07-08T11:49:03.309Z"
   },
   {
    "duration": 10,
    "start_time": "2021-07-08T11:49:03.328Z"
   },
   {
    "duration": 65,
    "start_time": "2021-07-08T11:49:03.340Z"
   },
   {
    "duration": 18,
    "start_time": "2021-07-08T11:49:03.407Z"
   },
   {
    "duration": 8,
    "start_time": "2021-07-08T11:49:03.428Z"
   },
   {
    "duration": 15,
    "start_time": "2021-07-08T11:49:03.438Z"
   },
   {
    "duration": 40,
    "start_time": "2021-07-08T11:49:03.455Z"
   },
   {
    "duration": 12,
    "start_time": "2021-07-08T11:49:03.497Z"
   },
   {
    "duration": 29,
    "start_time": "2021-07-08T11:49:03.511Z"
   },
   {
    "duration": 285,
    "start_time": "2021-07-08T11:49:03.542Z"
   },
   {
    "duration": 8,
    "start_time": "2021-07-08T11:49:03.829Z"
   },
   {
    "duration": 227,
    "start_time": "2021-07-08T11:49:03.838Z"
   },
   {
    "duration": 40,
    "start_time": "2021-07-08T11:49:04.066Z"
   },
   {
    "duration": 10,
    "start_time": "2021-07-08T11:49:04.108Z"
   },
   {
    "duration": 26,
    "start_time": "2021-07-08T11:49:04.121Z"
   },
   {
    "duration": 290,
    "start_time": "2021-07-08T11:49:04.149Z"
   },
   {
    "duration": 26,
    "start_time": "2021-07-08T11:49:04.441Z"
   },
   {
    "duration": 31,
    "start_time": "2021-07-08T11:49:04.470Z"
   },
   {
    "duration": 14,
    "start_time": "2021-07-08T11:49:04.503Z"
   },
   {
    "duration": 259,
    "start_time": "2021-07-08T11:49:04.521Z"
   },
   {
    "duration": 480,
    "start_time": "2021-07-08T11:49:04.782Z"
   },
   {
    "duration": 225,
    "start_time": "2021-07-08T11:49:05.264Z"
   },
   {
    "duration": 22,
    "start_time": "2021-07-08T11:49:05.491Z"
   },
   {
    "duration": 24,
    "start_time": "2021-07-08T11:49:05.515Z"
   },
   {
    "duration": 634,
    "start_time": "2021-07-08T11:52:24.960Z"
   },
   {
    "duration": 199,
    "start_time": "2021-07-08T11:52:25.599Z"
   },
   {
    "duration": 106,
    "start_time": "2021-07-08T11:52:25.803Z"
   },
   {
    "duration": 7,
    "start_time": "2021-07-08T11:52:25.911Z"
   },
   {
    "duration": 29,
    "start_time": "2021-07-08T11:52:25.920Z"
   },
   {
    "duration": 7,
    "start_time": "2021-07-08T11:52:25.951Z"
   },
   {
    "duration": 26,
    "start_time": "2021-07-08T11:52:25.961Z"
   },
   {
    "duration": 11,
    "start_time": "2021-07-08T11:52:25.990Z"
   },
   {
    "duration": 29,
    "start_time": "2021-07-08T11:52:26.005Z"
   },
   {
    "duration": 9,
    "start_time": "2021-07-08T11:52:26.036Z"
   },
   {
    "duration": 8,
    "start_time": "2021-07-08T11:52:26.047Z"
   },
   {
    "duration": 63,
    "start_time": "2021-07-08T11:52:26.057Z"
   },
   {
    "duration": 17,
    "start_time": "2021-07-08T11:52:26.122Z"
   },
   {
    "duration": 43,
    "start_time": "2021-07-08T11:52:26.142Z"
   },
   {
    "duration": 17,
    "start_time": "2021-07-08T11:52:26.187Z"
   },
   {
    "duration": 5,
    "start_time": "2021-07-08T11:52:26.206Z"
   },
   {
    "duration": 12,
    "start_time": "2021-07-08T11:52:26.212Z"
   },
   {
    "duration": 11,
    "start_time": "2021-07-08T11:52:26.226Z"
   },
   {
    "duration": 12,
    "start_time": "2021-07-08T11:52:26.238Z"
   },
   {
    "duration": 38,
    "start_time": "2021-07-08T11:52:26.252Z"
   },
   {
    "duration": 40,
    "start_time": "2021-07-08T11:52:26.292Z"
   },
   {
    "duration": 17,
    "start_time": "2021-07-08T11:52:26.336Z"
   },
   {
    "duration": 39,
    "start_time": "2021-07-08T11:52:26.355Z"
   },
   {
    "duration": 11,
    "start_time": "2021-07-08T11:52:26.395Z"
   },
   {
    "duration": 23,
    "start_time": "2021-07-08T11:52:26.408Z"
   },
   {
    "duration": 12,
    "start_time": "2021-07-08T11:52:26.432Z"
   },
   {
    "duration": 41,
    "start_time": "2021-07-08T11:52:26.446Z"
   },
   {
    "duration": 215,
    "start_time": "2021-07-08T11:52:26.493Z"
   },
   {
    "duration": 8,
    "start_time": "2021-07-08T11:52:26.710Z"
   },
   {
    "duration": 228,
    "start_time": "2021-07-08T11:52:26.720Z"
   },
   {
    "duration": 18,
    "start_time": "2021-07-08T11:52:26.950Z"
   },
   {
    "duration": 35,
    "start_time": "2021-07-08T11:52:26.969Z"
   },
   {
    "duration": 23,
    "start_time": "2021-07-08T11:52:27.006Z"
   },
   {
    "duration": 258,
    "start_time": "2021-07-08T11:52:27.030Z"
   },
   {
    "duration": 24,
    "start_time": "2021-07-08T11:52:27.290Z"
   },
   {
    "duration": 12,
    "start_time": "2021-07-08T11:52:27.316Z"
   },
   {
    "duration": 10,
    "start_time": "2021-07-08T11:52:27.329Z"
   },
   {
    "duration": 298,
    "start_time": "2021-07-08T11:52:27.341Z"
   },
   {
    "duration": 436,
    "start_time": "2021-07-08T11:52:27.641Z"
   },
   {
    "duration": 216,
    "start_time": "2021-07-08T11:52:28.079Z"
   },
   {
    "duration": 20,
    "start_time": "2021-07-08T11:52:28.297Z"
   },
   {
    "duration": 17,
    "start_time": "2021-07-08T11:52:28.319Z"
   },
   {
    "duration": 422,
    "start_time": "2023-01-30T06:21:50.567Z"
   },
   {
    "duration": 273,
    "start_time": "2023-01-30T06:23:05.553Z"
   },
   {
    "duration": 103,
    "start_time": "2023-01-30T06:23:12.762Z"
   },
   {
    "duration": 119,
    "start_time": "2023-01-30T06:24:53.251Z"
   },
   {
    "duration": 120,
    "start_time": "2023-01-30T06:30:22.694Z"
   },
   {
    "duration": 95,
    "start_time": "2023-01-30T06:30:45.531Z"
   },
   {
    "duration": 14,
    "start_time": "2023-01-30T06:31:58.143Z"
   },
   {
    "duration": 30,
    "start_time": "2023-01-30T06:32:38.422Z"
   },
   {
    "duration": 10,
    "start_time": "2023-01-30T06:33:07.132Z"
   },
   {
    "duration": 323,
    "start_time": "2023-01-30T06:34:29.935Z"
   },
   {
    "duration": 9,
    "start_time": "2023-01-30T06:44:13.431Z"
   },
   {
    "duration": 9,
    "start_time": "2023-01-30T06:44:46.920Z"
   },
   {
    "duration": 15,
    "start_time": "2023-01-30T06:45:20.991Z"
   },
   {
    "duration": 24,
    "start_time": "2023-01-30T06:45:31.896Z"
   },
   {
    "duration": 26,
    "start_time": "2023-01-30T06:46:35.842Z"
   },
   {
    "duration": 21,
    "start_time": "2023-01-30T06:50:24.273Z"
   },
   {
    "duration": 31,
    "start_time": "2023-01-30T06:50:40.663Z"
   },
   {
    "duration": 24,
    "start_time": "2023-01-30T06:50:54.944Z"
   },
   {
    "duration": 4,
    "start_time": "2023-01-30T07:24:43.197Z"
   },
   {
    "duration": 5,
    "start_time": "2023-01-30T07:24:52.504Z"
   },
   {
    "duration": 8,
    "start_time": "2023-01-30T07:25:47.064Z"
   },
   {
    "duration": 24,
    "start_time": "2023-01-30T07:25:58.513Z"
   },
   {
    "duration": 7,
    "start_time": "2023-01-30T07:26:18.793Z"
   },
   {
    "duration": 32,
    "start_time": "2023-01-30T07:26:28.448Z"
   },
   {
    "duration": 20,
    "start_time": "2023-01-30T07:26:41.480Z"
   },
   {
    "duration": 21,
    "start_time": "2023-01-30T07:27:42.609Z"
   },
   {
    "duration": 16,
    "start_time": "2023-01-30T07:28:20.816Z"
   },
   {
    "duration": 3,
    "start_time": "2023-01-30T07:29:20.148Z"
   },
   {
    "duration": 96,
    "start_time": "2023-01-30T07:29:20.153Z"
   },
   {
    "duration": 42,
    "start_time": "2023-01-30T07:29:20.251Z"
   },
   {
    "duration": 17,
    "start_time": "2023-01-30T07:29:20.294Z"
   },
   {
    "duration": 11,
    "start_time": "2023-01-30T07:29:20.313Z"
   },
   {
    "duration": 8,
    "start_time": "2023-01-30T07:29:20.325Z"
   },
   {
    "duration": 14,
    "start_time": "2023-01-30T07:29:20.334Z"
   },
   {
    "duration": 59,
    "start_time": "2023-01-30T07:29:20.350Z"
   },
   {
    "duration": 0,
    "start_time": "2023-01-30T07:29:20.411Z"
   },
   {
    "duration": 0,
    "start_time": "2023-01-30T07:29:20.412Z"
   },
   {
    "duration": 3,
    "start_time": "2023-01-30T07:30:12.956Z"
   },
   {
    "duration": 140,
    "start_time": "2023-01-30T07:30:12.961Z"
   },
   {
    "duration": 44,
    "start_time": "2023-01-30T07:30:13.103Z"
   },
   {
    "duration": 14,
    "start_time": "2023-01-30T07:30:13.148Z"
   },
   {
    "duration": 36,
    "start_time": "2023-01-30T07:30:13.164Z"
   },
   {
    "duration": 43,
    "start_time": "2023-01-30T07:30:13.202Z"
   },
   {
    "duration": 12,
    "start_time": "2023-01-30T07:30:13.247Z"
   },
   {
    "duration": 40,
    "start_time": "2023-01-30T07:30:13.260Z"
   },
   {
    "duration": 40,
    "start_time": "2023-01-30T07:30:13.302Z"
   },
   {
    "duration": 40,
    "start_time": "2023-01-30T07:30:13.344Z"
   },
   {
    "duration": 22,
    "start_time": "2023-01-30T07:30:13.387Z"
   },
   {
    "duration": 10,
    "start_time": "2023-01-30T07:41:54.227Z"
   },
   {
    "duration": 47,
    "start_time": "2023-01-30T07:43:20.500Z"
   },
   {
    "duration": 12,
    "start_time": "2023-01-30T07:48:27.549Z"
   },
   {
    "duration": 2,
    "start_time": "2023-01-30T07:48:37.265Z"
   },
   {
    "duration": 97,
    "start_time": "2023-01-30T07:48:37.271Z"
   },
   {
    "duration": 42,
    "start_time": "2023-01-30T07:48:37.371Z"
   },
   {
    "duration": 15,
    "start_time": "2023-01-30T07:48:37.414Z"
   },
   {
    "duration": 10,
    "start_time": "2023-01-30T07:48:37.431Z"
   },
   {
    "duration": 23,
    "start_time": "2023-01-30T07:48:37.442Z"
   },
   {
    "duration": 5,
    "start_time": "2023-01-30T07:48:37.466Z"
   },
   {
    "duration": 8,
    "start_time": "2023-01-30T07:48:37.473Z"
   },
   {
    "duration": 17,
    "start_time": "2023-01-30T07:48:37.492Z"
   },
   {
    "duration": 22,
    "start_time": "2023-01-30T07:48:37.511Z"
   },
   {
    "duration": 14,
    "start_time": "2023-01-30T07:48:37.535Z"
   },
   {
    "duration": 963,
    "start_time": "2023-01-30T07:48:37.550Z"
   },
   {
    "duration": 560,
    "start_time": "2023-01-30T07:49:08.991Z"
   },
   {
    "duration": 692,
    "start_time": "2023-01-30T07:49:25.942Z"
   },
   {
    "duration": 16,
    "start_time": "2023-01-30T07:50:23.591Z"
   },
   {
    "duration": 1145,
    "start_time": "2023-01-30T07:54:45.816Z"
   },
   {
    "duration": 597,
    "start_time": "2023-01-30T07:54:58.199Z"
   },
   {
    "duration": 17,
    "start_time": "2023-01-30T07:55:23.464Z"
   },
   {
    "duration": 15,
    "start_time": "2023-01-30T07:55:57.495Z"
   },
   {
    "duration": 10,
    "start_time": "2023-01-30T07:56:32.351Z"
   },
   {
    "duration": 1252,
    "start_time": "2023-01-30T08:13:20.548Z"
   },
   {
    "duration": 9,
    "start_time": "2023-01-30T08:13:55.238Z"
   },
   {
    "duration": 15,
    "start_time": "2023-01-30T08:14:05.003Z"
   },
   {
    "duration": 9,
    "start_time": "2023-01-30T09:51:35.523Z"
   },
   {
    "duration": 9,
    "start_time": "2023-01-30T09:54:42.106Z"
   },
   {
    "duration": 15,
    "start_time": "2023-01-30T09:54:58.290Z"
   },
   {
    "duration": 25,
    "start_time": "2023-01-30T10:09:06.124Z"
   },
   {
    "duration": 18,
    "start_time": "2023-01-30T10:09:17.348Z"
   },
   {
    "duration": 17,
    "start_time": "2023-01-30T10:09:24.254Z"
   },
   {
    "duration": 10,
    "start_time": "2023-01-30T10:46:34.248Z"
   },
   {
    "duration": 10,
    "start_time": "2023-01-30T10:46:55.137Z"
   },
   {
    "duration": 10,
    "start_time": "2023-01-30T10:47:06.494Z"
   },
   {
    "duration": 20,
    "start_time": "2023-01-30T10:49:54.775Z"
   },
   {
    "duration": 10,
    "start_time": "2023-01-30T10:50:28.327Z"
   },
   {
    "duration": 7,
    "start_time": "2023-01-30T10:50:52.695Z"
   },
   {
    "duration": 8,
    "start_time": "2023-01-30T10:50:59.967Z"
   },
   {
    "duration": 17,
    "start_time": "2023-01-30T10:51:18.255Z"
   },
   {
    "duration": 18,
    "start_time": "2023-01-30T10:53:07.707Z"
   },
   {
    "duration": 7,
    "start_time": "2023-01-30T10:54:06.184Z"
   },
   {
    "duration": 32,
    "start_time": "2023-01-30T10:54:19.159Z"
   },
   {
    "duration": 18,
    "start_time": "2023-01-30T11:04:08.180Z"
   },
   {
    "duration": 4,
    "start_time": "2023-01-30T11:07:41.074Z"
   },
   {
    "duration": 19,
    "start_time": "2023-01-30T11:07:52.723Z"
   },
   {
    "duration": 36,
    "start_time": "2023-01-30T11:21:46.244Z"
   },
   {
    "duration": 13,
    "start_time": "2023-01-30T11:22:49.757Z"
   },
   {
    "duration": 19,
    "start_time": "2023-01-30T11:24:09.685Z"
   },
   {
    "duration": 20,
    "start_time": "2023-01-30T11:24:27.341Z"
   },
   {
    "duration": 4,
    "start_time": "2023-01-30T11:26:08.270Z"
   },
   {
    "duration": 6,
    "start_time": "2023-01-30T11:26:55.214Z"
   },
   {
    "duration": 8,
    "start_time": "2023-01-30T11:27:03.685Z"
   },
   {
    "duration": 7,
    "start_time": "2023-01-30T11:27:11.087Z"
   },
   {
    "duration": 6,
    "start_time": "2023-01-30T11:37:53.808Z"
   },
   {
    "duration": 822,
    "start_time": "2023-01-30T11:38:54.008Z"
   },
   {
    "duration": 8,
    "start_time": "2023-01-30T11:41:59.369Z"
   },
   {
    "duration": 8,
    "start_time": "2023-01-30T11:42:22.978Z"
   },
   {
    "duration": 5,
    "start_time": "2023-01-30T11:42:31.474Z"
   },
   {
    "duration": 8,
    "start_time": "2023-01-30T11:42:41.202Z"
   },
   {
    "duration": 4,
    "start_time": "2023-01-30T11:43:15.699Z"
   },
   {
    "duration": 5,
    "start_time": "2023-01-30T11:44:21.563Z"
   },
   {
    "duration": 6,
    "start_time": "2023-01-30T11:44:50.388Z"
   },
   {
    "duration": 25,
    "start_time": "2023-01-30T12:28:53.079Z"
   },
   {
    "duration": 8,
    "start_time": "2023-01-30T12:29:08.114Z"
   },
   {
    "duration": 7,
    "start_time": "2023-01-30T12:29:26.890Z"
   },
   {
    "duration": 25,
    "start_time": "2023-01-30T12:29:38.086Z"
   },
   {
    "duration": 432,
    "start_time": "2023-01-30T12:43:30.571Z"
   },
   {
    "duration": 255,
    "start_time": "2023-01-30T12:43:31.005Z"
   },
   {
    "duration": 106,
    "start_time": "2023-01-30T12:43:31.262Z"
   },
   {
    "duration": 16,
    "start_time": "2023-01-30T12:43:31.369Z"
   },
   {
    "duration": 37,
    "start_time": "2023-01-30T12:43:31.387Z"
   },
   {
    "duration": 50,
    "start_time": "2023-01-30T12:43:31.426Z"
   },
   {
    "duration": 46,
    "start_time": "2023-01-30T12:43:31.478Z"
   },
   {
    "duration": 66,
    "start_time": "2023-01-30T12:43:31.525Z"
   },
   {
    "duration": 59,
    "start_time": "2023-01-30T12:43:31.592Z"
   },
   {
    "duration": 38,
    "start_time": "2023-01-30T12:43:31.652Z"
   },
   {
    "duration": 25,
    "start_time": "2023-01-30T12:43:31.692Z"
   },
   {
    "duration": 33,
    "start_time": "2023-01-30T12:43:31.719Z"
   },
   {
    "duration": 36,
    "start_time": "2023-01-30T12:43:31.754Z"
   },
   {
    "duration": 9,
    "start_time": "2023-01-30T12:43:31.793Z"
   },
   {
    "duration": 35,
    "start_time": "2023-01-30T12:43:31.804Z"
   },
   {
    "duration": 26,
    "start_time": "2023-01-30T12:43:31.842Z"
   },
   {
    "duration": 36,
    "start_time": "2023-01-30T12:43:31.870Z"
   },
   {
    "duration": 16,
    "start_time": "2023-01-30T12:43:31.907Z"
   },
   {
    "duration": 30,
    "start_time": "2023-01-30T12:43:31.924Z"
   },
   {
    "duration": 6,
    "start_time": "2023-01-30T12:43:31.956Z"
   },
   {
    "duration": 32,
    "start_time": "2023-01-30T12:43:31.964Z"
   },
   {
    "duration": 37,
    "start_time": "2023-01-30T12:43:31.998Z"
   },
   {
    "duration": 67,
    "start_time": "2023-01-30T12:43:32.036Z"
   },
   {
    "duration": 18,
    "start_time": "2023-01-30T12:43:32.105Z"
   },
   {
    "duration": 951,
    "start_time": "2023-01-30T12:43:32.125Z"
   },
   {
    "duration": 0,
    "start_time": "2023-01-30T12:43:33.077Z"
   },
   {
    "duration": 1239,
    "start_time": "2023-01-30T12:44:30.497Z"
   },
   {
    "duration": 1017,
    "start_time": "2023-01-30T12:44:51.538Z"
   },
   {
    "duration": 3,
    "start_time": "2023-01-30T12:45:28.292Z"
   },
   {
    "duration": 112,
    "start_time": "2023-01-30T12:45:28.297Z"
   },
   {
    "duration": 44,
    "start_time": "2023-01-30T12:45:28.411Z"
   },
   {
    "duration": 19,
    "start_time": "2023-01-30T12:45:28.457Z"
   },
   {
    "duration": 12,
    "start_time": "2023-01-30T12:45:28.478Z"
   },
   {
    "duration": 24,
    "start_time": "2023-01-30T12:45:28.492Z"
   },
   {
    "duration": 5,
    "start_time": "2023-01-30T12:45:28.519Z"
   },
   {
    "duration": 9,
    "start_time": "2023-01-30T12:45:28.527Z"
   },
   {
    "duration": 20,
    "start_time": "2023-01-30T12:45:28.538Z"
   },
   {
    "duration": 48,
    "start_time": "2023-01-30T12:45:28.560Z"
   },
   {
    "duration": 15,
    "start_time": "2023-01-30T12:45:28.610Z"
   },
   {
    "duration": 15,
    "start_time": "2023-01-30T12:45:28.627Z"
   },
   {
    "duration": 20,
    "start_time": "2023-01-30T12:45:28.643Z"
   },
   {
    "duration": 12,
    "start_time": "2023-01-30T12:45:28.691Z"
   },
   {
    "duration": 17,
    "start_time": "2023-01-30T12:45:28.705Z"
   },
   {
    "duration": 16,
    "start_time": "2023-01-30T12:45:28.724Z"
   },
   {
    "duration": 49,
    "start_time": "2023-01-30T12:45:28.742Z"
   },
   {
    "duration": 16,
    "start_time": "2023-01-30T12:45:28.793Z"
   },
   {
    "duration": 22,
    "start_time": "2023-01-30T12:45:28.811Z"
   },
   {
    "duration": 5,
    "start_time": "2023-01-30T12:45:28.835Z"
   },
   {
    "duration": 11,
    "start_time": "2023-01-30T12:45:28.841Z"
   },
   {
    "duration": 8,
    "start_time": "2023-01-30T12:45:28.853Z"
   },
   {
    "duration": 5,
    "start_time": "2023-01-30T12:45:28.891Z"
   },
   {
    "duration": 16,
    "start_time": "2023-01-30T12:45:28.897Z"
   },
   {
    "duration": 894,
    "start_time": "2023-01-30T12:45:28.915Z"
   },
   {
    "duration": 0,
    "start_time": "2023-01-30T12:45:29.811Z"
   },
   {
    "duration": 851,
    "start_time": "2023-01-30T12:46:06.358Z"
   },
   {
    "duration": 989,
    "start_time": "2023-01-30T12:51:44.065Z"
   },
   {
    "duration": 886,
    "start_time": "2023-01-30T12:52:12.157Z"
   },
   {
    "duration": 3,
    "start_time": "2023-01-30T12:52:18.369Z"
   },
   {
    "duration": 104,
    "start_time": "2023-01-30T12:52:18.373Z"
   },
   {
    "duration": 47,
    "start_time": "2023-01-30T12:52:18.478Z"
   },
   {
    "duration": 15,
    "start_time": "2023-01-30T12:52:18.528Z"
   },
   {
    "duration": 10,
    "start_time": "2023-01-30T12:52:18.545Z"
   },
   {
    "duration": 25,
    "start_time": "2023-01-30T12:52:18.556Z"
   },
   {
    "duration": 5,
    "start_time": "2023-01-30T12:52:18.582Z"
   },
   {
    "duration": 9,
    "start_time": "2023-01-30T12:52:18.588Z"
   },
   {
    "duration": 17,
    "start_time": "2023-01-30T12:52:18.599Z"
   },
   {
    "duration": 22,
    "start_time": "2023-01-30T12:52:18.617Z"
   },
   {
    "duration": 16,
    "start_time": "2023-01-30T12:52:18.640Z"
   },
   {
    "duration": 37,
    "start_time": "2023-01-30T12:52:18.657Z"
   },
   {
    "duration": 16,
    "start_time": "2023-01-30T12:52:18.697Z"
   },
   {
    "duration": 12,
    "start_time": "2023-01-30T12:52:18.714Z"
   },
   {
    "duration": 14,
    "start_time": "2023-01-30T12:52:18.728Z"
   },
   {
    "duration": 14,
    "start_time": "2023-01-30T12:52:18.743Z"
   },
   {
    "duration": 45,
    "start_time": "2023-01-30T12:52:18.759Z"
   },
   {
    "duration": 15,
    "start_time": "2023-01-30T12:52:18.805Z"
   },
   {
    "duration": 20,
    "start_time": "2023-01-30T12:52:18.822Z"
   },
   {
    "duration": 5,
    "start_time": "2023-01-30T12:52:18.844Z"
   },
   {
    "duration": 40,
    "start_time": "2023-01-30T12:52:18.851Z"
   },
   {
    "duration": 5,
    "start_time": "2023-01-30T12:52:18.893Z"
   },
   {
    "duration": 8,
    "start_time": "2023-01-30T12:52:18.899Z"
   },
   {
    "duration": 6,
    "start_time": "2023-01-30T12:52:18.908Z"
   },
   {
    "duration": 924,
    "start_time": "2023-01-30T12:52:18.916Z"
   },
   {
    "duration": 0,
    "start_time": "2023-01-30T12:52:19.842Z"
   },
   {
    "duration": 926,
    "start_time": "2023-01-30T12:52:51.810Z"
   },
   {
    "duration": 3,
    "start_time": "2023-01-30T12:52:57.389Z"
   },
   {
    "duration": 110,
    "start_time": "2023-01-30T12:52:57.394Z"
   },
   {
    "duration": 42,
    "start_time": "2023-01-30T12:52:57.506Z"
   },
   {
    "duration": 15,
    "start_time": "2023-01-30T12:52:57.550Z"
   },
   {
    "duration": 28,
    "start_time": "2023-01-30T12:52:57.567Z"
   },
   {
    "duration": 40,
    "start_time": "2023-01-30T12:52:57.596Z"
   },
   {
    "duration": 4,
    "start_time": "2023-01-30T12:52:57.637Z"
   },
   {
    "duration": 19,
    "start_time": "2023-01-30T12:52:57.644Z"
   },
   {
    "duration": 24,
    "start_time": "2023-01-30T12:52:57.665Z"
   },
   {
    "duration": 24,
    "start_time": "2023-01-30T12:52:57.690Z"
   },
   {
    "duration": 15,
    "start_time": "2023-01-30T12:52:57.716Z"
   },
   {
    "duration": 31,
    "start_time": "2023-01-30T12:52:57.733Z"
   },
   {
    "duration": 18,
    "start_time": "2023-01-30T12:52:57.766Z"
   },
   {
    "duration": 10,
    "start_time": "2023-01-30T12:52:57.792Z"
   },
   {
    "duration": 39,
    "start_time": "2023-01-30T12:52:57.804Z"
   },
   {
    "duration": 19,
    "start_time": "2023-01-30T12:52:57.845Z"
   },
   {
    "duration": 26,
    "start_time": "2023-01-30T12:52:57.866Z"
   },
   {
    "duration": 17,
    "start_time": "2023-01-30T12:52:57.894Z"
   },
   {
    "duration": 28,
    "start_time": "2023-01-30T12:52:57.912Z"
   },
   {
    "duration": 4,
    "start_time": "2023-01-30T12:52:57.942Z"
   },
   {
    "duration": 12,
    "start_time": "2023-01-30T12:52:57.948Z"
   },
   {
    "duration": 34,
    "start_time": "2023-01-30T12:52:57.962Z"
   },
   {
    "duration": 9,
    "start_time": "2023-01-30T12:52:57.998Z"
   },
   {
    "duration": 12,
    "start_time": "2023-01-30T12:52:58.009Z"
   },
   {
    "duration": 852,
    "start_time": "2023-01-30T12:52:58.023Z"
   },
   {
    "duration": 0,
    "start_time": "2023-01-30T12:52:58.876Z"
   },
   {
    "duration": 819,
    "start_time": "2023-01-30T12:55:11.733Z"
   },
   {
    "duration": 3,
    "start_time": "2023-01-30T12:55:19.562Z"
   },
   {
    "duration": 124,
    "start_time": "2023-01-30T12:55:19.568Z"
   },
   {
    "duration": 42,
    "start_time": "2023-01-30T12:55:19.694Z"
   },
   {
    "duration": 15,
    "start_time": "2023-01-30T12:55:19.738Z"
   },
   {
    "duration": 16,
    "start_time": "2023-01-30T12:55:19.754Z"
   },
   {
    "duration": 26,
    "start_time": "2023-01-30T12:55:19.772Z"
   },
   {
    "duration": 5,
    "start_time": "2023-01-30T12:55:19.800Z"
   },
   {
    "duration": 11,
    "start_time": "2023-01-30T12:55:19.808Z"
   },
   {
    "duration": 30,
    "start_time": "2023-01-30T12:55:19.822Z"
   },
   {
    "duration": 48,
    "start_time": "2023-01-30T12:55:19.853Z"
   },
   {
    "duration": 18,
    "start_time": "2023-01-30T12:55:19.903Z"
   },
   {
    "duration": 15,
    "start_time": "2023-01-30T12:55:19.923Z"
   },
   {
    "duration": 18,
    "start_time": "2023-01-30T12:55:19.940Z"
   },
   {
    "duration": 40,
    "start_time": "2023-01-30T12:55:19.959Z"
   },
   {
    "duration": 17,
    "start_time": "2023-01-30T12:55:20.000Z"
   },
   {
    "duration": 15,
    "start_time": "2023-01-30T12:55:20.019Z"
   },
   {
    "duration": 23,
    "start_time": "2023-01-30T12:55:20.036Z"
   },
   {
    "duration": 43,
    "start_time": "2023-01-30T12:55:20.061Z"
   },
   {
    "duration": 21,
    "start_time": "2023-01-30T12:55:20.106Z"
   },
   {
    "duration": 5,
    "start_time": "2023-01-30T12:55:20.128Z"
   },
   {
    "duration": 10,
    "start_time": "2023-01-30T12:55:20.134Z"
   },
   {
    "duration": 9,
    "start_time": "2023-01-30T12:55:20.146Z"
   },
   {
    "duration": 36,
    "start_time": "2023-01-30T12:55:20.156Z"
   },
   {
    "duration": 8,
    "start_time": "2023-01-30T12:55:20.195Z"
   },
   {
    "duration": 923,
    "start_time": "2023-01-30T12:55:20.204Z"
   },
   {
    "duration": 0,
    "start_time": "2023-01-30T12:55:21.129Z"
   },
   {
    "duration": 917,
    "start_time": "2023-01-30T12:56:06.280Z"
   },
   {
    "duration": 2,
    "start_time": "2023-01-30T12:56:10.272Z"
   },
   {
    "duration": 113,
    "start_time": "2023-01-30T12:56:10.276Z"
   },
   {
    "duration": 43,
    "start_time": "2023-01-30T12:56:10.391Z"
   },
   {
    "duration": 14,
    "start_time": "2023-01-30T12:56:10.436Z"
   },
   {
    "duration": 18,
    "start_time": "2023-01-30T12:56:10.452Z"
   },
   {
    "duration": 36,
    "start_time": "2023-01-30T12:56:10.472Z"
   },
   {
    "duration": 5,
    "start_time": "2023-01-30T12:56:10.509Z"
   },
   {
    "duration": 12,
    "start_time": "2023-01-30T12:56:10.516Z"
   },
   {
    "duration": 22,
    "start_time": "2023-01-30T12:56:10.529Z"
   },
   {
    "duration": 50,
    "start_time": "2023-01-30T12:56:10.552Z"
   },
   {
    "duration": 15,
    "start_time": "2023-01-30T12:56:10.604Z"
   },
   {
    "duration": 15,
    "start_time": "2023-01-30T12:56:10.620Z"
   },
   {
    "duration": 17,
    "start_time": "2023-01-30T12:56:10.637Z"
   },
   {
    "duration": 40,
    "start_time": "2023-01-30T12:56:10.657Z"
   },
   {
    "duration": 18,
    "start_time": "2023-01-30T12:56:10.699Z"
   },
   {
    "duration": 15,
    "start_time": "2023-01-30T12:56:10.718Z"
   },
   {
    "duration": 36,
    "start_time": "2023-01-30T12:56:10.735Z"
   },
   {
    "duration": 29,
    "start_time": "2023-01-30T12:56:10.773Z"
   },
   {
    "duration": 20,
    "start_time": "2023-01-30T12:56:10.803Z"
   },
   {
    "duration": 4,
    "start_time": "2023-01-30T12:56:10.825Z"
   },
   {
    "duration": 14,
    "start_time": "2023-01-30T12:56:10.831Z"
   },
   {
    "duration": 10,
    "start_time": "2023-01-30T12:56:10.846Z"
   },
   {
    "duration": 35,
    "start_time": "2023-01-30T12:56:10.858Z"
   },
   {
    "duration": 8,
    "start_time": "2023-01-30T12:56:10.895Z"
   },
   {
    "duration": 862,
    "start_time": "2023-01-30T12:56:10.905Z"
   },
   {
    "duration": 0,
    "start_time": "2023-01-30T12:56:11.769Z"
   },
   {
    "duration": 3,
    "start_time": "2023-01-30T12:56:49.862Z"
   },
   {
    "duration": 115,
    "start_time": "2023-01-30T12:56:49.867Z"
   },
   {
    "duration": 48,
    "start_time": "2023-01-30T12:56:49.984Z"
   },
   {
    "duration": 15,
    "start_time": "2023-01-30T12:56:50.034Z"
   },
   {
    "duration": 25,
    "start_time": "2023-01-30T12:56:50.052Z"
   },
   {
    "duration": 26,
    "start_time": "2023-01-30T12:56:50.079Z"
   },
   {
    "duration": 4,
    "start_time": "2023-01-30T12:56:50.107Z"
   },
   {
    "duration": 11,
    "start_time": "2023-01-30T12:56:50.113Z"
   },
   {
    "duration": 78,
    "start_time": "2023-01-30T12:56:50.125Z"
   },
   {
    "duration": 22,
    "start_time": "2023-01-30T12:56:50.205Z"
   },
   {
    "duration": 22,
    "start_time": "2023-01-30T12:56:50.229Z"
   },
   {
    "duration": 16,
    "start_time": "2023-01-30T12:56:50.253Z"
   },
   {
    "duration": 44,
    "start_time": "2023-01-30T12:56:50.271Z"
   },
   {
    "duration": 11,
    "start_time": "2023-01-30T12:56:50.318Z"
   },
   {
    "duration": 16,
    "start_time": "2023-01-30T12:56:50.331Z"
   },
   {
    "duration": 18,
    "start_time": "2023-01-30T12:56:50.349Z"
   },
   {
    "duration": 37,
    "start_time": "2023-01-30T12:56:50.369Z"
   },
   {
    "duration": 14,
    "start_time": "2023-01-30T12:56:50.408Z"
   },
   {
    "duration": 19,
    "start_time": "2023-01-30T12:56:50.423Z"
   },
   {
    "duration": 5,
    "start_time": "2023-01-30T12:56:50.443Z"
   },
   {
    "duration": 8,
    "start_time": "2023-01-30T12:56:50.450Z"
   },
   {
    "duration": 35,
    "start_time": "2023-01-30T12:56:50.459Z"
   },
   {
    "duration": 6,
    "start_time": "2023-01-30T12:56:50.496Z"
   },
   {
    "duration": 3,
    "start_time": "2023-01-30T12:56:50.503Z"
   },
   {
    "duration": 829,
    "start_time": "2023-01-30T12:56:50.508Z"
   },
   {
    "duration": 0,
    "start_time": "2023-01-30T12:56:51.339Z"
   },
   {
    "duration": 3,
    "start_time": "2023-01-30T12:58:36.113Z"
   },
   {
    "duration": 105,
    "start_time": "2023-01-30T12:58:36.118Z"
   },
   {
    "duration": 45,
    "start_time": "2023-01-30T12:58:36.225Z"
   },
   {
    "duration": 24,
    "start_time": "2023-01-30T12:58:36.273Z"
   },
   {
    "duration": 17,
    "start_time": "2023-01-30T12:58:36.299Z"
   },
   {
    "duration": 24,
    "start_time": "2023-01-30T12:58:36.318Z"
   },
   {
    "duration": 4,
    "start_time": "2023-01-30T12:58:36.343Z"
   },
   {
    "duration": 18,
    "start_time": "2023-01-30T12:58:36.349Z"
   },
   {
    "duration": 24,
    "start_time": "2023-01-30T12:58:36.368Z"
   },
   {
    "duration": 28,
    "start_time": "2023-01-30T12:58:36.394Z"
   },
   {
    "duration": 18,
    "start_time": "2023-01-30T12:58:36.425Z"
   },
   {
    "duration": 23,
    "start_time": "2023-01-30T12:58:36.445Z"
   },
   {
    "duration": 71,
    "start_time": "2023-01-30T12:58:36.469Z"
   },
   {
    "duration": 14,
    "start_time": "2023-01-30T12:58:36.543Z"
   },
   {
    "duration": 21,
    "start_time": "2023-01-30T12:58:36.561Z"
   },
   {
    "duration": 17,
    "start_time": "2023-01-30T12:58:36.585Z"
   },
   {
    "duration": 27,
    "start_time": "2023-01-30T12:58:36.605Z"
   },
   {
    "duration": 21,
    "start_time": "2023-01-30T12:58:36.635Z"
   },
   {
    "duration": 33,
    "start_time": "2023-01-30T12:58:36.658Z"
   },
   {
    "duration": 5,
    "start_time": "2023-01-30T12:58:36.693Z"
   },
   {
    "duration": 11,
    "start_time": "2023-01-30T12:58:36.699Z"
   },
   {
    "duration": 9,
    "start_time": "2023-01-30T12:58:36.711Z"
   },
   {
    "duration": 7,
    "start_time": "2023-01-30T12:58:36.722Z"
   },
   {
    "duration": 3,
    "start_time": "2023-01-30T12:58:36.731Z"
   },
   {
    "duration": 2,
    "start_time": "2023-01-30T12:58:39.495Z"
   },
   {
    "duration": 10,
    "start_time": "2023-01-30T12:58:41.029Z"
   },
   {
    "duration": 8,
    "start_time": "2023-01-30T12:59:06.870Z"
   },
   {
    "duration": 25,
    "start_time": "2023-01-30T12:59:14.013Z"
   },
   {
    "duration": 857,
    "start_time": "2023-01-30T13:01:14.022Z"
   },
   {
    "duration": 3,
    "start_time": "2023-01-30T13:01:25.737Z"
   },
   {
    "duration": 112,
    "start_time": "2023-01-30T13:01:25.742Z"
   },
   {
    "duration": 42,
    "start_time": "2023-01-30T13:01:25.856Z"
   },
   {
    "duration": 14,
    "start_time": "2023-01-30T13:01:25.899Z"
   },
   {
    "duration": 10,
    "start_time": "2023-01-30T13:01:25.915Z"
   },
   {
    "duration": 18,
    "start_time": "2023-01-30T13:01:25.927Z"
   },
   {
    "duration": 4,
    "start_time": "2023-01-30T13:01:25.947Z"
   },
   {
    "duration": 10,
    "start_time": "2023-01-30T13:01:25.952Z"
   },
   {
    "duration": 43,
    "start_time": "2023-01-30T13:01:25.964Z"
   },
   {
    "duration": 23,
    "start_time": "2023-01-30T13:01:26.009Z"
   },
   {
    "duration": 15,
    "start_time": "2023-01-30T13:01:26.034Z"
   },
   {
    "duration": 40,
    "start_time": "2023-01-30T13:01:26.051Z"
   },
   {
    "duration": 19,
    "start_time": "2023-01-30T13:01:26.093Z"
   },
   {
    "duration": 11,
    "start_time": "2023-01-30T13:01:26.114Z"
   },
   {
    "duration": 19,
    "start_time": "2023-01-30T13:01:26.127Z"
   },
   {
    "duration": 14,
    "start_time": "2023-01-30T13:01:26.148Z"
   },
   {
    "duration": 28,
    "start_time": "2023-01-30T13:01:26.191Z"
   },
   {
    "duration": 14,
    "start_time": "2023-01-30T13:01:26.221Z"
   },
   {
    "duration": 29,
    "start_time": "2023-01-30T13:01:26.237Z"
   },
   {
    "duration": 5,
    "start_time": "2023-01-30T13:01:26.268Z"
   },
   {
    "duration": 23,
    "start_time": "2023-01-30T13:01:26.275Z"
   },
   {
    "duration": 8,
    "start_time": "2023-01-30T13:01:26.300Z"
   },
   {
    "duration": 8,
    "start_time": "2023-01-30T13:01:26.309Z"
   },
   {
    "duration": 7,
    "start_time": "2023-01-30T13:01:26.319Z"
   },
   {
    "duration": 28,
    "start_time": "2023-01-30T13:01:26.328Z"
   },
   {
    "duration": 6,
    "start_time": "2023-01-30T13:29:41.186Z"
   },
   {
    "duration": 28,
    "start_time": "2023-01-30T13:29:53.184Z"
   },
   {
    "duration": 14,
    "start_time": "2023-01-30T13:30:07.972Z"
   },
   {
    "duration": 30,
    "start_time": "2023-01-30T13:30:19.101Z"
   },
   {
    "duration": 32,
    "start_time": "2023-01-30T13:30:33.212Z"
   },
   {
    "duration": 26,
    "start_time": "2023-01-30T13:31:03.078Z"
   },
   {
    "duration": 12,
    "start_time": "2023-01-30T13:31:27.769Z"
   },
   {
    "duration": 527,
    "start_time": "2023-01-30T13:32:37.605Z"
   },
   {
    "duration": 154,
    "start_time": "2023-01-30T13:34:08.723Z"
   },
   {
    "duration": 205,
    "start_time": "2023-01-30T13:34:12.508Z"
   },
   {
    "duration": 251,
    "start_time": "2023-01-30T13:34:23.196Z"
   },
   {
    "duration": 257,
    "start_time": "2023-01-30T13:34:33.383Z"
   },
   {
    "duration": 265,
    "start_time": "2023-01-30T13:34:40.471Z"
   },
   {
    "duration": 283,
    "start_time": "2023-01-30T13:35:01.973Z"
   },
   {
    "duration": 14262,
    "start_time": "2023-01-30T13:35:08.796Z"
   },
   {
    "duration": 15184,
    "start_time": "2023-01-30T13:35:37.712Z"
   },
   {
    "duration": 269,
    "start_time": "2023-01-30T13:35:58.883Z"
   },
   {
    "duration": 16,
    "start_time": "2023-01-30T13:37:04.820Z"
   },
   {
    "duration": 10,
    "start_time": "2023-01-30T13:37:10.078Z"
   },
   {
    "duration": 209,
    "start_time": "2023-01-30T13:37:44.629Z"
   },
   {
    "duration": 208,
    "start_time": "2023-01-30T13:37:49.909Z"
   },
   {
    "duration": 253,
    "start_time": "2023-01-30T13:37:54.246Z"
   },
   {
    "duration": 1720,
    "start_time": "2023-01-30T13:38:17.509Z"
   },
   {
    "duration": 140,
    "start_time": "2023-01-30T13:38:22.675Z"
   },
   {
    "duration": 14316,
    "start_time": "2023-01-30T13:38:29.940Z"
   },
   {
    "duration": 16170,
    "start_time": "2023-01-30T13:39:08.094Z"
   },
   {
    "duration": 16147,
    "start_time": "2023-01-30T13:39:30.982Z"
   },
   {
    "duration": 16177,
    "start_time": "2023-01-30T13:39:53.167Z"
   },
   {
    "duration": 16360,
    "start_time": "2023-01-30T13:40:36.146Z"
   },
   {
    "duration": 16039,
    "start_time": "2023-01-30T13:41:44.437Z"
   },
   {
    "duration": 2,
    "start_time": "2023-01-30T13:42:12.384Z"
   },
   {
    "duration": 105,
    "start_time": "2023-01-30T13:42:12.388Z"
   },
   {
    "duration": 43,
    "start_time": "2023-01-30T13:42:12.494Z"
   },
   {
    "duration": 16,
    "start_time": "2023-01-30T13:42:12.539Z"
   },
   {
    "duration": 10,
    "start_time": "2023-01-30T13:42:12.557Z"
   },
   {
    "duration": 26,
    "start_time": "2023-01-30T13:42:12.569Z"
   },
   {
    "duration": 5,
    "start_time": "2023-01-30T13:42:12.596Z"
   },
   {
    "duration": 17,
    "start_time": "2023-01-30T13:42:12.603Z"
   },
   {
    "duration": 19,
    "start_time": "2023-01-30T13:42:12.621Z"
   },
   {
    "duration": 24,
    "start_time": "2023-01-30T13:42:12.642Z"
   },
   {
    "duration": 41,
    "start_time": "2023-01-30T13:42:12.668Z"
   },
   {
    "duration": 22,
    "start_time": "2023-01-30T13:42:12.710Z"
   },
   {
    "duration": 40,
    "start_time": "2023-01-30T13:42:12.734Z"
   },
   {
    "duration": 10,
    "start_time": "2023-01-30T13:42:12.776Z"
   },
   {
    "duration": 14,
    "start_time": "2023-01-30T13:42:12.790Z"
   },
   {
    "duration": 13,
    "start_time": "2023-01-30T13:42:12.806Z"
   },
   {
    "duration": 17,
    "start_time": "2023-01-30T13:42:12.821Z"
   },
   {
    "duration": 13,
    "start_time": "2023-01-30T13:42:12.840Z"
   },
   {
    "duration": 50,
    "start_time": "2023-01-30T13:42:12.854Z"
   },
   {
    "duration": 5,
    "start_time": "2023-01-30T13:42:12.905Z"
   },
   {
    "duration": 9,
    "start_time": "2023-01-30T13:42:12.911Z"
   },
   {
    "duration": 4,
    "start_time": "2023-01-30T13:42:12.922Z"
   },
   {
    "duration": 8,
    "start_time": "2023-01-30T13:42:12.927Z"
   },
   {
    "duration": 4,
    "start_time": "2023-01-30T13:42:12.936Z"
   },
   {
    "duration": 61,
    "start_time": "2023-01-30T13:42:12.942Z"
   },
   {
    "duration": 18,
    "start_time": "2023-01-30T13:42:13.005Z"
   },
   {
    "duration": 11,
    "start_time": "2023-01-30T13:42:13.025Z"
   },
   {
    "duration": 16198,
    "start_time": "2023-01-30T13:42:13.038Z"
   },
   {
    "duration": 147,
    "start_time": "2023-01-30T13:43:15.383Z"
   },
   {
    "duration": 149,
    "start_time": "2023-01-30T13:43:25.310Z"
   },
   {
    "duration": 145,
    "start_time": "2023-01-30T13:43:35.117Z"
   },
   {
    "duration": 153,
    "start_time": "2023-01-30T13:43:47.177Z"
   },
   {
    "duration": 154,
    "start_time": "2023-01-30T13:48:06.008Z"
   },
   {
    "duration": 13,
    "start_time": "2023-01-30T13:48:50.091Z"
   },
   {
    "duration": 386,
    "start_time": "2023-01-30T20:05:12.864Z"
   },
   {
    "duration": 232,
    "start_time": "2023-01-30T20:05:13.252Z"
   },
   {
    "duration": 105,
    "start_time": "2023-01-30T20:05:13.486Z"
   },
   {
    "duration": 18,
    "start_time": "2023-01-30T20:05:13.593Z"
   },
   {
    "duration": 19,
    "start_time": "2023-01-30T20:05:13.614Z"
   },
   {
    "duration": 38,
    "start_time": "2023-01-30T20:05:13.635Z"
   },
   {
    "duration": 5,
    "start_time": "2023-01-30T20:05:13.675Z"
   },
   {
    "duration": 11,
    "start_time": "2023-01-30T20:05:13.681Z"
   },
   {
    "duration": 21,
    "start_time": "2023-01-30T20:05:13.694Z"
   },
   {
    "duration": 39,
    "start_time": "2023-01-30T20:05:13.717Z"
   },
   {
    "duration": 22,
    "start_time": "2023-01-30T20:05:13.759Z"
   },
   {
    "duration": 20,
    "start_time": "2023-01-30T20:05:13.783Z"
   },
   {
    "duration": 40,
    "start_time": "2023-01-30T20:05:13.805Z"
   },
   {
    "duration": 11,
    "start_time": "2023-01-30T20:05:13.848Z"
   },
   {
    "duration": 27,
    "start_time": "2023-01-30T20:05:13.860Z"
   },
   {
    "duration": 17,
    "start_time": "2023-01-30T20:05:13.889Z"
   },
   {
    "duration": 44,
    "start_time": "2023-01-30T20:05:13.908Z"
   },
   {
    "duration": 21,
    "start_time": "2023-01-30T20:05:13.953Z"
   },
   {
    "duration": 23,
    "start_time": "2023-01-30T20:05:13.976Z"
   },
   {
    "duration": 38,
    "start_time": "2023-01-30T20:05:14.000Z"
   },
   {
    "duration": 11,
    "start_time": "2023-01-30T20:05:14.040Z"
   },
   {
    "duration": 16,
    "start_time": "2023-01-30T20:05:14.053Z"
   },
   {
    "duration": 12,
    "start_time": "2023-01-30T20:05:14.071Z"
   },
   {
    "duration": 11,
    "start_time": "2023-01-30T20:05:14.084Z"
   },
   {
    "duration": 42,
    "start_time": "2023-01-30T20:05:14.097Z"
   },
   {
    "duration": 15,
    "start_time": "2023-01-30T20:05:14.141Z"
   },
   {
    "duration": 15,
    "start_time": "2023-01-30T20:05:14.157Z"
   },
   {
    "duration": 17,
    "start_time": "2023-01-30T20:05:14.179Z"
   },
   {
    "duration": 5,
    "start_time": "2023-01-30T20:06:41.709Z"
   },
   {
    "duration": 548,
    "start_time": "2023-01-30T20:11:26.276Z"
   },
   {
    "duration": 149,
    "start_time": "2023-01-30T20:11:35.658Z"
   },
   {
    "duration": 150,
    "start_time": "2023-01-30T20:11:47.538Z"
   },
   {
    "duration": 296,
    "start_time": "2023-01-30T20:11:53.888Z"
   },
   {
    "duration": 224,
    "start_time": "2023-01-30T20:12:09.607Z"
   },
   {
    "duration": 164,
    "start_time": "2023-01-30T20:14:01.140Z"
   },
   {
    "duration": 140,
    "start_time": "2023-01-30T20:14:37.596Z"
   },
   {
    "duration": 482,
    "start_time": "2023-01-30T20:14:56.351Z"
   },
   {
    "duration": 583,
    "start_time": "2023-01-30T20:15:08.724Z"
   },
   {
    "duration": 567,
    "start_time": "2023-01-30T20:15:21.977Z"
   },
   {
    "duration": 481,
    "start_time": "2023-01-30T20:15:36.271Z"
   },
   {
    "duration": 609,
    "start_time": "2023-01-30T20:16:13.421Z"
   },
   {
    "duration": 518,
    "start_time": "2023-01-30T20:16:20.011Z"
   },
   {
    "duration": 468,
    "start_time": "2023-01-30T20:16:25.347Z"
   },
   {
    "duration": 11,
    "start_time": "2023-01-30T20:17:03.634Z"
   },
   {
    "duration": 567,
    "start_time": "2023-01-30T20:17:57.264Z"
   },
   {
    "duration": 538,
    "start_time": "2023-01-30T20:18:14.753Z"
   },
   {
    "duration": 18,
    "start_time": "2023-01-30T20:28:59.016Z"
   },
   {
    "duration": 2,
    "start_time": "2023-01-30T21:11:33.987Z"
   },
   {
    "duration": 116,
    "start_time": "2023-01-30T21:11:33.991Z"
   },
   {
    "duration": 41,
    "start_time": "2023-01-30T21:11:34.109Z"
   },
   {
    "duration": 15,
    "start_time": "2023-01-30T21:11:34.152Z"
   },
   {
    "duration": 23,
    "start_time": "2023-01-30T21:11:34.169Z"
   },
   {
    "duration": 32,
    "start_time": "2023-01-30T21:11:34.193Z"
   },
   {
    "duration": 13,
    "start_time": "2023-01-30T21:11:34.227Z"
   },
   {
    "duration": 18,
    "start_time": "2023-01-30T21:11:34.242Z"
   },
   {
    "duration": 25,
    "start_time": "2023-01-30T21:11:34.262Z"
   },
   {
    "duration": 26,
    "start_time": "2023-01-30T21:11:34.289Z"
   },
   {
    "duration": 22,
    "start_time": "2023-01-30T21:11:34.317Z"
   },
   {
    "duration": 15,
    "start_time": "2023-01-30T21:11:34.341Z"
   },
   {
    "duration": 40,
    "start_time": "2023-01-30T21:11:34.358Z"
   },
   {
    "duration": 11,
    "start_time": "2023-01-30T21:11:34.399Z"
   },
   {
    "duration": 17,
    "start_time": "2023-01-30T21:11:34.411Z"
   },
   {
    "duration": 16,
    "start_time": "2023-01-30T21:11:34.437Z"
   },
   {
    "duration": 19,
    "start_time": "2023-01-30T21:11:34.455Z"
   },
   {
    "duration": 15,
    "start_time": "2023-01-30T21:11:34.476Z"
   },
   {
    "duration": 52,
    "start_time": "2023-01-30T21:11:34.492Z"
   },
   {
    "duration": 4,
    "start_time": "2023-01-30T21:11:34.546Z"
   },
   {
    "duration": 11,
    "start_time": "2023-01-30T21:11:34.552Z"
   },
   {
    "duration": 12,
    "start_time": "2023-01-30T21:11:34.564Z"
   },
   {
    "duration": 10,
    "start_time": "2023-01-30T21:11:34.578Z"
   },
   {
    "duration": 13,
    "start_time": "2023-01-30T21:11:34.590Z"
   },
   {
    "duration": 43,
    "start_time": "2023-01-30T21:11:34.605Z"
   },
   {
    "duration": 30,
    "start_time": "2023-01-30T21:11:34.649Z"
   },
   {
    "duration": 9,
    "start_time": "2023-01-30T21:11:34.681Z"
   },
   {
    "duration": 10,
    "start_time": "2023-01-30T21:11:34.692Z"
   },
   {
    "duration": 595,
    "start_time": "2023-01-30T21:11:34.704Z"
   },
   {
    "duration": 9,
    "start_time": "2023-01-30T21:11:35.301Z"
   },
   {
    "duration": 8,
    "start_time": "2023-01-30T21:12:20.222Z"
   },
   {
    "duration": 5,
    "start_time": "2023-01-30T21:12:23.124Z"
   },
   {
    "duration": 5,
    "start_time": "2023-01-30T21:12:44.921Z"
   },
   {
    "duration": 5,
    "start_time": "2023-01-30T21:12:45.846Z"
   },
   {
    "duration": 4,
    "start_time": "2023-01-30T21:13:00.344Z"
   },
   {
    "duration": 5,
    "start_time": "2023-01-30T21:13:01.416Z"
   },
   {
    "duration": 13,
    "start_time": "2023-01-30T21:15:34.080Z"
   },
   {
    "duration": 8,
    "start_time": "2023-01-30T21:16:18.198Z"
   },
   {
    "duration": 21,
    "start_time": "2023-01-30T21:18:20.588Z"
   },
   {
    "duration": 19,
    "start_time": "2023-01-30T21:27:08.086Z"
   },
   {
    "duration": 6,
    "start_time": "2023-01-30T21:44:26.402Z"
   },
   {
    "duration": 19,
    "start_time": "2023-01-30T21:44:42.289Z"
   },
   {
    "duration": 74,
    "start_time": "2023-01-30T21:46:16.161Z"
   },
   {
    "duration": 7,
    "start_time": "2023-01-30T21:46:29.563Z"
   },
   {
    "duration": 19,
    "start_time": "2023-01-30T21:46:31.289Z"
   },
   {
    "duration": 26,
    "start_time": "2023-01-30T21:50:36.671Z"
   },
   {
    "duration": 48,
    "start_time": "2023-01-30T21:50:58.139Z"
   },
   {
    "duration": 25,
    "start_time": "2023-01-30T21:51:07.907Z"
   },
   {
    "duration": 13,
    "start_time": "2023-01-30T21:58:31.987Z"
   },
   {
    "duration": 34,
    "start_time": "2023-01-30T22:00:39.009Z"
   },
   {
    "duration": 10,
    "start_time": "2023-01-30T22:01:47.657Z"
   },
   {
    "duration": 41,
    "start_time": "2023-01-30T22:02:11.319Z"
   },
   {
    "duration": 10,
    "start_time": "2023-01-30T22:02:58.147Z"
   },
   {
    "duration": 42,
    "start_time": "2023-01-30T22:03:13.384Z"
   },
   {
    "duration": 28,
    "start_time": "2023-01-30T22:03:49.751Z"
   },
   {
    "duration": 26,
    "start_time": "2023-01-30T22:05:30.787Z"
   },
   {
    "duration": 27,
    "start_time": "2023-01-30T22:06:01.160Z"
   },
   {
    "duration": 47,
    "start_time": "2023-01-30T22:06:24.316Z"
   },
   {
    "duration": 28,
    "start_time": "2023-01-30T22:06:33.100Z"
   },
   {
    "duration": 37,
    "start_time": "2023-01-30T22:06:48.980Z"
   },
   {
    "duration": 27,
    "start_time": "2023-01-30T22:07:04.306Z"
   },
   {
    "duration": 16,
    "start_time": "2023-01-30T22:11:26.993Z"
   },
   {
    "duration": 17,
    "start_time": "2023-01-30T22:13:18.547Z"
   },
   {
    "duration": 13,
    "start_time": "2023-01-30T22:14:41.135Z"
   },
   {
    "duration": 18,
    "start_time": "2023-01-30T22:14:49.542Z"
   },
   {
    "duration": 4,
    "start_time": "2023-01-30T22:16:12.454Z"
   },
   {
    "duration": 84,
    "start_time": "2023-01-30T22:17:35.207Z"
   },
   {
    "duration": 9,
    "start_time": "2023-01-30T22:17:42.997Z"
   },
   {
    "duration": 12,
    "start_time": "2023-01-30T22:22:54.761Z"
   },
   {
    "duration": 21,
    "start_time": "2023-01-30T22:30:18.535Z"
   },
   {
    "duration": 20,
    "start_time": "2023-01-30T22:39:31.616Z"
   },
   {
    "duration": 20,
    "start_time": "2023-01-30T22:40:26.793Z"
   },
   {
    "duration": 16,
    "start_time": "2023-01-30T22:59:38.777Z"
   },
   {
    "duration": 39,
    "start_time": "2023-01-30T22:59:53.042Z"
   },
   {
    "duration": 16,
    "start_time": "2023-01-30T23:10:34.797Z"
   },
   {
    "duration": 9,
    "start_time": "2023-01-30T23:12:26.263Z"
   },
   {
    "duration": 40,
    "start_time": "2023-01-30T23:13:49.529Z"
   },
   {
    "duration": 8,
    "start_time": "2023-01-30T23:13:55.199Z"
   },
   {
    "duration": 11,
    "start_time": "2023-01-30T23:14:14.704Z"
   },
   {
    "duration": 10,
    "start_time": "2023-01-30T23:14:46.941Z"
   },
   {
    "duration": 16,
    "start_time": "2023-01-30T23:17:20.529Z"
   },
   {
    "duration": 31,
    "start_time": "2023-01-30T23:19:42.393Z"
   },
   {
    "duration": 26,
    "start_time": "2023-01-30T23:23:17.102Z"
   },
   {
    "duration": 32,
    "start_time": "2023-01-30T23:23:38.457Z"
   },
   {
    "duration": 22,
    "start_time": "2023-01-30T23:26:25.708Z"
   },
   {
    "duration": 26,
    "start_time": "2023-01-30T23:31:21.074Z"
   },
   {
    "duration": 15,
    "start_time": "2023-01-30T23:32:00.340Z"
   },
   {
    "duration": 15,
    "start_time": "2023-01-30T23:33:02.588Z"
   },
   {
    "duration": 17,
    "start_time": "2023-01-30T23:34:19.600Z"
   },
   {
    "duration": 11,
    "start_time": "2023-01-30T23:37:11.648Z"
   },
   {
    "duration": 10,
    "start_time": "2023-01-30T23:37:36.729Z"
   },
   {
    "duration": 31,
    "start_time": "2023-01-30T23:38:09.193Z"
   },
   {
    "duration": 50,
    "start_time": "2023-01-31T06:19:00.351Z"
   },
   {
    "duration": 379,
    "start_time": "2023-01-31T06:19:07.998Z"
   },
   {
    "duration": 245,
    "start_time": "2023-01-31T06:19:08.378Z"
   },
   {
    "duration": 111,
    "start_time": "2023-01-31T06:19:08.625Z"
   },
   {
    "duration": 13,
    "start_time": "2023-01-31T06:19:08.738Z"
   },
   {
    "duration": 8,
    "start_time": "2023-01-31T06:19:08.753Z"
   },
   {
    "duration": 24,
    "start_time": "2023-01-31T06:19:08.762Z"
   },
   {
    "duration": 17,
    "start_time": "2023-01-31T06:19:08.788Z"
   },
   {
    "duration": 12,
    "start_time": "2023-01-31T06:19:08.806Z"
   },
   {
    "duration": 18,
    "start_time": "2023-01-31T06:19:08.820Z"
   },
   {
    "duration": 21,
    "start_time": "2023-01-31T06:19:08.839Z"
   },
   {
    "duration": 34,
    "start_time": "2023-01-31T06:19:08.862Z"
   },
   {
    "duration": 18,
    "start_time": "2023-01-31T06:19:08.897Z"
   },
   {
    "duration": 22,
    "start_time": "2023-01-31T06:19:08.916Z"
   },
   {
    "duration": 8,
    "start_time": "2023-01-31T06:19:08.941Z"
   },
   {
    "duration": 23,
    "start_time": "2023-01-31T06:19:08.950Z"
   },
   {
    "duration": 18,
    "start_time": "2023-01-31T06:19:08.992Z"
   },
   {
    "duration": 21,
    "start_time": "2023-01-31T06:19:09.012Z"
   },
   {
    "duration": 16,
    "start_time": "2023-01-31T06:19:09.034Z"
   },
   {
    "duration": 43,
    "start_time": "2023-01-31T06:19:09.052Z"
   },
   {
    "duration": 4,
    "start_time": "2023-01-31T06:19:09.099Z"
   },
   {
    "duration": 25,
    "start_time": "2023-01-31T06:19:09.105Z"
   },
   {
    "duration": 6,
    "start_time": "2023-01-31T06:19:09.132Z"
   },
   {
    "duration": 6,
    "start_time": "2023-01-31T06:19:09.140Z"
   },
   {
    "duration": 7,
    "start_time": "2023-01-31T06:19:09.148Z"
   },
   {
    "duration": 8,
    "start_time": "2023-01-31T06:19:09.157Z"
   },
   {
    "duration": 51,
    "start_time": "2023-01-31T06:19:09.167Z"
   },
   {
    "duration": 20,
    "start_time": "2023-01-31T06:19:09.221Z"
   },
   {
    "duration": 8,
    "start_time": "2023-01-31T06:19:09.243Z"
   },
   {
    "duration": 30,
    "start_time": "2023-01-31T06:19:09.253Z"
   },
   {
    "duration": 26,
    "start_time": "2023-01-31T06:19:09.285Z"
   },
   {
    "duration": 939,
    "start_time": "2023-01-31T06:19:09.313Z"
   },
   {
    "duration": 9,
    "start_time": "2023-01-31T06:19:10.254Z"
   },
   {
    "duration": 34,
    "start_time": "2023-01-31T06:19:10.265Z"
   },
   {
    "duration": 7,
    "start_time": "2023-01-31T06:19:10.301Z"
   },
   {
    "duration": 10,
    "start_time": "2023-01-31T06:19:10.310Z"
   },
   {
    "duration": 24,
    "start_time": "2023-01-31T06:19:10.322Z"
   },
   {
    "duration": 107,
    "start_time": "2023-01-31T06:19:10.348Z"
   },
   {
    "duration": 40,
    "start_time": "2023-01-31T06:19:10.457Z"
   },
   {
    "duration": 15,
    "start_time": "2023-01-31T06:19:10.499Z"
   },
   {
    "duration": 18,
    "start_time": "2023-01-31T06:19:10.515Z"
   },
   {
    "duration": 2,
    "start_time": "2023-01-31T06:19:10.536Z"
   },
   {
    "duration": 11,
    "start_time": "2023-01-31T06:19:10.540Z"
   },
   {
    "duration": 42,
    "start_time": "2023-01-31T06:19:10.552Z"
   },
   {
    "duration": 20,
    "start_time": "2023-01-31T06:19:10.596Z"
   },
   {
    "duration": 20,
    "start_time": "2023-01-31T06:19:10.617Z"
   },
   {
    "duration": 20,
    "start_time": "2023-01-31T06:19:10.640Z"
   },
   {
    "duration": 12,
    "start_time": "2023-01-31T06:19:10.681Z"
   },
   {
    "duration": 19,
    "start_time": "2023-01-31T06:19:10.696Z"
   },
   {
    "duration": 21,
    "start_time": "2023-01-31T06:19:10.717Z"
   },
   {
    "duration": 17,
    "start_time": "2023-01-31T06:20:10.383Z"
   },
   {
    "duration": 16,
    "start_time": "2023-01-31T06:21:41.715Z"
   },
   {
    "duration": 13,
    "start_time": "2023-01-31T06:22:15.082Z"
   },
   {
    "duration": 15,
    "start_time": "2023-01-31T06:22:22.803Z"
   },
   {
    "duration": 4,
    "start_time": "2023-01-31T06:25:48.954Z"
   },
   {
    "duration": 107,
    "start_time": "2023-01-31T06:25:48.961Z"
   },
   {
    "duration": 43,
    "start_time": "2023-01-31T06:25:49.069Z"
   },
   {
    "duration": 14,
    "start_time": "2023-01-31T06:25:49.114Z"
   },
   {
    "duration": 37,
    "start_time": "2023-01-31T06:25:49.130Z"
   },
   {
    "duration": 25,
    "start_time": "2023-01-31T06:25:49.168Z"
   },
   {
    "duration": 14,
    "start_time": "2023-01-31T06:25:49.195Z"
   },
   {
    "duration": 22,
    "start_time": "2023-01-31T06:25:49.211Z"
   },
   {
    "duration": 26,
    "start_time": "2023-01-31T06:25:49.236Z"
   },
   {
    "duration": 27,
    "start_time": "2023-01-31T06:25:49.263Z"
   },
   {
    "duration": 15,
    "start_time": "2023-01-31T06:25:49.292Z"
   },
   {
    "duration": 36,
    "start_time": "2023-01-31T06:25:49.308Z"
   },
   {
    "duration": 22,
    "start_time": "2023-01-31T06:25:49.346Z"
   },
   {
    "duration": 24,
    "start_time": "2023-01-31T06:25:49.369Z"
   },
   {
    "duration": 31,
    "start_time": "2023-01-31T06:25:49.395Z"
   },
   {
    "duration": 26,
    "start_time": "2023-01-31T06:25:49.428Z"
   },
   {
    "duration": 36,
    "start_time": "2023-01-31T06:25:49.457Z"
   },
   {
    "duration": 24,
    "start_time": "2023-01-31T06:25:49.496Z"
   },
   {
    "duration": 35,
    "start_time": "2023-01-31T06:25:49.523Z"
   },
   {
    "duration": 7,
    "start_time": "2023-01-31T06:25:49.581Z"
   },
   {
    "duration": 30,
    "start_time": "2023-01-31T06:25:49.590Z"
   },
   {
    "duration": 18,
    "start_time": "2023-01-31T06:25:49.623Z"
   },
   {
    "duration": 36,
    "start_time": "2023-01-31T06:25:49.644Z"
   },
   {
    "duration": 17,
    "start_time": "2023-01-31T06:25:49.683Z"
   },
   {
    "duration": 11,
    "start_time": "2023-01-31T06:25:49.702Z"
   },
   {
    "duration": 60,
    "start_time": "2023-01-31T06:25:49.715Z"
   },
   {
    "duration": 21,
    "start_time": "2023-01-31T06:25:49.777Z"
   },
   {
    "duration": 26,
    "start_time": "2023-01-31T06:25:49.800Z"
   },
   {
    "duration": 23,
    "start_time": "2023-01-31T06:25:49.827Z"
   },
   {
    "duration": 16,
    "start_time": "2023-01-31T06:25:49.852Z"
   },
   {
    "duration": 523,
    "start_time": "2023-01-31T06:25:49.869Z"
   },
   {
    "duration": 9,
    "start_time": "2023-01-31T06:25:50.394Z"
   },
   {
    "duration": 32,
    "start_time": "2023-01-31T06:25:50.405Z"
   },
   {
    "duration": 31,
    "start_time": "2023-01-31T06:25:50.439Z"
   },
   {
    "duration": 23,
    "start_time": "2023-01-31T06:25:50.472Z"
   },
   {
    "duration": 49,
    "start_time": "2023-01-31T06:25:50.497Z"
   },
   {
    "duration": 48,
    "start_time": "2023-01-31T06:25:50.549Z"
   },
   {
    "duration": 31,
    "start_time": "2023-01-31T06:25:50.599Z"
   },
   {
    "duration": 23,
    "start_time": "2023-01-31T06:25:50.633Z"
   },
   {
    "duration": 51,
    "start_time": "2023-01-31T06:25:50.658Z"
   },
   {
    "duration": 4,
    "start_time": "2023-01-31T06:25:50.712Z"
   },
   {
    "duration": 35,
    "start_time": "2023-01-31T06:25:50.718Z"
   },
   {
    "duration": 46,
    "start_time": "2023-01-31T06:25:50.755Z"
   },
   {
    "duration": 38,
    "start_time": "2023-01-31T06:25:50.803Z"
   },
   {
    "duration": 27,
    "start_time": "2023-01-31T06:25:50.843Z"
   },
   {
    "duration": 24,
    "start_time": "2023-01-31T06:25:50.873Z"
   },
   {
    "duration": 9,
    "start_time": "2023-01-31T06:25:50.899Z"
   },
   {
    "duration": 31,
    "start_time": "2023-01-31T06:25:50.910Z"
   },
   {
    "duration": 29,
    "start_time": "2023-01-31T06:25:50.943Z"
   },
   {
    "duration": 28,
    "start_time": "2023-01-31T06:25:50.973Z"
   },
   {
    "duration": 24,
    "start_time": "2023-01-31T06:26:31.697Z"
   },
   {
    "duration": 3,
    "start_time": "2023-01-31T06:35:51.891Z"
   },
   {
    "duration": 90,
    "start_time": "2023-01-31T06:35:51.911Z"
   },
   {
    "duration": 43,
    "start_time": "2023-01-31T06:35:52.003Z"
   },
   {
    "duration": 15,
    "start_time": "2023-01-31T06:35:52.048Z"
   },
   {
    "duration": 21,
    "start_time": "2023-01-31T06:35:52.064Z"
   },
   {
    "duration": 22,
    "start_time": "2023-01-31T06:35:52.087Z"
   },
   {
    "duration": 7,
    "start_time": "2023-01-31T06:35:52.111Z"
   },
   {
    "duration": 13,
    "start_time": "2023-01-31T06:35:52.119Z"
   },
   {
    "duration": 19,
    "start_time": "2023-01-31T06:35:52.134Z"
   },
   {
    "duration": 52,
    "start_time": "2023-01-31T06:35:52.155Z"
   },
   {
    "duration": 17,
    "start_time": "2023-01-31T06:35:52.209Z"
   },
   {
    "duration": 17,
    "start_time": "2023-01-31T06:35:52.228Z"
   },
   {
    "duration": 46,
    "start_time": "2023-01-31T06:35:52.247Z"
   },
   {
    "duration": 9,
    "start_time": "2023-01-31T06:35:52.295Z"
   },
   {
    "duration": 25,
    "start_time": "2023-01-31T06:35:52.308Z"
   },
   {
    "duration": 51,
    "start_time": "2023-01-31T06:35:52.335Z"
   },
   {
    "duration": 25,
    "start_time": "2023-01-31T06:35:52.388Z"
   },
   {
    "duration": 21,
    "start_time": "2023-01-31T06:35:52.415Z"
   },
   {
    "duration": 51,
    "start_time": "2023-01-31T06:35:52.438Z"
   },
   {
    "duration": 6,
    "start_time": "2023-01-31T06:35:52.491Z"
   },
   {
    "duration": 10,
    "start_time": "2023-01-31T06:35:52.498Z"
   },
   {
    "duration": 6,
    "start_time": "2023-01-31T06:35:52.511Z"
   },
   {
    "duration": 7,
    "start_time": "2023-01-31T06:35:52.519Z"
   },
   {
    "duration": 9,
    "start_time": "2023-01-31T06:35:52.528Z"
   },
   {
    "duration": 5,
    "start_time": "2023-01-31T06:35:52.538Z"
   },
   {
    "duration": 57,
    "start_time": "2023-01-31T06:35:52.544Z"
   },
   {
    "duration": 13,
    "start_time": "2023-01-31T06:35:52.602Z"
   },
   {
    "duration": 8,
    "start_time": "2023-01-31T06:35:52.616Z"
   },
   {
    "duration": 5,
    "start_time": "2023-01-31T06:35:52.625Z"
   },
   {
    "duration": 28,
    "start_time": "2023-01-31T06:35:52.631Z"
   },
   {
    "duration": 495,
    "start_time": "2023-01-31T06:35:52.660Z"
   },
   {
    "duration": 8,
    "start_time": "2023-01-31T06:35:53.157Z"
   },
   {
    "duration": 29,
    "start_time": "2023-01-31T06:35:53.167Z"
   },
   {
    "duration": 24,
    "start_time": "2023-01-31T06:35:53.198Z"
   },
   {
    "duration": 21,
    "start_time": "2023-01-31T06:35:53.224Z"
   },
   {
    "duration": 33,
    "start_time": "2023-01-31T06:35:53.246Z"
   },
   {
    "duration": 40,
    "start_time": "2023-01-31T06:35:53.281Z"
   },
   {
    "duration": 35,
    "start_time": "2023-01-31T06:35:53.323Z"
   },
   {
    "duration": 14,
    "start_time": "2023-01-31T06:35:53.360Z"
   },
   {
    "duration": 29,
    "start_time": "2023-01-31T06:35:53.375Z"
   },
   {
    "duration": 3,
    "start_time": "2023-01-31T06:35:53.406Z"
   },
   {
    "duration": 30,
    "start_time": "2023-01-31T06:35:53.413Z"
   },
   {
    "duration": 31,
    "start_time": "2023-01-31T06:35:53.445Z"
   },
   {
    "duration": 33,
    "start_time": "2023-01-31T06:35:53.478Z"
   },
   {
    "duration": 24,
    "start_time": "2023-01-31T06:35:53.512Z"
   },
   {
    "duration": 20,
    "start_time": "2023-01-31T06:35:53.537Z"
   },
   {
    "duration": 23,
    "start_time": "2023-01-31T06:35:53.559Z"
   },
   {
    "duration": 33,
    "start_time": "2023-01-31T06:35:53.585Z"
   },
   {
    "duration": 34,
    "start_time": "2023-01-31T06:35:53.620Z"
   },
   {
    "duration": 38,
    "start_time": "2023-01-31T06:35:53.656Z"
   },
   {
    "duration": 21,
    "start_time": "2023-01-31T06:35:53.695Z"
   },
   {
    "duration": 32,
    "start_time": "2023-01-31T06:35:53.717Z"
   },
   {
    "duration": 31,
    "start_time": "2023-01-31T06:35:53.751Z"
   },
   {
    "duration": 17,
    "start_time": "2023-01-31T06:35:53.784Z"
   },
   {
    "duration": 51,
    "start_time": "2023-01-31T06:35:53.803Z"
   },
   {
    "duration": 9,
    "start_time": "2023-01-31T06:36:18.090Z"
   },
   {
    "duration": 14,
    "start_time": "2023-01-31T07:53:09.343Z"
   },
   {
    "duration": 151,
    "start_time": "2023-01-31T07:54:14.260Z"
   },
   {
    "duration": 155,
    "start_time": "2023-01-31T07:54:18.667Z"
   },
   {
    "duration": 50,
    "start_time": "2023-01-31T07:55:03.414Z"
   },
   {
    "duration": 26,
    "start_time": "2023-01-31T07:55:31.365Z"
   },
   {
    "duration": 225,
    "start_time": "2023-01-31T07:55:51.533Z"
   },
   {
    "duration": 28,
    "start_time": "2023-01-31T07:59:13.229Z"
   },
   {
    "duration": 32,
    "start_time": "2023-01-31T07:59:29.359Z"
   },
   {
    "duration": 35,
    "start_time": "2023-01-31T08:04:49.829Z"
   },
   {
    "duration": 28,
    "start_time": "2023-01-31T08:05:25.720Z"
   },
   {
    "duration": 6,
    "start_time": "2023-01-31T08:09:28.924Z"
   },
   {
    "duration": 5,
    "start_time": "2023-01-31T08:11:14.204Z"
   },
   {
    "duration": 13,
    "start_time": "2023-01-31T08:12:08.502Z"
   },
   {
    "duration": 13,
    "start_time": "2023-01-31T08:12:14.941Z"
   },
   {
    "duration": 9,
    "start_time": "2023-01-31T08:12:58.061Z"
   },
   {
    "duration": 617,
    "start_time": "2023-01-31T08:16:08.534Z"
   },
   {
    "duration": 670,
    "start_time": "2023-01-31T08:16:13.366Z"
   },
   {
    "duration": 698,
    "start_time": "2023-01-31T08:17:36.553Z"
   },
   {
    "duration": 608,
    "start_time": "2023-01-31T08:18:08.016Z"
   },
   {
    "duration": 753,
    "start_time": "2023-01-31T08:21:51.530Z"
   },
   {
    "duration": 8,
    "start_time": "2023-01-31T08:31:42.161Z"
   },
   {
    "duration": 257,
    "start_time": "2023-01-31T08:33:28.275Z"
   },
   {
    "duration": 248,
    "start_time": "2023-01-31T08:33:32.619Z"
   },
   {
    "duration": 235,
    "start_time": "2023-01-31T08:33:40.739Z"
   },
   {
    "duration": 473,
    "start_time": "2023-01-31T08:33:58.514Z"
   },
   {
    "duration": 11,
    "start_time": "2023-01-31T08:57:45.819Z"
   },
   {
    "duration": 11,
    "start_time": "2023-01-31T08:59:35.225Z"
   },
   {
    "duration": 363,
    "start_time": "2023-01-31T17:33:55.145Z"
   },
   {
    "duration": 539,
    "start_time": "2023-01-31T17:33:55.510Z"
   },
   {
    "duration": 57,
    "start_time": "2023-01-31T17:33:56.051Z"
   },
   {
    "duration": 14,
    "start_time": "2023-01-31T17:33:56.110Z"
   },
   {
    "duration": 34,
    "start_time": "2023-01-31T17:33:56.126Z"
   },
   {
    "duration": 27,
    "start_time": "2023-01-31T17:33:56.162Z"
   },
   {
    "duration": 37,
    "start_time": "2023-01-31T17:33:56.190Z"
   },
   {
    "duration": 59,
    "start_time": "2023-01-31T17:33:56.229Z"
   },
   {
    "duration": 52,
    "start_time": "2023-01-31T17:33:56.290Z"
   },
   {
    "duration": 65,
    "start_time": "2023-01-31T17:33:56.345Z"
   },
   {
    "duration": 14,
    "start_time": "2023-01-31T17:33:56.411Z"
   },
   {
    "duration": 30,
    "start_time": "2023-01-31T17:33:56.426Z"
   },
   {
    "duration": 72,
    "start_time": "2023-01-31T17:33:56.458Z"
   },
   {
    "duration": 46,
    "start_time": "2023-01-31T17:33:56.532Z"
   },
   {
    "duration": 58,
    "start_time": "2023-01-31T17:33:56.580Z"
   },
   {
    "duration": 21,
    "start_time": "2023-01-31T17:33:56.640Z"
   },
   {
    "duration": 56,
    "start_time": "2023-01-31T17:33:56.663Z"
   },
   {
    "duration": 27,
    "start_time": "2023-01-31T17:33:56.721Z"
   },
   {
    "duration": 26,
    "start_time": "2023-01-31T17:33:56.750Z"
   },
   {
    "duration": 6,
    "start_time": "2023-01-31T17:33:56.778Z"
   },
   {
    "duration": 40,
    "start_time": "2023-01-31T17:33:56.785Z"
   },
   {
    "duration": 30,
    "start_time": "2023-01-31T17:33:56.826Z"
   },
   {
    "duration": 43,
    "start_time": "2023-01-31T17:33:56.857Z"
   },
   {
    "duration": 21,
    "start_time": "2023-01-31T17:33:56.902Z"
   },
   {
    "duration": 40,
    "start_time": "2023-01-31T17:33:56.924Z"
   },
   {
    "duration": 76,
    "start_time": "2023-01-31T17:33:56.966Z"
   },
   {
    "duration": 30,
    "start_time": "2023-01-31T17:33:57.044Z"
   },
   {
    "duration": 44,
    "start_time": "2023-01-31T17:33:57.080Z"
   },
   {
    "duration": 39,
    "start_time": "2023-01-31T17:33:57.126Z"
   },
   {
    "duration": 53,
    "start_time": "2023-01-31T17:33:57.167Z"
   },
   {
    "duration": 1006,
    "start_time": "2023-01-31T17:33:57.222Z"
   },
   {
    "duration": 11,
    "start_time": "2023-01-31T17:33:58.229Z"
   },
   {
    "duration": 91,
    "start_time": "2023-01-31T17:33:58.242Z"
   },
   {
    "duration": 60,
    "start_time": "2023-01-31T17:33:58.335Z"
   },
   {
    "duration": 61,
    "start_time": "2023-01-31T17:33:58.397Z"
   },
   {
    "duration": 70,
    "start_time": "2023-01-31T17:33:58.460Z"
   },
   {
    "duration": 160,
    "start_time": "2023-01-31T17:33:58.531Z"
   },
   {
    "duration": 45,
    "start_time": "2023-01-31T17:33:58.692Z"
   },
   {
    "duration": 16,
    "start_time": "2023-01-31T17:33:58.739Z"
   },
   {
    "duration": 67,
    "start_time": "2023-01-31T17:33:58.757Z"
   },
   {
    "duration": 22,
    "start_time": "2023-01-31T17:33:58.826Z"
   },
   {
    "duration": 46,
    "start_time": "2023-01-31T17:33:58.850Z"
   },
   {
    "duration": 60,
    "start_time": "2023-01-31T17:33:58.897Z"
   },
   {
    "duration": 32,
    "start_time": "2023-01-31T17:33:58.958Z"
   },
   {
    "duration": 19,
    "start_time": "2023-01-31T17:33:58.992Z"
   },
   {
    "duration": 37,
    "start_time": "2023-01-31T17:33:59.012Z"
   },
   {
    "duration": 34,
    "start_time": "2023-01-31T17:33:59.050Z"
   },
   {
    "duration": 31,
    "start_time": "2023-01-31T17:33:59.085Z"
   },
   {
    "duration": 43,
    "start_time": "2023-01-31T17:33:59.118Z"
   },
   {
    "duration": 68,
    "start_time": "2023-01-31T17:33:59.162Z"
   },
   {
    "duration": 31,
    "start_time": "2023-01-31T17:33:59.232Z"
   },
   {
    "duration": 44,
    "start_time": "2023-01-31T17:33:59.265Z"
   },
   {
    "duration": 31,
    "start_time": "2023-01-31T17:33:59.311Z"
   },
   {
    "duration": 40,
    "start_time": "2023-01-31T17:33:59.343Z"
   },
   {
    "duration": 33,
    "start_time": "2023-01-31T17:33:59.385Z"
   },
   {
    "duration": 60,
    "start_time": "2023-01-31T17:33:59.420Z"
   },
   {
    "duration": 59,
    "start_time": "2023-01-31T17:33:59.482Z"
   },
   {
    "duration": 20,
    "start_time": "2023-01-31T17:33:59.542Z"
   },
   {
    "duration": 47,
    "start_time": "2023-01-31T17:33:59.564Z"
   },
   {
    "duration": 36,
    "start_time": "2023-01-31T17:33:59.613Z"
   },
   {
    "duration": 648,
    "start_time": "2023-01-31T17:33:59.651Z"
   },
   {
    "duration": 638,
    "start_time": "2023-01-31T17:34:00.301Z"
   },
   {
    "duration": 750,
    "start_time": "2023-01-31T17:34:00.941Z"
   },
   {
    "duration": 12,
    "start_time": "2023-01-31T17:34:01.693Z"
   },
   {
    "duration": 504,
    "start_time": "2023-01-31T17:34:01.707Z"
   },
   {
    "duration": 5,
    "start_time": "2023-01-31T17:43:46.819Z"
   },
   {
    "duration": 433,
    "start_time": "2023-01-31T20:10:25.095Z"
   },
   {
    "duration": 296,
    "start_time": "2023-01-31T20:10:26.050Z"
   },
   {
    "duration": 75,
    "start_time": "2023-01-31T20:10:29.829Z"
   },
   {
    "duration": 3,
    "start_time": "2023-01-31T20:11:17.965Z"
   },
   {
    "duration": 94,
    "start_time": "2023-01-31T20:11:18.018Z"
   },
   {
    "duration": 35,
    "start_time": "2023-01-31T20:11:18.113Z"
   },
   {
    "duration": 15,
    "start_time": "2023-01-31T20:11:18.149Z"
   },
   {
    "duration": 16,
    "start_time": "2023-01-31T20:11:18.166Z"
   },
   {
    "duration": 24,
    "start_time": "2023-01-31T20:11:18.183Z"
   },
   {
    "duration": 5,
    "start_time": "2023-01-31T20:11:18.209Z"
   },
   {
    "duration": 12,
    "start_time": "2023-01-31T20:11:18.215Z"
   },
   {
    "duration": 19,
    "start_time": "2023-01-31T20:11:18.228Z"
   },
   {
    "duration": 21,
    "start_time": "2023-01-31T20:11:18.248Z"
   },
   {
    "duration": 15,
    "start_time": "2023-01-31T20:11:18.295Z"
   },
   {
    "duration": 14,
    "start_time": "2023-01-31T20:11:18.312Z"
   },
   {
    "duration": 20,
    "start_time": "2023-01-31T20:11:18.327Z"
   },
   {
    "duration": 13,
    "start_time": "2023-01-31T20:11:18.349Z"
   },
   {
    "duration": 41,
    "start_time": "2023-01-31T20:11:18.364Z"
   },
   {
    "duration": 15,
    "start_time": "2023-01-31T20:11:18.406Z"
   },
   {
    "duration": 15,
    "start_time": "2023-01-31T20:11:18.422Z"
   },
   {
    "duration": 14,
    "start_time": "2023-01-31T20:11:18.438Z"
   },
   {
    "duration": 49,
    "start_time": "2023-01-31T20:11:18.453Z"
   },
   {
    "duration": 4,
    "start_time": "2023-01-31T20:11:18.503Z"
   },
   {
    "duration": 12,
    "start_time": "2023-01-31T20:11:18.508Z"
   },
   {
    "duration": 10,
    "start_time": "2023-01-31T20:11:18.521Z"
   },
   {
    "duration": 13,
    "start_time": "2023-01-31T20:11:18.533Z"
   },
   {
    "duration": 18,
    "start_time": "2023-01-31T20:11:18.547Z"
   },
   {
    "duration": 5,
    "start_time": "2023-01-31T20:11:18.567Z"
   },
   {
    "duration": 26,
    "start_time": "2023-01-31T20:11:18.574Z"
   },
   {
    "duration": 13,
    "start_time": "2023-01-31T20:11:18.601Z"
   },
   {
    "duration": 8,
    "start_time": "2023-01-31T20:11:18.615Z"
   },
   {
    "duration": 5,
    "start_time": "2023-01-31T20:11:18.627Z"
   },
   {
    "duration": 11,
    "start_time": "2023-01-31T20:11:18.634Z"
   },
   {
    "duration": 870,
    "start_time": "2023-01-31T20:11:18.647Z"
   },
   {
    "duration": 10,
    "start_time": "2023-01-31T20:11:19.518Z"
   },
   {
    "duration": 16,
    "start_time": "2023-01-31T20:11:19.529Z"
   },
   {
    "duration": 9,
    "start_time": "2023-01-31T20:11:19.547Z"
   },
   {
    "duration": 9,
    "start_time": "2023-01-31T20:11:19.558Z"
   },
   {
    "duration": 36,
    "start_time": "2023-01-31T20:11:19.569Z"
   },
   {
    "duration": 91,
    "start_time": "2023-01-31T20:11:19.606Z"
   },
   {
    "duration": 24,
    "start_time": "2023-01-31T20:11:19.699Z"
   },
   {
    "duration": 15,
    "start_time": "2023-01-31T20:11:19.725Z"
   },
   {
    "duration": 18,
    "start_time": "2023-01-31T20:11:19.742Z"
   },
   {
    "duration": 31,
    "start_time": "2023-01-31T20:11:19.762Z"
   },
   {
    "duration": 9,
    "start_time": "2023-01-31T20:11:19.796Z"
   },
   {
    "duration": 21,
    "start_time": "2023-01-31T20:11:19.806Z"
   },
   {
    "duration": 25,
    "start_time": "2023-01-31T20:11:19.829Z"
   },
   {
    "duration": 40,
    "start_time": "2023-01-31T20:11:19.855Z"
   },
   {
    "duration": 14,
    "start_time": "2023-01-31T20:11:19.897Z"
   },
   {
    "duration": 7,
    "start_time": "2023-01-31T20:11:19.913Z"
   },
   {
    "duration": 9,
    "start_time": "2023-01-31T20:11:19.921Z"
   },
   {
    "duration": 14,
    "start_time": "2023-01-31T20:11:19.932Z"
   },
   {
    "duration": 49,
    "start_time": "2023-01-31T20:11:19.948Z"
   },
   {
    "duration": 11,
    "start_time": "2023-01-31T20:11:19.999Z"
   },
   {
    "duration": 33,
    "start_time": "2023-01-31T20:11:20.012Z"
   },
   {
    "duration": 30,
    "start_time": "2023-01-31T20:11:20.047Z"
   },
   {
    "duration": 23,
    "start_time": "2023-01-31T20:11:20.093Z"
   },
   {
    "duration": 16,
    "start_time": "2023-01-31T20:11:20.118Z"
   },
   {
    "duration": 14,
    "start_time": "2023-01-31T20:11:20.136Z"
   },
   {
    "duration": 55,
    "start_time": "2023-01-31T20:11:20.152Z"
   },
   {
    "duration": 7,
    "start_time": "2023-01-31T20:11:20.209Z"
   },
   {
    "duration": 20,
    "start_time": "2023-01-31T20:11:20.217Z"
   },
   {
    "duration": 12,
    "start_time": "2023-01-31T20:11:20.238Z"
   },
   {
    "duration": 591,
    "start_time": "2023-01-31T20:11:20.251Z"
   },
   {
    "duration": 622,
    "start_time": "2023-01-31T20:11:20.844Z"
   },
   {
    "duration": 686,
    "start_time": "2023-01-31T20:11:21.469Z"
   },
   {
    "duration": 8,
    "start_time": "2023-01-31T20:11:22.156Z"
   },
   {
    "duration": 384,
    "start_time": "2023-01-31T20:11:22.166Z"
   },
   {
    "duration": 714,
    "start_time": "2023-01-31T20:52:10.635Z"
   },
   {
    "duration": 2,
    "start_time": "2023-01-31T20:52:24.460Z"
   },
   {
    "duration": 94,
    "start_time": "2023-01-31T20:52:24.465Z"
   },
   {
    "duration": 33,
    "start_time": "2023-01-31T20:52:24.561Z"
   },
   {
    "duration": 14,
    "start_time": "2023-01-31T20:52:24.596Z"
   },
   {
    "duration": 9,
    "start_time": "2023-01-31T20:52:24.612Z"
   },
   {
    "duration": 25,
    "start_time": "2023-01-31T20:52:24.622Z"
   },
   {
    "duration": 4,
    "start_time": "2023-01-31T20:52:24.648Z"
   },
   {
    "duration": 17,
    "start_time": "2023-01-31T20:52:24.654Z"
   },
   {
    "duration": 32,
    "start_time": "2023-01-31T20:52:24.673Z"
   },
   {
    "duration": 19,
    "start_time": "2023-01-31T20:52:24.707Z"
   },
   {
    "duration": 14,
    "start_time": "2023-01-31T20:52:24.728Z"
   },
   {
    "duration": 14,
    "start_time": "2023-01-31T20:52:24.743Z"
   },
   {
    "duration": 40,
    "start_time": "2023-01-31T20:52:24.759Z"
   },
   {
    "duration": 10,
    "start_time": "2023-01-31T20:52:24.803Z"
   },
   {
    "duration": 19,
    "start_time": "2023-01-31T20:52:24.815Z"
   },
   {
    "duration": 15,
    "start_time": "2023-01-31T20:52:24.836Z"
   },
   {
    "duration": 42,
    "start_time": "2023-01-31T20:52:24.853Z"
   },
   {
    "duration": 15,
    "start_time": "2023-01-31T20:52:24.897Z"
   },
   {
    "duration": 21,
    "start_time": "2023-01-31T20:52:24.914Z"
   },
   {
    "duration": 10,
    "start_time": "2023-01-31T20:52:30.168Z"
   },
   {
    "duration": 7,
    "start_time": "2023-01-31T20:52:43.474Z"
   },
   {
    "duration": 8,
    "start_time": "2023-01-31T20:53:58.711Z"
   },
   {
    "duration": 8,
    "start_time": "2023-01-31T20:54:12.862Z"
   },
   {
    "duration": 8,
    "start_time": "2023-01-31T20:54:23.321Z"
   },
   {
    "duration": 9,
    "start_time": "2023-01-31T20:54:45.944Z"
   },
   {
    "duration": 4,
    "start_time": "2023-01-31T20:54:54.223Z"
   },
   {
    "duration": 110,
    "start_time": "2023-01-31T20:54:54.229Z"
   },
   {
    "duration": 35,
    "start_time": "2023-01-31T20:54:54.341Z"
   },
   {
    "duration": 14,
    "start_time": "2023-01-31T20:54:54.378Z"
   },
   {
    "duration": 15,
    "start_time": "2023-01-31T20:54:54.394Z"
   },
   {
    "duration": 22,
    "start_time": "2023-01-31T20:54:54.410Z"
   },
   {
    "duration": 5,
    "start_time": "2023-01-31T20:54:54.433Z"
   },
   {
    "duration": 21,
    "start_time": "2023-01-31T20:54:54.439Z"
   },
   {
    "duration": 19,
    "start_time": "2023-01-31T20:54:54.462Z"
   },
   {
    "duration": 28,
    "start_time": "2023-01-31T20:54:54.483Z"
   },
   {
    "duration": 13,
    "start_time": "2023-01-31T20:54:54.513Z"
   },
   {
    "duration": 19,
    "start_time": "2023-01-31T20:54:54.527Z"
   },
   {
    "duration": 16,
    "start_time": "2023-01-31T20:54:54.547Z"
   },
   {
    "duration": 31,
    "start_time": "2023-01-31T20:54:54.564Z"
   },
   {
    "duration": 16,
    "start_time": "2023-01-31T20:54:54.596Z"
   },
   {
    "duration": 13,
    "start_time": "2023-01-31T20:54:54.613Z"
   },
   {
    "duration": 24,
    "start_time": "2023-01-31T20:54:54.627Z"
   },
   {
    "duration": 13,
    "start_time": "2023-01-31T20:54:54.653Z"
   },
   {
    "duration": 34,
    "start_time": "2023-01-31T20:54:54.668Z"
   },
   {
    "duration": 8,
    "start_time": "2023-01-31T20:54:54.704Z"
   },
   {
    "duration": 8,
    "start_time": "2023-01-31T20:55:07.130Z"
   },
   {
    "duration": 7,
    "start_time": "2023-01-31T20:57:01.893Z"
   },
   {
    "duration": 5,
    "start_time": "2023-01-31T20:57:11.235Z"
   },
   {
    "duration": 6,
    "start_time": "2023-01-31T20:57:16.597Z"
   },
   {
    "duration": 3,
    "start_time": "2023-01-31T20:58:37.091Z"
   },
   {
    "duration": 109,
    "start_time": "2023-01-31T20:58:37.096Z"
   },
   {
    "duration": 33,
    "start_time": "2023-01-31T20:58:37.207Z"
   },
   {
    "duration": 15,
    "start_time": "2023-01-31T20:58:37.242Z"
   },
   {
    "duration": 11,
    "start_time": "2023-01-31T20:58:37.260Z"
   },
   {
    "duration": 23,
    "start_time": "2023-01-31T20:58:37.273Z"
   },
   {
    "duration": 6,
    "start_time": "2023-01-31T20:58:37.298Z"
   },
   {
    "duration": 23,
    "start_time": "2023-01-31T20:58:37.306Z"
   },
   {
    "duration": 30,
    "start_time": "2023-01-31T20:58:37.331Z"
   },
   {
    "duration": 32,
    "start_time": "2023-01-31T20:58:37.363Z"
   },
   {
    "duration": 18,
    "start_time": "2023-01-31T20:58:37.398Z"
   },
   {
    "duration": 17,
    "start_time": "2023-01-31T20:58:37.418Z"
   },
   {
    "duration": 18,
    "start_time": "2023-01-31T20:58:37.437Z"
   },
   {
    "duration": 45,
    "start_time": "2023-01-31T20:58:37.458Z"
   },
   {
    "duration": 16,
    "start_time": "2023-01-31T20:58:37.505Z"
   },
   {
    "duration": 14,
    "start_time": "2023-01-31T20:58:37.522Z"
   },
   {
    "duration": 15,
    "start_time": "2023-01-31T20:58:37.537Z"
   },
   {
    "duration": 46,
    "start_time": "2023-01-31T20:58:37.553Z"
   },
   {
    "duration": 19,
    "start_time": "2023-01-31T20:58:37.600Z"
   },
   {
    "duration": 5,
    "start_time": "2023-01-31T20:58:37.620Z"
   },
   {
    "duration": 5,
    "start_time": "2023-01-31T20:58:41.923Z"
   },
   {
    "duration": 9,
    "start_time": "2023-01-31T21:00:12.792Z"
   },
   {
    "duration": 6,
    "start_time": "2023-01-31T21:07:02.232Z"
   },
   {
    "duration": 17,
    "start_time": "2023-01-31T21:07:24.044Z"
   },
   {
    "duration": 6,
    "start_time": "2023-01-31T21:46:27.100Z"
   },
   {
    "duration": 9,
    "start_time": "2023-01-31T21:56:03.889Z"
   },
   {
    "duration": 6,
    "start_time": "2023-01-31T21:56:09.518Z"
   },
   {
    "duration": 439,
    "start_time": "2023-02-01T05:54:36.819Z"
   },
   {
    "duration": 301,
    "start_time": "2023-02-01T05:54:37.260Z"
   },
   {
    "duration": 57,
    "start_time": "2023-02-01T05:54:37.563Z"
   },
   {
    "duration": 25,
    "start_time": "2023-02-01T05:54:37.622Z"
   },
   {
    "duration": 12,
    "start_time": "2023-02-01T05:54:37.651Z"
   },
   {
    "duration": 22,
    "start_time": "2023-02-01T05:54:37.665Z"
   },
   {
    "duration": 6,
    "start_time": "2023-02-01T05:54:37.689Z"
   },
   {
    "duration": 34,
    "start_time": "2023-02-01T05:54:37.696Z"
   },
   {
    "duration": 35,
    "start_time": "2023-02-01T05:54:37.732Z"
   },
   {
    "duration": 23,
    "start_time": "2023-02-01T05:54:37.769Z"
   },
   {
    "duration": 45,
    "start_time": "2023-02-01T05:54:37.795Z"
   },
   {
    "duration": 18,
    "start_time": "2023-02-01T05:54:37.842Z"
   },
   {
    "duration": 30,
    "start_time": "2023-02-01T05:54:37.862Z"
   },
   {
    "duration": 35,
    "start_time": "2023-02-01T05:54:37.896Z"
   },
   {
    "duration": 17,
    "start_time": "2023-02-01T05:54:37.933Z"
   },
   {
    "duration": 16,
    "start_time": "2023-02-01T05:54:37.952Z"
   },
   {
    "duration": 26,
    "start_time": "2023-02-01T05:54:37.970Z"
   },
   {
    "duration": 24,
    "start_time": "2023-02-01T05:54:38.027Z"
   },
   {
    "duration": 30,
    "start_time": "2023-02-01T05:54:38.053Z"
   },
   {
    "duration": 6,
    "start_time": "2023-02-01T05:54:38.085Z"
   },
   {
    "duration": 6,
    "start_time": "2023-02-01T05:54:57.502Z"
   },
   {
    "duration": 8,
    "start_time": "2023-02-01T05:56:08.837Z"
   },
   {
    "duration": 47,
    "start_time": "2023-02-01T06:03:53.004Z"
   },
   {
    "duration": 894,
    "start_time": "2023-02-01T06:04:16.626Z"
   },
   {
    "duration": 10,
    "start_time": "2023-02-01T06:04:48.016Z"
   },
   {
    "duration": 643,
    "start_time": "2023-02-01T06:05:30.060Z"
   },
   {
    "duration": 497,
    "start_time": "2023-02-01T06:05:55.409Z"
   },
   {
    "duration": 606,
    "start_time": "2023-02-01T06:06:09.441Z"
   },
   {
    "duration": 514,
    "start_time": "2023-02-01T06:07:02.502Z"
   },
   {
    "duration": 49,
    "start_time": "2023-02-01T06:09:27.840Z"
   },
   {
    "duration": 483,
    "start_time": "2023-02-01T06:09:32.092Z"
   },
   {
    "duration": 626,
    "start_time": "2023-02-01T06:09:38.940Z"
   },
   {
    "duration": 540,
    "start_time": "2023-02-01T06:09:51.686Z"
   },
   {
    "duration": 478,
    "start_time": "2023-02-01T06:10:04.695Z"
   },
   {
    "duration": 1395,
    "start_time": "2023-02-01T06:10:37.262Z"
   },
   {
    "duration": 708,
    "start_time": "2023-02-01T06:10:45.151Z"
   },
   {
    "duration": 65,
    "start_time": "2023-02-01T06:25:16.804Z"
   },
   {
    "duration": 3,
    "start_time": "2023-02-01T06:25:22.312Z"
   },
   {
    "duration": 90,
    "start_time": "2023-02-01T06:25:22.320Z"
   },
   {
    "duration": 37,
    "start_time": "2023-02-01T06:25:22.412Z"
   },
   {
    "duration": 14,
    "start_time": "2023-02-01T06:25:22.450Z"
   },
   {
    "duration": 13,
    "start_time": "2023-02-01T06:25:22.466Z"
   },
   {
    "duration": 31,
    "start_time": "2023-02-01T06:25:22.480Z"
   },
   {
    "duration": 6,
    "start_time": "2023-02-01T06:25:22.513Z"
   },
   {
    "duration": 23,
    "start_time": "2023-02-01T06:25:22.520Z"
   },
   {
    "duration": 21,
    "start_time": "2023-02-01T06:25:22.545Z"
   },
   {
    "duration": 22,
    "start_time": "2023-02-01T06:25:22.567Z"
   },
   {
    "duration": 15,
    "start_time": "2023-02-01T06:25:22.592Z"
   },
   {
    "duration": 24,
    "start_time": "2023-02-01T06:25:22.608Z"
   },
   {
    "duration": 19,
    "start_time": "2023-02-01T06:25:22.634Z"
   },
   {
    "duration": 15,
    "start_time": "2023-02-01T06:25:22.655Z"
   },
   {
    "duration": 27,
    "start_time": "2023-02-01T06:25:22.672Z"
   },
   {
    "duration": 32,
    "start_time": "2023-02-01T06:25:22.701Z"
   },
   {
    "duration": 28,
    "start_time": "2023-02-01T06:25:22.735Z"
   },
   {
    "duration": 14,
    "start_time": "2023-02-01T06:25:22.765Z"
   },
   {
    "duration": 21,
    "start_time": "2023-02-01T06:25:22.780Z"
   },
   {
    "duration": 5,
    "start_time": "2023-02-01T06:25:22.803Z"
   },
   {
    "duration": 5,
    "start_time": "2023-02-01T06:25:22.827Z"
   },
   {
    "duration": 11,
    "start_time": "2023-02-01T06:25:22.834Z"
   },
   {
    "duration": 12,
    "start_time": "2023-02-01T06:25:22.847Z"
   },
   {
    "duration": 6,
    "start_time": "2023-02-01T06:25:22.861Z"
   },
   {
    "duration": 13,
    "start_time": "2023-02-01T06:25:22.868Z"
   },
   {
    "duration": 7,
    "start_time": "2023-02-01T06:25:22.883Z"
   },
   {
    "duration": 36,
    "start_time": "2023-02-01T06:25:22.891Z"
   },
   {
    "duration": 3,
    "start_time": "2023-02-01T06:25:22.928Z"
   },
   {
    "duration": 34,
    "start_time": "2023-02-01T06:25:22.934Z"
   },
   {
    "duration": 13,
    "start_time": "2023-02-01T06:25:22.970Z"
   },
   {
    "duration": 14,
    "start_time": "2023-02-01T06:25:22.985Z"
   },
   {
    "duration": 15,
    "start_time": "2023-02-01T06:25:23.000Z"
   },
   {
    "duration": 19,
    "start_time": "2023-02-01T06:25:23.017Z"
   },
   {
    "duration": 20,
    "start_time": "2023-02-01T06:25:23.038Z"
   },
   {
    "duration": 614,
    "start_time": "2023-02-01T06:25:23.059Z"
   },
   {
    "duration": 572,
    "start_time": "2023-02-01T06:25:23.674Z"
   },
   {
    "duration": 16,
    "start_time": "2023-02-01T06:25:24.248Z"
   },
   {
    "duration": 19,
    "start_time": "2023-02-01T06:25:24.266Z"
   },
   {
    "duration": 36,
    "start_time": "2023-02-01T06:25:24.287Z"
   },
   {
    "duration": 37,
    "start_time": "2023-02-01T06:25:24.325Z"
   },
   {
    "duration": 39,
    "start_time": "2023-02-01T06:25:24.364Z"
   },
   {
    "duration": 33,
    "start_time": "2023-02-01T06:25:24.405Z"
   },
   {
    "duration": 16,
    "start_time": "2023-02-01T06:25:24.439Z"
   },
   {
    "duration": 24,
    "start_time": "2023-02-01T06:25:24.457Z"
   },
   {
    "duration": 3,
    "start_time": "2023-02-01T06:25:24.482Z"
   },
   {
    "duration": 20,
    "start_time": "2023-02-01T06:25:24.487Z"
   },
   {
    "duration": 175,
    "start_time": "2023-02-01T06:25:24.508Z"
   },
   {
    "duration": 143,
    "start_time": "2023-02-01T06:25:43.044Z"
   },
   {
    "duration": 123,
    "start_time": "2023-02-01T06:26:11.485Z"
   },
   {
    "duration": 262,
    "start_time": "2023-02-01T06:26:20.414Z"
   },
   {
    "duration": 266,
    "start_time": "2023-02-01T06:27:35.732Z"
   },
   {
    "duration": 11,
    "start_time": "2023-02-01T06:31:20.277Z"
   },
   {
    "duration": 223,
    "start_time": "2023-02-01T06:31:34.533Z"
   },
   {
    "duration": 122,
    "start_time": "2023-02-01T06:31:40.652Z"
   },
   {
    "duration": 49,
    "start_time": "2023-02-01T06:32:23.566Z"
   },
   {
    "duration": 122,
    "start_time": "2023-02-01T06:32:32.157Z"
   },
   {
    "duration": 143,
    "start_time": "2023-02-01T06:33:07.858Z"
   },
   {
    "duration": 145,
    "start_time": "2023-02-01T06:40:21.059Z"
   },
   {
    "duration": 182,
    "start_time": "2023-02-01T06:40:42.609Z"
   },
   {
    "duration": 142,
    "start_time": "2023-02-01T06:40:49.285Z"
   },
   {
    "duration": 150,
    "start_time": "2023-02-01T06:41:23.579Z"
   },
   {
    "duration": 129,
    "start_time": "2023-02-01T06:41:35.702Z"
   },
   {
    "duration": 19,
    "start_time": "2023-02-01T06:51:10.811Z"
   },
   {
    "duration": 20,
    "start_time": "2023-02-01T06:51:16.624Z"
   },
   {
    "duration": 248,
    "start_time": "2023-02-01T07:00:30.332Z"
   },
   {
    "duration": 12,
    "start_time": "2023-02-01T07:08:00.652Z"
   },
   {
    "duration": 162,
    "start_time": "2023-02-01T07:08:11.397Z"
   },
   {
    "duration": 240,
    "start_time": "2023-02-01T07:08:17.165Z"
   },
   {
    "duration": 48,
    "start_time": "2023-02-01T07:19:56.181Z"
   },
   {
    "duration": 858,
    "start_time": "2023-02-01T07:20:00.831Z"
   },
   {
    "duration": 56,
    "start_time": "2023-02-01T07:21:01.121Z"
   },
   {
    "duration": 47,
    "start_time": "2023-02-01T07:22:41.306Z"
   },
   {
    "duration": 1261,
    "start_time": "2023-02-01T07:25:58.379Z"
   },
   {
    "duration": 22,
    "start_time": "2023-02-01T07:26:18.083Z"
   },
   {
    "duration": 179,
    "start_time": "2023-02-01T07:26:43.524Z"
   },
   {
    "duration": 19,
    "start_time": "2023-02-01T07:27:26.608Z"
   },
   {
    "duration": 16,
    "start_time": "2023-02-01T07:29:17.216Z"
   },
   {
    "duration": 996,
    "start_time": "2023-02-01T07:36:56.643Z"
   },
   {
    "duration": 953,
    "start_time": "2023-02-01T07:37:06.183Z"
   },
   {
    "duration": 171,
    "start_time": "2023-02-01T07:37:43.906Z"
   },
   {
    "duration": 14,
    "start_time": "2023-02-01T07:38:08.644Z"
   },
   {
    "duration": 2,
    "start_time": "2023-02-01T07:38:20.476Z"
   },
   {
    "duration": 120,
    "start_time": "2023-02-01T07:38:20.480Z"
   },
   {
    "duration": 52,
    "start_time": "2023-02-01T07:38:20.602Z"
   },
   {
    "duration": 18,
    "start_time": "2023-02-01T07:38:20.656Z"
   },
   {
    "duration": 12,
    "start_time": "2023-02-01T07:38:20.678Z"
   },
   {
    "duration": 37,
    "start_time": "2023-02-01T07:38:20.691Z"
   },
   {
    "duration": 5,
    "start_time": "2023-02-01T07:38:20.730Z"
   },
   {
    "duration": 15,
    "start_time": "2023-02-01T07:38:20.738Z"
   },
   {
    "duration": 24,
    "start_time": "2023-02-01T07:38:20.755Z"
   },
   {
    "duration": 26,
    "start_time": "2023-02-01T07:38:20.781Z"
   },
   {
    "duration": 24,
    "start_time": "2023-02-01T07:38:20.826Z"
   },
   {
    "duration": 17,
    "start_time": "2023-02-01T07:38:20.852Z"
   },
   {
    "duration": 24,
    "start_time": "2023-02-01T07:38:20.871Z"
   },
   {
    "duration": 40,
    "start_time": "2023-02-01T07:38:20.897Z"
   },
   {
    "duration": 20,
    "start_time": "2023-02-01T07:38:20.941Z"
   },
   {
    "duration": 17,
    "start_time": "2023-02-01T07:38:20.963Z"
   },
   {
    "duration": 20,
    "start_time": "2023-02-01T07:38:20.982Z"
   },
   {
    "duration": 20,
    "start_time": "2023-02-01T07:38:21.027Z"
   },
   {
    "duration": 30,
    "start_time": "2023-02-01T07:38:21.049Z"
   },
   {
    "duration": 5,
    "start_time": "2023-02-01T07:38:21.081Z"
   },
   {
    "duration": 8,
    "start_time": "2023-02-01T07:38:21.087Z"
   },
   {
    "duration": 17,
    "start_time": "2023-02-01T07:38:21.096Z"
   },
   {
    "duration": 15,
    "start_time": "2023-02-01T07:38:21.114Z"
   },
   {
    "duration": 28,
    "start_time": "2023-02-01T07:38:21.130Z"
   },
   {
    "duration": 21,
    "start_time": "2023-02-01T07:38:21.159Z"
   },
   {
    "duration": 17,
    "start_time": "2023-02-01T07:38:21.182Z"
   },
   {
    "duration": 20,
    "start_time": "2023-02-01T07:38:21.201Z"
   },
   {
    "duration": 29,
    "start_time": "2023-02-01T07:38:21.223Z"
   },
   {
    "duration": 26,
    "start_time": "2023-02-01T07:38:21.256Z"
   },
   {
    "duration": 33,
    "start_time": "2023-02-01T07:38:21.284Z"
   },
   {
    "duration": 9,
    "start_time": "2023-02-01T07:38:21.320Z"
   },
   {
    "duration": 26,
    "start_time": "2023-02-01T07:38:21.331Z"
   },
   {
    "duration": 12,
    "start_time": "2023-02-01T07:38:21.359Z"
   },
   {
    "duration": 11,
    "start_time": "2023-02-01T07:38:21.372Z"
   },
   {
    "duration": 743,
    "start_time": "2023-02-01T07:38:21.385Z"
   },
   {
    "duration": 481,
    "start_time": "2023-02-01T07:38:22.130Z"
   },
   {
    "duration": 21,
    "start_time": "2023-02-01T07:38:22.613Z"
   },
   {
    "duration": 10,
    "start_time": "2023-02-01T07:38:22.635Z"
   },
   {
    "duration": 16,
    "start_time": "2023-02-01T07:38:22.647Z"
   },
   {
    "duration": 37,
    "start_time": "2023-02-01T07:38:22.664Z"
   },
   {
    "duration": 35,
    "start_time": "2023-02-01T07:38:22.703Z"
   },
   {
    "duration": 27,
    "start_time": "2023-02-01T07:38:22.739Z"
   },
   {
    "duration": 16,
    "start_time": "2023-02-01T07:38:22.767Z"
   },
   {
    "duration": 19,
    "start_time": "2023-02-01T07:38:22.785Z"
   },
   {
    "duration": 21,
    "start_time": "2023-02-01T07:38:22.806Z"
   },
   {
    "duration": 11,
    "start_time": "2023-02-01T07:38:22.829Z"
   },
   {
    "duration": 161,
    "start_time": "2023-02-01T07:38:22.841Z"
   },
   {
    "duration": 25,
    "start_time": "2023-02-01T07:38:23.003Z"
   },
   {
    "duration": 134,
    "start_time": "2023-02-01T07:38:23.029Z"
   },
   {
    "duration": 20,
    "start_time": "2023-02-01T07:38:23.165Z"
   },
   {
    "duration": 24,
    "start_time": "2023-02-01T07:38:23.186Z"
   },
   {
    "duration": 54,
    "start_time": "2023-02-01T07:38:23.228Z"
   },
   {
    "duration": 0,
    "start_time": "2023-02-01T07:38:23.284Z"
   },
   {
    "duration": 908,
    "start_time": "2023-02-01T07:38:42.294Z"
   },
   {
    "duration": 468,
    "start_time": "2023-02-01T07:39:40.777Z"
   },
   {
    "duration": 11,
    "start_time": "2023-02-01T07:40:33.769Z"
   },
   {
    "duration": 12,
    "start_time": "2023-02-01T07:40:59.506Z"
   },
   {
    "duration": 3,
    "start_time": "2023-02-01T07:41:06.934Z"
   },
   {
    "duration": 116,
    "start_time": "2023-02-01T07:41:06.939Z"
   },
   {
    "duration": 37,
    "start_time": "2023-02-01T07:41:07.057Z"
   },
   {
    "duration": 16,
    "start_time": "2023-02-01T07:41:07.095Z"
   },
   {
    "duration": 14,
    "start_time": "2023-02-01T07:41:07.113Z"
   },
   {
    "duration": 39,
    "start_time": "2023-02-01T07:41:07.129Z"
   },
   {
    "duration": 4,
    "start_time": "2023-02-01T07:41:07.170Z"
   },
   {
    "duration": 15,
    "start_time": "2023-02-01T07:41:07.176Z"
   },
   {
    "duration": 23,
    "start_time": "2023-02-01T07:41:07.192Z"
   },
   {
    "duration": 23,
    "start_time": "2023-02-01T07:41:07.227Z"
   },
   {
    "duration": 14,
    "start_time": "2023-02-01T07:41:07.253Z"
   },
   {
    "duration": 16,
    "start_time": "2023-02-01T07:41:07.268Z"
   },
   {
    "duration": 45,
    "start_time": "2023-02-01T07:41:07.286Z"
   },
   {
    "duration": 12,
    "start_time": "2023-02-01T07:41:07.333Z"
   },
   {
    "duration": 20,
    "start_time": "2023-02-01T07:41:07.347Z"
   },
   {
    "duration": 21,
    "start_time": "2023-02-01T07:41:07.369Z"
   },
   {
    "duration": 48,
    "start_time": "2023-02-01T07:41:07.392Z"
   },
   {
    "duration": 19,
    "start_time": "2023-02-01T07:41:07.442Z"
   },
   {
    "duration": 27,
    "start_time": "2023-02-01T07:41:07.463Z"
   },
   {
    "duration": 5,
    "start_time": "2023-02-01T07:41:07.492Z"
   },
   {
    "duration": 5,
    "start_time": "2023-02-01T07:41:07.527Z"
   },
   {
    "duration": 17,
    "start_time": "2023-02-01T07:41:07.534Z"
   },
   {
    "duration": 13,
    "start_time": "2023-02-01T07:41:07.552Z"
   },
   {
    "duration": 8,
    "start_time": "2023-02-01T07:41:07.567Z"
   },
   {
    "duration": 9,
    "start_time": "2023-02-01T07:41:07.577Z"
   },
   {
    "duration": 9,
    "start_time": "2023-02-01T07:41:07.588Z"
   },
   {
    "duration": 20,
    "start_time": "2023-02-01T07:41:07.599Z"
   },
   {
    "duration": 4,
    "start_time": "2023-02-01T07:41:07.627Z"
   },
   {
    "duration": 36,
    "start_time": "2023-02-01T07:41:07.634Z"
   },
   {
    "duration": 14,
    "start_time": "2023-02-01T07:41:07.671Z"
   },
   {
    "duration": 8,
    "start_time": "2023-02-01T07:41:07.687Z"
   },
   {
    "duration": 7,
    "start_time": "2023-02-01T07:41:07.696Z"
   },
   {
    "duration": 26,
    "start_time": "2023-02-01T07:41:07.704Z"
   },
   {
    "duration": 9,
    "start_time": "2023-02-01T07:41:07.732Z"
   },
   {
    "duration": 650,
    "start_time": "2023-02-01T07:41:07.743Z"
   },
   {
    "duration": 507,
    "start_time": "2023-02-01T07:41:08.395Z"
   },
   {
    "duration": 23,
    "start_time": "2023-02-01T07:41:08.904Z"
   },
   {
    "duration": 9,
    "start_time": "2023-02-01T07:41:08.928Z"
   },
   {
    "duration": 9,
    "start_time": "2023-02-01T07:41:08.939Z"
   },
   {
    "duration": 20,
    "start_time": "2023-02-01T07:41:08.950Z"
   },
   {
    "duration": 23,
    "start_time": "2023-02-01T07:41:08.972Z"
   },
   {
    "duration": 49,
    "start_time": "2023-02-01T07:41:08.997Z"
   },
   {
    "duration": 142,
    "start_time": "2023-02-01T07:41:09.048Z"
   },
   {
    "duration": 18,
    "start_time": "2023-02-01T07:41:09.192Z"
   },
   {
    "duration": 3,
    "start_time": "2023-02-01T07:41:09.228Z"
   },
   {
    "duration": 27,
    "start_time": "2023-02-01T07:41:09.232Z"
   },
   {
    "duration": 155,
    "start_time": "2023-02-01T07:41:09.261Z"
   },
   {
    "duration": 18,
    "start_time": "2023-02-01T07:41:09.418Z"
   },
   {
    "duration": 134,
    "start_time": "2023-02-01T07:41:09.438Z"
   },
   {
    "duration": 20,
    "start_time": "2023-02-01T07:41:09.574Z"
   },
   {
    "duration": 34,
    "start_time": "2023-02-01T07:41:09.595Z"
   },
   {
    "duration": 48,
    "start_time": "2023-02-01T07:41:09.631Z"
   },
   {
    "duration": 0,
    "start_time": "2023-02-01T07:41:09.681Z"
   },
   {
    "duration": 4,
    "start_time": "2023-02-01T07:41:38.409Z"
   },
   {
    "duration": 321,
    "start_time": "2023-02-01T07:41:39.517Z"
   },
   {
    "duration": 311,
    "start_time": "2023-02-01T07:41:43.882Z"
   },
   {
    "duration": 16,
    "start_time": "2023-02-01T07:50:05.259Z"
   },
   {
    "duration": 665,
    "start_time": "2023-02-01T07:50:20.603Z"
   },
   {
    "duration": 301,
    "start_time": "2023-02-01T07:50:45.028Z"
   },
   {
    "duration": 11,
    "start_time": "2023-02-01T07:52:17.667Z"
   },
   {
    "duration": 539,
    "start_time": "2023-02-01T07:52:38.379Z"
   },
   {
    "duration": 484,
    "start_time": "2023-02-01T07:52:45.567Z"
   },
   {
    "duration": 21,
    "start_time": "2023-02-01T07:59:17.831Z"
   },
   {
    "duration": 25,
    "start_time": "2023-02-01T07:59:26.325Z"
   },
   {
    "duration": 9,
    "start_time": "2023-02-01T08:00:42.021Z"
   },
   {
    "duration": 7,
    "start_time": "2023-02-01T08:02:01.021Z"
   },
   {
    "duration": 8,
    "start_time": "2023-02-01T08:02:02.333Z"
   },
   {
    "duration": 9,
    "start_time": "2023-02-01T08:02:10.126Z"
   },
   {
    "duration": 35,
    "start_time": "2023-02-01T08:02:15.979Z"
   },
   {
    "duration": 10,
    "start_time": "2023-02-01T08:07:57.750Z"
   },
   {
    "duration": 7,
    "start_time": "2023-02-01T08:08:10.926Z"
   },
   {
    "duration": 8,
    "start_time": "2023-02-01T08:08:38.573Z"
   },
   {
    "duration": 131,
    "start_time": "2023-02-01T08:08:41.569Z"
   },
   {
    "duration": 8,
    "start_time": "2023-02-01T08:10:02.935Z"
   },
   {
    "duration": 34,
    "start_time": "2023-02-01T08:10:14.837Z"
   },
   {
    "duration": 7,
    "start_time": "2023-02-01T08:10:56.683Z"
   },
   {
    "duration": 30,
    "start_time": "2023-02-01T08:10:57.510Z"
   },
   {
    "duration": 9,
    "start_time": "2023-02-01T08:11:10.431Z"
   },
   {
    "duration": 40,
    "start_time": "2023-02-01T08:11:13.815Z"
   },
   {
    "duration": 27,
    "start_time": "2023-02-01T08:11:38.437Z"
   },
   {
    "duration": 36,
    "start_time": "2023-02-01T08:11:39.215Z"
   },
   {
    "duration": 7,
    "start_time": "2023-02-01T08:11:51.616Z"
   },
   {
    "duration": 14,
    "start_time": "2023-02-01T08:11:52.223Z"
   },
   {
    "duration": 6,
    "start_time": "2023-02-01T08:16:14.510Z"
   },
   {
    "duration": 15,
    "start_time": "2023-02-01T08:16:15.230Z"
   },
   {
    "duration": 3,
    "start_time": "2023-02-01T08:16:19.186Z"
   },
   {
    "duration": 126,
    "start_time": "2023-02-01T08:16:19.193Z"
   },
   {
    "duration": 35,
    "start_time": "2023-02-01T08:16:19.321Z"
   },
   {
    "duration": 26,
    "start_time": "2023-02-01T08:16:19.359Z"
   },
   {
    "duration": 43,
    "start_time": "2023-02-01T08:16:19.388Z"
   },
   {
    "duration": 43,
    "start_time": "2023-02-01T08:16:19.433Z"
   },
   {
    "duration": 17,
    "start_time": "2023-02-01T08:16:19.478Z"
   },
   {
    "duration": 38,
    "start_time": "2023-02-01T08:16:19.496Z"
   },
   {
    "duration": 44,
    "start_time": "2023-02-01T08:16:19.536Z"
   },
   {
    "duration": 25,
    "start_time": "2023-02-01T08:16:19.582Z"
   },
   {
    "duration": 15,
    "start_time": "2023-02-01T08:16:19.609Z"
   },
   {
    "duration": 30,
    "start_time": "2023-02-01T08:16:19.625Z"
   },
   {
    "duration": 18,
    "start_time": "2023-02-01T08:16:19.657Z"
   },
   {
    "duration": 27,
    "start_time": "2023-02-01T08:16:19.677Z"
   },
   {
    "duration": 24,
    "start_time": "2023-02-01T08:16:19.706Z"
   },
   {
    "duration": 15,
    "start_time": "2023-02-01T08:16:19.732Z"
   },
   {
    "duration": 37,
    "start_time": "2023-02-01T08:16:19.749Z"
   },
   {
    "duration": 16,
    "start_time": "2023-02-01T08:16:19.787Z"
   },
   {
    "duration": 38,
    "start_time": "2023-02-01T08:16:19.804Z"
   },
   {
    "duration": 7,
    "start_time": "2023-02-01T08:16:19.844Z"
   },
   {
    "duration": 46,
    "start_time": "2023-02-01T08:16:19.853Z"
   },
   {
    "duration": 41,
    "start_time": "2023-02-01T08:16:19.901Z"
   },
   {
    "duration": 17,
    "start_time": "2023-02-01T08:16:19.944Z"
   },
   {
    "duration": 30,
    "start_time": "2023-02-01T08:16:19.963Z"
   },
   {
    "duration": 65,
    "start_time": "2023-02-01T08:16:19.995Z"
   },
   {
    "duration": 37,
    "start_time": "2023-02-01T08:16:20.063Z"
   },
   {
    "duration": 55,
    "start_time": "2023-02-01T08:16:20.101Z"
   },
   {
    "duration": 30,
    "start_time": "2023-02-01T08:16:20.158Z"
   },
   {
    "duration": 69,
    "start_time": "2023-02-01T08:16:20.191Z"
   },
   {
    "duration": 63,
    "start_time": "2023-02-01T08:16:20.263Z"
   },
   {
    "duration": 40,
    "start_time": "2023-02-01T08:16:20.327Z"
   },
   {
    "duration": 34,
    "start_time": "2023-02-01T08:16:20.369Z"
   },
   {
    "duration": 31,
    "start_time": "2023-02-01T08:16:20.404Z"
   },
   {
    "duration": 26,
    "start_time": "2023-02-01T08:16:20.437Z"
   },
   {
    "duration": 674,
    "start_time": "2023-02-01T08:16:20.464Z"
   },
   {
    "duration": 503,
    "start_time": "2023-02-01T08:16:21.140Z"
   },
   {
    "duration": 22,
    "start_time": "2023-02-01T08:16:21.645Z"
   },
   {
    "duration": 21,
    "start_time": "2023-02-01T08:16:21.669Z"
   },
   {
    "duration": 42,
    "start_time": "2023-02-01T08:16:21.691Z"
   },
   {
    "duration": 52,
    "start_time": "2023-02-01T08:16:21.734Z"
   },
   {
    "duration": 47,
    "start_time": "2023-02-01T08:16:21.788Z"
   },
   {
    "duration": 32,
    "start_time": "2023-02-01T08:16:21.837Z"
   },
   {
    "duration": 15,
    "start_time": "2023-02-01T08:16:21.871Z"
   },
   {
    "duration": 36,
    "start_time": "2023-02-01T08:16:21.888Z"
   },
   {
    "duration": 10,
    "start_time": "2023-02-01T08:16:21.925Z"
   },
   {
    "duration": 32,
    "start_time": "2023-02-01T08:16:21.937Z"
   },
   {
    "duration": 177,
    "start_time": "2023-02-01T08:16:21.970Z"
   },
   {
    "duration": 13,
    "start_time": "2023-02-01T08:16:22.149Z"
   },
   {
    "duration": 249,
    "start_time": "2023-02-01T08:16:22.164Z"
   },
   {
    "duration": 25,
    "start_time": "2023-02-01T08:16:22.415Z"
   },
   {
    "duration": 45,
    "start_time": "2023-02-01T08:16:22.442Z"
   },
   {
    "duration": 12,
    "start_time": "2023-02-01T08:16:22.488Z"
   },
   {
    "duration": 541,
    "start_time": "2023-02-01T08:16:22.503Z"
   },
   {
    "duration": 17,
    "start_time": "2023-02-01T08:16:23.046Z"
   },
   {
    "duration": 20,
    "start_time": "2023-02-01T08:16:23.065Z"
   },
   {
    "duration": 18,
    "start_time": "2023-02-01T08:16:23.087Z"
   },
   {
    "duration": 37,
    "start_time": "2023-02-01T08:16:23.107Z"
   },
   {
    "duration": 39,
    "start_time": "2023-02-01T08:16:23.146Z"
   },
   {
    "duration": 25,
    "start_time": "2023-02-01T08:16:23.186Z"
   },
   {
    "duration": 36,
    "start_time": "2023-02-01T08:16:23.213Z"
   },
   {
    "duration": 59,
    "start_time": "2023-02-01T08:16:23.250Z"
   },
   {
    "duration": 5,
    "start_time": "2023-02-01T08:16:23.311Z"
   },
   {
    "duration": 37,
    "start_time": "2023-02-01T08:16:23.318Z"
   },
   {
    "duration": 15,
    "start_time": "2023-02-01T08:16:26.514Z"
   },
   {
    "duration": 8,
    "start_time": "2023-02-01T08:16:37.550Z"
   },
   {
    "duration": 33,
    "start_time": "2023-02-01T08:16:38.484Z"
   },
   {
    "duration": 5,
    "start_time": "2023-02-01T08:16:57.967Z"
   },
   {
    "duration": 2,
    "start_time": "2023-02-01T08:17:03.110Z"
   },
   {
    "duration": 106,
    "start_time": "2023-02-01T08:17:03.115Z"
   },
   {
    "duration": 38,
    "start_time": "2023-02-01T08:17:03.223Z"
   },
   {
    "duration": 16,
    "start_time": "2023-02-01T08:17:03.263Z"
   },
   {
    "duration": 26,
    "start_time": "2023-02-01T08:17:03.281Z"
   },
   {
    "duration": 48,
    "start_time": "2023-02-01T08:17:03.309Z"
   },
   {
    "duration": 20,
    "start_time": "2023-02-01T08:17:03.358Z"
   },
   {
    "duration": 20,
    "start_time": "2023-02-01T08:17:03.380Z"
   },
   {
    "duration": 38,
    "start_time": "2023-02-01T08:17:03.402Z"
   },
   {
    "duration": 27,
    "start_time": "2023-02-01T08:17:03.442Z"
   },
   {
    "duration": 14,
    "start_time": "2023-02-01T08:17:03.471Z"
   },
   {
    "duration": 27,
    "start_time": "2023-02-01T08:17:03.487Z"
   },
   {
    "duration": 22,
    "start_time": "2023-02-01T08:17:03.516Z"
   },
   {
    "duration": 18,
    "start_time": "2023-02-01T08:17:03.540Z"
   },
   {
    "duration": 18,
    "start_time": "2023-02-01T08:17:03.559Z"
   },
   {
    "duration": 21,
    "start_time": "2023-02-01T08:17:03.579Z"
   },
   {
    "duration": 34,
    "start_time": "2023-02-01T08:17:03.602Z"
   },
   {
    "duration": 41,
    "start_time": "2023-02-01T08:17:03.638Z"
   },
   {
    "duration": 32,
    "start_time": "2023-02-01T08:17:03.680Z"
   },
   {
    "duration": 7,
    "start_time": "2023-02-01T08:17:03.713Z"
   },
   {
    "duration": 24,
    "start_time": "2023-02-01T08:17:03.722Z"
   },
   {
    "duration": 16,
    "start_time": "2023-02-01T08:17:03.748Z"
   },
   {
    "duration": 32,
    "start_time": "2023-02-01T08:17:03.766Z"
   },
   {
    "duration": 16,
    "start_time": "2023-02-01T08:17:03.800Z"
   },
   {
    "duration": 22,
    "start_time": "2023-02-01T08:17:03.818Z"
   },
   {
    "duration": 23,
    "start_time": "2023-02-01T08:17:03.842Z"
   },
   {
    "duration": 39,
    "start_time": "2023-02-01T08:17:03.867Z"
   },
   {
    "duration": 28,
    "start_time": "2023-02-01T08:17:03.908Z"
   },
   {
    "duration": 51,
    "start_time": "2023-02-01T08:17:03.940Z"
   },
   {
    "duration": 21,
    "start_time": "2023-02-01T08:17:03.993Z"
   },
   {
    "duration": 24,
    "start_time": "2023-02-01T08:17:04.016Z"
   },
   {
    "duration": 20,
    "start_time": "2023-02-01T08:17:04.042Z"
   },
   {
    "duration": 41,
    "start_time": "2023-02-01T08:17:04.064Z"
   },
   {
    "duration": 22,
    "start_time": "2023-02-01T08:17:04.107Z"
   },
   {
    "duration": 626,
    "start_time": "2023-02-01T08:17:04.131Z"
   },
   {
    "duration": 632,
    "start_time": "2023-02-01T08:17:04.759Z"
   },
   {
    "duration": 17,
    "start_time": "2023-02-01T08:17:05.393Z"
   },
   {
    "duration": 30,
    "start_time": "2023-02-01T08:17:05.412Z"
   },
   {
    "duration": 18,
    "start_time": "2023-02-01T08:17:05.443Z"
   },
   {
    "duration": 32,
    "start_time": "2023-02-01T08:17:05.463Z"
   },
   {
    "duration": 45,
    "start_time": "2023-02-01T08:17:05.497Z"
   },
   {
    "duration": 25,
    "start_time": "2023-02-01T08:17:05.543Z"
   },
   {
    "duration": 67,
    "start_time": "2023-02-01T08:17:05.569Z"
   },
   {
    "duration": 39,
    "start_time": "2023-02-01T08:17:05.637Z"
   },
   {
    "duration": 12,
    "start_time": "2023-02-01T08:17:05.677Z"
   },
   {
    "duration": 18,
    "start_time": "2023-02-01T08:17:05.690Z"
   },
   {
    "duration": 179,
    "start_time": "2023-02-01T08:17:05.710Z"
   },
   {
    "duration": 14,
    "start_time": "2023-02-01T08:17:05.891Z"
   },
   {
    "duration": 141,
    "start_time": "2023-02-01T08:17:05.906Z"
   },
   {
    "duration": 19,
    "start_time": "2023-02-01T08:17:06.048Z"
   },
   {
    "duration": 21,
    "start_time": "2023-02-01T08:17:06.069Z"
   },
   {
    "duration": 9,
    "start_time": "2023-02-01T08:17:06.092Z"
   },
   {
    "duration": 714,
    "start_time": "2023-02-01T08:17:06.103Z"
   },
   {
    "duration": 20,
    "start_time": "2023-02-01T08:17:06.819Z"
   },
   {
    "duration": 17,
    "start_time": "2023-02-01T08:17:06.840Z"
   },
   {
    "duration": 21,
    "start_time": "2023-02-01T08:17:06.859Z"
   },
   {
    "duration": 36,
    "start_time": "2023-02-01T08:17:06.882Z"
   },
   {
    "duration": 34,
    "start_time": "2023-02-01T08:17:06.919Z"
   },
   {
    "duration": 8,
    "start_time": "2023-02-01T08:17:06.955Z"
   },
   {
    "duration": 22,
    "start_time": "2023-02-01T08:17:06.965Z"
   },
   {
    "duration": 63,
    "start_time": "2023-02-01T08:17:06.989Z"
   },
   {
    "duration": 7,
    "start_time": "2023-02-01T08:17:07.054Z"
   },
   {
    "duration": 5,
    "start_time": "2023-02-01T08:17:08.893Z"
   },
   {
    "duration": 13,
    "start_time": "2023-02-01T08:17:09.405Z"
   },
   {
    "duration": 4,
    "start_time": "2023-02-01T08:17:46.180Z"
   },
   {
    "duration": 102,
    "start_time": "2023-02-01T08:17:46.187Z"
   },
   {
    "duration": 37,
    "start_time": "2023-02-01T08:17:46.291Z"
   },
   {
    "duration": 16,
    "start_time": "2023-02-01T08:17:46.329Z"
   },
   {
    "duration": 25,
    "start_time": "2023-02-01T08:17:46.347Z"
   },
   {
    "duration": 39,
    "start_time": "2023-02-01T08:17:46.373Z"
   },
   {
    "duration": 5,
    "start_time": "2023-02-01T08:17:46.414Z"
   },
   {
    "duration": 8,
    "start_time": "2023-02-01T08:17:46.427Z"
   },
   {
    "duration": 21,
    "start_time": "2023-02-01T08:17:46.437Z"
   },
   {
    "duration": 23,
    "start_time": "2023-02-01T08:17:46.460Z"
   },
   {
    "duration": 48,
    "start_time": "2023-02-01T08:17:46.487Z"
   },
   {
    "duration": 16,
    "start_time": "2023-02-01T08:17:46.536Z"
   },
   {
    "duration": 25,
    "start_time": "2023-02-01T08:17:46.553Z"
   },
   {
    "duration": 15,
    "start_time": "2023-02-01T08:17:46.580Z"
   },
   {
    "duration": 35,
    "start_time": "2023-02-01T08:17:46.597Z"
   },
   {
    "duration": 14,
    "start_time": "2023-02-01T08:17:46.634Z"
   },
   {
    "duration": 20,
    "start_time": "2023-02-01T08:17:46.650Z"
   },
   {
    "duration": 20,
    "start_time": "2023-02-01T08:17:46.671Z"
   },
   {
    "duration": 35,
    "start_time": "2023-02-01T08:17:46.693Z"
   },
   {
    "duration": 6,
    "start_time": "2023-02-01T08:17:46.730Z"
   },
   {
    "duration": 5,
    "start_time": "2023-02-01T08:17:46.737Z"
   },
   {
    "duration": 6,
    "start_time": "2023-02-01T08:17:46.744Z"
   },
   {
    "duration": 24,
    "start_time": "2023-02-01T08:17:46.751Z"
   },
   {
    "duration": 8,
    "start_time": "2023-02-01T08:17:46.776Z"
   },
   {
    "duration": 9,
    "start_time": "2023-02-01T08:17:46.785Z"
   },
   {
    "duration": 8,
    "start_time": "2023-02-01T08:17:46.796Z"
   },
   {
    "duration": 28,
    "start_time": "2023-02-01T08:17:46.806Z"
   },
   {
    "duration": 3,
    "start_time": "2023-02-01T08:17:46.835Z"
   },
   {
    "duration": 31,
    "start_time": "2023-02-01T08:17:46.841Z"
   },
   {
    "duration": 13,
    "start_time": "2023-02-01T08:17:46.873Z"
   },
   {
    "duration": 9,
    "start_time": "2023-02-01T08:17:46.889Z"
   },
   {
    "duration": 14,
    "start_time": "2023-02-01T08:17:46.899Z"
   },
   {
    "duration": 18,
    "start_time": "2023-02-01T08:17:46.914Z"
   },
   {
    "duration": 7,
    "start_time": "2023-02-01T08:17:46.934Z"
   },
   {
    "duration": 635,
    "start_time": "2023-02-01T08:17:46.943Z"
   },
   {
    "duration": 618,
    "start_time": "2023-02-01T08:17:47.580Z"
   },
   {
    "duration": 16,
    "start_time": "2023-02-01T08:17:48.199Z"
   },
   {
    "duration": 7,
    "start_time": "2023-02-01T08:17:48.227Z"
   },
   {
    "duration": 13,
    "start_time": "2023-02-01T08:17:48.236Z"
   },
   {
    "duration": 25,
    "start_time": "2023-02-01T08:17:48.251Z"
   },
   {
    "duration": 28,
    "start_time": "2023-02-01T08:17:48.278Z"
   },
   {
    "duration": 30,
    "start_time": "2023-02-01T08:17:48.308Z"
   },
   {
    "duration": 15,
    "start_time": "2023-02-01T08:17:48.340Z"
   },
   {
    "duration": 18,
    "start_time": "2023-02-01T08:17:48.356Z"
   },
   {
    "duration": 2,
    "start_time": "2023-02-01T08:17:48.376Z"
   },
   {
    "duration": 20,
    "start_time": "2023-02-01T08:17:48.380Z"
   },
   {
    "duration": 155,
    "start_time": "2023-02-01T08:17:48.402Z"
   },
   {
    "duration": 13,
    "start_time": "2023-02-01T08:17:48.558Z"
   },
   {
    "duration": 137,
    "start_time": "2023-02-01T08:17:48.572Z"
   },
   {
    "duration": 23,
    "start_time": "2023-02-01T08:17:48.710Z"
   },
   {
    "duration": 17,
    "start_time": "2023-02-01T08:17:48.734Z"
   },
   {
    "duration": 5,
    "start_time": "2023-02-01T08:17:48.754Z"
   },
   {
    "duration": 558,
    "start_time": "2023-02-01T08:17:48.761Z"
   },
   {
    "duration": 17,
    "start_time": "2023-02-01T08:17:49.321Z"
   },
   {
    "duration": 20,
    "start_time": "2023-02-01T08:17:49.340Z"
   },
   {
    "duration": 13,
    "start_time": "2023-02-01T08:17:49.362Z"
   },
   {
    "duration": 20,
    "start_time": "2023-02-01T08:17:49.376Z"
   },
   {
    "duration": 16,
    "start_time": "2023-02-01T08:17:49.397Z"
   },
   {
    "duration": 18,
    "start_time": "2023-02-01T08:17:49.415Z"
   },
   {
    "duration": 13,
    "start_time": "2023-02-01T08:17:49.434Z"
   },
   {
    "duration": 15,
    "start_time": "2023-02-01T08:17:49.448Z"
   },
   {
    "duration": 8,
    "start_time": "2023-02-01T08:17:49.464Z"
   },
   {
    "duration": 12,
    "start_time": "2023-02-01T08:17:49.474Z"
   },
   {
    "duration": 3,
    "start_time": "2023-02-01T08:18:12.644Z"
   },
   {
    "duration": 92,
    "start_time": "2023-02-01T08:18:12.650Z"
   },
   {
    "duration": 36,
    "start_time": "2023-02-01T08:18:12.743Z"
   },
   {
    "duration": 13,
    "start_time": "2023-02-01T08:18:12.781Z"
   },
   {
    "duration": 10,
    "start_time": "2023-02-01T08:18:12.796Z"
   },
   {
    "duration": 22,
    "start_time": "2023-02-01T08:18:12.807Z"
   },
   {
    "duration": 4,
    "start_time": "2023-02-01T08:18:12.831Z"
   },
   {
    "duration": 13,
    "start_time": "2023-02-01T08:18:12.836Z"
   },
   {
    "duration": 19,
    "start_time": "2023-02-01T08:18:12.851Z"
   },
   {
    "duration": 21,
    "start_time": "2023-02-01T08:18:12.872Z"
   },
   {
    "duration": 44,
    "start_time": "2023-02-01T08:18:12.895Z"
   },
   {
    "duration": 15,
    "start_time": "2023-02-01T08:18:12.940Z"
   },
   {
    "duration": 21,
    "start_time": "2023-02-01T08:18:12.957Z"
   },
   {
    "duration": 23,
    "start_time": "2023-02-01T08:18:12.979Z"
   },
   {
    "duration": 16,
    "start_time": "2023-02-01T08:18:13.003Z"
   },
   {
    "duration": 14,
    "start_time": "2023-02-01T08:18:13.027Z"
   },
   {
    "duration": 16,
    "start_time": "2023-02-01T08:18:13.042Z"
   },
   {
    "duration": 18,
    "start_time": "2023-02-01T08:18:13.059Z"
   },
   {
    "duration": 18,
    "start_time": "2023-02-01T08:18:13.078Z"
   },
   {
    "duration": 31,
    "start_time": "2023-02-01T08:18:13.097Z"
   },
   {
    "duration": 6,
    "start_time": "2023-02-01T08:18:13.129Z"
   },
   {
    "duration": 10,
    "start_time": "2023-02-01T08:18:13.136Z"
   },
   {
    "duration": 12,
    "start_time": "2023-02-01T08:18:13.147Z"
   },
   {
    "duration": 9,
    "start_time": "2023-02-01T08:18:13.160Z"
   },
   {
    "duration": 11,
    "start_time": "2023-02-01T08:18:13.171Z"
   },
   {
    "duration": 18,
    "start_time": "2023-02-01T08:18:13.184Z"
   },
   {
    "duration": 19,
    "start_time": "2023-02-01T08:18:13.204Z"
   },
   {
    "duration": 8,
    "start_time": "2023-02-01T08:18:13.227Z"
   },
   {
    "duration": 23,
    "start_time": "2023-02-01T08:18:13.239Z"
   },
   {
    "duration": 31,
    "start_time": "2023-02-01T08:18:13.263Z"
   },
   {
    "duration": 8,
    "start_time": "2023-02-01T08:18:13.295Z"
   },
   {
    "duration": 12,
    "start_time": "2023-02-01T08:18:13.305Z"
   },
   {
    "duration": 11,
    "start_time": "2023-02-01T08:18:13.319Z"
   },
   {
    "duration": 7,
    "start_time": "2023-02-01T08:18:13.331Z"
   },
   {
    "duration": 730,
    "start_time": "2023-02-01T08:18:13.340Z"
   },
   {
    "duration": 489,
    "start_time": "2023-02-01T08:18:14.072Z"
   },
   {
    "duration": 16,
    "start_time": "2023-02-01T08:18:14.563Z"
   },
   {
    "duration": 8,
    "start_time": "2023-02-01T08:18:14.580Z"
   },
   {
    "duration": 10,
    "start_time": "2023-02-01T08:18:14.590Z"
   },
   {
    "duration": 37,
    "start_time": "2023-02-01T08:18:14.602Z"
   },
   {
    "duration": 28,
    "start_time": "2023-02-01T08:18:14.641Z"
   },
   {
    "duration": 28,
    "start_time": "2023-02-01T08:18:14.671Z"
   },
   {
    "duration": 33,
    "start_time": "2023-02-01T08:18:14.701Z"
   },
   {
    "duration": 17,
    "start_time": "2023-02-01T08:18:14.736Z"
   },
   {
    "duration": 3,
    "start_time": "2023-02-01T08:18:14.754Z"
   },
   {
    "duration": 14,
    "start_time": "2023-02-01T08:18:14.758Z"
   },
   {
    "duration": 167,
    "start_time": "2023-02-01T08:18:14.774Z"
   },
   {
    "duration": 13,
    "start_time": "2023-02-01T08:18:14.943Z"
   },
   {
    "duration": 134,
    "start_time": "2023-02-01T08:18:14.957Z"
   },
   {
    "duration": 20,
    "start_time": "2023-02-01T08:18:15.092Z"
   },
   {
    "duration": 29,
    "start_time": "2023-02-01T08:18:15.114Z"
   },
   {
    "duration": 4,
    "start_time": "2023-02-01T08:18:15.145Z"
   },
   {
    "duration": 494,
    "start_time": "2023-02-01T08:18:15.150Z"
   },
   {
    "duration": 15,
    "start_time": "2023-02-01T08:18:15.646Z"
   },
   {
    "duration": 40,
    "start_time": "2023-02-01T08:18:15.663Z"
   },
   {
    "duration": 38,
    "start_time": "2023-02-01T08:18:15.704Z"
   },
   {
    "duration": 43,
    "start_time": "2023-02-01T08:18:15.743Z"
   },
   {
    "duration": 49,
    "start_time": "2023-02-01T08:18:15.787Z"
   },
   {
    "duration": 29,
    "start_time": "2023-02-01T08:18:15.837Z"
   },
   {
    "duration": 7,
    "start_time": "2023-02-01T08:18:19.077Z"
   },
   {
    "duration": 33,
    "start_time": "2023-02-01T08:18:19.645Z"
   },
   {
    "duration": 3,
    "start_time": "2023-02-01T08:19:50.662Z"
   },
   {
    "duration": 124,
    "start_time": "2023-02-01T08:19:50.668Z"
   },
   {
    "duration": 35,
    "start_time": "2023-02-01T08:19:50.794Z"
   },
   {
    "duration": 13,
    "start_time": "2023-02-01T08:19:50.831Z"
   },
   {
    "duration": 30,
    "start_time": "2023-02-01T08:19:50.846Z"
   },
   {
    "duration": 38,
    "start_time": "2023-02-01T08:19:50.877Z"
   },
   {
    "duration": 24,
    "start_time": "2023-02-01T08:19:50.917Z"
   },
   {
    "duration": 29,
    "start_time": "2023-02-01T08:19:50.943Z"
   },
   {
    "duration": 46,
    "start_time": "2023-02-01T08:19:50.974Z"
   },
   {
    "duration": 41,
    "start_time": "2023-02-01T08:19:51.022Z"
   },
   {
    "duration": 20,
    "start_time": "2023-02-01T08:19:51.065Z"
   },
   {
    "duration": 26,
    "start_time": "2023-02-01T08:19:51.087Z"
   },
   {
    "duration": 43,
    "start_time": "2023-02-01T08:19:51.114Z"
   },
   {
    "duration": 31,
    "start_time": "2023-02-01T08:19:51.159Z"
   },
   {
    "duration": 27,
    "start_time": "2023-02-01T08:19:51.192Z"
   },
   {
    "duration": 16,
    "start_time": "2023-02-01T08:19:51.221Z"
   },
   {
    "duration": 25,
    "start_time": "2023-02-01T08:19:51.239Z"
   },
   {
    "duration": 13,
    "start_time": "2023-02-01T08:19:51.266Z"
   },
   {
    "duration": 20,
    "start_time": "2023-02-01T08:19:51.281Z"
   },
   {
    "duration": 5,
    "start_time": "2023-02-01T08:19:51.303Z"
   },
   {
    "duration": 20,
    "start_time": "2023-02-01T08:19:51.309Z"
   },
   {
    "duration": 47,
    "start_time": "2023-02-01T08:19:51.330Z"
   },
   {
    "duration": 26,
    "start_time": "2023-02-01T08:19:51.378Z"
   },
   {
    "duration": 49,
    "start_time": "2023-02-01T08:19:51.406Z"
   },
   {
    "duration": 32,
    "start_time": "2023-02-01T08:19:51.456Z"
   },
   {
    "duration": 62,
    "start_time": "2023-02-01T08:19:51.490Z"
   },
   {
    "duration": 53,
    "start_time": "2023-02-01T08:19:51.553Z"
   },
   {
    "duration": 46,
    "start_time": "2023-02-01T08:19:51.608Z"
   },
   {
    "duration": 76,
    "start_time": "2023-02-01T08:19:51.657Z"
   },
   {
    "duration": 45,
    "start_time": "2023-02-01T08:19:51.735Z"
   },
   {
    "duration": 40,
    "start_time": "2023-02-01T08:19:51.781Z"
   },
   {
    "duration": 58,
    "start_time": "2023-02-01T08:19:51.823Z"
   },
   {
    "duration": 34,
    "start_time": "2023-02-01T08:19:51.882Z"
   },
   {
    "duration": 51,
    "start_time": "2023-02-01T08:19:51.917Z"
   },
   {
    "duration": 784,
    "start_time": "2023-02-01T08:19:51.970Z"
   },
   {
    "duration": 494,
    "start_time": "2023-02-01T08:19:52.755Z"
   },
   {
    "duration": 16,
    "start_time": "2023-02-01T08:19:53.251Z"
   },
   {
    "duration": 36,
    "start_time": "2023-02-01T08:19:53.268Z"
   },
   {
    "duration": 59,
    "start_time": "2023-02-01T08:19:53.305Z"
   },
   {
    "duration": 32,
    "start_time": "2023-02-01T08:19:53.365Z"
   },
   {
    "duration": 44,
    "start_time": "2023-02-01T08:19:53.398Z"
   },
   {
    "duration": 25,
    "start_time": "2023-02-01T08:19:53.444Z"
   },
   {
    "duration": 14,
    "start_time": "2023-02-01T08:19:53.471Z"
   },
   {
    "duration": 17,
    "start_time": "2023-02-01T08:19:53.487Z"
   },
   {
    "duration": 5,
    "start_time": "2023-02-01T08:19:53.505Z"
   },
   {
    "duration": 43,
    "start_time": "2023-02-01T08:19:53.511Z"
   },
   {
    "duration": 161,
    "start_time": "2023-02-01T08:19:53.555Z"
   },
   {
    "duration": 13,
    "start_time": "2023-02-01T08:19:53.718Z"
   },
   {
    "duration": 131,
    "start_time": "2023-02-01T08:19:53.732Z"
   },
   {
    "duration": 18,
    "start_time": "2023-02-01T08:19:53.864Z"
   },
   {
    "duration": 25,
    "start_time": "2023-02-01T08:19:53.884Z"
   },
   {
    "duration": 17,
    "start_time": "2023-02-01T08:19:53.911Z"
   },
   {
    "duration": 637,
    "start_time": "2023-02-01T08:19:53.930Z"
   },
   {
    "duration": 15,
    "start_time": "2023-02-01T08:19:54.568Z"
   },
   {
    "duration": 30,
    "start_time": "2023-02-01T08:19:54.585Z"
   },
   {
    "duration": 21,
    "start_time": "2023-02-01T08:19:54.617Z"
   },
   {
    "duration": 63,
    "start_time": "2023-02-01T08:19:54.640Z"
   },
   {
    "duration": 17,
    "start_time": "2023-02-01T08:19:54.705Z"
   },
   {
    "duration": 17,
    "start_time": "2023-02-01T08:19:54.723Z"
   },
   {
    "duration": 25,
    "start_time": "2023-02-01T08:19:54.742Z"
   },
   {
    "duration": 37,
    "start_time": "2023-02-01T08:19:54.768Z"
   },
   {
    "duration": 37,
    "start_time": "2023-02-01T08:19:56.630Z"
   },
   {
    "duration": 8,
    "start_time": "2023-02-01T08:19:59.011Z"
   },
   {
    "duration": 39,
    "start_time": "2023-02-01T08:20:00.487Z"
   },
   {
    "duration": 8,
    "start_time": "2023-02-01T08:21:45.984Z"
   },
   {
    "duration": 13,
    "start_time": "2023-02-01T08:21:53.912Z"
   },
   {
    "duration": 21,
    "start_time": "2023-02-01T08:24:07.137Z"
   },
   {
    "duration": 17,
    "start_time": "2023-02-01T08:24:49.033Z"
   },
   {
    "duration": 47,
    "start_time": "2023-02-01T08:57:57.091Z"
   },
   {
    "duration": 54,
    "start_time": "2023-02-01T08:58:05.250Z"
   },
   {
    "duration": 73,
    "start_time": "2023-02-01T08:58:17.536Z"
   },
   {
    "duration": 382,
    "start_time": "2023-02-01T16:01:46.496Z"
   },
   {
    "duration": 606,
    "start_time": "2023-02-01T16:01:46.881Z"
   },
   {
    "duration": 64,
    "start_time": "2023-02-01T16:01:47.489Z"
   },
   {
    "duration": 15,
    "start_time": "2023-02-01T16:01:47.555Z"
   },
   {
    "duration": 19,
    "start_time": "2023-02-01T16:01:47.572Z"
   },
   {
    "duration": 26,
    "start_time": "2023-02-01T16:01:47.593Z"
   },
   {
    "duration": 5,
    "start_time": "2023-02-01T16:01:47.621Z"
   },
   {
    "duration": 21,
    "start_time": "2023-02-01T16:01:47.627Z"
   },
   {
    "duration": 22,
    "start_time": "2023-02-01T16:01:47.656Z"
   },
   {
    "duration": 21,
    "start_time": "2023-02-01T16:01:47.679Z"
   },
   {
    "duration": 16,
    "start_time": "2023-02-01T16:01:47.702Z"
   },
   {
    "duration": 21,
    "start_time": "2023-02-01T16:01:47.740Z"
   },
   {
    "duration": 34,
    "start_time": "2023-02-01T16:01:47.771Z"
   },
   {
    "duration": 10,
    "start_time": "2023-02-01T16:01:47.808Z"
   },
   {
    "duration": 34,
    "start_time": "2023-02-01T16:01:47.819Z"
   },
   {
    "duration": 18,
    "start_time": "2023-02-01T16:01:47.855Z"
   },
   {
    "duration": 18,
    "start_time": "2023-02-01T16:01:47.875Z"
   },
   {
    "duration": 14,
    "start_time": "2023-02-01T16:01:47.895Z"
   },
   {
    "duration": 55,
    "start_time": "2023-02-01T16:01:47.911Z"
   },
   {
    "duration": 5,
    "start_time": "2023-02-01T16:01:47.968Z"
   },
   {
    "duration": 19,
    "start_time": "2023-02-01T16:01:47.975Z"
   },
   {
    "duration": 13,
    "start_time": "2023-02-01T16:01:47.996Z"
   },
   {
    "duration": 28,
    "start_time": "2023-02-01T16:01:48.011Z"
   },
   {
    "duration": 28,
    "start_time": "2023-02-01T16:01:48.041Z"
   },
   {
    "duration": 22,
    "start_time": "2023-02-01T16:01:48.070Z"
   },
   {
    "duration": 16,
    "start_time": "2023-02-01T16:01:48.094Z"
   },
   {
    "duration": 26,
    "start_time": "2023-02-01T16:01:48.112Z"
   },
   {
    "duration": 12,
    "start_time": "2023-02-01T16:01:48.140Z"
   },
   {
    "duration": 48,
    "start_time": "2023-02-01T16:01:48.154Z"
   },
   {
    "duration": 14,
    "start_time": "2023-02-01T16:01:48.204Z"
   },
   {
    "duration": 27,
    "start_time": "2023-02-01T16:01:48.220Z"
   },
   {
    "duration": 23,
    "start_time": "2023-02-01T16:01:48.251Z"
   },
   {
    "duration": 12,
    "start_time": "2023-02-01T16:01:48.276Z"
   },
   {
    "duration": 19,
    "start_time": "2023-02-01T16:01:48.290Z"
   },
   {
    "duration": 1268,
    "start_time": "2023-02-01T16:01:48.311Z"
   },
   {
    "duration": 509,
    "start_time": "2023-02-01T16:01:49.582Z"
   },
   {
    "duration": 17,
    "start_time": "2023-02-01T16:01:50.093Z"
   },
   {
    "duration": 27,
    "start_time": "2023-02-01T16:01:50.111Z"
   },
   {
    "duration": 23,
    "start_time": "2023-02-01T16:01:50.148Z"
   },
   {
    "duration": 42,
    "start_time": "2023-02-01T16:01:50.173Z"
   },
   {
    "duration": 42,
    "start_time": "2023-02-01T16:01:50.219Z"
   },
   {
    "duration": 29,
    "start_time": "2023-02-01T16:01:50.262Z"
   },
   {
    "duration": 15,
    "start_time": "2023-02-01T16:01:50.293Z"
   },
   {
    "duration": 44,
    "start_time": "2023-02-01T16:01:50.309Z"
   },
   {
    "duration": 3,
    "start_time": "2023-02-01T16:01:50.355Z"
   },
   {
    "duration": 17,
    "start_time": "2023-02-01T16:01:50.360Z"
   },
   {
    "duration": 155,
    "start_time": "2023-02-01T16:01:50.379Z"
   },
   {
    "duration": 23,
    "start_time": "2023-02-01T16:01:50.548Z"
   },
   {
    "duration": 181,
    "start_time": "2023-02-01T16:01:50.573Z"
   },
   {
    "duration": 24,
    "start_time": "2023-02-01T16:01:50.756Z"
   },
   {
    "duration": 24,
    "start_time": "2023-02-01T16:01:50.782Z"
   },
   {
    "duration": 597,
    "start_time": "2023-02-01T16:01:50.809Z"
   },
   {
    "duration": 574,
    "start_time": "2023-02-01T16:01:51.408Z"
   },
   {
    "duration": 14,
    "start_time": "2023-02-01T16:01:51.984Z"
   },
   {
    "duration": 8,
    "start_time": "2023-02-01T16:01:51.999Z"
   },
   {
    "duration": 18,
    "start_time": "2023-02-01T16:01:52.009Z"
   },
   {
    "duration": 23,
    "start_time": "2023-02-01T16:01:52.041Z"
   },
   {
    "duration": 22,
    "start_time": "2023-02-01T16:01:52.066Z"
   },
   {
    "duration": 9,
    "start_time": "2023-02-01T16:01:52.090Z"
   },
   {
    "duration": 28,
    "start_time": "2023-02-01T16:01:52.100Z"
   },
   {
    "duration": 59,
    "start_time": "2023-02-01T16:01:52.130Z"
   },
   {
    "duration": 9,
    "start_time": "2023-02-01T16:01:52.191Z"
   },
   {
    "duration": 54,
    "start_time": "2023-02-01T16:01:52.202Z"
   },
   {
    "duration": 25,
    "start_time": "2023-02-01T16:01:52.257Z"
   },
   {
    "duration": 22,
    "start_time": "2023-02-01T16:01:52.285Z"
   },
   {
    "duration": 43,
    "start_time": "2023-02-01T16:01:52.309Z"
   },
   {
    "duration": 24,
    "start_time": "2023-02-01T16:01:52.354Z"
   },
   {
    "duration": 14,
    "start_time": "2023-02-01T16:01:52.380Z"
   },
   {
    "duration": 14,
    "start_time": "2023-02-01T16:01:52.396Z"
   },
   {
    "duration": 50,
    "start_time": "2023-02-01T16:01:52.412Z"
   },
   {
    "duration": 6,
    "start_time": "2023-02-01T16:01:52.463Z"
   },
   {
    "duration": 16,
    "start_time": "2023-02-01T16:01:52.470Z"
   },
   {
    "duration": 10,
    "start_time": "2023-02-01T16:01:52.488Z"
   },
   {
    "duration": 654,
    "start_time": "2023-02-01T16:01:52.500Z"
   },
   {
    "duration": 734,
    "start_time": "2023-02-01T16:01:53.156Z"
   },
   {
    "duration": 8,
    "start_time": "2023-02-01T16:01:53.892Z"
   },
   {
    "duration": 390,
    "start_time": "2023-02-01T16:01:53.901Z"
   },
   {
    "duration": 113,
    "start_time": "2023-02-01T16:06:14.966Z"
   },
   {
    "duration": 21,
    "start_time": "2023-02-01T16:06:28.917Z"
   },
   {
    "duration": 7,
    "start_time": "2023-02-01T16:10:37.553Z"
   },
   {
    "duration": 212,
    "start_time": "2023-02-01T16:14:02.099Z"
   },
   {
    "duration": 288,
    "start_time": "2023-02-01T16:14:22.399Z"
   },
   {
    "duration": 690,
    "start_time": "2023-02-01T16:18:22.029Z"
   },
   {
    "duration": 154,
    "start_time": "2023-02-01T16:19:00.904Z"
   },
   {
    "duration": 265,
    "start_time": "2023-02-01T16:19:10.514Z"
   },
   {
    "duration": 259,
    "start_time": "2023-02-01T16:19:26.709Z"
   },
   {
    "duration": 23,
    "start_time": "2023-02-01T16:19:38.930Z"
   },
   {
    "duration": 268,
    "start_time": "2023-02-01T16:19:54.398Z"
   },
   {
    "duration": 51,
    "start_time": "2024-02-15T20:12:01.506Z"
   },
   {
    "duration": 413,
    "start_time": "2024-02-15T20:14:42.321Z"
   },
   {
    "duration": 266,
    "start_time": "2024-02-15T20:14:42.736Z"
   },
   {
    "duration": 81,
    "start_time": "2024-02-15T20:14:43.004Z"
   },
   {
    "duration": 17,
    "start_time": "2024-02-15T20:14:43.086Z"
   },
   {
    "duration": 10,
    "start_time": "2024-02-15T20:14:43.105Z"
   },
   {
    "duration": 20,
    "start_time": "2024-02-15T20:14:43.116Z"
   },
   {
    "duration": 4,
    "start_time": "2024-02-15T20:14:43.138Z"
   },
   {
    "duration": 37,
    "start_time": "2024-02-15T20:14:43.144Z"
   },
   {
    "duration": 23,
    "start_time": "2024-02-15T20:14:43.184Z"
   },
   {
    "duration": 22,
    "start_time": "2024-02-15T20:14:43.208Z"
   },
   {
    "duration": 18,
    "start_time": "2024-02-15T20:14:43.232Z"
   },
   {
    "duration": 18,
    "start_time": "2024-02-15T20:14:43.279Z"
   },
   {
    "duration": 34,
    "start_time": "2024-02-15T20:14:43.299Z"
   },
   {
    "duration": 10,
    "start_time": "2024-02-15T20:14:43.336Z"
   },
   {
    "duration": 33,
    "start_time": "2024-02-15T20:14:43.348Z"
   },
   {
    "duration": 30,
    "start_time": "2024-02-15T20:14:43.383Z"
   },
   {
    "duration": 42,
    "start_time": "2024-02-15T20:14:43.415Z"
   },
   {
    "duration": 29,
    "start_time": "2024-02-15T20:14:43.459Z"
   },
   {
    "duration": 39,
    "start_time": "2024-02-15T20:14:43.489Z"
   },
   {
    "duration": 17,
    "start_time": "2024-02-15T20:14:43.530Z"
   },
   {
    "duration": 26,
    "start_time": "2024-02-15T20:14:43.548Z"
   },
   {
    "duration": 37,
    "start_time": "2024-02-15T20:14:43.576Z"
   },
   {
    "duration": 26,
    "start_time": "2024-02-15T20:14:43.615Z"
   },
   {
    "duration": 26,
    "start_time": "2024-02-15T20:14:43.643Z"
   },
   {
    "duration": 28,
    "start_time": "2024-02-15T20:14:43.671Z"
   },
   {
    "duration": 25,
    "start_time": "2024-02-15T20:14:43.700Z"
   },
   {
    "duration": 35,
    "start_time": "2024-02-15T20:14:43.727Z"
   },
   {
    "duration": 44,
    "start_time": "2024-02-15T20:14:43.765Z"
   },
   {
    "duration": 14,
    "start_time": "2024-02-15T20:14:43.811Z"
   },
   {
    "duration": 17,
    "start_time": "2024-02-15T20:14:43.827Z"
   },
   {
    "duration": 8,
    "start_time": "2024-02-15T20:14:43.847Z"
   },
   {
    "duration": 23,
    "start_time": "2024-02-15T20:14:43.857Z"
   },
   {
    "duration": 7,
    "start_time": "2024-02-15T20:14:43.882Z"
   },
   {
    "duration": 1135,
    "start_time": "2024-02-15T20:14:43.891Z"
   },
   {
    "duration": 517,
    "start_time": "2024-02-15T20:14:45.028Z"
   },
   {
    "duration": 16,
    "start_time": "2024-02-15T20:14:45.546Z"
   },
   {
    "duration": 6,
    "start_time": "2024-02-15T20:14:45.580Z"
   },
   {
    "duration": 9,
    "start_time": "2024-02-15T20:14:45.588Z"
   },
   {
    "duration": 18,
    "start_time": "2024-02-15T20:14:45.599Z"
   },
   {
    "duration": 64,
    "start_time": "2024-02-15T20:14:45.618Z"
   },
   {
    "duration": 25,
    "start_time": "2024-02-15T20:14:45.687Z"
   },
   {
    "duration": 15,
    "start_time": "2024-02-15T20:14:45.713Z"
   },
   {
    "duration": 18,
    "start_time": "2024-02-15T20:14:45.729Z"
   },
   {
    "duration": 2,
    "start_time": "2024-02-15T20:14:45.748Z"
   },
   {
    "duration": 36,
    "start_time": "2024-02-15T20:14:45.752Z"
   },
   {
    "duration": 155,
    "start_time": "2024-02-15T20:14:45.789Z"
   },
   {
    "duration": 306,
    "start_time": "2024-02-15T20:14:45.946Z"
   },
   {
    "duration": 14,
    "start_time": "2024-02-15T20:14:46.253Z"
   },
   {
    "duration": 140,
    "start_time": "2024-02-15T20:14:46.268Z"
   },
   {
    "duration": 21,
    "start_time": "2024-02-15T20:14:46.410Z"
   },
   {
    "duration": 25,
    "start_time": "2024-02-15T20:14:46.433Z"
   },
   {
    "duration": 578,
    "start_time": "2024-02-15T20:14:46.459Z"
   },
   {
    "duration": 607,
    "start_time": "2024-02-15T20:14:47.039Z"
   },
   {
    "duration": 297,
    "start_time": "2024-02-15T20:14:47.648Z"
   },
   {
    "duration": 15,
    "start_time": "2024-02-15T20:14:47.947Z"
   },
   {
    "duration": 19,
    "start_time": "2024-02-15T20:14:47.964Z"
   },
   {
    "duration": 12,
    "start_time": "2024-02-15T20:14:47.984Z"
   },
   {
    "duration": 15,
    "start_time": "2024-02-15T20:14:47.998Z"
   },
   {
    "duration": 17,
    "start_time": "2024-02-15T20:14:48.015Z"
   },
   {
    "duration": 8,
    "start_time": "2024-02-15T20:14:48.033Z"
   },
   {
    "duration": 42,
    "start_time": "2024-02-15T20:14:48.043Z"
   },
   {
    "duration": 34,
    "start_time": "2024-02-15T20:14:48.086Z"
   },
   {
    "duration": 7,
    "start_time": "2024-02-15T20:14:48.122Z"
   },
   {
    "duration": 51,
    "start_time": "2024-02-15T20:14:48.130Z"
   },
   {
    "duration": 20,
    "start_time": "2024-02-15T20:14:48.184Z"
   },
   {
    "duration": 27,
    "start_time": "2024-02-15T20:14:48.205Z"
   },
   {
    "duration": 51,
    "start_time": "2024-02-15T20:14:48.233Z"
   },
   {
    "duration": 23,
    "start_time": "2024-02-15T20:14:48.285Z"
   },
   {
    "duration": 17,
    "start_time": "2024-02-15T20:14:48.309Z"
   },
   {
    "duration": 21,
    "start_time": "2024-02-15T20:14:48.328Z"
   },
   {
    "duration": 49,
    "start_time": "2024-02-15T20:14:48.351Z"
   },
   {
    "duration": 7,
    "start_time": "2024-02-15T20:14:48.402Z"
   },
   {
    "duration": 23,
    "start_time": "2024-02-15T20:14:48.410Z"
   },
   {
    "duration": 7,
    "start_time": "2024-02-15T20:14:48.435Z"
   },
   {
    "duration": 737,
    "start_time": "2024-02-15T20:14:48.444Z"
   },
   {
    "duration": 1008,
    "start_time": "2024-02-15T20:14:49.183Z"
   },
   {
    "duration": 100,
    "start_time": "2024-02-15T20:14:50.192Z"
   },
   {
    "duration": 0,
    "start_time": "2024-02-15T20:14:50.294Z"
   },
   {
    "duration": 0,
    "start_time": "2024-02-15T20:14:50.295Z"
   },
   {
    "duration": 9,
    "start_time": "2024-02-15T20:21:04.120Z"
   },
   {
    "duration": 487,
    "start_time": "2024-02-15T20:21:09.070Z"
   },
   {
    "duration": 654,
    "start_time": "2024-02-15T20:37:22.576Z"
   },
   {
    "duration": 690,
    "start_time": "2024-02-15T20:39:03.503Z"
   },
   {
    "duration": 772,
    "start_time": "2024-02-15T20:39:16.729Z"
   },
   {
    "duration": 513,
    "start_time": "2024-02-15T20:39:44.371Z"
   },
   {
    "duration": 641,
    "start_time": "2024-02-15T20:41:02.607Z"
   },
   {
    "duration": 191,
    "start_time": "2024-02-15T20:44:02.466Z"
   },
   {
    "duration": 163,
    "start_time": "2024-02-15T20:44:14.786Z"
   },
   {
    "duration": 153,
    "start_time": "2024-02-15T20:44:26.250Z"
   },
   {
    "duration": 2,
    "start_time": "2024-02-15T20:44:30.805Z"
   },
   {
    "duration": 158,
    "start_time": "2024-02-15T20:44:30.809Z"
   },
   {
    "duration": 41,
    "start_time": "2024-02-15T20:44:30.969Z"
   },
   {
    "duration": 32,
    "start_time": "2024-02-15T20:44:31.012Z"
   },
   {
    "duration": 57,
    "start_time": "2024-02-15T20:44:31.045Z"
   },
   {
    "duration": 65,
    "start_time": "2024-02-15T20:44:31.104Z"
   },
   {
    "duration": 43,
    "start_time": "2024-02-15T20:44:31.170Z"
   },
   {
    "duration": 60,
    "start_time": "2024-02-15T20:44:31.215Z"
   },
   {
    "duration": 66,
    "start_time": "2024-02-15T20:44:31.278Z"
   },
   {
    "duration": 38,
    "start_time": "2024-02-15T20:44:31.346Z"
   },
   {
    "duration": 27,
    "start_time": "2024-02-15T20:44:31.386Z"
   },
   {
    "duration": 26,
    "start_time": "2024-02-15T20:44:31.415Z"
   },
   {
    "duration": 33,
    "start_time": "2024-02-15T20:44:31.443Z"
   },
   {
    "duration": 19,
    "start_time": "2024-02-15T20:44:31.478Z"
   },
   {
    "duration": 28,
    "start_time": "2024-02-15T20:44:31.499Z"
   },
   {
    "duration": 29,
    "start_time": "2024-02-15T20:44:31.529Z"
   },
   {
    "duration": 27,
    "start_time": "2024-02-15T20:44:31.560Z"
   },
   {
    "duration": 23,
    "start_time": "2024-02-15T20:44:31.589Z"
   },
   {
    "duration": 45,
    "start_time": "2024-02-15T20:44:31.614Z"
   },
   {
    "duration": 9,
    "start_time": "2024-02-15T20:44:31.661Z"
   },
   {
    "duration": 28,
    "start_time": "2024-02-15T20:44:31.671Z"
   },
   {
    "duration": 10,
    "start_time": "2024-02-15T20:44:31.700Z"
   },
   {
    "duration": 54,
    "start_time": "2024-02-15T20:44:31.711Z"
   },
   {
    "duration": 14,
    "start_time": "2024-02-15T20:44:31.768Z"
   },
   {
    "duration": 21,
    "start_time": "2024-02-15T20:44:31.783Z"
   },
   {
    "duration": 28,
    "start_time": "2024-02-15T20:44:31.805Z"
   },
   {
    "duration": 28,
    "start_time": "2024-02-15T20:44:31.835Z"
   },
   {
    "duration": 40,
    "start_time": "2024-02-15T20:44:31.865Z"
   },
   {
    "duration": 24,
    "start_time": "2024-02-15T20:44:31.907Z"
   },
   {
    "duration": 8,
    "start_time": "2024-02-15T20:44:31.932Z"
   },
   {
    "duration": 17,
    "start_time": "2024-02-15T20:44:31.941Z"
   },
   {
    "duration": 81,
    "start_time": "2024-02-15T20:44:31.960Z"
   },
   {
    "duration": 44,
    "start_time": "2024-02-15T20:44:32.042Z"
   },
   {
    "duration": 692,
    "start_time": "2024-02-15T20:44:32.088Z"
   },
   {
    "duration": 682,
    "start_time": "2024-02-15T20:44:32.781Z"
   },
   {
    "duration": 20,
    "start_time": "2024-02-15T20:44:33.464Z"
   },
   {
    "duration": 9,
    "start_time": "2024-02-15T20:44:33.486Z"
   },
   {
    "duration": 10,
    "start_time": "2024-02-15T20:44:33.496Z"
   },
   {
    "duration": 17,
    "start_time": "2024-02-15T20:44:33.507Z"
   },
   {
    "duration": 22,
    "start_time": "2024-02-15T20:44:33.526Z"
   },
   {
    "duration": 53,
    "start_time": "2024-02-15T20:44:33.550Z"
   },
   {
    "duration": 16,
    "start_time": "2024-02-15T20:44:33.604Z"
   },
   {
    "duration": 18,
    "start_time": "2024-02-15T20:44:33.622Z"
   },
   {
    "duration": 2,
    "start_time": "2024-02-15T20:44:33.642Z"
   },
   {
    "duration": 36,
    "start_time": "2024-02-15T20:44:33.645Z"
   },
   {
    "duration": 163,
    "start_time": "2024-02-15T20:44:33.683Z"
   },
   {
    "duration": 182,
    "start_time": "2024-02-15T20:45:35.234Z"
   },
   {
    "duration": 177,
    "start_time": "2024-02-15T20:46:23.505Z"
   },
   {
    "duration": 298,
    "start_time": "2024-02-15T20:46:43.574Z"
   },
   {
    "duration": 136,
    "start_time": "2024-02-15T20:48:27.835Z"
   },
   {
    "duration": 277,
    "start_time": "2024-02-15T20:49:39.230Z"
   },
   {
    "duration": 665,
    "start_time": "2024-02-15T20:50:20.649Z"
   },
   {
    "duration": 3,
    "start_time": "2024-02-15T21:02:51.804Z"
   },
   {
    "duration": 121,
    "start_time": "2024-02-15T21:02:51.810Z"
   },
   {
    "duration": 40,
    "start_time": "2024-02-15T21:02:51.932Z"
   },
   {
    "duration": 16,
    "start_time": "2024-02-15T21:02:51.973Z"
   },
   {
    "duration": 10,
    "start_time": "2024-02-15T21:02:51.991Z"
   },
   {
    "duration": 24,
    "start_time": "2024-02-15T21:02:52.002Z"
   },
   {
    "duration": 5,
    "start_time": "2024-02-15T21:02:52.027Z"
   },
   {
    "duration": 51,
    "start_time": "2024-02-15T21:02:52.034Z"
   },
   {
    "duration": 181,
    "start_time": "2024-02-15T21:02:52.087Z"
   },
   {
    "duration": 43,
    "start_time": "2024-02-15T21:02:52.271Z"
   },
   {
    "duration": 22,
    "start_time": "2024-02-15T21:02:52.320Z"
   },
   {
    "duration": 38,
    "start_time": "2024-02-15T21:02:52.343Z"
   },
   {
    "duration": 19,
    "start_time": "2024-02-15T21:02:52.382Z"
   },
   {
    "duration": 11,
    "start_time": "2024-02-15T21:02:52.402Z"
   },
   {
    "duration": 15,
    "start_time": "2024-02-15T21:02:52.414Z"
   },
   {
    "duration": 15,
    "start_time": "2024-02-15T21:02:52.431Z"
   },
   {
    "duration": 48,
    "start_time": "2024-02-15T21:02:52.447Z"
   },
   {
    "duration": 16,
    "start_time": "2024-02-15T21:02:52.497Z"
   },
   {
    "duration": 20,
    "start_time": "2024-02-15T21:02:52.514Z"
   },
   {
    "duration": 6,
    "start_time": "2024-02-15T21:02:52.536Z"
   },
   {
    "duration": 41,
    "start_time": "2024-02-15T21:02:52.543Z"
   },
   {
    "duration": 9,
    "start_time": "2024-02-15T21:02:52.586Z"
   },
   {
    "duration": 8,
    "start_time": "2024-02-15T21:02:52.597Z"
   },
   {
    "duration": 4,
    "start_time": "2024-02-15T21:02:52.607Z"
   },
   {
    "duration": 5,
    "start_time": "2024-02-15T21:02:52.613Z"
   },
   {
    "duration": 7,
    "start_time": "2024-02-15T21:02:52.620Z"
   },
   {
    "duration": 15,
    "start_time": "2024-02-15T21:02:52.629Z"
   },
   {
    "duration": 21,
    "start_time": "2024-02-15T21:02:52.681Z"
   },
   {
    "duration": 14,
    "start_time": "2024-02-15T21:02:52.706Z"
   },
   {
    "duration": 8,
    "start_time": "2024-02-15T21:02:52.721Z"
   },
   {
    "duration": 5,
    "start_time": "2024-02-15T21:02:52.730Z"
   },
   {
    "duration": 15,
    "start_time": "2024-02-15T21:02:52.736Z"
   },
   {
    "duration": 34,
    "start_time": "2024-02-15T21:02:52.753Z"
   },
   {
    "duration": 696,
    "start_time": "2024-02-15T21:02:52.788Z"
   },
   {
    "duration": 566,
    "start_time": "2024-02-15T21:02:53.486Z"
   },
   {
    "duration": 16,
    "start_time": "2024-02-15T21:02:54.053Z"
   },
   {
    "duration": 7,
    "start_time": "2024-02-15T21:02:54.080Z"
   },
   {
    "duration": 7,
    "start_time": "2024-02-15T21:02:54.089Z"
   },
   {
    "duration": 24,
    "start_time": "2024-02-15T21:02:54.097Z"
   },
   {
    "duration": 30,
    "start_time": "2024-02-15T21:02:54.122Z"
   },
   {
    "duration": 49,
    "start_time": "2024-02-15T21:02:54.154Z"
   },
   {
    "duration": 16,
    "start_time": "2024-02-15T21:02:54.204Z"
   },
   {
    "duration": 19,
    "start_time": "2024-02-15T21:02:54.222Z"
   },
   {
    "duration": 3,
    "start_time": "2024-02-15T21:02:54.242Z"
   },
   {
    "duration": 37,
    "start_time": "2024-02-15T21:02:54.246Z"
   },
   {
    "duration": 185,
    "start_time": "2024-02-15T21:02:54.285Z"
   },
   {
    "duration": 414,
    "start_time": "2024-02-15T21:02:54.472Z"
   },
   {
    "duration": 14,
    "start_time": "2024-02-15T21:02:54.888Z"
   },
   {
    "duration": 167,
    "start_time": "2024-02-15T21:02:54.904Z"
   },
   {
    "duration": 24,
    "start_time": "2024-02-15T21:02:55.073Z"
   },
   {
    "duration": 22,
    "start_time": "2024-02-15T21:02:55.099Z"
   },
   {
    "duration": 8,
    "start_time": "2024-02-15T21:02:55.122Z"
   },
   {
    "duration": 589,
    "start_time": "2024-02-15T21:02:55.132Z"
   },
   {
    "duration": 295,
    "start_time": "2024-02-15T21:02:55.723Z"
   },
   {
    "duration": 15,
    "start_time": "2024-02-15T21:02:56.020Z"
   },
   {
    "duration": 8,
    "start_time": "2024-02-15T21:02:56.037Z"
   },
   {
    "duration": 9,
    "start_time": "2024-02-15T21:02:56.047Z"
   },
   {
    "duration": 36,
    "start_time": "2024-02-15T21:02:56.058Z"
   },
   {
    "duration": 28,
    "start_time": "2024-02-15T21:02:56.095Z"
   },
   {
    "duration": 12,
    "start_time": "2024-02-15T21:02:56.125Z"
   },
   {
    "duration": 22,
    "start_time": "2024-02-15T21:02:56.140Z"
   },
   {
    "duration": 39,
    "start_time": "2024-02-15T21:02:56.164Z"
   },
   {
    "duration": 10,
    "start_time": "2024-02-15T21:02:56.205Z"
   },
   {
    "duration": 39,
    "start_time": "2024-02-15T21:02:56.218Z"
   },
   {
    "duration": 39,
    "start_time": "2024-02-15T21:02:56.259Z"
   },
   {
    "duration": 22,
    "start_time": "2024-02-15T21:02:56.300Z"
   },
   {
    "duration": 24,
    "start_time": "2024-02-15T21:02:56.324Z"
   },
   {
    "duration": 64,
    "start_time": "2024-02-15T21:02:56.350Z"
   },
   {
    "duration": 17,
    "start_time": "2024-02-15T21:02:56.415Z"
   },
   {
    "duration": 15,
    "start_time": "2024-02-15T21:02:56.433Z"
   },
   {
    "duration": 56,
    "start_time": "2024-02-15T21:02:56.450Z"
   },
   {
    "duration": 8,
    "start_time": "2024-02-15T21:02:56.508Z"
   },
   {
    "duration": 13,
    "start_time": "2024-02-15T21:02:56.518Z"
   },
   {
    "duration": 8,
    "start_time": "2024-02-15T21:02:56.532Z"
   },
   {
    "duration": 802,
    "start_time": "2024-02-15T21:02:56.542Z"
   },
   {
    "duration": 412,
    "start_time": "2024-02-15T21:05:34.874Z"
   }
  ],
  "colab": {
   "name": "DA+. Сборный проект 1. Шаблон (1).ipynb",
   "provenance": []
  },
  "kernelspec": {
   "display_name": "Python 3 (ipykernel)",
   "language": "python",
   "name": "python3"
  },
  "language_info": {
   "codemirror_mode": {
    "name": "ipython",
    "version": 3
   },
   "file_extension": ".py",
   "mimetype": "text/x-python",
   "name": "python",
   "nbconvert_exporter": "python",
   "pygments_lexer": "ipython3",
   "version": "3.10.9"
  },
  "toc": {
   "base_numbering": 1,
   "nav_menu": {},
   "number_sections": true,
   "sideBar": true,
   "skip_h1_title": true,
   "title_cell": "Table of Contents",
   "title_sidebar": "Contents",
   "toc_cell": false,
   "toc_position": {
    "height": "calc(100% - 180px)",
    "left": "10px",
    "top": "150px",
    "width": "375.382px"
   },
   "toc_section_display": true,
   "toc_window_display": true
  }
 },
 "nbformat": 4,
 "nbformat_minor": 1
}
